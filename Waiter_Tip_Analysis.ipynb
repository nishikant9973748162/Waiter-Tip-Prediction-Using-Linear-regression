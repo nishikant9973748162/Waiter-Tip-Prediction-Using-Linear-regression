{
 "cells": [
  {
   "cell_type": "markdown",
   "id": "cc526fa3-5f24-498f-a0fd-ea8880b0ed15",
   "metadata": {},
   "source": [
    "# WAITER TIPS PREDICTION USING LINEAR REGRESSION\n"
   ]
  },
  {
   "cell_type": "markdown",
   "id": "d684f42f-770e-4de9-9529-6d5c8c22ed30",
   "metadata": {},
   "source": [
    "### Importing necesary libraries"
   ]
  },
  {
   "cell_type": "code",
   "execution_count": 74,
   "id": "f20816e5-8822-4990-8573-3fae8ca65435",
   "metadata": {},
   "outputs": [],
   "source": [
    "import pandas as pd\n",
    "import numpy as np\n",
    "import plotly.express as px\n",
    "import plotly.graph_objects as go"
   ]
  },
  {
   "cell_type": "markdown",
   "id": "d954318c-d567-4dc6-a83f-573a499771cd",
   "metadata": {},
   "source": [
    "### Data Collection"
   ]
  },
  {
   "cell_type": "code",
   "execution_count": 76,
   "id": "637520ff",
   "metadata": {},
   "outputs": [],
   "source": [
    "df = pd.read_csv(\"waiter_dataset.csv\")\n"
   ]
  },
  {
   "cell_type": "markdown",
   "id": "526a0d81",
   "metadata": {},
   "source": [
    "### Data Exploration"
   ]
  },
  {
   "cell_type": "code",
   "execution_count": 77,
   "id": "fddea76b",
   "metadata": {},
   "outputs": [
    {
     "name": "stdout",
     "output_type": "stream",
     "text": [
      "   total_bill    tip payment_method     day  timing   group  gender  \\\n",
      "0     1997.79  190.0           Cash  Sunday  Dinner  Couple    Male   \n",
      "1     4763.43  470.3           Cash  Sunday   Lunch  Family    Male   \n",
      "2     3713.57  370.7           Card  Sunday  Dinner  Family    Male   \n",
      "3     3073.56  300.6           Card  Sunday   Lunch  Couple  Female   \n",
      "4      948.89   94.9           Cash  Sunday   Lunch  Couple  Female   \n",
      "\n",
      "         occasion   drunk  \n",
      "0  Birthday Party   Drunk  \n",
      "1  Birthday Party  Normal  \n",
      "2     Anniversary   Drunk  \n",
      "3  Birthday Party  Normal  \n",
      "4  Birthday Party  Normal  \n"
     ]
    }
   ],
   "source": [
    "print(df.head())"
   ]
  },
  {
   "cell_type": "code",
   "execution_count": 78,
   "id": "b9ec75a3",
   "metadata": {},
   "outputs": [
    {
     "data": {
      "text/plain": [
       "(200, 9)"
      ]
     },
     "execution_count": 78,
     "metadata": {},
     "output_type": "execute_result"
    }
   ],
   "source": [
    "df.shape"
   ]
  },
  {
   "cell_type": "code",
   "execution_count": 79,
   "id": "a18a855f",
   "metadata": {},
   "outputs": [
    {
     "data": {
      "text/plain": [
       "<bound method DataFrame.info of      total_bill    tip payment_method       day  timing    group  gender  \\\n",
       "0       1997.79  190.0           Cash    Sunday  Dinner   Couple    Male   \n",
       "1       4763.43  470.3           Cash    Sunday   Lunch   Family    Male   \n",
       "2       3713.57  370.7           Card    Sunday  Dinner   Family    Male   \n",
       "3       3073.56  300.6           Card    Sunday   Lunch   Couple  Female   \n",
       "4        948.89   94.9           Cash    Sunday   Lunch   Couple  Female   \n",
       "..          ...    ...            ...       ...     ...      ...     ...   \n",
       "195     1876.21  123.0           Card    Friday  Dinner   Family    Male   \n",
       "196      384.59   43.0         Online  Saturday  Dinner  Friends    Male   \n",
       "197      406.13   54.0           Cash    Friday   Lunch   Single    Male   \n",
       "198      458.01   64.0           Card    Friday   Lunch   Family  Female   \n",
       "199      343.40   31.0           Card    Friday   Lunch   Family  Female   \n",
       "\n",
       "           occasion   drunk  \n",
       "0    Birthday Party   Drunk  \n",
       "1    Birthday Party  Normal  \n",
       "2       Anniversary   Drunk  \n",
       "3    Birthday Party  Normal  \n",
       "4    Birthday Party  Normal  \n",
       "..              ...     ...  \n",
       "195            Date  Normal  \n",
       "196  Birthday Party  Normal  \n",
       "197            Date   Drunk  \n",
       "198        Festival   Drunk  \n",
       "199  Birthday Party  Normal  \n",
       "\n",
       "[200 rows x 9 columns]>"
      ]
     },
     "execution_count": 79,
     "metadata": {},
     "output_type": "execute_result"
    }
   ],
   "source": [
    "df.info"
   ]
  },
  {
   "cell_type": "code",
   "execution_count": 80,
   "id": "bc8d9fec",
   "metadata": {},
   "outputs": [
    {
     "data": {
      "text/plain": [
       "Index(['total_bill', 'tip', 'payment_method', 'day', 'timing', 'group',\n",
       "       'gender', 'occasion', 'drunk'],\n",
       "      dtype='object')"
      ]
     },
     "execution_count": 80,
     "metadata": {},
     "output_type": "execute_result"
    }
   ],
   "source": [
    "df.columns"
   ]
  },
  {
   "cell_type": "markdown",
   "id": "62b1f3df",
   "metadata": {},
   "source": [
    "### Data Cleaning"
   ]
  },
  {
   "cell_type": "markdown",
   "id": "dd20b61e",
   "metadata": {},
   "source": [
    "#### 1.Handle missing value"
   ]
  },
  {
   "cell_type": "code",
   "execution_count": 81,
   "id": "4123c7ab",
   "metadata": {},
   "outputs": [],
   "source": [
    "df.dropna(inplace=True) "
   ]
  },
  {
   "cell_type": "markdown",
   "id": "8f03d065",
   "metadata": {},
   "source": [
    "#### 2. Handling categorical data"
   ]
  },
  {
   "cell_type": "code",
   "execution_count": 82,
   "id": "6a0466ea",
   "metadata": {},
   "outputs": [],
   "source": [
    "df = pd.get_dummies(df, columns=['payment_method'], drop_first=True)"
   ]
  },
  {
   "cell_type": "code",
   "execution_count": 83,
   "id": "4c5d45ac",
   "metadata": {},
   "outputs": [],
   "source": [
    "from sklearn.preprocessing import OrdinalEncoder\n",
    "\n",
    "days_order = [['Monday', 'Tuesday', 'Wednesday', 'Thursday', 'Friday', 'Saturday', 'Sunday']]\n",
    "ordinal_encoder = OrdinalEncoder(categories=days_order)\n",
    "df['day'] = ordinal_encoder.fit_transform(df[['day']])\n"
   ]
  },
  {
   "cell_type": "code",
   "execution_count": 84,
   "id": "4a7c3be4",
   "metadata": {},
   "outputs": [],
   "source": [
    "df = pd.get_dummies(df, columns=['timing'], drop_first=True)"
   ]
  },
  {
   "cell_type": "code",
   "execution_count": 85,
   "id": "89b2745a",
   "metadata": {},
   "outputs": [],
   "source": [
    "df = pd.get_dummies(df, columns=['group'], drop_first=True)"
   ]
  },
  {
   "cell_type": "code",
   "execution_count": 86,
   "id": "d6cbfaed",
   "metadata": {},
   "outputs": [],
   "source": [
    "from sklearn.preprocessing import LabelEncoder\n",
    "\n",
    "label_encoder = LabelEncoder()\n",
    "df['gender'] = label_encoder.fit_transform(df['gender'])"
   ]
  },
  {
   "cell_type": "code",
   "execution_count": 87,
   "id": "0f616a52",
   "metadata": {},
   "outputs": [],
   "source": [
    "df = pd.get_dummies(df, columns=['occasion'], drop_first=True)"
   ]
  },
  {
   "cell_type": "code",
   "execution_count": 88,
   "id": "36527e3e",
   "metadata": {},
   "outputs": [],
   "source": [
    "label_encoder = LabelEncoder()\n",
    "df['drunk'] = label_encoder.fit_transform(df['drunk'])"
   ]
  },
  {
   "cell_type": "markdown",
   "id": "3075fb50",
   "metadata": {},
   "source": [
    "#### Removing duplicates "
   ]
  },
  {
   "cell_type": "code",
   "execution_count": 89,
   "id": "d7e23b66",
   "metadata": {},
   "outputs": [
    {
     "name": "stdout",
     "output_type": "stream",
     "text": [
      "0\n"
     ]
    }
   ],
   "source": [
    "# Check for duplicates\n",
    "duplicates = df.duplicated()\n",
    "print(duplicates.sum())  # Prints the number of duplicate rows"
   ]
  },
  {
   "cell_type": "markdown",
   "id": "5963a388",
   "metadata": {},
   "source": [
    "#### Detect Outliers"
   ]
  },
  {
   "cell_type": "code",
   "execution_count": 90,
   "id": "64aec31f",
   "metadata": {},
   "outputs": [
    {
     "data": {
      "image/png": "[encoded data removed]",
      "text/plain": [
       "<Figure size 640x480 with 1 Axes>"
      ]
     },
     "metadata": {},
     "output_type": "display_data"
    }
   ],
   "source": [
    "import seaborn as sns\n",
    "import matplotlib.pyplot as plt\n",
    "\n",
    "sns.boxplot(x=df['total_bill'])\n",
    "plt.show()\n"
   ]
  },
  {
   "cell_type": "markdown",
   "id": "8a81f4c1",
   "metadata": {},
   "source": [
    "No outlier detected"
   ]
  },
  {
   "cell_type": "code",
   "execution_count": 91,
   "id": "299245c0",
   "metadata": {},
   "outputs": [
    {
     "data": {
      "text/html": [
       "<div>\n",
       "<style scoped>\n",
       "    .dataframe tbody tr th:only-of-type {\n",
       "        vertical-align: middle;\n",
       "    }\n",
       "\n",
       "    .dataframe tbody tr th {\n",
       "        vertical-align: top;\n",
       "    }\n",
       "\n",
       "    .dataframe thead th {\n",
       "        text-align: right;\n",
       "    }\n",
       "</style>\n",
       "<table border=\"1\" class=\"dataframe\">\n",
       "  <thead>\n",
       "    <tr style=\"text-align: right;\">\n",
       "      <th></th>\n",
       "      <th>total_bill</th>\n",
       "      <th>tip</th>\n",
       "      <th>day</th>\n",
       "      <th>gender</th>\n",
       "      <th>drunk</th>\n",
       "      <th>payment_method_Cash</th>\n",
       "      <th>payment_method_Online</th>\n",
       "      <th>timing_Lunch</th>\n",
       "      <th>group_Family</th>\n",
       "      <th>group_Friends</th>\n",
       "      <th>group_Single</th>\n",
       "      <th>occasion_Birthday Party</th>\n",
       "      <th>occasion_Date</th>\n",
       "      <th>occasion_Festival</th>\n",
       "    </tr>\n",
       "  </thead>\n",
       "  <tbody>\n",
       "    <tr>\n",
       "      <th>0</th>\n",
       "      <td>1997.79</td>\n",
       "      <td>190.0</td>\n",
       "      <td>6.0</td>\n",
       "      <td>1</td>\n",
       "      <td>0</td>\n",
       "      <td>True</td>\n",
       "      <td>False</td>\n",
       "      <td>False</td>\n",
       "      <td>False</td>\n",
       "      <td>False</td>\n",
       "      <td>False</td>\n",
       "      <td>True</td>\n",
       "      <td>False</td>\n",
       "      <td>False</td>\n",
       "    </tr>\n",
       "    <tr>\n",
       "      <th>1</th>\n",
       "      <td>4763.43</td>\n",
       "      <td>470.3</td>\n",
       "      <td>6.0</td>\n",
       "      <td>1</td>\n",
       "      <td>1</td>\n",
       "      <td>True</td>\n",
       "      <td>False</td>\n",
       "      <td>True</td>\n",
       "      <td>True</td>\n",
       "      <td>False</td>\n",
       "      <td>False</td>\n",
       "      <td>True</td>\n",
       "      <td>False</td>\n",
       "      <td>False</td>\n",
       "    </tr>\n",
       "    <tr>\n",
       "      <th>2</th>\n",
       "      <td>3713.57</td>\n",
       "      <td>370.7</td>\n",
       "      <td>6.0</td>\n",
       "      <td>1</td>\n",
       "      <td>0</td>\n",
       "      <td>False</td>\n",
       "      <td>False</td>\n",
       "      <td>False</td>\n",
       "      <td>True</td>\n",
       "      <td>False</td>\n",
       "      <td>False</td>\n",
       "      <td>False</td>\n",
       "      <td>False</td>\n",
       "      <td>False</td>\n",
       "    </tr>\n",
       "    <tr>\n",
       "      <th>3</th>\n",
       "      <td>3073.56</td>\n",
       "      <td>300.6</td>\n",
       "      <td>6.0</td>\n",
       "      <td>0</td>\n",
       "      <td>1</td>\n",
       "      <td>False</td>\n",
       "      <td>False</td>\n",
       "      <td>True</td>\n",
       "      <td>False</td>\n",
       "      <td>False</td>\n",
       "      <td>False</td>\n",
       "      <td>True</td>\n",
       "      <td>False</td>\n",
       "      <td>False</td>\n",
       "    </tr>\n",
       "    <tr>\n",
       "      <th>4</th>\n",
       "      <td>948.89</td>\n",
       "      <td>94.9</td>\n",
       "      <td>6.0</td>\n",
       "      <td>0</td>\n",
       "      <td>1</td>\n",
       "      <td>True</td>\n",
       "      <td>False</td>\n",
       "      <td>True</td>\n",
       "      <td>False</td>\n",
       "      <td>False</td>\n",
       "      <td>False</td>\n",
       "      <td>True</td>\n",
       "      <td>False</td>\n",
       "      <td>False</td>\n",
       "    </tr>\n",
       "  </tbody>\n",
       "</table>\n",
       "</div>"
      ],
      "text/plain": [
       "   total_bill    tip  day  gender  drunk  payment_method_Cash  \\\n",
       "0     1997.79  190.0  6.0       1      0                 True   \n",
       "1     4763.43  470.3  6.0       1      1                 True   \n",
       "2     3713.57  370.7  6.0       1      0                False   \n",
       "3     3073.56  300.6  6.0       0      1                False   \n",
       "4      948.89   94.9  6.0       0      1                 True   \n",
       "\n",
       "   payment_method_Online  timing_Lunch  group_Family  group_Friends  \\\n",
       "0                  False         False         False          False   \n",
       "1                  False          True          True          False   \n",
       "2                  False         False          True          False   \n",
       "3                  False          True         False          False   \n",
       "4                  False          True         False          False   \n",
       "\n",
       "   group_Single  occasion_Birthday Party  occasion_Date  occasion_Festival  \n",
       "0         False                     True          False              False  \n",
       "1         False                     True          False              False  \n",
       "2         False                    False          False              False  \n",
       "3         False                     True          False              False  \n",
       "4         False                     True          False              False  "
      ]
     },
     "execution_count": 91,
     "metadata": {},
     "output_type": "execute_result"
    }
   ],
   "source": [
    "df.head()"
   ]
  },
  {
   "cell_type": "code",
   "execution_count": 92,
   "id": "05ceb957",
   "metadata": {},
   "outputs": [
    {
     "data": {
      "text/plain": [
       "(200, 14)"
      ]
     },
     "execution_count": 92,
     "metadata": {},
     "output_type": "execute_result"
    }
   ],
   "source": [
    "df.shape"
   ]
  },
  {
   "cell_type": "markdown",
   "id": "fdf1bd0a",
   "metadata": {},
   "source": [
    "**So let's see tips distribution according to various aspects :**"
   ]
  },
  {
   "cell_type": "code",
   "execution_count": 93,
   "id": "b476df7c",
   "metadata": {},
   "outputs": [
    {
     "data": {
      "application/vnd.plotly.v1+json": {
       "config": {
        "plotlyServerURL": "https://plot.ly"
       },
       "data": [
        {
         "hovertemplate": "payment_method_Cash=True<br>Total bill paid by Customer=%{x}<br>Total Tips (INR)=%{y}<extra></extra>",
         "legendgroup": "True",
         "marker": {
          "color": "#636efa",
          "symbol": "circle"
         },
         "mode": "markers",
         "name": "True",
         "orientation": "v",
         "showlegend": true,
         "type": "scatter",
         "x": [
          1997.79,
          4763.43,
          948.89,
          948.77,
          478.8,
          4357.65,
          3085.35,
          3598.75,
          298.81,
          4855.57,
          1660.36,
          1597.9,
          3136.89,
          869.57,
          1602.29,
          1958.54,
          2389.14,
          3968.84,
          1158.43,
          4754.65,
          4835.03,
          4080.31,
          1662.15,
          668.83,
          3484.32,
          2312.73,
          785.78,
          2576.85,
          365.06,
          3380.11,
          2824.21,
          1087.3,
          4709.59,
          3069.92,
          624.76,
          1140.72,
          417.09,
          1761.59,
          2065.65,
          1502.48,
          4177.94,
          1912.42,
          1548.49,
          2804.94,
          876.44,
          4050.55,
          4937.06,
          3699.23,
          756.17,
          1788.31,
          505.08,
          3702.11,
          3260.28,
          4458.62,
          2466.63,
          774.05,
          3623.57,
          3851.77,
          350.86,
          2169.84,
          1298.23,
          569.5,
          4383.01,
          1726.42,
          426.47,
          1266.12,
          775.35,
          574.49,
          145.42,
          489.75,
          1408.56,
          586.79,
          144.22,
          2612.86,
          459.68,
          3426.25,
          395.44,
          165.36,
          456,
          340.94,
          2771.72,
          633.39,
          429.45,
          1739.74,
          1095.29,
          395.72,
          326.83,
          3516.5,
          744.67,
          1438.12,
          646.89,
          406.13
         ],
         "xaxis": "x",
         "y": [
          190,
          470.3,
          94.9,
          94.7,
          47.6,
          430.5,
          300.1,
          340,
          20,
          470.3,
          150.3,
          150.2,
          300.2,
          79.9,
          150.3,
          190.3,
          230.5,
          390.2,
          110.2,
          450.2,
          490.23,
          401.5,
          140.3,
          63.2,
          340.2,
          231.34,
          79.2,
          250.3,
          30,
          300,
          250.3,
          100,
          450.2,
          300,
          60,
          100,
          20,
          165,
          245,
          152,
          412,
          191,
          123,
          239,
          60.34,
          421,
          324.1,
          342,
          65,
          123.5,
          49.4,
          354,
          234,
          342,
          231,
          43,
          312.4,
          274,
          34,
          234,
          126,
          54,
          354,
          152,
          43,
          224,
          23,
          43,
          23,
          23,
          109,
          43,
          23,
          242,
          43,
          234,
          32,
          34,
          43,
          34,
          254,
          63,
          42,
          171,
          100,
          43,
          23,
          235,
          72,
          113,
          43,
          54
         ],
         "yaxis": "y"
        },
        {
         "hovertemplate": "<b>OLS trendline</b><br>tip = 0.0902755 * total_bill + 1.81857<br>R<sup>2</sup>=0.948423<br><br>payment_method_Cash=True<br>Total bill paid by Customer=%{x}<br>Total Tips (INR)=%{y} <b>(trend)</b><extra></extra>",
         "legendgroup": "True",
         "marker": {
          "color": "#636efa",
          "symbol": "circle"
         },
         "mode": "lines",
         "name": "True",
         "showlegend": false,
         "type": "scatter",
         "x": [
          144.22,
          145.42,
          165.36,
          298.81,
          326.83,
          340.94,
          350.86,
          365.06,
          395.44,
          395.72,
          406.13,
          417.09,
          426.47,
          429.45,
          456,
          459.68,
          478.8,
          489.75,
          505.08,
          569.5,
          574.49,
          586.79,
          624.76,
          633.39,
          646.89,
          668.83,
          744.67,
          756.17,
          774.05,
          775.35,
          785.78,
          869.57,
          876.44,
          948.77,
          948.89,
          1087.3,
          1095.29,
          1140.72,
          1158.43,
          1266.12,
          1298.23,
          1408.56,
          1438.12,
          1502.48,
          1548.49,
          1597.9,
          1602.29,
          1660.36,
          1662.15,
          1726.42,
          1739.74,
          1761.59,
          1788.31,
          1912.42,
          1958.54,
          1997.79,
          2065.65,
          2169.84,
          2312.73,
          2389.14,
          2466.63,
          2576.85,
          2612.86,
          2771.72,
          2804.94,
          2824.21,
          3069.92,
          3085.35,
          3136.89,
          3260.28,
          3380.11,
          3426.25,
          3484.32,
          3516.5,
          3598.75,
          3623.57,
          3699.23,
          3702.11,
          3851.77,
          3968.84,
          4050.55,
          4080.31,
          4177.94,
          4357.65,
          4383.01,
          4458.62,
          4709.59,
          4754.65,
          4763.43,
          4835.03,
          4855.57,
          4937.06
         ],
         "xaxis": "x",
         "y": [
          14.838097922387561,
          14.946428486517771,
          16.74652136048143,
          28.793782846461877,
          31.32330151890228,
          32.59708840213333,
          33.49262106560974,
          34.77453274115056,
          37.51710152304704,
          37.54237865467743,
          38.482146298507,
          39.47156545089625,
          40.31834936051406,
          40.587370261437414,
          42.98418399281831,
          43.31639772281762,
          45.042464711292304,
          46.03098110898047,
          47.414904065743904,
          53.230449850134015,
          53.68092444597547,
          54.79131272831012,
          58.219072328330185,
          58.998149635366616,
          60.216868481831476,
          62.19751229601216,
          69.04400394904141,
          70.08217185528926,
          71.6962972608294,
          71.81365537197046,
          72.7552285252022,
          80.31941016559412,
          80.93960264523957,
          87.46922739818798,
          87.480060454601,
          99.97508827231965,
          100.69638927848663,
          104.79760388551617,
          106.39638246113786,
          116.11814783712312,
          119.01689318230733,
          128.97698579937907,
          131.64552869578657,
          137.45565795197018,
          141.60923233166264,
          146.06974330972403,
          146.4660526235004,
          151.70834917270147,
          151.8699422641957,
          157.67194672806954,
          158.87441598991487,
          160.84693501178577,
          163.25909557308512,
          174.4631841682521,
          178.6266888496565,
          182.17000105141545,
          188.29609445297885,
          197.70189568358435,
          210.6013576073891,
          217.4993062783802,
          224.49475245708854,
          234.44491477244833,
          237.69573445105573,
          252.03689563249335,
          255.035846749498,
          256.775455058489,
          278.95704081885054,
          280.3499913226248,
          285.00278905201736,
          296.1418793087062,
          306.9595888918088,
          311.12489908261534,
          316.36719563181646,
          319.27226025990825,
          326.69741767633303,
          328.93805484442623,
          335.768296912836,
          336.0282902667485,
          349.53891712318784,
          360.1074664087909,
          367.48387507135715,
          370.17047306178637,
          378.98406720848,
          395.20747194168007,
          397.4968578636319,
          404.3225861585362,
          426.97902089166854,
          431.0468335747579,
          431.8394522023106,
          438.3031758620798,
          440.1574340181086,
          447.51398207725094
         ],
         "yaxis": "y"
        },
        {
         "hovertemplate": "payment_method_Cash=False<br>Total bill paid by Customer=%{x}<br>Total Tips (INR)=%{y}<extra></extra>",
         "legendgroup": "False",
         "marker": {
          "color": "#EF553B",
          "symbol": "circle"
         },
         "mode": "markers",
         "name": "False",
         "orientation": "v",
         "showlegend": true,
         "type": "scatter",
         "x": [
          3713.57,
          3073.56,
          4195.72,
          1219.23,
          1072.76,
          1080.34,
          2718.83,
          2273.34,
          2668.33,
          3043.59,
          422.96,
          3116.22,
          1018.52,
          512.25,
          4564.74,
          1442.14,
          1696.21,
          2696.33,
          4854.01,
          3920.64,
          4495.17,
          4625,
          557.84,
          3906.77,
          1153.84,
          226.51,
          4114.21,
          3592.92,
          3902.1,
          555.41,
          1920.64,
          4342.9,
          3191.83,
          1692.72,
          1760.88,
          2894.13,
          3900.64,
          2570.22,
          2709.12,
          2252.2,
          322.01,
          717.88,
          3254.77,
          1708.91,
          2641.14,
          4556.32,
          1396.6,
          3826.65,
          1590.81,
          973.86,
          4662.55,
          4078.98,
          3240.34,
          4057.63,
          1095.54,
          4484.28,
          2788.84,
          4075.71,
          4501.24,
          728.25,
          124.09,
          250.12,
          331.51,
          233.37,
          651.59,
          220.57,
          1820.55,
          45.97,
          1751.37,
          290.19,
          484.55,
          1567.23,
          377.06,
          125.91,
          447.1,
          1537.5,
          1349.9,
          895.5,
          249.37,
          431.12,
          1361.87,
          355.77,
          1340.66,
          336.29,
          352.31,
          279.62,
          2658.05,
          1287.18,
          1036.96,
          206.33,
          496.3,
          860.1,
          1837.12,
          4638.53,
          4411.23,
          337.92,
          412.67,
          2864.96,
          2742.32,
          1360.89,
          506.64,
          452.01,
          3238.89,
          1827.34,
          1876.21,
          384.59,
          458.01,
          343.4
         ],
         "xaxis": "x",
         "y": [
          370.7,
          300.6,
          400.3,
          120,
          90.2,
          100,
          250.3,
          220.1,
          261.1,
          300.2,
          42.1,
          300.1,
          100.5,
          54,
          400.23,
          140.3,
          150,
          250.3,
          450.2,
          310.2,
          390,
          450.3,
          32,
          345,
          112,
          20,
          412,
          324.5,
          342,
          52,
          165,
          432,
          312,
          154,
          145,
          234,
          352,
          213,
          211,
          256,
          20,
          50,
          321,
          149,
          245,
          357,
          132,
          315,
          134,
          64,
          461,
          342,
          245,
          325,
          75,
          412,
          255,
          394,
          432,
          56,
          12,
          23,
          23,
          43,
          54,
          23,
          190,
          3,
          132,
          23,
          42,
          123,
          43,
          23,
          43,
          123,
          143,
          43,
          24,
          54,
          150,
          23,
          121,
          42,
          24,
          43,
          190,
          132,
          101,
          32,
          43,
          23,
          139,
          412,
          312,
          23,
          43,
          162,
          234,
          102,
          64,
          43,
          421,
          142,
          123,
          43,
          64,
          31
         ],
         "yaxis": "y"
        },
        {
         "hovertemplate": "<b>OLS trendline</b><br>tip = 0.0901437 * total_bill + -0.885714<br>R<sup>2</sup>=0.959529<br><br>payment_method_Cash=False<br>Total bill paid by Customer=%{x}<br>Total Tips (INR)=%{y} <b>(trend)</b><extra></extra>",
         "legendgroup": "False",
         "marker": {
          "color": "#EF553B",
          "symbol": "circle"
         },
         "mode": "lines",
         "name": "False",
         "showlegend": false,
         "type": "scatter",
         "x": [
          45.97,
          124.09,
          125.91,
          206.33,
          220.57,
          226.51,
          233.37,
          249.37,
          250.12,
          279.62,
          290.19,
          322.01,
          331.51,
          336.29,
          337.92,
          343.4,
          352.31,
          355.77,
          377.06,
          384.59,
          412.67,
          422.96,
          431.12,
          447.1,
          452.01,
          458.01,
          484.55,
          496.3,
          506.64,
          512.25,
          555.41,
          557.84,
          651.59,
          717.88,
          728.25,
          860.1,
          895.5,
          973.86,
          1018.52,
          1036.96,
          1072.76,
          1080.34,
          1095.54,
          1153.84,
          1219.23,
          1287.18,
          1340.66,
          1349.9,
          1360.89,
          1361.87,
          1396.6,
          1442.14,
          1537.5,
          1567.23,
          1590.81,
          1692.72,
          1696.21,
          1708.91,
          1751.37,
          1760.88,
          1820.55,
          1827.34,
          1837.12,
          1876.21,
          1920.64,
          2252.2,
          2273.34,
          2570.22,
          2641.14,
          2658.05,
          2668.33,
          2696.33,
          2709.12,
          2718.83,
          2742.32,
          2788.84,
          2864.96,
          2894.13,
          3043.59,
          3073.56,
          3116.22,
          3191.83,
          3238.89,
          3240.34,
          3254.77,
          3592.92,
          3713.57,
          3826.65,
          3900.64,
          3902.1,
          3906.77,
          3920.64,
          4057.63,
          4075.71,
          4078.98,
          4114.21,
          4195.72,
          4342.9,
          4411.23,
          4484.28,
          4495.17,
          4501.24,
          4556.32,
          4564.74,
          4625,
          4638.53,
          4662.55,
          4854.01
         ],
         "xaxis": "x",
         "y": [
          3.258189756875118,
          10.300212243498121,
          10.46427369927966,
          17.71362659705516,
          18.99727227306017,
          19.532725595775744,
          20.151111082952315,
          21.5934095953175,
          21.661017338084616,
          24.320255220257923,
          25.27307367498917,
          28.141444841455424,
          28.997809583172252,
          29.428696263741354,
          29.575630424688555,
          30.069617665173627,
          30.87279764924699,
          31.18469470254596,
          33.10385316056188,
          33.782634897943744,
          36.31386878714464,
          37.2414470179095,
          37.977019259215744,
          39.41751489844047,
          39.86012025442253,
          40.400982196559475,
          42.79339485394522,
          43.8525828239634,
          44.7846682375794,
          45.290374153477444,
          49.18097439058252,
          49.40002347714799,
          57.85099132303773,
          63.82661434708073,
          64.7614040704074,
          76.64684524886673,
          79.8379307074747,
          86.90158767178318,
          90.9274033944225,
          92.58965242992338,
          95.81679535134046,
          96.50008427157346,
          97.8702678583204,
          103.12564306275101,
          109.02013679547349,
          115.14539829017437,
          119.966281067755,
          120.7992084586459,
          121.78988724932674,
          121.87822803320907,
          125.00891724161175,
          129.11405938243115,
          137.71015851612765,
          140.3901294394162,
          142.51571687201437,
          151.70225695921036,
          152.01685832222003,
          153.16168276640988,
          156.98918244359896,
          157.84644862188605,
          163.22532063643794,
          163.8373960676229,
          164.7190010333061,
          168.24271658632833,
          172.2477992678524,
          202.13583019033987,
          204.0414670998024,
          230.80331599673832,
          237.19630415279698,
          238.72063339305296,
          239.64731018724757,
          242.17133258388665,
          243.32426995720857,
          244.19956486690018,
          246.31703937036633,
          250.5105222950681,
          257.37225746764545,
          260.00174794300125,
          273.4746189216325,
          276.1762243226065,
          280.0217527312002,
          286.8375146386959,
          291.07967513819,
          291.2103834408731,
          292.5111564117125,
          322.99323403398034,
          333.86906625378407,
          344.062510989925,
          350.73224017304375,
          350.86384991229704,
          351.28482079059364,
          352.5351133135002,
          364.8838928890569,
          366.5136902080295,
          366.8084599664941,
          369.9842210034082,
          377.3318304873386,
          390.5991739279578,
          396.75869001232735,
          403.3436841578446,
          404.3253485828232,
          404.87252058095174,
          409.83763320976885,
          410.59664280190106,
          416.02869957409644,
          417.24834325361525,
          419.4135938953035,
          436.67249846889337
         ],
         "yaxis": "y"
        }
       ],
       "layout": {
        "height": 400,
        "legend": {
         "title": {
          "text": "payment_method_Cash"
         },
         "tracegroupgap": 0
        },
        "template": {
         "data": {
          "bar": [
           {
            "error_x": {
             "color": "#2a3f5f"
            },
            "error_y": {
             "color": "#2a3f5f"
            },
            "marker": {
             "line": {
              "color": "#E5ECF6",
              "width": 0.5
             },
             "pattern": {
              "fillmode": "overlay",
              "size": 10,
              "solidity": 0.2
             }
            },
            "type": "bar"
           }
          ],
          "barpolar": [
           {
            "marker": {
             "line": {
              "color": "#E5ECF6",
              "width": 0.5
             },
             "pattern": {
              "fillmode": "overlay",
              "size": 10,
              "solidity": 0.2
             }
            },
            "type": "barpolar"
           }
          ],
          "carpet": [
           {
            "aaxis": {
             "endlinecolor": "#2a3f5f",
             "gridcolor": "white",
             "linecolor": "white",
             "minorgridcolor": "white",
             "startlinecolor": "#2a3f5f"
            },
            "baxis": {
             "endlinecolor": "#2a3f5f",
             "gridcolor": "white",
             "linecolor": "white",
             "minorgridcolor": "white",
             "startlinecolor": "#2a3f5f"
            },
            "type": "carpet"
           }
          ],
          "choropleth": [
           {
            "colorbar": {
             "outlinewidth": 0,
             "ticks": ""
            },
            "type": "choropleth"
           }
          ],
          "contour": [
           {
            "colorbar": {
             "outlinewidth": 0,
             "ticks": ""
            },
            "colorscale": [
             [
              0,
              "#0d0887"
             ],
             [
              0.1111111111111111,
              "#46039f"
             ],
             [
              0.2222222222222222,
              "#7201a8"
             ],
             [
              0.3333333333333333,
              "#9c179e"
             ],
             [
              0.4444444444444444,
              "#bd3786"
             ],
             [
              0.5555555555555556,
              "#d8576b"
             ],
             [
              0.6666666666666666,
              "#ed7953"
             ],
             [
              0.7777777777777778,
              "#fb9f3a"
             ],
             [
              0.8888888888888888,
              "#fdca26"
             ],
             [
              1,
              "#f0f921"
             ]
            ],
            "type": "contour"
           }
          ],
          "contourcarpet": [
           {
            "colorbar": {
             "outlinewidth": 0,
             "ticks": ""
            },
            "type": "contourcarpet"
           }
          ],
          "heatmap": [
           {
            "colorbar": {
             "outlinewidth": 0,
             "ticks": ""
            },
            "colorscale": [
             [
              0,
              "#0d0887"
             ],
             [
              0.1111111111111111,
              "#46039f"
             ],
             [
              0.2222222222222222,
              "#7201a8"
             ],
             [
              0.3333333333333333,
              "#9c179e"
             ],
             [
              0.4444444444444444,
              "#bd3786"
             ],
             [
              0.5555555555555556,
              "#d8576b"
             ],
             [
              0.6666666666666666,
              "#ed7953"
             ],
             [
              0.7777777777777778,
              "#fb9f3a"
             ],
             [
              0.8888888888888888,
              "#fdca26"
             ],
             [
              1,
              "#f0f921"
             ]
            ],
            "type": "heatmap"
           }
          ],
          "heatmapgl": [
           {
            "colorbar": {
             "outlinewidth": 0,
             "ticks": ""
            },
            "colorscale": [
             [
              0,
              "#0d0887"
             ],
             [
              0.1111111111111111,
              "#46039f"
             ],
             [
              0.2222222222222222,
              "#7201a8"
             ],
             [
              0.3333333333333333,
              "#9c179e"
             ],
             [
              0.4444444444444444,
              "#bd3786"
             ],
             [
              0.5555555555555556,
              "#d8576b"
             ],
             [
              0.6666666666666666,
              "#ed7953"
             ],
             [
              0.7777777777777778,
              "#fb9f3a"
             ],
             [
              0.8888888888888888,
              "#fdca26"
             ],
             [
              1,
              "#f0f921"
             ]
            ],
            "type": "heatmapgl"
           }
          ],
          "histogram": [
           {
            "marker": {
             "pattern": {
              "fillmode": "overlay",
              "size": 10,
              "solidity": 0.2
             }
            },
            "type": "histogram"
           }
          ],
          "histogram2d": [
           {
            "colorbar": {
             "outlinewidth": 0,
             "ticks": ""
            },
            "colorscale": [
             [
              0,
              "#0d0887"
             ],
             [
              0.1111111111111111,
              "#46039f"
             ],
             [
              0.2222222222222222,
              "#7201a8"
             ],
             [
              0.3333333333333333,
              "#9c179e"
             ],
             [
              0.4444444444444444,
              "#bd3786"
             ],
             [
              0.5555555555555556,
              "#d8576b"
             ],
             [
              0.6666666666666666,
              "#ed7953"
             ],
             [
              0.7777777777777778,
              "#fb9f3a"
             ],
             [
              0.8888888888888888,
              "#fdca26"
             ],
             [
              1,
              "#f0f921"
             ]
            ],
            "type": "histogram2d"
           }
          ],
          "histogram2dcontour": [
           {
            "colorbar": {
             "outlinewidth": 0,
             "ticks": ""
            },
            "colorscale": [
             [
              0,
              "#0d0887"
             ],
             [
              0.1111111111111111,
              "#46039f"
             ],
             [
              0.2222222222222222,
              "#7201a8"
             ],
             [
              0.3333333333333333,
              "#9c179e"
             ],
             [
              0.4444444444444444,
              "#bd3786"
             ],
             [
              0.5555555555555556,
              "#d8576b"
             ],
             [
              0.6666666666666666,
              "#ed7953"
             ],
             [
              0.7777777777777778,
              "#fb9f3a"
             ],
             [
              0.8888888888888888,
              "#fdca26"
             ],
             [
              1,
              "#f0f921"
             ]
            ],
            "type": "histogram2dcontour"
           }
          ],
          "mesh3d": [
           {
            "colorbar": {
             "outlinewidth": 0,
             "ticks": ""
            },
            "type": "mesh3d"
           }
          ],
          "parcoords": [
           {
            "line": {
             "colorbar": {
              "outlinewidth": 0,
              "ticks": ""
             }
            },
            "type": "parcoords"
           }
          ],
          "pie": [
           {
            "automargin": true,
            "type": "pie"
           }
          ],
          "scatter": [
           {
            "fillpattern": {
             "fillmode": "overlay",
             "size": 10,
             "solidity": 0.2
            },
            "type": "scatter"
           }
          ],
          "scatter3d": [
           {
            "line": {
             "colorbar": {
              "outlinewidth": 0,
              "ticks": ""
             }
            },
            "marker": {
             "colorbar": {
              "outlinewidth": 0,
              "ticks": ""
             }
            },
            "type": "scatter3d"
           }
          ],
          "scattercarpet": [
           {
            "marker": {
             "colorbar": {
              "outlinewidth": 0,
              "ticks": ""
             }
            },
            "type": "scattercarpet"
           }
          ],
          "scattergeo": [
           {
            "marker": {
             "colorbar": {
              "outlinewidth": 0,
              "ticks": ""
             }
            },
            "type": "scattergeo"
           }
          ],
          "scattergl": [
           {
            "marker": {
             "colorbar": {
              "outlinewidth": 0,
              "ticks": ""
             }
            },
            "type": "scattergl"
           }
          ],
          "scattermapbox": [
           {
            "marker": {
             "colorbar": {
              "outlinewidth": 0,
              "ticks": ""
             }
            },
            "type": "scattermapbox"
           }
          ],
          "scatterpolar": [
           {
            "marker": {
             "colorbar": {
              "outlinewidth": 0,
              "ticks": ""
             }
            },
            "type": "scatterpolar"
           }
          ],
          "scatterpolargl": [
           {
            "marker": {
             "colorbar": {
              "outlinewidth": 0,
              "ticks": ""
             }
            },
            "type": "scatterpolargl"
           }
          ],
          "scatterternary": [
           {
            "marker": {
             "colorbar": {
              "outlinewidth": 0,
              "ticks": ""
             }
            },
            "type": "scatterternary"
           }
          ],
          "surface": [
           {
            "colorbar": {
             "outlinewidth": 0,
             "ticks": ""
            },
            "colorscale": [
             [
              0,
              "#0d0887"
             ],
             [
              0.1111111111111111,
              "#46039f"
             ],
             [
              0.2222222222222222,
              "#7201a8"
             ],
             [
              0.3333333333333333,
              "#9c179e"
             ],
             [
              0.4444444444444444,
              "#bd3786"
             ],
             [
              0.5555555555555556,
              "#d8576b"
             ],
             [
              0.6666666666666666,
              "#ed7953"
             ],
             [
              0.7777777777777778,
              "#fb9f3a"
             ],
             [
              0.8888888888888888,
              "#fdca26"
             ],
             [
              1,
              "#f0f921"
             ]
            ],
            "type": "surface"
           }
          ],
          "table": [
           {
            "cells": {
             "fill": {
              "color": "#EBF0F8"
             },
             "line": {
              "color": "white"
             }
            },
            "header": {
             "fill": {
              "color": "#C8D4E3"
             },
             "line": {
              "color": "white"
             }
            },
            "type": "table"
           }
          ]
         },
         "layout": {
          "annotationdefaults": {
           "arrowcolor": "#2a3f5f",
           "arrowhead": 0,
           "arrowwidth": 1
          },
          "autotypenumbers": "strict",
          "coloraxis": {
           "colorbar": {
            "outlinewidth": 0,
            "ticks": ""
           }
          },
          "colorscale": {
           "diverging": [
            [
             0,
             "#8e0152"
            ],
            [
             0.1,
             "#c51b7d"
            ],
            [
             0.2,
             "#de77ae"
            ],
            [
             0.3,
             "#f1b6da"
            ],
            [
             0.4,
             "#fde0ef"
            ],
            [
             0.5,
             "#f7f7f7"
            ],
            [
             0.6,
             "#e6f5d0"
            ],
            [
             0.7,
             "#b8e186"
            ],
            [
             0.8,
             "#7fbc41"
            ],
            [
             0.9,
             "#4d9221"
            ],
            [
             1,
             "#276419"
            ]
           ],
           "sequential": [
            [
             0,
             "#0d0887"
            ],
            [
             0.1111111111111111,
             "#46039f"
            ],
            [
             0.2222222222222222,
             "#7201a8"
            ],
            [
             0.3333333333333333,
             "#9c179e"
            ],
            [
             0.4444444444444444,
             "#bd3786"
            ],
            [
             0.5555555555555556,
             "#d8576b"
            ],
            [
             0.6666666666666666,
             "#ed7953"
            ],
            [
             0.7777777777777778,
             "#fb9f3a"
            ],
            [
             0.8888888888888888,
             "#fdca26"
            ],
            [
             1,
             "#f0f921"
            ]
           ],
           "sequentialminus": [
            [
             0,
             "#0d0887"
            ],
            [
             0.1111111111111111,
             "#46039f"
            ],
            [
             0.2222222222222222,
             "#7201a8"
            ],
            [
             0.3333333333333333,
             "#9c179e"
            ],
            [
             0.4444444444444444,
             "#bd3786"
            ],
            [
             0.5555555555555556,
             "#d8576b"
            ],
            [
             0.6666666666666666,
             "#ed7953"
            ],
            [
             0.7777777777777778,
             "#fb9f3a"
            ],
            [
             0.8888888888888888,
             "#fdca26"
            ],
            [
             1,
             "#f0f921"
            ]
           ]
          },
          "colorway": [
           "#636efa",
           "#EF553B",
           "#00cc96",
           "#ab63fa",
           "#FFA15A",
           "#19d3f3",
           "#FF6692",
           "#B6E880",
           "#FF97FF",
           "#FECB52"
          ],
          "font": {
           "color": "#2a3f5f"
          },
          "geo": {
           "bgcolor": "white",
           "lakecolor": "white",
           "landcolor": "#E5ECF6",
           "showlakes": true,
           "showland": true,
           "subunitcolor": "white"
          },
          "hoverlabel": {
           "align": "left"
          },
          "hovermode": "closest",
          "mapbox": {
           "style": "light"
          },
          "paper_bgcolor": "white",
          "plot_bgcolor": "#E5ECF6",
          "polar": {
           "angularaxis": {
            "gridcolor": "white",
            "linecolor": "white",
            "ticks": ""
           },
           "bgcolor": "#E5ECF6",
           "radialaxis": {
            "gridcolor": "white",
            "linecolor": "white",
            "ticks": ""
           }
          },
          "scene": {
           "xaxis": {
            "backgroundcolor": "#E5ECF6",
            "gridcolor": "white",
            "gridwidth": 2,
            "linecolor": "white",
            "showbackground": true,
            "ticks": "",
            "zerolinecolor": "white"
           },
           "yaxis": {
            "backgroundcolor": "#E5ECF6",
            "gridcolor": "white",
            "gridwidth": 2,
            "linecolor": "white",
            "showbackground": true,
            "ticks": "",
            "zerolinecolor": "white"
           },
           "zaxis": {
            "backgroundcolor": "#E5ECF6",
            "gridcolor": "white",
            "gridwidth": 2,
            "linecolor": "white",
            "showbackground": true,
            "ticks": "",
            "zerolinecolor": "white"
           }
          },
          "shapedefaults": {
           "line": {
            "color": "#2a3f5f"
           }
          },
          "ternary": {
           "aaxis": {
            "gridcolor": "white",
            "linecolor": "white",
            "ticks": ""
           },
           "baxis": {
            "gridcolor": "white",
            "linecolor": "white",
            "ticks": ""
           },
           "bgcolor": "#E5ECF6",
           "caxis": {
            "gridcolor": "white",
            "linecolor": "white",
            "ticks": ""
           }
          },
          "title": {
           "x": 0.05
          },
          "xaxis": {
           "automargin": true,
           "gridcolor": "white",
           "linecolor": "white",
           "ticks": "",
           "title": {
            "standoff": 15
           },
           "zerolinecolor": "white",
           "zerolinewidth": 2
          },
          "yaxis": {
           "automargin": true,
           "gridcolor": "white",
           "linecolor": "white",
           "ticks": "",
           "title": {
            "standoff": 15
           },
           "zerolinecolor": "white",
           "zerolinewidth": 2
          }
         }
        },
        "title": {
         "text": "Distribution of Tips according to Payment Method"
        },
        "xaxis": {
         "anchor": "y",
         "domain": [
          0,
          1
         ],
         "title": {
          "text": "Total bill paid by Customer"
         }
        },
        "yaxis": {
         "anchor": "x",
         "domain": [
          0,
          1
         ],
         "title": {
          "text": "Total Tips (INR)"
         }
        }
       }
      }
     },
     "metadata": {},
     "output_type": "display_data"
    }
   ],
   "source": [
    "fig = px.scatter(data_frame = df, x='total_bill', y='tip', color='payment_method_Cash',trendline=\"ols\", \n",
    "             title='Distribution of Tips according to Payment Method', \n",
    "             labels={'tip': 'Total Tips (INR)', 'total_bill': 'Total bill paid by Customer'},\n",
    "             hover_data=['tip'], \n",
    "             height=400)\n",
    "fig.show()"
   ]
  },
  {
   "cell_type": "code",
   "execution_count": 94,
   "id": "de80d0ac",
   "metadata": {},
   "outputs": [
    {
     "data": {
      "application/vnd.plotly.v1+json": {
       "config": {
        "plotlyServerURL": "https://plot.ly"
       },
       "data": [
        {
         "hovertemplate": "payment_method_Online=False<br>Total bill paid by Customer=%{x}<br>Total Tips (INR)=%{y}<extra></extra>",
         "legendgroup": "False",
         "marker": {
          "color": "#636efa",
          "symbol": "circle"
         },
         "mode": "markers",
         "name": "False",
         "orientation": "v",
         "showlegend": true,
         "type": "scatter",
         "x": [
          1997.79,
          4763.43,
          3713.57,
          3073.56,
          948.89,
          948.77,
          478.8,
          4357.65,
          3085.35,
          3598.75,
          298.81,
          4855.57,
          4195.72,
          1072.76,
          1660.36,
          1597.9,
          3136.89,
          869.57,
          1602.29,
          1958.54,
          2389.14,
          3968.84,
          1158.43,
          2668.33,
          422.96,
          1018.52,
          512.25,
          4754.65,
          4835.03,
          4080.31,
          1662.15,
          668.83,
          3484.32,
          2312.73,
          785.78,
          2576.85,
          365.06,
          3380.11,
          2696.33,
          2824.21,
          1087.3,
          4854.01,
          3920.64,
          4709.59,
          3069.92,
          4625,
          624.76,
          1140.72,
          417.09,
          1761.59,
          2065.65,
          1502.48,
          4177.94,
          1912.42,
          1548.49,
          2804.94,
          876.44,
          4050.55,
          557.84,
          4937.06,
          3906.77,
          4114.21,
          3592.92,
          3699.23,
          1920.64,
          756.17,
          1788.31,
          505.08,
          3702.11,
          3260.28,
          4458.62,
          2466.63,
          774.05,
          3623.57,
          3851.77,
          2894.13,
          2570.22,
          2252.2,
          717.88,
          350.86,
          3254.77,
          2641.14,
          4556.32,
          1396.6,
          2169.84,
          3826.65,
          1298.23,
          569.5,
          1590.81,
          973.86,
          4662.55,
          3240.34,
          4383.01,
          4057.63,
          4484.28,
          4501.24,
          1726.42,
          124.09,
          250.12,
          426.47,
          651.59,
          220.57,
          1266.12,
          775.35,
          1751.37,
          574.49,
          145.42,
          484.55,
          489.75,
          1408.56,
          586.79,
          144.22,
          1567.23,
          377.06,
          2612.86,
          1537.5,
          459.68,
          1349.9,
          895.5,
          249.37,
          431.12,
          1361.87,
          3426.25,
          1340.66,
          395.44,
          165.36,
          456,
          340.94,
          2771.72,
          633.39,
          429.45,
          1739.74,
          1095.29,
          395.72,
          352.31,
          279.62,
          1287.18,
          326.83,
          1036.96,
          3516.5,
          496.3,
          1837.12,
          744.67,
          4411.23,
          1438.12,
          2864.96,
          2742.32,
          1360.89,
          646.89,
          506.64,
          1827.34,
          1876.21,
          406.13,
          458.01,
          343.4
         ],
         "xaxis": "x",
         "y": [
          190,
          470.3,
          370.7,
          300.6,
          94.9,
          94.7,
          47.6,
          430.5,
          300.1,
          340,
          20,
          470.3,
          400.3,
          90.2,
          150.3,
          150.2,
          300.2,
          79.9,
          150.3,
          190.3,
          230.5,
          390.2,
          110.2,
          261.1,
          42.1,
          100.5,
          54,
          450.2,
          490.23,
          401.5,
          140.3,
          63.2,
          340.2,
          231.34,
          79.2,
          250.3,
          30,
          300,
          250.3,
          250.3,
          100,
          450.2,
          310.2,
          450.2,
          300,
          450.3,
          60,
          100,
          20,
          165,
          245,
          152,
          412,
          191,
          123,
          239,
          60.34,
          421,
          32,
          324.1,
          345,
          412,
          324.5,
          342,
          165,
          65,
          123.5,
          49.4,
          354,
          234,
          342,
          231,
          43,
          312.4,
          274,
          234,
          213,
          256,
          50,
          34,
          321,
          245,
          357,
          132,
          234,
          315,
          126,
          54,
          134,
          64,
          461,
          245,
          354,
          325,
          412,
          432,
          152,
          12,
          23,
          43,
          54,
          23,
          224,
          23,
          132,
          43,
          23,
          42,
          23,
          109,
          43,
          23,
          123,
          43,
          242,
          123,
          43,
          143,
          43,
          24,
          54,
          150,
          234,
          121,
          32,
          34,
          43,
          34,
          254,
          63,
          42,
          171,
          100,
          43,
          24,
          43,
          132,
          23,
          101,
          235,
          43,
          139,
          72,
          312,
          113,
          162,
          234,
          102,
          43,
          64,
          142,
          123,
          54,
          64,
          31
         ],
         "yaxis": "y"
        },
        {
         "hovertemplate": "<b>OLS trendline</b><br>tip = 0.089649 * total_bill + 0.757807<br>R<sup>2</sup>=0.951421<br><br>payment_method_Online=False<br>Total bill paid by Customer=%{x}<br>Total Tips (INR)=%{y} <b>(trend)</b><extra></extra>",
         "legendgroup": "False",
         "marker": {
          "color": "#636efa",
          "symbol": "circle"
         },
         "mode": "lines",
         "name": "False",
         "showlegend": false,
         "type": "scatter",
         "x": [
          124.09,
          144.22,
          145.42,
          165.36,
          220.57,
          249.37,
          250.12,
          279.62,
          298.81,
          326.83,
          340.94,
          343.4,
          350.86,
          352.31,
          365.06,
          377.06,
          395.44,
          395.72,
          406.13,
          417.09,
          422.96,
          426.47,
          429.45,
          431.12,
          456,
          458.01,
          459.68,
          478.8,
          484.55,
          489.75,
          496.3,
          505.08,
          506.64,
          512.25,
          557.84,
          569.5,
          574.49,
          586.79,
          624.76,
          633.39,
          646.89,
          651.59,
          668.83,
          717.88,
          744.67,
          756.17,
          774.05,
          775.35,
          785.78,
          869.57,
          876.44,
          895.5,
          948.77,
          948.89,
          973.86,
          1018.52,
          1036.96,
          1072.76,
          1087.3,
          1095.29,
          1140.72,
          1158.43,
          1266.12,
          1287.18,
          1298.23,
          1340.66,
          1349.9,
          1360.89,
          1361.87,
          1396.6,
          1408.56,
          1438.12,
          1502.48,
          1537.5,
          1548.49,
          1567.23,
          1590.81,
          1597.9,
          1602.29,
          1660.36,
          1662.15,
          1726.42,
          1739.74,
          1751.37,
          1761.59,
          1788.31,
          1827.34,
          1837.12,
          1876.21,
          1912.42,
          1920.64,
          1958.54,
          1997.79,
          2065.65,
          2169.84,
          2252.2,
          2312.73,
          2389.14,
          2466.63,
          2570.22,
          2576.85,
          2612.86,
          2641.14,
          2668.33,
          2696.33,
          2742.32,
          2771.72,
          2804.94,
          2824.21,
          2864.96,
          2894.13,
          3069.92,
          3073.56,
          3085.35,
          3136.89,
          3240.34,
          3254.77,
          3260.28,
          3380.11,
          3426.25,
          3484.32,
          3516.5,
          3592.92,
          3598.75,
          3623.57,
          3699.23,
          3702.11,
          3713.57,
          3826.65,
          3851.77,
          3906.77,
          3920.64,
          3968.84,
          4050.55,
          4057.63,
          4080.31,
          4114.21,
          4177.94,
          4195.72,
          4357.65,
          4383.01,
          4411.23,
          4458.62,
          4484.28,
          4501.24,
          4556.32,
          4625,
          4662.55,
          4709.59,
          4754.65,
          4763.43,
          4835.03,
          4854.01,
          4855.57,
          4937.06
         ],
         "xaxis": "x",
         "y": [
          11.882350204171686,
          13.686984450780471,
          13.79456324342481,
          15.582164181198245,
          20.531685132776538,
          23.11357615624067,
          23.180812901643385,
          25.825458220816714,
          27.545822413187437,
          30.057787221432747,
          31.322734524942433,
          31.54327104986333,
          32.21205254413564,
          32.342043585247545,
          33.485068257093644,
          34.560856183537034,
          36.208604690872825,
          36.23370640915651,
          37.16695243534615,
          38.149505408164444,
          38.675745002183,
          38.99041297066769,
          39.257566972401136,
          39.40728079216451,
          41.63774775965713,
          41.817942237336396,
          41.967656057099774,
          43.68174481989957,
          44.197226534653694,
          44.663401302779164,
          45.250602212629516,
          46.03772037881059,
          46.17757280924823,
          46.68050366486052,
          50.7676012954067,
          51.81290856393419,
          52.2602570433469,
          53.362939667951366,
          56.766911965206,
          57.54058278230654,
          58.750844199555345,
          59.17219447074568,
          60.71774312506935,
          65.1150262744067,
          67.51672282019156,
          68.54768624969981,
          70.15061026010046,
          70.26715395213184,
          71.20219295819888,
          78.71388215458984,
          79.32977074247869,
          81.03848056564627,
          85.81408246911622,
          85.82484034838065,
          88.06337572532159,
          92.06709979156841,
          93.72022723853642,
          96.92966121909252,
          98.23315758996644,
          98.94945305098999,
          103.02220684251692,
          104.60989052395963,
          114.26419067385034,
          116.1521984847585,
          117.14281986702511,
          120.94662667694121,
          121.77498338030261,
          122.76022582293702,
          122.84808183692988,
          125.96159139404479,
          127.03379336073337,
          129.6838176195389,
          135.4536268650303,
          138.5931346303676,
          139.57837707300197,
          141.25839921813107,
          143.37232249359232,
          144.00793386013265,
          144.40149294322316,
          149.60741001727047,
          149.7678817162983,
          155.52962255234135,
          156.7237471506935,
          157.76636494940487,
          158.68257766675916,
          161.0779987829731,
          164.57699901373024,
          165.4537661737816,
          168.95814534417096,
          172.20433541221388,
          172.9412501418276,
          176.3389470095113,
          179.8576700189199,
          185.94125074295727,
          195.28177941430198,
          202.66527054945843,
          208.09172414842664,
          214.9418037700549,
          221.8887043050631,
          231.17544358008564,
          231.7698164094456,
          234.9980766787145,
          237.53335022536606,
          239.97090636869905,
          242.48107819706698,
          246.60403542516127,
          249.23971584494754,
          252.21785542131835,
          253.9453915331987,
          257.5985880334127,
          260.21364918460887,
          275.9730458170658,
          276.2993681547536,
          277.35632979248425,
          281.9768389365586,
          291.25102735243934,
          292.5446623339875,
          293.0386282902128,
          303.78126722568874,
          307.91767180286354,
          313.12358887691084,
          316.00849349965654,
          322.8594696112235,
          323.38212324548726,
          325.6072112733477,
          332.39005414957325,
          332.64824325191967,
          333.6756207216731,
          343.81312894852465,
          346.06511167454613,
          350.99580633741164,
          352.23923788239244,
          356.5603193869401,
          363.8855386760809,
          364.52025355268245,
          366.55349273366045,
          369.59259362586306,
          375.3059240052161,
          376.8998831162298,
          391.41674469364455,
          393.690243178195,
          396.2201377852143,
          400.468603604727,
          402.7689967874384,
          404.2894437234784,
          409.22731030585356,
          415.3844032048646,
          418.7507229246937,
          422.9678115963518,
          427.0073952601467,
          427.79451342632785,
          434.21338138744,
          435.914919291098,
          436.0547717215356,
          443.36026823202496
         ],
         "yaxis": "y"
        },
        {
         "hovertemplate": "payment_method_Online=True<br>Total bill paid by Customer=%{x}<br>Total Tips (INR)=%{y}<extra></extra>",
         "legendgroup": "True",
         "marker": {
          "color": "#EF553B",
          "symbol": "circle"
         },
         "mode": "markers",
         "name": "True",
         "orientation": "v",
         "showlegend": true,
         "type": "scatter",
         "x": [
          1219.23,
          1080.34,
          2718.83,
          2273.34,
          3043.59,
          3116.22,
          4564.74,
          1442.14,
          1696.21,
          4495.17,
          1153.84,
          226.51,
          3902.1,
          555.41,
          4342.9,
          3191.83,
          1692.72,
          1760.88,
          3900.64,
          2709.12,
          322.01,
          1708.91,
          4078.98,
          1095.54,
          2788.84,
          4075.71,
          728.25,
          331.51,
          233.37,
          1820.55,
          45.97,
          290.19,
          125.91,
          447.1,
          355.77,
          336.29,
          2658.05,
          206.33,
          860.1,
          4638.53,
          337.92,
          412.67,
          452.01,
          3238.89,
          384.59
         ],
         "xaxis": "x",
         "y": [
          120,
          100,
          250.3,
          220.1,
          300.2,
          300.1,
          400.23,
          140.3,
          150,
          390,
          112,
          20,
          342,
          52,
          432,
          312,
          154,
          145,
          352,
          211,
          20,
          149,
          342,
          75,
          255,
          394,
          56,
          23,
          43,
          190,
          3,
          23,
          23,
          43,
          23,
          42,
          190,
          32,
          23,
          412,
          23,
          43,
          43,
          421,
          43
         ],
         "yaxis": "y"
        },
        {
         "hovertemplate": "<b>OLS trendline</b><br>tip = 0.0922887 * total_bill + -0.970442<br>R<sup>2</sup>=0.964618<br><br>payment_method_Online=True<br>Total bill paid by Customer=%{x}<br>Total Tips (INR)=%{y} <b>(trend)</b><extra></extra>",
         "legendgroup": "True",
         "marker": {
          "color": "#EF553B",
          "symbol": "circle"
         },
         "mode": "lines",
         "name": "True",
         "showlegend": false,
         "type": "scatter",
         "x": [
          45.97,
          125.91,
          206.33,
          226.51,
          233.37,
          290.19,
          322.01,
          331.51,
          336.29,
          337.92,
          355.77,
          384.59,
          412.67,
          447.1,
          452.01,
          555.41,
          728.25,
          860.1,
          1080.34,
          1095.54,
          1153.84,
          1219.23,
          1442.14,
          1692.72,
          1696.21,
          1708.91,
          1760.88,
          1820.55,
          2273.34,
          2658.05,
          2709.12,
          2718.83,
          2788.84,
          3043.59,
          3116.22,
          3191.83,
          3238.89,
          3900.64,
          3902.1,
          4075.71,
          4078.98,
          4342.9,
          4495.17,
          4564.74,
          4638.53
         ],
         "xaxis": "x",
         "y": [
          3.272070009750516,
          10.64962961778135,
          18.07148780739656,
          19.933874008172918,
          20.56697456998292,
          25.81081916503311,
          28.74744596923052,
          29.624188729754575,
          30.06532877136563,
          30.215759371329227,
          31.863112873998105,
          34.52287354329319,
          37.11434056597903,
          40.29184090754147,
          40.74497848166495,
          50.287631264632026,
          66.23881218347177,
          78.4070788124293,
          98.7327446627259,
          100.1355330795644,
          105.51596496783307,
          111.5507238215876,
          132.1228005319473,
          155.2485058932228,
          155.57059349682586,
          156.74266013457907,
          161.53890447820382,
          167.04577190141123,
          208.83317764222036,
          244.3375678949792,
          249.05075239813323,
          249.94687578810044,
          256.4080084896046,
          279.91855777839436,
          286.6214869043798,
          293.59943639103494,
          297.9425431605362,
          359.01459808440916,
          359.149339603395,
          375.171582830193,
          375.47336691723655,
          399.8302036917111,
          413.88300581223723,
          420.30353148062227,
          427.11351551210333
         ],
         "yaxis": "y"
        }
       ],
       "layout": {
        "height": 400,
        "legend": {
         "title": {
          "text": "payment_method_Online"
         },
         "tracegroupgap": 0
        },
        "template": {
         "data": {
          "bar": [
           {
            "error_x": {
             "color": "#2a3f5f"
            },
            "error_y": {
             "color": "#2a3f5f"
            },
            "marker": {
             "line": {
              "color": "#E5ECF6",
              "width": 0.5
             },
             "pattern": {
              "fillmode": "overlay",
              "size": 10,
              "solidity": 0.2
             }
            },
            "type": "bar"
           }
          ],
          "barpolar": [
           {
            "marker": {
             "line": {
              "color": "#E5ECF6",
              "width": 0.5
             },
             "pattern": {
              "fillmode": "overlay",
              "size": 10,
              "solidity": 0.2
             }
            },
            "type": "barpolar"
           }
          ],
          "carpet": [
           {
            "aaxis": {
             "endlinecolor": "#2a3f5f",
             "gridcolor": "white",
             "linecolor": "white",
             "minorgridcolor": "white",
             "startlinecolor": "#2a3f5f"
            },
            "baxis": {
             "endlinecolor": "#2a3f5f",
             "gridcolor": "white",
             "linecolor": "white",
             "minorgridcolor": "white",
             "startlinecolor": "#2a3f5f"
            },
            "type": "carpet"
           }
          ],
          "choropleth": [
           {
            "colorbar": {
             "outlinewidth": 0,
             "ticks": ""
            },
            "type": "choropleth"
           }
          ],
          "contour": [
           {
            "colorbar": {
             "outlinewidth": 0,
             "ticks": ""
            },
            "colorscale": [
             [
              0,
              "#0d0887"
             ],
             [
              0.1111111111111111,
              "#46039f"
             ],
             [
              0.2222222222222222,
              "#7201a8"
             ],
             [
              0.3333333333333333,
              "#9c179e"
             ],
             [
              0.4444444444444444,
              "#bd3786"
             ],
             [
              0.5555555555555556,
              "#d8576b"
             ],
             [
              0.6666666666666666,
              "#ed7953"
             ],
             [
              0.7777777777777778,
              "#fb9f3a"
             ],
             [
              0.8888888888888888,
              "#fdca26"
             ],
             [
              1,
              "#f0f921"
             ]
            ],
            "type": "contour"
           }
          ],
          "contourcarpet": [
           {
            "colorbar": {
             "outlinewidth": 0,
             "ticks": ""
            },
            "type": "contourcarpet"
           }
          ],
          "heatmap": [
           {
            "colorbar": {
             "outlinewidth": 0,
             "ticks": ""
            },
            "colorscale": [
             [
              0,
              "#0d0887"
             ],
             [
              0.1111111111111111,
              "#46039f"
             ],
             [
              0.2222222222222222,
              "#7201a8"
             ],
             [
              0.3333333333333333,
              "#9c179e"
             ],
             [
              0.4444444444444444,
              "#bd3786"
             ],
             [
              0.5555555555555556,
              "#d8576b"
             ],
             [
              0.6666666666666666,
              "#ed7953"
             ],
             [
              0.7777777777777778,
              "#fb9f3a"
             ],
             [
              0.8888888888888888,
              "#fdca26"
             ],
             [
              1,
              "#f0f921"
             ]
            ],
            "type": "heatmap"
           }
          ],
          "heatmapgl": [
           {
            "colorbar": {
             "outlinewidth": 0,
             "ticks": ""
            },
            "colorscale": [
             [
              0,
              "#0d0887"
             ],
             [
              0.1111111111111111,
              "#46039f"
             ],
             [
              0.2222222222222222,
              "#7201a8"
             ],
             [
              0.3333333333333333,
              "#9c179e"
             ],
             [
              0.4444444444444444,
              "#bd3786"
             ],
             [
              0.5555555555555556,
              "#d8576b"
             ],
             [
              0.6666666666666666,
              "#ed7953"
             ],
             [
              0.7777777777777778,
              "#fb9f3a"
             ],
             [
              0.8888888888888888,
              "#fdca26"
             ],
             [
              1,
              "#f0f921"
             ]
            ],
            "type": "heatmapgl"
           }
          ],
          "histogram": [
           {
            "marker": {
             "pattern": {
              "fillmode": "overlay",
              "size": 10,
              "solidity": 0.2
             }
            },
            "type": "histogram"
           }
          ],
          "histogram2d": [
           {
            "colorbar": {
             "outlinewidth": 0,
             "ticks": ""
            },
            "colorscale": [
             [
              0,
              "#0d0887"
             ],
             [
              0.1111111111111111,
              "#46039f"
             ],
             [
              0.2222222222222222,
              "#7201a8"
             ],
             [
              0.3333333333333333,
              "#9c179e"
             ],
             [
              0.4444444444444444,
              "#bd3786"
             ],
             [
              0.5555555555555556,
              "#d8576b"
             ],
             [
              0.6666666666666666,
              "#ed7953"
             ],
             [
              0.7777777777777778,
              "#fb9f3a"
             ],
             [
              0.8888888888888888,
              "#fdca26"
             ],
             [
              1,
              "#f0f921"
             ]
            ],
            "type": "histogram2d"
           }
          ],
          "histogram2dcontour": [
           {
            "colorbar": {
             "outlinewidth": 0,
             "ticks": ""
            },
            "colorscale": [
             [
              0,
              "#0d0887"
             ],
             [
              0.1111111111111111,
              "#46039f"
             ],
             [
              0.2222222222222222,
              "#7201a8"
             ],
             [
              0.3333333333333333,
              "#9c179e"
             ],
             [
              0.4444444444444444,
              "#bd3786"
             ],
             [
              0.5555555555555556,
              "#d8576b"
             ],
             [
              0.6666666666666666,
              "#ed7953"
             ],
             [
              0.7777777777777778,
              "#fb9f3a"
             ],
             [
              0.8888888888888888,
              "#fdca26"
             ],
             [
              1,
              "#f0f921"
             ]
            ],
            "type": "histogram2dcontour"
           }
          ],
          "mesh3d": [
           {
            "colorbar": {
             "outlinewidth": 0,
             "ticks": ""
            },
            "type": "mesh3d"
           }
          ],
          "parcoords": [
           {
            "line": {
             "colorbar": {
              "outlinewidth": 0,
              "ticks": ""
             }
            },
            "type": "parcoords"
           }
          ],
          "pie": [
           {
            "automargin": true,
            "type": "pie"
           }
          ],
          "scatter": [
           {
            "fillpattern": {
             "fillmode": "overlay",
             "size": 10,
             "solidity": 0.2
            },
            "type": "scatter"
           }
          ],
          "scatter3d": [
           {
            "line": {
             "colorbar": {
              "outlinewidth": 0,
              "ticks": ""
             }
            },
            "marker": {
             "colorbar": {
              "outlinewidth": 0,
              "ticks": ""
             }
            },
            "type": "scatter3d"
           }
          ],
          "scattercarpet": [
           {
            "marker": {
             "colorbar": {
              "outlinewidth": 0,
              "ticks": ""
             }
            },
            "type": "scattercarpet"
           }
          ],
          "scattergeo": [
           {
            "marker": {
             "colorbar": {
              "outlinewidth": 0,
              "ticks": ""
             }
            },
            "type": "scattergeo"
           }
          ],
          "scattergl": [
           {
            "marker": {
             "colorbar": {
              "outlinewidth": 0,
              "ticks": ""
             }
            },
            "type": "scattergl"
           }
          ],
          "scattermapbox": [
           {
            "marker": {
             "colorbar": {
              "outlinewidth": 0,
              "ticks": ""
             }
            },
            "type": "scattermapbox"
           }
          ],
          "scatterpolar": [
           {
            "marker": {
             "colorbar": {
              "outlinewidth": 0,
              "ticks": ""
             }
            },
            "type": "scatterpolar"
           }
          ],
          "scatterpolargl": [
           {
            "marker": {
             "colorbar": {
              "outlinewidth": 0,
              "ticks": ""
             }
            },
            "type": "scatterpolargl"
           }
          ],
          "scatterternary": [
           {
            "marker": {
             "colorbar": {
              "outlinewidth": 0,
              "ticks": ""
             }
            },
            "type": "scatterternary"
           }
          ],
          "surface": [
           {
            "colorbar": {
             "outlinewidth": 0,
             "ticks": ""
            },
            "colorscale": [
             [
              0,
              "#0d0887"
             ],
             [
              0.1111111111111111,
              "#46039f"
             ],
             [
              0.2222222222222222,
              "#7201a8"
             ],
             [
              0.3333333333333333,
              "#9c179e"
             ],
             [
              0.4444444444444444,
              "#bd3786"
             ],
             [
              0.5555555555555556,
              "#d8576b"
             ],
             [
              0.6666666666666666,
              "#ed7953"
             ],
             [
              0.7777777777777778,
              "#fb9f3a"
             ],
             [
              0.8888888888888888,
              "#fdca26"
             ],
             [
              1,
              "#f0f921"
             ]
            ],
            "type": "surface"
           }
          ],
          "table": [
           {
            "cells": {
             "fill": {
              "color": "#EBF0F8"
             },
             "line": {
              "color": "white"
             }
            },
            "header": {
             "fill": {
              "color": "#C8D4E3"
             },
             "line": {
              "color": "white"
             }
            },
            "type": "table"
           }
          ]
         },
         "layout": {
          "annotationdefaults": {
           "arrowcolor": "#2a3f5f",
           "arrowhead": 0,
           "arrowwidth": 1
          },
          "autotypenumbers": "strict",
          "coloraxis": {
           "colorbar": {
            "outlinewidth": 0,
            "ticks": ""
           }
          },
          "colorscale": {
           "diverging": [
            [
             0,
             "#8e0152"
            ],
            [
             0.1,
             "#c51b7d"
            ],
            [
             0.2,
             "#de77ae"
            ],
            [
             0.3,
             "#f1b6da"
            ],
            [
             0.4,
             "#fde0ef"
            ],
            [
             0.5,
             "#f7f7f7"
            ],
            [
             0.6,
             "#e6f5d0"
            ],
            [
             0.7,
             "#b8e186"
            ],
            [
             0.8,
             "#7fbc41"
            ],
            [
             0.9,
             "#4d9221"
            ],
            [
             1,
             "#276419"
            ]
           ],
           "sequential": [
            [
             0,
             "#0d0887"
            ],
            [
             0.1111111111111111,
             "#46039f"
            ],
            [
             0.2222222222222222,
             "#7201a8"
            ],
            [
             0.3333333333333333,
             "#9c179e"
            ],
            [
             0.4444444444444444,
             "#bd3786"
            ],
            [
             0.5555555555555556,
             "#d8576b"
            ],
            [
             0.6666666666666666,
             "#ed7953"
            ],
            [
             0.7777777777777778,
             "#fb9f3a"
            ],
            [
             0.8888888888888888,
             "#fdca26"
            ],
            [
             1,
             "#f0f921"
            ]
           ],
           "sequentialminus": [
            [
             0,
             "#0d0887"
            ],
            [
             0.1111111111111111,
             "#46039f"
            ],
            [
             0.2222222222222222,
             "#7201a8"
            ],
            [
             0.3333333333333333,
             "#9c179e"
            ],
            [
             0.4444444444444444,
             "#bd3786"
            ],
            [
             0.5555555555555556,
             "#d8576b"
            ],
            [
             0.6666666666666666,
             "#ed7953"
            ],
            [
             0.7777777777777778,
             "#fb9f3a"
            ],
            [
             0.8888888888888888,
             "#fdca26"
            ],
            [
             1,
             "#f0f921"
            ]
           ]
          },
          "colorway": [
           "#636efa",
           "#EF553B",
           "#00cc96",
           "#ab63fa",
           "#FFA15A",
           "#19d3f3",
           "#FF6692",
           "#B6E880",
           "#FF97FF",
           "#FECB52"
          ],
          "font": {
           "color": "#2a3f5f"
          },
          "geo": {
           "bgcolor": "white",
           "lakecolor": "white",
           "landcolor": "#E5ECF6",
           "showlakes": true,
           "showland": true,
           "subunitcolor": "white"
          },
          "hoverlabel": {
           "align": "left"
          },
          "hovermode": "closest",
          "mapbox": {
           "style": "light"
          },
          "paper_bgcolor": "white",
          "plot_bgcolor": "#E5ECF6",
          "polar": {
           "angularaxis": {
            "gridcolor": "white",
            "linecolor": "white",
            "ticks": ""
           },
           "bgcolor": "#E5ECF6",
           "radialaxis": {
            "gridcolor": "white",
            "linecolor": "white",
            "ticks": ""
           }
          },
          "scene": {
           "xaxis": {
            "backgroundcolor": "#E5ECF6",
            "gridcolor": "white",
            "gridwidth": 2,
            "linecolor": "white",
            "showbackground": true,
            "ticks": "",
            "zerolinecolor": "white"
           },
           "yaxis": {
            "backgroundcolor": "#E5ECF6",
            "gridcolor": "white",
            "gridwidth": 2,
            "linecolor": "white",
            "showbackground": true,
            "ticks": "",
            "zerolinecolor": "white"
           },
           "zaxis": {
            "backgroundcolor": "#E5ECF6",
            "gridcolor": "white",
            "gridwidth": 2,
            "linecolor": "white",
            "showbackground": true,
            "ticks": "",
            "zerolinecolor": "white"
           }
          },
          "shapedefaults": {
           "line": {
            "color": "#2a3f5f"
           }
          },
          "ternary": {
           "aaxis": {
            "gridcolor": "white",
            "linecolor": "white",
            "ticks": ""
           },
           "baxis": {
            "gridcolor": "white",
            "linecolor": "white",
            "ticks": ""
           },
           "bgcolor": "#E5ECF6",
           "caxis": {
            "gridcolor": "white",
            "linecolor": "white",
            "ticks": ""
           }
          },
          "title": {
           "x": 0.05
          },
          "xaxis": {
           "automargin": true,
           "gridcolor": "white",
           "linecolor": "white",
           "ticks": "",
           "title": {
            "standoff": 15
           },
           "zerolinecolor": "white",
           "zerolinewidth": 2
          },
          "yaxis": {
           "automargin": true,
           "gridcolor": "white",
           "linecolor": "white",
           "ticks": "",
           "title": {
            "standoff": 15
           },
           "zerolinecolor": "white",
           "zerolinewidth": 2
          }
         }
        },
        "title": {
         "text": "Distribution of Tips according to Payment Method"
        },
        "xaxis": {
         "anchor": "y",
         "domain": [
          0,
          1
         ],
         "title": {
          "text": "Total bill paid by Customer"
         }
        },
        "yaxis": {
         "anchor": "x",
         "domain": [
          0,
          1
         ],
         "title": {
          "text": "Total Tips (INR)"
         }
        }
       }
      }
     },
     "metadata": {},
     "output_type": "display_data"
    }
   ],
   "source": [
    "fig = px.scatter(data_frame = df, x='total_bill', y='tip', color='payment_method_Online',trendline=\"ols\", \n",
    "             title='Distribution of Tips according to Payment Method', \n",
    "             labels={'tip': 'Total Tips (INR)', 'total_bill': 'Total bill paid by Customer'},\n",
    "             hover_data=['tip'], \n",
    "             height=400)\n",
    "fig.show()"
   ]
  },
  {
   "cell_type": "code",
   "execution_count": 95,
   "id": "64933c3e",
   "metadata": {},
   "outputs": [
    {
     "data": {
      "application/vnd.plotly.v1+json": {
       "config": {
        "plotlyServerURL": "https://plot.ly"
       },
       "data": [
        {
         "hovertemplate": "group_Family=False<br>Total bill paid by Customer=%{x}<br>Tip (INR)=%{y}<extra></extra>",
         "legendgroup": "False",
         "marker": {
          "color": "#636efa",
          "symbol": "circle"
         },
         "mode": "markers",
         "name": "False",
         "orientation": "v",
         "showlegend": true,
         "type": "scatter",
         "x": [
          1997.79,
          3073.56,
          948.89,
          948.77,
          478.8,
          4357.65,
          3085.35,
          3598.75,
          298.81,
          4855.57,
          4195.72,
          1219.23,
          1080.34,
          1660.36,
          2718.83,
          3968.84,
          1158.43,
          2668.33,
          3043.59,
          1018.52,
          512.25,
          4754.65,
          4835.03,
          4080.31,
          1662.15,
          668.83,
          3484.32,
          2312.73,
          785.78,
          2696.33,
          4854.01,
          3920.64,
          4709.59,
          4495.17,
          3069.92,
          4625,
          624.76,
          1140.72,
          417.09,
          1761.59,
          2065.65,
          1502.48,
          4177.94,
          2804.94,
          876.44,
          4050.55,
          557.84,
          4937.06,
          3906.77,
          1153.84,
          4114.21,
          3592.92,
          3699.23,
          3902.1,
          555.41,
          3702.11,
          3260.28,
          4458.62,
          2466.63,
          3623.57,
          3851.77,
          2894.13,
          3900.64,
          717.88,
          350.86,
          3254.77,
          1708.91,
          2641.14,
          4556.32,
          1396.6,
          2169.84,
          3826.65,
          1298.23,
          569.5,
          1590.81,
          973.86,
          4662.55,
          4383.01,
          4057.63,
          2788.84,
          4075.71,
          4501.24,
          1726.42,
          728.25,
          124.09,
          250.12,
          331.51,
          233.37,
          1820.55,
          45.97,
          1751.37,
          290.19,
          574.49,
          145.42,
          489.75,
          1408.56,
          586.79,
          144.22,
          1567.23,
          377.06,
          125.91,
          2612.86,
          447.1,
          1537.5,
          459.68,
          1349.9,
          895.5,
          1361.87,
          3426.25,
          355.77,
          1340.66,
          395.44,
          165.36,
          456,
          340.94,
          633.39,
          429.45,
          1095.29,
          2658.05,
          326.83,
          1036.96,
          3516.5,
          206.33,
          496.3,
          860.1,
          1837.12,
          744.67,
          4638.53,
          4411.23,
          1438.12,
          337.92,
          412.67,
          2864.96,
          2742.32,
          1360.89,
          646.89,
          452.01,
          1827.34,
          384.59,
          406.13
         ],
         "xaxis": "x",
         "y": [
          190,
          300.6,
          94.9,
          94.7,
          47.6,
          430.5,
          300.1,
          340,
          20,
          470.3,
          400.3,
          120,
          100,
          150.3,
          250.3,
          390.2,
          110.2,
          261.1,
          300.2,
          100.5,
          54,
          450.2,
          490.23,
          401.5,
          140.3,
          63.2,
          340.2,
          231.34,
          79.2,
          250.3,
          450.2,
          310.2,
          450.2,
          390,
          300,
          450.3,
          60,
          100,
          20,
          165,
          245,
          152,
          412,
          239,
          60.34,
          421,
          32,
          324.1,
          345,
          112,
          412,
          324.5,
          342,
          342,
          52,
          354,
          234,
          342,
          231,
          312.4,
          274,
          234,
          352,
          50,
          34,
          321,
          149,
          245,
          357,
          132,
          234,
          315,
          126,
          54,
          134,
          64,
          461,
          354,
          325,
          255,
          394,
          432,
          152,
          56,
          12,
          23,
          23,
          43,
          190,
          3,
          132,
          23,
          43,
          23,
          23,
          109,
          43,
          23,
          123,
          43,
          23,
          242,
          43,
          123,
          43,
          143,
          43,
          150,
          234,
          23,
          121,
          32,
          34,
          43,
          34,
          63,
          42,
          100,
          190,
          23,
          101,
          235,
          32,
          43,
          23,
          139,
          72,
          412,
          312,
          113,
          23,
          43,
          162,
          234,
          102,
          43,
          43,
          142,
          43,
          54
         ],
         "yaxis": "y"
        },
        {
         "hovertemplate": "<b>OLS trendline</b><br>tip = 0.0894114 * total_bill + -0.160638<br>R<sup>2</sup>=0.958499<br><br>group_Family=False<br>Total bill paid by Customer=%{x}<br>Tip (INR)=%{y} <b>(trend)</b><extra></extra>",
         "legendgroup": "False",
         "marker": {
          "color": "#636efa",
          "symbol": "circle"
         },
         "mode": "lines",
         "name": "False",
         "showlegend": false,
         "type": "scatter",
         "x": [
          45.97,
          124.09,
          125.91,
          144.22,
          145.42,
          165.36,
          206.33,
          233.37,
          250.12,
          290.19,
          298.81,
          326.83,
          331.51,
          337.92,
          340.94,
          350.86,
          355.77,
          377.06,
          384.59,
          395.44,
          406.13,
          412.67,
          417.09,
          429.45,
          447.1,
          452.01,
          456,
          459.68,
          478.8,
          489.75,
          496.3,
          512.25,
          555.41,
          557.84,
          569.5,
          574.49,
          586.79,
          624.76,
          633.39,
          646.89,
          668.83,
          717.88,
          728.25,
          744.67,
          785.78,
          860.1,
          876.44,
          895.5,
          948.77,
          948.89,
          973.86,
          1018.52,
          1036.96,
          1080.34,
          1095.29,
          1140.72,
          1153.84,
          1158.43,
          1219.23,
          1298.23,
          1340.66,
          1349.9,
          1360.89,
          1361.87,
          1396.6,
          1408.56,
          1438.12,
          1502.48,
          1537.5,
          1567.23,
          1590.81,
          1660.36,
          1662.15,
          1708.91,
          1726.42,
          1751.37,
          1761.59,
          1820.55,
          1827.34,
          1837.12,
          1997.79,
          2065.65,
          2169.84,
          2312.73,
          2466.63,
          2612.86,
          2641.14,
          2658.05,
          2668.33,
          2696.33,
          2718.83,
          2742.32,
          2788.84,
          2804.94,
          2864.96,
          2894.13,
          3043.59,
          3069.92,
          3073.56,
          3085.35,
          3254.77,
          3260.28,
          3426.25,
          3484.32,
          3516.5,
          3592.92,
          3598.75,
          3623.57,
          3699.23,
          3702.11,
          3826.65,
          3851.77,
          3900.64,
          3902.1,
          3906.77,
          3920.64,
          3968.84,
          4050.55,
          4057.63,
          4075.71,
          4080.31,
          4114.21,
          4177.94,
          4195.72,
          4357.65,
          4383.01,
          4411.23,
          4458.62,
          4495.17,
          4501.24,
          4556.32,
          4625,
          4638.53,
          4662.55,
          4709.59,
          4754.65,
          4835.03,
          4854.01,
          4855.57,
          4937.06
         ],
         "xaxis": "x",
         "y": [
          3.9496047857422836,
          10.934424265842104,
          11.097153035091742,
          12.734275982872434,
          12.841569676883182,
          14.624433225695146,
          18.2876187620455,
          20.705303333754397,
          22.202944479321115,
          25.785659745163407,
          26.556386113807292,
          29.061693868958304,
          29.48013927560023,
          30.053266424440988,
          30.323288887701374,
          31.210250091523573,
          31.64926012285089,
          33.552829077424946,
          34.226097007342396,
          35.196210824022934,
          36.152018814835365,
          36.73676944719395,
          37.13196788680021,
          38.23709293511094,
          39.81520435118572,
          40.254214382513034,
          40.61096591509878,
          40.939999910065076,
          42.64954610130303,
          43.62860105915112,
          44.21424580562646,
          45.64035782185268,
          49.49935434977265,
          49.71662408014443,
          50.75916114028221,
          51.20532408454358,
          52.305084448153764,
          55.700035749477244,
          56.47165623223788,
          57.67871028985882,
          59.64039666202204,
          64.02602640471143,
          64.95322274378766,
          66.42135812350142,
          70.09706125748637,
          76.74211737321882,
          78.20309983999853,
          79.90728134653594,
          84.67022724649648,
          84.68095661589756,
          86.91355956543791,
          90.90667321087132,
          92.55541964216985,
          96.43408668065845,
          97.77078728520904,
          101.83274771763269,
          103.00582543881688,
          103.41622381840801,
          108.852437648286,
          115.91593917066038,
          119.70966536805714,
          120.53582681193993,
          121.51845822625504,
          121.60608140969714,
          124.7113397371916,
          125.78070022083207,
          128.42370154996354,
          134.17822000540676,
          137.30940764228714,
          139.9676089114035,
          142.0759299987147,
          148.2944936807544,
          148.4545401076538,
          152.63541771760603,
          154.20101153604622,
          156.43182625735304,
          157.34561088467794,
          162.61730771707278,
          163.22441120235027,
          164.09885480853788,
          178.46458632246055,
          184.53204471876847,
          193.84781970125184,
          206.62381631558188,
          220.38423257246058,
          233.4588633017872,
          235.98741802397385,
          237.49936499540868,
          238.4185143074341,
          240.9220338343516,
          242.93379059705316,
          245.03406465731362,
          249.19348352846367,
          250.63300725644123,
          255.99948018521226,
          258.6076110637903,
          271.9710406528292,
          274.32524312224837,
          274.6507006607476,
          275.7048612044032,
          290.8529425704876,
          291.3455994488203,
          306.18521144462375,
          311.37733212062733,
          314.25459134834887,
          321.08741142860015,
          321.6086799586691,
          323.8278711964581,
          330.59273860383587,
          330.8502434694617,
          341.985540679544,
          344.2315553408357,
          348.6010910294235,
          348.73163169046984,
          349.14918298299506,
          350.38931926293594,
          354.69894930570115,
          362.0047557537164,
          362.63778854837983,
          364.25434687147515,
          364.665639365183,
          367.69668622098675,
          373.3948754870743,
          374.9846103866669,
          389.4630002793008,
          391.73047367939466,
          394.25366371688074,
          398.4908705161887,
          401.75885761293273,
          402.3015848818038,
          407.22636543689725,
          413.3671411907792,
          414.5768775907503,
          416.7245396991989,
          420.93045250442026,
          424.95933071452384,
          432.1462199850106,
          433.84324857861407,
          433.982730380828,
          441.2688663182747
         ],
         "yaxis": "y"
        },
        {
         "hovertemplate": "group_Family=True<br>Total bill paid by Customer=%{x}<br>Tip (INR)=%{y}<extra></extra>",
         "legendgroup": "True",
         "marker": {
          "color": "#EF553B",
          "symbol": "circle"
         },
         "mode": "markers",
         "name": "True",
         "orientation": "v",
         "showlegend": true,
         "type": "scatter",
         "x": [
          4763.43,
          3713.57,
          1072.76,
          2273.34,
          1597.9,
          3136.89,
          869.57,
          1602.29,
          1958.54,
          2389.14,
          422.96,
          3116.22,
          2576.85,
          365.06,
          4564.74,
          1442.14,
          3380.11,
          1696.21,
          2824.21,
          1087.3,
          1912.42,
          1548.49,
          226.51,
          1920.64,
          756.17,
          4342.9,
          3191.83,
          1788.31,
          505.08,
          1692.72,
          1760.88,
          774.05,
          2570.22,
          2709.12,
          2252.2,
          322.01,
          4078.98,
          3240.34,
          1095.54,
          4484.28,
          426.47,
          651.59,
          220.57,
          1266.12,
          775.35,
          484.55,
          249.37,
          431.12,
          2771.72,
          1739.74,
          395.72,
          336.29,
          352.31,
          279.62,
          1287.18,
          506.64,
          3238.89,
          1876.21,
          458.01,
          343.4
         ],
         "xaxis": "x",
         "y": [
          470.3,
          370.7,
          90.2,
          220.1,
          150.2,
          300.2,
          79.9,
          150.3,
          190.3,
          230.5,
          42.1,
          300.1,
          250.3,
          30,
          400.23,
          140.3,
          300,
          150,
          250.3,
          100,
          191,
          123,
          20,
          165,
          65,
          432,
          312,
          123.5,
          49.4,
          154,
          145,
          43,
          213,
          211,
          256,
          20,
          342,
          245,
          75,
          412,
          43,
          54,
          23,
          224,
          23,
          42,
          24,
          54,
          254,
          171,
          43,
          42,
          24,
          43,
          132,
          64,
          421,
          123,
          64,
          31
         ],
         "yaxis": "y"
        },
        {
         "hovertemplate": "<b>OLS trendline</b><br>tip = 0.0938051 * total_bill + -0.912609<br>R<sup>2</sup>=0.945008<br><br>group_Family=True<br>Total bill paid by Customer=%{x}<br>Tip (INR)=%{y} <b>(trend)</b><extra></extra>",
         "legendgroup": "True",
         "marker": {
          "color": "#EF553B",
          "symbol": "circle"
         },
         "mode": "lines",
         "name": "True",
         "showlegend": false,
         "type": "scatter",
         "x": [
          220.57,
          226.51,
          249.37,
          279.62,
          322.01,
          336.29,
          343.4,
          352.31,
          365.06,
          395.72,
          422.96,
          426.47,
          431.12,
          458.01,
          484.55,
          505.08,
          506.64,
          651.59,
          756.17,
          774.05,
          775.35,
          869.57,
          1072.76,
          1087.3,
          1095.54,
          1266.12,
          1287.18,
          1442.14,
          1548.49,
          1597.9,
          1602.29,
          1692.72,
          1696.21,
          1739.74,
          1760.88,
          1788.31,
          1876.21,
          1912.42,
          1920.64,
          1958.54,
          2252.2,
          2273.34,
          2389.14,
          2570.22,
          2576.85,
          2709.12,
          2771.72,
          2824.21,
          3116.22,
          3136.89,
          3191.83,
          3238.89,
          3240.34,
          3380.11,
          3713.57,
          4078.98,
          4342.9,
          4484.28,
          4564.74,
          4763.43
         ],
         "xaxis": "x",
         "y": [
          19.777982850386252,
          20.33518518267148,
          22.479569916011606,
          25.31717438598269,
          29.293572848200007,
          30.63310976823925,
          31.300064075065507,
          32.13586757349336,
          33.33188268067125,
          36.20794724428491,
          38.76319834385556,
          39.09245426747865,
          39.52864801244941,
          42.0510673247642,
          44.54065484982313,
          46.466473685145644,
          46.61280965120035,
          60.2098598304502,
          70.01999786250228,
          71.69723316574469,
          71.81917980412362,
          80.65749693340213,
          99.7177565120277,
          101.08168275974272,
          101.8546368368522,
          117.85591189429572,
          119.83144743603428,
          134.36748673080183,
          144.34365980126213,
          148.97857011072563,
          149.3903745280206,
          157.87317030387135,
          158.20055012536554,
          162.28388640893053,
          164.2669263591847,
          166.84000042897995,
          175.08546928552403,
          178.48215218990924,
          179.2532301648898,
          182.8084436991676,
          210.35525125790173,
          212.3382912081559,
          223.20092253452452,
          240.18715120964396,
          240.80907906537647,
          253.21668049489958,
          259.0888801583769,
          264.012710195692,
          291.4047393287914,
          293.3436908790162,
          298.4973434271224,
          302.9118117364394,
          303.0478291407851,
          316.1589688686482,
          347.4392196639062,
          381.7165436100924,
          406.47358730314255,
          419.73575325238255,
          427.28331211697343,
          445.9214487165951
         ],
         "yaxis": "y"
        }
       ],
       "layout": {
        "height": 400,
        "legend": {
         "title": {
          "text": "group_Family"
         },
         "tracegroupgap": 0
        },
        "template": {
         "data": {
          "bar": [
           {
            "error_x": {
             "color": "#2a3f5f"
            },
            "error_y": {
             "color": "#2a3f5f"
            },
            "marker": {
             "line": {
              "color": "#E5ECF6",
              "width": 0.5
             },
             "pattern": {
              "fillmode": "overlay",
              "size": 10,
              "solidity": 0.2
             }
            },
            "type": "bar"
           }
          ],
          "barpolar": [
           {
            "marker": {
             "line": {
              "color": "#E5ECF6",
              "width": 0.5
             },
             "pattern": {
              "fillmode": "overlay",
              "size": 10,
              "solidity": 0.2
             }
            },
            "type": "barpolar"
           }
          ],
          "carpet": [
           {
            "aaxis": {
             "endlinecolor": "#2a3f5f",
             "gridcolor": "white",
             "linecolor": "white",
             "minorgridcolor": "white",
             "startlinecolor": "#2a3f5f"
            },
            "baxis": {
             "endlinecolor": "#2a3f5f",
             "gridcolor": "white",
             "linecolor": "white",
             "minorgridcolor": "white",
             "startlinecolor": "#2a3f5f"
            },
            "type": "carpet"
           }
          ],
          "choropleth": [
           {
            "colorbar": {
             "outlinewidth": 0,
             "ticks": ""
            },
            "type": "choropleth"
           }
          ],
          "contour": [
           {
            "colorbar": {
             "outlinewidth": 0,
             "ticks": ""
            },
            "colorscale": [
             [
              0,
              "#0d0887"
             ],
             [
              0.1111111111111111,
              "#46039f"
             ],
             [
              0.2222222222222222,
              "#7201a8"
             ],
             [
              0.3333333333333333,
              "#9c179e"
             ],
             [
              0.4444444444444444,
              "#bd3786"
             ],
             [
              0.5555555555555556,
              "#d8576b"
             ],
             [
              0.6666666666666666,
              "#ed7953"
             ],
             [
              0.7777777777777778,
              "#fb9f3a"
             ],
             [
              0.8888888888888888,
              "#fdca26"
             ],
             [
              1,
              "#f0f921"
             ]
            ],
            "type": "contour"
           }
          ],
          "contourcarpet": [
           {
            "colorbar": {
             "outlinewidth": 0,
             "ticks": ""
            },
            "type": "contourcarpet"
           }
          ],
          "heatmap": [
           {
            "colorbar": {
             "outlinewidth": 0,
             "ticks": ""
            },
            "colorscale": [
             [
              0,
              "#0d0887"
             ],
             [
              0.1111111111111111,
              "#46039f"
             ],
             [
              0.2222222222222222,
              "#7201a8"
             ],
             [
              0.3333333333333333,
              "#9c179e"
             ],
             [
              0.4444444444444444,
              "#bd3786"
             ],
             [
              0.5555555555555556,
              "#d8576b"
             ],
             [
              0.6666666666666666,
              "#ed7953"
             ],
             [
              0.7777777777777778,
              "#fb9f3a"
             ],
             [
              0.8888888888888888,
              "#fdca26"
             ],
             [
              1,
              "#f0f921"
             ]
            ],
            "type": "heatmap"
           }
          ],
          "heatmapgl": [
           {
            "colorbar": {
             "outlinewidth": 0,
             "ticks": ""
            },
            "colorscale": [
             [
              0,
              "#0d0887"
             ],
             [
              0.1111111111111111,
              "#46039f"
             ],
             [
              0.2222222222222222,
              "#7201a8"
             ],
             [
              0.3333333333333333,
              "#9c179e"
             ],
             [
              0.4444444444444444,
              "#bd3786"
             ],
             [
              0.5555555555555556,
              "#d8576b"
             ],
             [
              0.6666666666666666,
              "#ed7953"
             ],
             [
              0.7777777777777778,
              "#fb9f3a"
             ],
             [
              0.8888888888888888,
              "#fdca26"
             ],
             [
              1,
              "#f0f921"
             ]
            ],
            "type": "heatmapgl"
           }
          ],
          "histogram": [
           {
            "marker": {
             "pattern": {
              "fillmode": "overlay",
              "size": 10,
              "solidity": 0.2
             }
            },
            "type": "histogram"
           }
          ],
          "histogram2d": [
           {
            "colorbar": {
             "outlinewidth": 0,
             "ticks": ""
            },
            "colorscale": [
             [
              0,
              "#0d0887"
             ],
             [
              0.1111111111111111,
              "#46039f"
             ],
             [
              0.2222222222222222,
              "#7201a8"
             ],
             [
              0.3333333333333333,
              "#9c179e"
             ],
             [
              0.4444444444444444,
              "#bd3786"
             ],
             [
              0.5555555555555556,
              "#d8576b"
             ],
             [
              0.6666666666666666,
              "#ed7953"
             ],
             [
              0.7777777777777778,
              "#fb9f3a"
             ],
             [
              0.8888888888888888,
              "#fdca26"
             ],
             [
              1,
              "#f0f921"
             ]
            ],
            "type": "histogram2d"
           }
          ],
          "histogram2dcontour": [
           {
            "colorbar": {
             "outlinewidth": 0,
             "ticks": ""
            },
            "colorscale": [
             [
              0,
              "#0d0887"
             ],
             [
              0.1111111111111111,
              "#46039f"
             ],
             [
              0.2222222222222222,
              "#7201a8"
             ],
             [
              0.3333333333333333,
              "#9c179e"
             ],
             [
              0.4444444444444444,
              "#bd3786"
             ],
             [
              0.5555555555555556,
              "#d8576b"
             ],
             [
              0.6666666666666666,
              "#ed7953"
             ],
             [
              0.7777777777777778,
              "#fb9f3a"
             ],
             [
              0.8888888888888888,
              "#fdca26"
             ],
             [
              1,
              "#f0f921"
             ]
            ],
            "type": "histogram2dcontour"
           }
          ],
          "mesh3d": [
           {
            "colorbar": {
             "outlinewidth": 0,
             "ticks": ""
            },
            "type": "mesh3d"
           }
          ],
          "parcoords": [
           {
            "line": {
             "colorbar": {
              "outlinewidth": 0,
              "ticks": ""
             }
            },
            "type": "parcoords"
           }
          ],
          "pie": [
           {
            "automargin": true,
            "type": "pie"
           }
          ],
          "scatter": [
           {
            "fillpattern": {
             "fillmode": "overlay",
             "size": 10,
             "solidity": 0.2
            },
            "type": "scatter"
           }
          ],
          "scatter3d": [
           {
            "line": {
             "colorbar": {
              "outlinewidth": 0,
              "ticks": ""
             }
            },
            "marker": {
             "colorbar": {
              "outlinewidth": 0,
              "ticks": ""
             }
            },
            "type": "scatter3d"
           }
          ],
          "scattercarpet": [
           {
            "marker": {
             "colorbar": {
              "outlinewidth": 0,
              "ticks": ""
             }
            },
            "type": "scattercarpet"
           }
          ],
          "scattergeo": [
           {
            "marker": {
             "colorbar": {
              "outlinewidth": 0,
              "ticks": ""
             }
            },
            "type": "scattergeo"
           }
          ],
          "scattergl": [
           {
            "marker": {
             "colorbar": {
              "outlinewidth": 0,
              "ticks": ""
             }
            },
            "type": "scattergl"
           }
          ],
          "scattermapbox": [
           {
            "marker": {
             "colorbar": {
              "outlinewidth": 0,
              "ticks": ""
             }
            },
            "type": "scattermapbox"
           }
          ],
          "scatterpolar": [
           {
            "marker": {
             "colorbar": {
              "outlinewidth": 0,
              "ticks": ""
             }
            },
            "type": "scatterpolar"
           }
          ],
          "scatterpolargl": [
           {
            "marker": {
             "colorbar": {
              "outlinewidth": 0,
              "ticks": ""
             }
            },
            "type": "scatterpolargl"
           }
          ],
          "scatterternary": [
           {
            "marker": {
             "colorbar": {
              "outlinewidth": 0,
              "ticks": ""
             }
            },
            "type": "scatterternary"
           }
          ],
          "surface": [
           {
            "colorbar": {
             "outlinewidth": 0,
             "ticks": ""
            },
            "colorscale": [
             [
              0,
              "#0d0887"
             ],
             [
              0.1111111111111111,
              "#46039f"
             ],
             [
              0.2222222222222222,
              "#7201a8"
             ],
             [
              0.3333333333333333,
              "#9c179e"
             ],
             [
              0.4444444444444444,
              "#bd3786"
             ],
             [
              0.5555555555555556,
              "#d8576b"
             ],
             [
              0.6666666666666666,
              "#ed7953"
             ],
             [
              0.7777777777777778,
              "#fb9f3a"
             ],
             [
              0.8888888888888888,
              "#fdca26"
             ],
             [
              1,
              "#f0f921"
             ]
            ],
            "type": "surface"
           }
          ],
          "table": [
           {
            "cells": {
             "fill": {
              "color": "#EBF0F8"
             },
             "line": {
              "color": "white"
             }
            },
            "header": {
             "fill": {
              "color": "#C8D4E3"
             },
             "line": {
              "color": "white"
             }
            },
            "type": "table"
           }
          ]
         },
         "layout": {
          "annotationdefaults": {
           "arrowcolor": "#2a3f5f",
           "arrowhead": 0,
           "arrowwidth": 1
          },
          "autotypenumbers": "strict",
          "coloraxis": {
           "colorbar": {
            "outlinewidth": 0,
            "ticks": ""
           }
          },
          "colorscale": {
           "diverging": [
            [
             0,
             "#8e0152"
            ],
            [
             0.1,
             "#c51b7d"
            ],
            [
             0.2,
             "#de77ae"
            ],
            [
             0.3,
             "#f1b6da"
            ],
            [
             0.4,
             "#fde0ef"
            ],
            [
             0.5,
             "#f7f7f7"
            ],
            [
             0.6,
             "#e6f5d0"
            ],
            [
             0.7,
             "#b8e186"
            ],
            [
             0.8,
             "#7fbc41"
            ],
            [
             0.9,
             "#4d9221"
            ],
            [
             1,
             "#276419"
            ]
           ],
           "sequential": [
            [
             0,
             "#0d0887"
            ],
            [
             0.1111111111111111,
             "#46039f"
            ],
            [
             0.2222222222222222,
             "#7201a8"
            ],
            [
             0.3333333333333333,
             "#9c179e"
            ],
            [
             0.4444444444444444,
             "#bd3786"
            ],
            [
             0.5555555555555556,
             "#d8576b"
            ],
            [
             0.6666666666666666,
             "#ed7953"
            ],
            [
             0.7777777777777778,
             "#fb9f3a"
            ],
            [
             0.8888888888888888,
             "#fdca26"
            ],
            [
             1,
             "#f0f921"
            ]
           ],
           "sequentialminus": [
            [
             0,
             "#0d0887"
            ],
            [
             0.1111111111111111,
             "#46039f"
            ],
            [
             0.2222222222222222,
             "#7201a8"
            ],
            [
             0.3333333333333333,
             "#9c179e"
            ],
            [
             0.4444444444444444,
             "#bd3786"
            ],
            [
             0.5555555555555556,
             "#d8576b"
            ],
            [
             0.6666666666666666,
             "#ed7953"
            ],
            [
             0.7777777777777778,
             "#fb9f3a"
            ],
            [
             0.8888888888888888,
             "#fdca26"
            ],
            [
             1,
             "#f0f921"
            ]
           ]
          },
          "colorway": [
           "#636efa",
           "#EF553B",
           "#00cc96",
           "#ab63fa",
           "#FFA15A",
           "#19d3f3",
           "#FF6692",
           "#B6E880",
           "#FF97FF",
           "#FECB52"
          ],
          "font": {
           "color": "#2a3f5f"
          },
          "geo": {
           "bgcolor": "white",
           "lakecolor": "white",
           "landcolor": "#E5ECF6",
           "showlakes": true,
           "showland": true,
           "subunitcolor": "white"
          },
          "hoverlabel": {
           "align": "left"
          },
          "hovermode": "closest",
          "mapbox": {
           "style": "light"
          },
          "paper_bgcolor": "white",
          "plot_bgcolor": "#E5ECF6",
          "polar": {
           "angularaxis": {
            "gridcolor": "white",
            "linecolor": "white",
            "ticks": ""
           },
           "bgcolor": "#E5ECF6",
           "radialaxis": {
            "gridcolor": "white",
            "linecolor": "white",
            "ticks": ""
           }
          },
          "scene": {
           "xaxis": {
            "backgroundcolor": "#E5ECF6",
            "gridcolor": "white",
            "gridwidth": 2,
            "linecolor": "white",
            "showbackground": true,
            "ticks": "",
            "zerolinecolor": "white"
           },
           "yaxis": {
            "backgroundcolor": "#E5ECF6",
            "gridcolor": "white",
            "gridwidth": 2,
            "linecolor": "white",
            "showbackground": true,
            "ticks": "",
            "zerolinecolor": "white"
           },
           "zaxis": {
            "backgroundcolor": "#E5ECF6",
            "gridcolor": "white",
            "gridwidth": 2,
            "linecolor": "white",
            "showbackground": true,
            "ticks": "",
            "zerolinecolor": "white"
           }
          },
          "shapedefaults": {
           "line": {
            "color": "#2a3f5f"
           }
          },
          "ternary": {
           "aaxis": {
            "gridcolor": "white",
            "linecolor": "white",
            "ticks": ""
           },
           "baxis": {
            "gridcolor": "white",
            "linecolor": "white",
            "ticks": ""
           },
           "bgcolor": "#E5ECF6",
           "caxis": {
            "gridcolor": "white",
            "linecolor": "white",
            "ticks": ""
           }
          },
          "title": {
           "x": 0.05
          },
          "xaxis": {
           "automargin": true,
           "gridcolor": "white",
           "linecolor": "white",
           "ticks": "",
           "title": {
            "standoff": 15
           },
           "zerolinecolor": "white",
           "zerolinewidth": 2
          },
          "yaxis": {
           "automargin": true,
           "gridcolor": "white",
           "linecolor": "white",
           "ticks": "",
           "title": {
            "standoff": 15
           },
           "zerolinecolor": "white",
           "zerolinewidth": 2
          }
         }
        },
        "title": {
         "text": "Distribution of Tips according to Type of People Group"
        },
        "xaxis": {
         "anchor": "y",
         "domain": [
          0,
          1
         ],
         "title": {
          "text": "Total bill paid by Customer"
         }
        },
        "yaxis": {
         "anchor": "x",
         "domain": [
          0,
          1
         ],
         "title": {
          "text": "Tip (INR)"
         }
        }
       }
      }
     },
     "metadata": {},
     "output_type": "display_data"
    }
   ],
   "source": [
    "fig = px.scatter(data_frame= df, x='total_bill', y='tip', color='group_Family',trendline=\"ols\",\n",
    "             title='Distribution of Tips according to Type of People Group',\n",
    "             labels={'tip': 'Tip (INR)', 'total_bill': 'Total bill paid by Customer'},\n",
    "             height=400)\n",
    "fig.show()"
   ]
  },
  {
   "cell_type": "code",
   "execution_count": 96,
   "id": "ac997191",
   "metadata": {},
   "outputs": [
    {
     "data": {
      "application/vnd.plotly.v1+json": {
       "config": {
        "plotlyServerURL": "https://plot.ly"
       },
       "data": [
        {
         "hovertemplate": "group_Friends=False<br>Total bill paid by Customer=%{x}<br>Tip (INR)=%{y}<extra></extra>",
         "legendgroup": "False",
         "marker": {
          "color": "#636efa",
          "symbol": "circle"
         },
         "mode": "markers",
         "name": "False",
         "orientation": "v",
         "showlegend": true,
         "type": "scatter",
         "x": [
          1997.79,
          4763.43,
          3713.57,
          3073.56,
          948.89,
          948.77,
          478.8,
          4357.65,
          3085.35,
          3598.75,
          298.81,
          4855.57,
          4195.72,
          1219.23,
          1072.76,
          1080.34,
          1660.36,
          2718.83,
          2273.34,
          1597.9,
          3136.89,
          869.57,
          1602.29,
          1958.54,
          2389.14,
          422.96,
          3116.22,
          1018.52,
          512.25,
          4754.65,
          4835.03,
          4080.31,
          1662.15,
          668.83,
          3484.32,
          2312.73,
          785.78,
          2576.85,
          365.06,
          4564.74,
          1442.14,
          3380.11,
          1696.21,
          2696.33,
          2824.21,
          1087.3,
          4709.59,
          4495.17,
          3069.92,
          4625,
          624.76,
          1140.72,
          417.09,
          1761.59,
          1912.42,
          1548.49,
          876.44,
          4050.55,
          557.84,
          4937.06,
          3906.77,
          226.51,
          4114.21,
          3699.23,
          3902.1,
          1920.64,
          756.17,
          4342.9,
          3191.83,
          1788.31,
          505.08,
          1692.72,
          1760.88,
          3260.28,
          774.05,
          3623.57,
          3851.77,
          3900.64,
          2570.22,
          2709.12,
          2252.2,
          322.01,
          717.88,
          350.86,
          3254.77,
          1708.91,
          2641.14,
          4556.32,
          1396.6,
          2169.84,
          3826.65,
          1298.23,
          569.5,
          1590.81,
          973.86,
          4662.55,
          4078.98,
          3240.34,
          4383.01,
          4057.63,
          1095.54,
          4484.28,
          2788.84,
          4501.24,
          1726.42,
          728.25,
          426.47,
          331.51,
          233.37,
          651.59,
          220.57,
          1266.12,
          775.35,
          1820.55,
          45.97,
          290.19,
          145.42,
          484.55,
          489.75,
          1408.56,
          586.79,
          144.22,
          1567.23,
          377.06,
          125.91,
          2612.86,
          1537.5,
          459.68,
          895.5,
          249.37,
          431.12,
          3426.25,
          355.77,
          1340.66,
          395.44,
          165.36,
          456,
          340.94,
          2771.72,
          1739.74,
          1095.29,
          395.72,
          336.29,
          352.31,
          279.62,
          1287.18,
          206.33,
          496.3,
          744.67,
          4638.53,
          4411.23,
          1438.12,
          337.92,
          412.67,
          2864.96,
          2742.32,
          1360.89,
          646.89,
          506.64,
          452.01,
          3238.89,
          1827.34,
          1876.21,
          406.13,
          458.01,
          343.4
         ],
         "xaxis": "x",
         "y": [
          190,
          470.3,
          370.7,
          300.6,
          94.9,
          94.7,
          47.6,
          430.5,
          300.1,
          340,
          20,
          470.3,
          400.3,
          120,
          90.2,
          100,
          150.3,
          250.3,
          220.1,
          150.2,
          300.2,
          79.9,
          150.3,
          190.3,
          230.5,
          42.1,
          300.1,
          100.5,
          54,
          450.2,
          490.23,
          401.5,
          140.3,
          63.2,
          340.2,
          231.34,
          79.2,
          250.3,
          30,
          400.23,
          140.3,
          300,
          150,
          250.3,
          250.3,
          100,
          450.2,
          390,
          300,
          450.3,
          60,
          100,
          20,
          165,
          191,
          123,
          60.34,
          421,
          32,
          324.1,
          345,
          20,
          412,
          342,
          342,
          165,
          65,
          432,
          312,
          123.5,
          49.4,
          154,
          145,
          234,
          43,
          312.4,
          274,
          352,
          213,
          211,
          256,
          20,
          50,
          34,
          321,
          149,
          245,
          357,
          132,
          234,
          315,
          126,
          54,
          134,
          64,
          461,
          342,
          245,
          354,
          325,
          75,
          412,
          255,
          432,
          152,
          56,
          43,
          23,
          43,
          54,
          23,
          224,
          23,
          190,
          3,
          23,
          23,
          42,
          23,
          109,
          43,
          23,
          123,
          43,
          23,
          242,
          123,
          43,
          43,
          24,
          54,
          234,
          23,
          121,
          32,
          34,
          43,
          34,
          254,
          171,
          100,
          43,
          42,
          24,
          43,
          132,
          32,
          43,
          72,
          412,
          312,
          113,
          23,
          43,
          162,
          234,
          102,
          43,
          64,
          43,
          421,
          142,
          123,
          54,
          64,
          31
         ],
         "yaxis": "y"
        },
        {
         "hovertemplate": "<b>OLS trendline</b><br>tip = 0.0905204 * total_bill + 0.12875<br>R<sup>2</sup>=0.955525<br><br>group_Friends=False<br>Total bill paid by Customer=%{x}<br>Tip (INR)=%{y} <b>(trend)</b><extra></extra>",
         "legendgroup": "False",
         "marker": {
          "color": "#636efa",
          "symbol": "circle"
         },
         "mode": "lines",
         "name": "False",
         "showlegend": false,
         "type": "scatter",
         "x": [
          45.97,
          125.91,
          144.22,
          145.42,
          165.36,
          206.33,
          220.57,
          226.51,
          233.37,
          249.37,
          279.62,
          290.19,
          298.81,
          322.01,
          331.51,
          336.29,
          337.92,
          340.94,
          343.4,
          350.86,
          352.31,
          355.77,
          365.06,
          377.06,
          395.44,
          395.72,
          406.13,
          412.67,
          417.09,
          422.96,
          426.47,
          431.12,
          452.01,
          456,
          458.01,
          459.68,
          478.8,
          484.55,
          489.75,
          496.3,
          505.08,
          506.64,
          512.25,
          557.84,
          569.5,
          586.79,
          624.76,
          646.89,
          651.59,
          668.83,
          717.88,
          728.25,
          744.67,
          756.17,
          774.05,
          775.35,
          785.78,
          869.57,
          876.44,
          895.5,
          948.77,
          948.89,
          973.86,
          1018.52,
          1072.76,
          1080.34,
          1087.3,
          1095.29,
          1095.54,
          1140.72,
          1219.23,
          1266.12,
          1287.18,
          1298.23,
          1340.66,
          1360.89,
          1396.6,
          1408.56,
          1438.12,
          1442.14,
          1537.5,
          1548.49,
          1567.23,
          1590.81,
          1597.9,
          1602.29,
          1660.36,
          1662.15,
          1692.72,
          1696.21,
          1708.91,
          1726.42,
          1739.74,
          1760.88,
          1761.59,
          1788.31,
          1820.55,
          1827.34,
          1876.21,
          1912.42,
          1920.64,
          1958.54,
          1997.79,
          2169.84,
          2252.2,
          2273.34,
          2312.73,
          2389.14,
          2570.22,
          2576.85,
          2612.86,
          2641.14,
          2696.33,
          2709.12,
          2718.83,
          2742.32,
          2771.72,
          2788.84,
          2824.21,
          2864.96,
          3069.92,
          3073.56,
          3085.35,
          3116.22,
          3136.89,
          3191.83,
          3238.89,
          3240.34,
          3254.77,
          3260.28,
          3380.11,
          3426.25,
          3484.32,
          3598.75,
          3623.57,
          3699.23,
          3713.57,
          3826.65,
          3851.77,
          3900.64,
          3902.1,
          3906.77,
          4050.55,
          4057.63,
          4078.98,
          4080.31,
          4114.21,
          4195.72,
          4342.9,
          4357.65,
          4383.01,
          4411.23,
          4484.28,
          4495.17,
          4501.24,
          4556.32,
          4564.74,
          4625,
          4638.53,
          4662.55,
          4709.59,
          4754.65,
          4763.43,
          4835.03,
          4855.57,
          4937.06
         ],
         "xaxis": "x",
         "y": [
          4.28997477267755,
          11.526178841715893,
          13.183608119975741,
          13.292232649408387,
          15.097210246814253,
          18.8058327225273,
          20.094843805128072,
          20.632535225819687,
          21.25350545240967,
          22.701832511511665,
          25.440075857626375,
          26.396876921045628,
          27.17716312413683,
          29.27723735983472,
          30.137181551176532,
          30.569869260083255,
          30.71741757922927,
          30.99078931163477,
          31.2134695969717,
          31.888752088278007,
          32.02000672800913,
          32.33320745453993,
          33.174142353231034,
          34.26038764755753,
          35.92415335670095,
          35.949499080235235,
          36.89181687306346,
          37.48382055847141,
          37.88392090854833,
          38.41527589835638,
          38.73300264694688,
          39.1539226984984,
          41.04489471503844,
          41.406071275402,
          41.58801736220168,
          41.73918649899546,
          43.469937334622344,
          43.99042987148712,
          44.461136165695265,
          45.05404505551515,
          45.84881452919737,
          45.99002641745981,
          46.49784609255745,
          50.6246730065862,
          51.68014135090677,
          53.24523977914887,
          56.68230093128029,
          58.68551829490074,
          59.11096436851195,
          60.67153677469435,
          65.1115644152539,
          66.05026139043437,
          67.5366070348378,
          68.57759210856736,
          70.19609759711383,
          70.31377417066588,
          71.25790237231799,
          78.84261013995275,
          79.46448557095468,
          81.18980518010991,
          86.01182908250763,
          86.02269153545089,
          88.28298695206195,
          92.32562985578039,
          97.23545858613615,
          97.92160353038571,
          98.55162580109508,
          99.27488412623414,
          99.2975142365326,
          103.38722776967188,
          110.49398760780298,
          114.73849109538375,
          116.64485158692678,
          117.64510246211908,
          121.48588478197519,
          123.31711330732728,
          126.54959826236052,
          127.63222273903926,
          130.30800698073023,
          130.67189915432962,
          139.3039284265775,
          140.29874807529816,
          141.9951011432714,
          144.12957314662296,
          144.77136307468754,
          145.16874781152862,
          150.42526983165692,
          150.587301421394,
          153.35451130869072,
          153.67042764845735,
          154.82003725161957,
          156.4050501769243,
          157.6107824536267,
          159.52438458046524,
          159.58865409371288,
          162.0073602824132,
          164.92573930650371,
          165.54037310221014,
          169.9641070633548,
          173.241852238985,
          173.98593026559865,
          177.41665498684648,
          180.9695823037061,
          196.54362421111225,
          203.99888774783972,
          205.91248987467827,
          209.47809005330498,
          216.39475696492894,
          232.78619845631576,
          233.38634898143115,
          236.6459900688226,
          239.20590814578534,
          244.2017312952753,
          245.35948773814496,
          246.23844122213748,
          248.36476638578162,
          251.0260673568815,
          252.57577731012069,
          255.77748531514803,
          259.4661932937984,
          278.01926292089496,
          278.34875732684065,
          279.41599332851644,
          282.2103593481713,
          284.0814168676487,
          289.0546099068402,
          293.31450186942396,
          293.4457565091551,
          294.7519664755827,
          295.25073410656097,
          306.09779857482295,
          310.27441173150834,
          315.53093375163667,
          325.88918783745174,
          328.1359051878837,
          334.98468176861223,
          336.2827448953324,
          346.5187963855358,
          348.7926698683259,
          353.21640382947055,
          353.3485636736136,
          353.771294133989,
          366.7863231688443,
          367.42720789249694,
          369.35981931198614,
          369.480211498774,
          372.5488544552464,
          379.9271756169591,
          393.2499741518736,
          394.5851506594832,
          396.88074904815994,
          399.435235898651,
          406.0477541278636,
          407.03352173246486,
          407.5829808105117,
          412.5688467114703,
          413.3310288263227,
          418.7857906126656,
          420.0105321820187,
          422.1848331794956,
          426.4429147332555,
          430.52176581345145,
          431.3165352871337,
          437.7977988766151,
          439.6570887387373,
          447.0335994916262
         ],
         "yaxis": "y"
        },
        {
         "hovertemplate": "group_Friends=True<br>Total bill paid by Customer=%{x}<br>Tip (INR)=%{y}<extra></extra>",
         "legendgroup": "True",
         "marker": {
          "color": "#EF553B",
          "symbol": "circle"
         },
         "mode": "markers",
         "name": "True",
         "orientation": "v",
         "showlegend": true,
         "type": "scatter",
         "x": [
          3968.84,
          1158.43,
          2668.33,
          3043.59,
          4854.01,
          3920.64,
          2065.65,
          1502.48,
          4177.94,
          2804.94,
          1153.84,
          3592.92,
          555.41,
          3702.11,
          4458.62,
          2466.63,
          2894.13,
          4075.71,
          124.09,
          250.12,
          1751.37,
          574.49,
          447.1,
          1349.9,
          1361.87,
          633.39,
          429.45,
          2658.05,
          326.83,
          1036.96,
          3516.5,
          860.1,
          1837.12,
          384.59
         ],
         "xaxis": "x",
         "y": [
          390.2,
          110.2,
          261.1,
          300.2,
          450.2,
          310.2,
          245,
          152,
          412,
          239,
          112,
          324.5,
          52,
          354,
          342,
          231,
          234,
          394,
          12,
          23,
          132,
          43,
          43,
          143,
          150,
          63,
          42,
          190,
          23,
          101,
          235,
          23,
          139,
          43
         ],
         "yaxis": "y"
        },
        {
         "hovertemplate": "<b>OLS trendline</b><br>tip = 0.088698 * total_bill + 1.64645<br>R<sup>2</sup>=0.948465<br><br>group_Friends=True<br>Total bill paid by Customer=%{x}<br>Tip (INR)=%{y} <b>(trend)</b><extra></extra>",
         "legendgroup": "True",
         "marker": {
          "color": "#EF553B",
          "symbol": "circle"
         },
         "mode": "lines",
         "name": "True",
         "showlegend": false,
         "type": "scatter",
         "x": [
          124.09,
          250.12,
          326.83,
          384.59,
          429.45,
          447.1,
          555.41,
          574.49,
          633.39,
          860.1,
          1036.96,
          1153.84,
          1158.43,
          1349.9,
          1361.87,
          1502.48,
          1751.37,
          1837.12,
          2065.65,
          2466.63,
          2658.05,
          2668.33,
          2804.94,
          2894.13,
          3043.59,
          3516.5,
          3592.92,
          3702.11,
          3920.64,
          3968.84,
          4075.71,
          4177.94,
          4458.62,
          4854.01
         ],
         "xaxis": "x",
         "y": [
          12.652976434404282,
          23.831579095238627,
          30.63559885333275,
          35.75879245556866,
          39.7377825005185,
          41.30330132114634,
          50.91017630484044,
          52.60253319422169,
          57.82684245965963,
          77.93555474433593,
          93.62267421267809,
          103.9896906293909,
          104.39681422070434,
          121.3798107411356,
          122.44152520475684,
          134.913343979175,
          156.9893767987819,
          164.59522602647803,
          184.8653685804769,
          220.43147264253633,
          237.41003426545876,
          238.3218491932805,
          250.43887616698981,
          258.34984634329555,
          271.60664197678204,
          313.55278959508854,
          320.33108694763126,
          330.0160161274813,
          349.39917917970797,
          353.67442037824975,
          363.15357031368865,
          372.2211617603053,
          397.11690241604583,
          432.1871849366147
         ],
         "yaxis": "y"
        }
       ],
       "layout": {
        "height": 400,
        "legend": {
         "title": {
          "text": "group_Friends"
         },
         "tracegroupgap": 0
        },
        "template": {
         "data": {
          "bar": [
           {
            "error_x": {
             "color": "#2a3f5f"
            },
            "error_y": {
             "color": "#2a3f5f"
            },
            "marker": {
             "line": {
              "color": "#E5ECF6",
              "width": 0.5
             },
             "pattern": {
              "fillmode": "overlay",
              "size": 10,
              "solidity": 0.2
             }
            },
            "type": "bar"
           }
          ],
          "barpolar": [
           {
            "marker": {
             "line": {
              "color": "#E5ECF6",
              "width": 0.5
             },
             "pattern": {
              "fillmode": "overlay",
              "size": 10,
              "solidity": 0.2
             }
            },
            "type": "barpolar"
           }
          ],
          "carpet": [
           {
            "aaxis": {
             "endlinecolor": "#2a3f5f",
             "gridcolor": "white",
             "linecolor": "white",
             "minorgridcolor": "white",
             "startlinecolor": "#2a3f5f"
            },
            "baxis": {
             "endlinecolor": "#2a3f5f",
             "gridcolor": "white",
             "linecolor": "white",
             "minorgridcolor": "white",
             "startlinecolor": "#2a3f5f"
            },
            "type": "carpet"
           }
          ],
          "choropleth": [
           {
            "colorbar": {
             "outlinewidth": 0,
             "ticks": ""
            },
            "type": "choropleth"
           }
          ],
          "contour": [
           {
            "colorbar": {
             "outlinewidth": 0,
             "ticks": ""
            },
            "colorscale": [
             [
              0,
              "#0d0887"
             ],
             [
              0.1111111111111111,
              "#46039f"
             ],
             [
              0.2222222222222222,
              "#7201a8"
             ],
             [
              0.3333333333333333,
              "#9c179e"
             ],
             [
              0.4444444444444444,
              "#bd3786"
             ],
             [
              0.5555555555555556,
              "#d8576b"
             ],
             [
              0.6666666666666666,
              "#ed7953"
             ],
             [
              0.7777777777777778,
              "#fb9f3a"
             ],
             [
              0.8888888888888888,
              "#fdca26"
             ],
             [
              1,
              "#f0f921"
             ]
            ],
            "type": "contour"
           }
          ],
          "contourcarpet": [
           {
            "colorbar": {
             "outlinewidth": 0,
             "ticks": ""
            },
            "type": "contourcarpet"
           }
          ],
          "heatmap": [
           {
            "colorbar": {
             "outlinewidth": 0,
             "ticks": ""
            },
            "colorscale": [
             [
              0,
              "#0d0887"
             ],
             [
              0.1111111111111111,
              "#46039f"
             ],
             [
              0.2222222222222222,
              "#7201a8"
             ],
             [
              0.3333333333333333,
              "#9c179e"
             ],
             [
              0.4444444444444444,
              "#bd3786"
             ],
             [
              0.5555555555555556,
              "#d8576b"
             ],
             [
              0.6666666666666666,
              "#ed7953"
             ],
             [
              0.7777777777777778,
              "#fb9f3a"
             ],
             [
              0.8888888888888888,
              "#fdca26"
             ],
             [
              1,
              "#f0f921"
             ]
            ],
            "type": "heatmap"
           }
          ],
          "heatmapgl": [
           {
            "colorbar": {
             "outlinewidth": 0,
             "ticks": ""
            },
            "colorscale": [
             [
              0,
              "#0d0887"
             ],
             [
              0.1111111111111111,
              "#46039f"
             ],
             [
              0.2222222222222222,
              "#7201a8"
             ],
             [
              0.3333333333333333,
              "#9c179e"
             ],
             [
              0.4444444444444444,
              "#bd3786"
             ],
             [
              0.5555555555555556,
              "#d8576b"
             ],
             [
              0.6666666666666666,
              "#ed7953"
             ],
             [
              0.7777777777777778,
              "#fb9f3a"
             ],
             [
              0.8888888888888888,
              "#fdca26"
             ],
             [
              1,
              "#f0f921"
             ]
            ],
            "type": "heatmapgl"
           }
          ],
          "histogram": [
           {
            "marker": {
             "pattern": {
              "fillmode": "overlay",
              "size": 10,
              "solidity": 0.2
             }
            },
            "type": "histogram"
           }
          ],
          "histogram2d": [
           {
            "colorbar": {
             "outlinewidth": 0,
             "ticks": ""
            },
            "colorscale": [
             [
              0,
              "#0d0887"
             ],
             [
              0.1111111111111111,
              "#46039f"
             ],
             [
              0.2222222222222222,
              "#7201a8"
             ],
             [
              0.3333333333333333,
              "#9c179e"
             ],
             [
              0.4444444444444444,
              "#bd3786"
             ],
             [
              0.5555555555555556,
              "#d8576b"
             ],
             [
              0.6666666666666666,
              "#ed7953"
             ],
             [
              0.7777777777777778,
              "#fb9f3a"
             ],
             [
              0.8888888888888888,
              "#fdca26"
             ],
             [
              1,
              "#f0f921"
             ]
            ],
            "type": "histogram2d"
           }
          ],
          "histogram2dcontour": [
           {
            "colorbar": {
             "outlinewidth": 0,
             "ticks": ""
            },
            "colorscale": [
             [
              0,
              "#0d0887"
             ],
             [
              0.1111111111111111,
              "#46039f"
             ],
             [
              0.2222222222222222,
              "#7201a8"
             ],
             [
              0.3333333333333333,
              "#9c179e"
             ],
             [
              0.4444444444444444,
              "#bd3786"
             ],
             [
              0.5555555555555556,
              "#d8576b"
             ],
             [
              0.6666666666666666,
              "#ed7953"
             ],
             [
              0.7777777777777778,
              "#fb9f3a"
             ],
             [
              0.8888888888888888,
              "#fdca26"
             ],
             [
              1,
              "#f0f921"
             ]
            ],
            "type": "histogram2dcontour"
           }
          ],
          "mesh3d": [
           {
            "colorbar": {
             "outlinewidth": 0,
             "ticks": ""
            },
            "type": "mesh3d"
           }
          ],
          "parcoords": [
           {
            "line": {
             "colorbar": {
              "outlinewidth": 0,
              "ticks": ""
             }
            },
            "type": "parcoords"
           }
          ],
          "pie": [
           {
            "automargin": true,
            "type": "pie"
           }
          ],
          "scatter": [
           {
            "fillpattern": {
             "fillmode": "overlay",
             "size": 10,
             "solidity": 0.2
            },
            "type": "scatter"
           }
          ],
          "scatter3d": [
           {
            "line": {
             "colorbar": {
              "outlinewidth": 0,
              "ticks": ""
             }
            },
            "marker": {
             "colorbar": {
              "outlinewidth": 0,
              "ticks": ""
             }
            },
            "type": "scatter3d"
           }
          ],
          "scattercarpet": [
           {
            "marker": {
             "colorbar": {
              "outlinewidth": 0,
              "ticks": ""
             }
            },
            "type": "scattercarpet"
           }
          ],
          "scattergeo": [
           {
            "marker": {
             "colorbar": {
              "outlinewidth": 0,
              "ticks": ""
             }
            },
            "type": "scattergeo"
           }
          ],
          "scattergl": [
           {
            "marker": {
             "colorbar": {
              "outlinewidth": 0,
              "ticks": ""
             }
            },
            "type": "scattergl"
           }
          ],
          "scattermapbox": [
           {
            "marker": {
             "colorbar": {
              "outlinewidth": 0,
              "ticks": ""
             }
            },
            "type": "scattermapbox"
           }
          ],
          "scatterpolar": [
           {
            "marker": {
             "colorbar": {
              "outlinewidth": 0,
              "ticks": ""
             }
            },
            "type": "scatterpolar"
           }
          ],
          "scatterpolargl": [
           {
            "marker": {
             "colorbar": {
              "outlinewidth": 0,
              "ticks": ""
             }
            },
            "type": "scatterpolargl"
           }
          ],
          "scatterternary": [
           {
            "marker": {
             "colorbar": {
              "outlinewidth": 0,
              "ticks": ""
             }
            },
            "type": "scatterternary"
           }
          ],
          "surface": [
           {
            "colorbar": {
             "outlinewidth": 0,
             "ticks": ""
            },
            "colorscale": [
             [
              0,
              "#0d0887"
             ],
             [
              0.1111111111111111,
              "#46039f"
             ],
             [
              0.2222222222222222,
              "#7201a8"
             ],
             [
              0.3333333333333333,
              "#9c179e"
             ],
             [
              0.4444444444444444,
              "#bd3786"
             ],
             [
              0.5555555555555556,
              "#d8576b"
             ],
             [
              0.6666666666666666,
              "#ed7953"
             ],
             [
              0.7777777777777778,
              "#fb9f3a"
             ],
             [
              0.8888888888888888,
              "#fdca26"
             ],
             [
              1,
              "#f0f921"
             ]
            ],
            "type": "surface"
           }
          ],
          "table": [
           {
            "cells": {
             "fill": {
              "color": "#EBF0F8"
             },
             "line": {
              "color": "white"
             }
            },
            "header": {
             "fill": {
              "color": "#C8D4E3"
             },
             "line": {
              "color": "white"
             }
            },
            "type": "table"
           }
          ]
         },
         "layout": {
          "annotationdefaults": {
           "arrowcolor": "#2a3f5f",
           "arrowhead": 0,
           "arrowwidth": 1
          },
          "autotypenumbers": "strict",
          "coloraxis": {
           "colorbar": {
            "outlinewidth": 0,
            "ticks": ""
           }
          },
          "colorscale": {
           "diverging": [
            [
             0,
             "#8e0152"
            ],
            [
             0.1,
             "#c51b7d"
            ],
            [
             0.2,
             "#de77ae"
            ],
            [
             0.3,
             "#f1b6da"
            ],
            [
             0.4,
             "#fde0ef"
            ],
            [
             0.5,
             "#f7f7f7"
            ],
            [
             0.6,
             "#e6f5d0"
            ],
            [
             0.7,
             "#b8e186"
            ],
            [
             0.8,
             "#7fbc41"
            ],
            [
             0.9,
             "#4d9221"
            ],
            [
             1,
             "#276419"
            ]
           ],
           "sequential": [
            [
             0,
             "#0d0887"
            ],
            [
             0.1111111111111111,
             "#46039f"
            ],
            [
             0.2222222222222222,
             "#7201a8"
            ],
            [
             0.3333333333333333,
             "#9c179e"
            ],
            [
             0.4444444444444444,
             "#bd3786"
            ],
            [
             0.5555555555555556,
             "#d8576b"
            ],
            [
             0.6666666666666666,
             "#ed7953"
            ],
            [
             0.7777777777777778,
             "#fb9f3a"
            ],
            [
             0.8888888888888888,
             "#fdca26"
            ],
            [
             1,
             "#f0f921"
            ]
           ],
           "sequentialminus": [
            [
             0,
             "#0d0887"
            ],
            [
             0.1111111111111111,
             "#46039f"
            ],
            [
             0.2222222222222222,
             "#7201a8"
            ],
            [
             0.3333333333333333,
             "#9c179e"
            ],
            [
             0.4444444444444444,
             "#bd3786"
            ],
            [
             0.5555555555555556,
             "#d8576b"
            ],
            [
             0.6666666666666666,
             "#ed7953"
            ],
            [
             0.7777777777777778,
             "#fb9f3a"
            ],
            [
             0.8888888888888888,
             "#fdca26"
            ],
            [
             1,
             "#f0f921"
            ]
           ]
          },
          "colorway": [
           "#636efa",
           "#EF553B",
           "#00cc96",
           "#ab63fa",
           "#FFA15A",
           "#19d3f3",
           "#FF6692",
           "#B6E880",
           "#FF97FF",
           "#FECB52"
          ],
          "font": {
           "color": "#2a3f5f"
          },
          "geo": {
           "bgcolor": "white",
           "lakecolor": "white",
           "landcolor": "#E5ECF6",
           "showlakes": true,
           "showland": true,
           "subunitcolor": "white"
          },
          "hoverlabel": {
           "align": "left"
          },
          "hovermode": "closest",
          "mapbox": {
           "style": "light"
          },
          "paper_bgcolor": "white",
          "plot_bgcolor": "#E5ECF6",
          "polar": {
           "angularaxis": {
            "gridcolor": "white",
            "linecolor": "white",
            "ticks": ""
           },
           "bgcolor": "#E5ECF6",
           "radialaxis": {
            "gridcolor": "white",
            "linecolor": "white",
            "ticks": ""
           }
          },
          "scene": {
           "xaxis": {
            "backgroundcolor": "#E5ECF6",
            "gridcolor": "white",
            "gridwidth": 2,
            "linecolor": "white",
            "showbackground": true,
            "ticks": "",
            "zerolinecolor": "white"
           },
           "yaxis": {
            "backgroundcolor": "#E5ECF6",
            "gridcolor": "white",
            "gridwidth": 2,
            "linecolor": "white",
            "showbackground": true,
            "ticks": "",
            "zerolinecolor": "white"
           },
           "zaxis": {
            "backgroundcolor": "#E5ECF6",
            "gridcolor": "white",
            "gridwidth": 2,
            "linecolor": "white",
            "showbackground": true,
            "ticks": "",
            "zerolinecolor": "white"
           }
          },
          "shapedefaults": {
           "line": {
            "color": "#2a3f5f"
           }
          },
          "ternary": {
           "aaxis": {
            "gridcolor": "white",
            "linecolor": "white",
            "ticks": ""
           },
           "baxis": {
            "gridcolor": "white",
            "linecolor": "white",
            "ticks": ""
           },
           "bgcolor": "#E5ECF6",
           "caxis": {
            "gridcolor": "white",
            "linecolor": "white",
            "ticks": ""
           }
          },
          "title": {
           "x": 0.05
          },
          "xaxis": {
           "automargin": true,
           "gridcolor": "white",
           "linecolor": "white",
           "ticks": "",
           "title": {
            "standoff": 15
           },
           "zerolinecolor": "white",
           "zerolinewidth": 2
          },
          "yaxis": {
           "automargin": true,
           "gridcolor": "white",
           "linecolor": "white",
           "ticks": "",
           "title": {
            "standoff": 15
           },
           "zerolinecolor": "white",
           "zerolinewidth": 2
          }
         }
        },
        "title": {
         "text": "Distribution of Tips according to Type of People Group"
        },
        "xaxis": {
         "anchor": "y",
         "domain": [
          0,
          1
         ],
         "title": {
          "text": "Total bill paid by Customer"
         }
        },
        "yaxis": {
         "anchor": "x",
         "domain": [
          0,
          1
         ],
         "title": {
          "text": "Tip (INR)"
         }
        }
       }
      }
     },
     "metadata": {},
     "output_type": "display_data"
    }
   ],
   "source": [
    "fig = px.scatter(data_frame= df, x='total_bill', y='tip', color='group_Friends',trendline=\"ols\",\n",
    "             title='Distribution of Tips according to Type of People Group',\n",
    "             labels={'tip': 'Tip (INR)', 'total_bill': 'Total bill paid by Customer'},\n",
    "             height=400)\n",
    "fig.show()"
   ]
  },
  {
   "cell_type": "code",
   "execution_count": 97,
   "id": "31700547",
   "metadata": {},
   "outputs": [
    {
     "data": {
      "application/vnd.plotly.v1+json": {
       "config": {
        "plotlyServerURL": "https://plot.ly"
       },
       "data": [
        {
         "hovertemplate": "Total bill paid by Customer=%{x}<br>Tip (INR)=%{y}<br>gender=%{marker.color}<extra></extra>",
         "legendgroup": "",
         "marker": {
          "color": [
           1,
           1,
           1,
           0,
           0,
           1,
           1,
           0,
           0,
           1,
           0,
           1,
           1,
           1,
           1,
           1,
           1,
           1,
           0,
           0,
           1,
           1,
           1,
           1,
           0,
           1,
           1,
           1,
           1,
           0,
           0,
           1,
           1,
           0,
           1,
           1,
           1,
           0,
           1,
           0,
           1,
           1,
           1,
           0,
           1,
           0,
           0,
           0,
           1,
           1,
           1,
           1,
           1,
           1,
           1,
           1,
           0,
           1,
           0,
           1,
           1,
           1,
           1,
           0,
           0,
           1,
           0,
           0,
           0,
           1,
           1,
           0,
           1,
           0,
           1,
           1,
           1,
           1,
           1,
           1,
           1,
           1,
           1,
           1,
           1,
           1,
           1,
           1,
           0,
           0,
           0,
           1,
           1,
           0,
           1,
           1,
           1,
           1,
           0,
           1,
           1,
           1,
           1,
           0,
           0,
           1,
           1,
           1,
           1,
           1,
           1,
           0,
           1,
           0,
           0,
           1,
           1,
           1,
           1,
           0,
           0,
           0,
           1,
           0,
           0,
           0,
           1,
           0,
           1,
           0,
           1,
           1,
           0,
           0,
           1,
           0,
           1,
           1,
           1,
           1,
           1,
           0,
           1,
           1,
           0,
           1,
           0,
           0,
           0,
           1,
           1,
           1,
           0,
           1,
           0,
           1,
           0,
           1,
           1,
           1,
           0,
           0,
           1,
           1,
           0,
           0,
           0,
           1,
           0,
           1,
           0,
           1,
           1,
           1,
           1,
           1,
           1,
           1,
           1,
           1,
           1,
           1,
           0,
           1,
           0,
           0,
           1,
           0,
           1,
           1,
           0,
           1,
           0,
           0,
           1,
           1,
           1,
           1,
           0,
           0
          ],
          "coloraxis": "coloraxis",
          "symbol": "circle"
         },
         "mode": "markers",
         "name": "",
         "orientation": "v",
         "showlegend": false,
         "type": "scatter",
         "x": [
          1997.79,
          4763.43,
          3713.57,
          3073.56,
          948.89,
          948.77,
          478.8,
          4357.65,
          3085.35,
          3598.75,
          298.81,
          4855.57,
          4195.72,
          1219.23,
          1072.76,
          1080.34,
          1660.36,
          2718.83,
          2273.34,
          1597.9,
          3136.89,
          869.57,
          1602.29,
          1958.54,
          2389.14,
          3968.84,
          1158.43,
          2668.33,
          3043.59,
          422.96,
          3116.22,
          1018.52,
          512.25,
          4754.65,
          4835.03,
          4080.31,
          1662.15,
          668.83,
          3484.32,
          2312.73,
          785.78,
          2576.85,
          365.06,
          4564.74,
          1442.14,
          3380.11,
          1696.21,
          2696.33,
          2824.21,
          1087.3,
          4854.01,
          3920.64,
          4709.59,
          4495.17,
          3069.92,
          4625,
          624.76,
          1140.72,
          417.09,
          1761.59,
          2065.65,
          1502.48,
          4177.94,
          1912.42,
          1548.49,
          2804.94,
          876.44,
          4050.55,
          557.84,
          4937.06,
          3906.77,
          1153.84,
          226.51,
          4114.21,
          3592.92,
          3699.23,
          3902.1,
          555.41,
          1920.64,
          756.17,
          4342.9,
          3191.83,
          1788.31,
          505.08,
          1692.72,
          1760.88,
          3702.11,
          3260.28,
          4458.62,
          2466.63,
          774.05,
          3623.57,
          3851.77,
          2894.13,
          3900.64,
          2570.22,
          2709.12,
          2252.2,
          322.01,
          717.88,
          350.86,
          3254.77,
          1708.91,
          2641.14,
          4556.32,
          1396.6,
          2169.84,
          3826.65,
          1298.23,
          569.5,
          1590.81,
          973.86,
          4662.55,
          4078.98,
          3240.34,
          4383.01,
          4057.63,
          1095.54,
          4484.28,
          2788.84,
          4075.71,
          4501.24,
          1726.42,
          728.25,
          124.09,
          250.12,
          426.47,
          331.51,
          233.37,
          651.59,
          220.57,
          1266.12,
          775.35,
          1820.55,
          45.97,
          1751.37,
          290.19,
          574.49,
          145.42,
          484.55,
          489.75,
          1408.56,
          586.79,
          144.22,
          1567.23,
          377.06,
          125.91,
          2612.86,
          447.1,
          1537.5,
          459.68,
          1349.9,
          895.5,
          249.37,
          431.12,
          1361.87,
          3426.25,
          355.77,
          1340.66,
          395.44,
          165.36,
          456,
          340.94,
          2771.72,
          633.39,
          429.45,
          1739.74,
          1095.29,
          395.72,
          336.29,
          352.31,
          279.62,
          2658.05,
          1287.18,
          326.83,
          1036.96,
          3516.5,
          206.33,
          496.3,
          860.1,
          1837.12,
          744.67,
          4638.53,
          4411.23,
          1438.12,
          337.92,
          412.67,
          2864.96,
          2742.32,
          1360.89,
          646.89,
          506.64,
          452.01,
          3238.89,
          1827.34,
          1876.21,
          384.59,
          406.13,
          458.01,
          343.4
         ],
         "xaxis": "x",
         "y": [
          190,
          470.3,
          370.7,
          300.6,
          94.9,
          94.7,
          47.6,
          430.5,
          300.1,
          340,
          20,
          470.3,
          400.3,
          120,
          90.2,
          100,
          150.3,
          250.3,
          220.1,
          150.2,
          300.2,
          79.9,
          150.3,
          190.3,
          230.5,
          390.2,
          110.2,
          261.1,
          300.2,
          42.1,
          300.1,
          100.5,
          54,
          450.2,
          490.23,
          401.5,
          140.3,
          63.2,
          340.2,
          231.34,
          79.2,
          250.3,
          30,
          400.23,
          140.3,
          300,
          150,
          250.3,
          250.3,
          100,
          450.2,
          310.2,
          450.2,
          390,
          300,
          450.3,
          60,
          100,
          20,
          165,
          245,
          152,
          412,
          191,
          123,
          239,
          60.34,
          421,
          32,
          324.1,
          345,
          112,
          20,
          412,
          324.5,
          342,
          342,
          52,
          165,
          65,
          432,
          312,
          123.5,
          49.4,
          154,
          145,
          354,
          234,
          342,
          231,
          43,
          312.4,
          274,
          234,
          352,
          213,
          211,
          256,
          20,
          50,
          34,
          321,
          149,
          245,
          357,
          132,
          234,
          315,
          126,
          54,
          134,
          64,
          461,
          342,
          245,
          354,
          325,
          75,
          412,
          255,
          394,
          432,
          152,
          56,
          12,
          23,
          43,
          23,
          43,
          54,
          23,
          224,
          23,
          190,
          3,
          132,
          23,
          43,
          23,
          42,
          23,
          109,
          43,
          23,
          123,
          43,
          23,
          242,
          43,
          123,
          43,
          143,
          43,
          24,
          54,
          150,
          234,
          23,
          121,
          32,
          34,
          43,
          34,
          254,
          63,
          42,
          171,
          100,
          43,
          42,
          24,
          43,
          190,
          132,
          23,
          101,
          235,
          32,
          43,
          23,
          139,
          72,
          412,
          312,
          113,
          23,
          43,
          162,
          234,
          102,
          43,
          64,
          43,
          421,
          142,
          123,
          43,
          54,
          64,
          31
         ],
         "yaxis": "y"
        },
        {
         "hovertemplate": "<b>OLS trendline</b><br>tip = 0.090205 * total_bill + 0.35707<br>R<sup>2</sup>=0.954383<br><br>Total bill paid by Customer=%{x}<br>Tip (INR)=%{y} <b>(trend)</b><extra></extra>",
         "legendgroup": "",
         "marker": {
          "symbol": "circle"
         },
         "mode": "lines",
         "name": "",
         "showlegend": false,
         "type": "scatter",
         "x": [
          45.97,
          124.09,
          125.91,
          144.22,
          145.42,
          165.36,
          206.33,
          220.57,
          226.51,
          233.37,
          249.37,
          250.12,
          279.62,
          290.19,
          298.81,
          322.01,
          326.83,
          331.51,
          336.29,
          337.92,
          340.94,
          343.4,
          350.86,
          352.31,
          355.77,
          365.06,
          377.06,
          384.59,
          395.44,
          395.72,
          406.13,
          412.67,
          417.09,
          422.96,
          426.47,
          429.45,
          431.12,
          447.1,
          452.01,
          456,
          458.01,
          459.68,
          478.8,
          484.55,
          489.75,
          496.3,
          505.08,
          506.64,
          512.25,
          555.41,
          557.84,
          569.5,
          574.49,
          586.79,
          624.76,
          633.39,
          646.89,
          651.59,
          668.83,
          717.88,
          728.25,
          744.67,
          756.17,
          774.05,
          775.35,
          785.78,
          860.1,
          869.57,
          876.44,
          895.5,
          948.77,
          948.89,
          973.86,
          1018.52,
          1036.96,
          1072.76,
          1080.34,
          1087.3,
          1095.29,
          1095.54,
          1140.72,
          1153.84,
          1158.43,
          1219.23,
          1266.12,
          1287.18,
          1298.23,
          1340.66,
          1349.9,
          1360.89,
          1361.87,
          1396.6,
          1408.56,
          1438.12,
          1442.14,
          1502.48,
          1537.5,
          1548.49,
          1567.23,
          1590.81,
          1597.9,
          1602.29,
          1660.36,
          1662.15,
          1692.72,
          1696.21,
          1708.91,
          1726.42,
          1739.74,
          1751.37,
          1760.88,
          1761.59,
          1788.31,
          1820.55,
          1827.34,
          1837.12,
          1876.21,
          1912.42,
          1920.64,
          1958.54,
          1997.79,
          2065.65,
          2169.84,
          2252.2,
          2273.34,
          2312.73,
          2389.14,
          2466.63,
          2570.22,
          2576.85,
          2612.86,
          2641.14,
          2658.05,
          2668.33,
          2696.33,
          2709.12,
          2718.83,
          2742.32,
          2771.72,
          2788.84,
          2804.94,
          2824.21,
          2864.96,
          2894.13,
          3043.59,
          3069.92,
          3073.56,
          3085.35,
          3116.22,
          3136.89,
          3191.83,
          3238.89,
          3240.34,
          3254.77,
          3260.28,
          3380.11,
          3426.25,
          3484.32,
          3516.5,
          3592.92,
          3598.75,
          3623.57,
          3699.23,
          3702.11,
          3713.57,
          3826.65,
          3851.77,
          3900.64,
          3902.1,
          3906.77,
          3920.64,
          3968.84,
          4050.55,
          4057.63,
          4075.71,
          4078.98,
          4080.31,
          4114.21,
          4177.94,
          4195.72,
          4342.9,
          4357.65,
          4383.01,
          4411.23,
          4458.62,
          4484.28,
          4495.17,
          4501.24,
          4556.32,
          4564.74,
          4625,
          4638.53,
          4662.55,
          4709.59,
          4754.65,
          4763.43,
          4835.03,
          4854.01,
          4855.57,
          4937.06
         ],
         "xaxis": "x",
         "y": [
          4.5037939057680845,
          11.550608758076132,
          11.714781863954276,
          13.366435473090993,
          13.474681476966692,
          15.273369241367902,
          18.96906822369075,
          20.253587469682383,
          20.789405188867097,
          21.408211511023183,
          22.851491562699177,
          22.91914531512149,
          25.580192910399106,
          26.53365979453756,
          27.311226922378,
          29.403982997308194,
          29.838771112875587,
          30.260930527990816,
          30.692110443429023,
          30.839144598693515,
          31.111563708447356,
          31.33346801639254,
          32.00639734048647,
          32.13719459516961,
          32.44930390634455,
          33.28730838634892,
          34.36976842510592,
          35.04901209942593,
          36.02773638446872,
          36.05299378537305,
          36.99202786899474,
          37.581968590117306,
          37.9806747043928,
          38.510178073351426,
          38.82679763468785,
          39.095608544312505,
          39.24625089970619,
          40.68772685131759,
          41.13063341717566,
          41.49055138006236,
          41.671863436554155,
          41.82250579194784,
          43.547225453700655,
          44.06590422227171,
          44.53497023906641,
          45.12581301022127,
          45.91781293857847,
          46.05853274361689,
          46.56458281173578,
          50.45783075113177,
          50.67702890898007,
          51.72881924663895,
          52.1789422127554,
          53.28846375248132,
          56.71354772511492,
          57.49201690298766,
          58.70978444658928,
          59.13374796176911,
          60.688882217449994,
          65.11343762586921,
          66.04886350936172,
          67.5300296623942,
          68.56738719953633,
          70.18025265728426,
          70.29751916148294,
          71.23835734516922,
          77.94239318520422,
          78.79663456578996,
          79.41634293797833,
          81.13565029953736,
          85.94087082158612,
          85.9516954219737,
          88.20411435262055,
          92.23266979686116,
          93.89605005641775,
          97.12538917204279,
          97.80914309652428,
          98.43696991900335,
          99.15770789480905,
          99.18025914561649,
          103.25572119153658,
          104.43921083391089,
          104.85325179873546,
          110.33771599510423,
          114.56742859654719,
          116.46714596456573,
          117.46391125025445,
          121.29130953729275,
          122.12480376713563,
          123.11615675263059,
          123.20455765579572,
          126.33737741796493,
          127.41622925659274,
          130.08268915206412,
          130.44531326504773,
          135.88828315993084,
          139.04726237303666,
          140.03861535853162,
          141.72905711905713,
          143.85609109521462,
          144.49564456811356,
          144.89164453229213,
          150.1298490698437,
          150.29131602562498,
          153.0488829743584,
          153.36369843563023,
          154.50930197664806,
          156.088791583201,
          157.29032222622124,
          158.33940641378322,
          159.19725599449816,
          159.26130154679126,
          161.67157923309017,
          164.5797885372173,
          165.1922805091473,
          166.07448544073426,
          169.6005990169852,
          172.86692218393443,
          173.60840731048296,
          177.02717693289048,
          180.56772330965816,
          186.68903482882897,
          196.0874941153366,
          203.51677818133876,
          205.4237119496157,
          208.97688702683553,
          215.8694513236207,
          222.859437023894,
          232.20377330846375,
          232.80183247987702,
          236.05011464618033,
          238.60111213751762,
          240.12647874213272,
          241.05378617533452,
          243.5795262657675,
          244.733248257076,
          245.60913883843688,
          247.72805436430372,
          250.38008145925832,
          251.92439111455167,
          253.37669166655064,
          255.11494207878792,
          258.7907959604002,
          261.42207590461203,
          274.90411568733043,
          277.2792134223697,
          277.607559634126,
          278.67107662220474,
          281.4557050719071,
          283.32024248866605,
          288.2761053661085,
          292.5211528181005,
          292.6519500727837,
          293.95360826938895,
          294.4506378371849,
          305.2599033742058,
          309.42196222322644,
          314.660166760778,
          317.56296376471136,
          324.4564301115288,
          324.9823252803582,
          327.22121346052063,
          334.0461240048835,
          334.30591441418517,
          335.33966375119815,
          345.5400455164182,
          347.8059951975495,
          352.2143137053874,
          352.3460130101028,
          352.7672703751858,
          354.0184137699824,
          358.36629492565635,
          365.7369457395592,
          366.37559716242583,
          368.0065036208197,
          368.301473981381,
          368.4214466356765,
          371.47939624516505,
          377.22816110099694,
          378.83200605842194,
          392.10837843377647,
          393.4389022314153,
          395.7265011133218,
          398.27208630446523,
          402.54690140752314,
          404.86156179039847,
          405.8438942755705,
          406.39143864517507,
          411.3599302230697,
          412.11945635026416,
          417.5552098448889,
          418.7756835385874,
          420.94240771616603,
          425.1856510680934,
          429.2502885136259,
          430.04228844198315,
          436.5009666732332,
          438.21305763453387,
          438.35377743957224,
          445.7045831527646
         ],
         "yaxis": "y"
        }
       ],
       "layout": {
        "coloraxis": {
         "colorbar": {
          "title": {
           "text": "gender"
          }
         },
         "colorscale": [
          [
           0,
           "#0d0887"
          ],
          [
           0.1111111111111111,
           "#46039f"
          ],
          [
           0.2222222222222222,
           "#7201a8"
          ],
          [
           0.3333333333333333,
           "#9c179e"
          ],
          [
           0.4444444444444444,
           "#bd3786"
          ],
          [
           0.5555555555555556,
           "#d8576b"
          ],
          [
           0.6666666666666666,
           "#ed7953"
          ],
          [
           0.7777777777777778,
           "#fb9f3a"
          ],
          [
           0.8888888888888888,
           "#fdca26"
          ],
          [
           1,
           "#f0f921"
          ]
         ]
        },
        "height": 400,
        "legend": {
         "tracegroupgap": 0
        },
        "template": {
         "data": {
          "bar": [
           {
            "error_x": {
             "color": "#2a3f5f"
            },
            "error_y": {
             "color": "#2a3f5f"
            },
            "marker": {
             "line": {
              "color": "#E5ECF6",
              "width": 0.5
             },
             "pattern": {
              "fillmode": "overlay",
              "size": 10,
              "solidity": 0.2
             }
            },
            "type": "bar"
           }
          ],
          "barpolar": [
           {
            "marker": {
             "line": {
              "color": "#E5ECF6",
              "width": 0.5
             },
             "pattern": {
              "fillmode": "overlay",
              "size": 10,
              "solidity": 0.2
             }
            },
            "type": "barpolar"
           }
          ],
          "carpet": [
           {
            "aaxis": {
             "endlinecolor": "#2a3f5f",
             "gridcolor": "white",
             "linecolor": "white",
             "minorgridcolor": "white",
             "startlinecolor": "#2a3f5f"
            },
            "baxis": {
             "endlinecolor": "#2a3f5f",
             "gridcolor": "white",
             "linecolor": "white",
             "minorgridcolor": "white",
             "startlinecolor": "#2a3f5f"
            },
            "type": "carpet"
           }
          ],
          "choropleth": [
           {
            "colorbar": {
             "outlinewidth": 0,
             "ticks": ""
            },
            "type": "choropleth"
           }
          ],
          "contour": [
           {
            "colorbar": {
             "outlinewidth": 0,
             "ticks": ""
            },
            "colorscale": [
             [
              0,
              "#0d0887"
             ],
             [
              0.1111111111111111,
              "#46039f"
             ],
             [
              0.2222222222222222,
              "#7201a8"
             ],
             [
              0.3333333333333333,
              "#9c179e"
             ],
             [
              0.4444444444444444,
              "#bd3786"
             ],
             [
              0.5555555555555556,
              "#d8576b"
             ],
             [
              0.6666666666666666,
              "#ed7953"
             ],
             [
              0.7777777777777778,
              "#fb9f3a"
             ],
             [
              0.8888888888888888,
              "#fdca26"
             ],
             [
              1,
              "#f0f921"
             ]
            ],
            "type": "contour"
           }
          ],
          "contourcarpet": [
           {
            "colorbar": {
             "outlinewidth": 0,
             "ticks": ""
            },
            "type": "contourcarpet"
           }
          ],
          "heatmap": [
           {
            "colorbar": {
             "outlinewidth": 0,
             "ticks": ""
            },
            "colorscale": [
             [
              0,
              "#0d0887"
             ],
             [
              0.1111111111111111,
              "#46039f"
             ],
             [
              0.2222222222222222,
              "#7201a8"
             ],
             [
              0.3333333333333333,
              "#9c179e"
             ],
             [
              0.4444444444444444,
              "#bd3786"
             ],
             [
              0.5555555555555556,
              "#d8576b"
             ],
             [
              0.6666666666666666,
              "#ed7953"
             ],
             [
              0.7777777777777778,
              "#fb9f3a"
             ],
             [
              0.8888888888888888,
              "#fdca26"
             ],
             [
              1,
              "#f0f921"
             ]
            ],
            "type": "heatmap"
           }
          ],
          "heatmapgl": [
           {
            "colorbar": {
             "outlinewidth": 0,
             "ticks": ""
            },
            "colorscale": [
             [
              0,
              "#0d0887"
             ],
             [
              0.1111111111111111,
              "#46039f"
             ],
             [
              0.2222222222222222,
              "#7201a8"
             ],
             [
              0.3333333333333333,
              "#9c179e"
             ],
             [
              0.4444444444444444,
              "#bd3786"
             ],
             [
              0.5555555555555556,
              "#d8576b"
             ],
             [
              0.6666666666666666,
              "#ed7953"
             ],
             [
              0.7777777777777778,
              "#fb9f3a"
             ],
             [
              0.8888888888888888,
              "#fdca26"
             ],
             [
              1,
              "#f0f921"
             ]
            ],
            "type": "heatmapgl"
           }
          ],
          "histogram": [
           {
            "marker": {
             "pattern": {
              "fillmode": "overlay",
              "size": 10,
              "solidity": 0.2
             }
            },
            "type": "histogram"
           }
          ],
          "histogram2d": [
           {
            "colorbar": {
             "outlinewidth": 0,
             "ticks": ""
            },
            "colorscale": [
             [
              0,
              "#0d0887"
             ],
             [
              0.1111111111111111,
              "#46039f"
             ],
             [
              0.2222222222222222,
              "#7201a8"
             ],
             [
              0.3333333333333333,
              "#9c179e"
             ],
             [
              0.4444444444444444,
              "#bd3786"
             ],
             [
              0.5555555555555556,
              "#d8576b"
             ],
             [
              0.6666666666666666,
              "#ed7953"
             ],
             [
              0.7777777777777778,
              "#fb9f3a"
             ],
             [
              0.8888888888888888,
              "#fdca26"
             ],
             [
              1,
              "#f0f921"
             ]
            ],
            "type": "histogram2d"
           }
          ],
          "histogram2dcontour": [
           {
            "colorbar": {
             "outlinewidth": 0,
             "ticks": ""
            },
            "colorscale": [
             [
              0,
              "#0d0887"
             ],
             [
              0.1111111111111111,
              "#46039f"
             ],
             [
              0.2222222222222222,
              "#7201a8"
             ],
             [
              0.3333333333333333,
              "#9c179e"
             ],
             [
              0.4444444444444444,
              "#bd3786"
             ],
             [
              0.5555555555555556,
              "#d8576b"
             ],
             [
              0.6666666666666666,
              "#ed7953"
             ],
             [
              0.7777777777777778,
              "#fb9f3a"
             ],
             [
              0.8888888888888888,
              "#fdca26"
             ],
             [
              1,
              "#f0f921"
             ]
            ],
            "type": "histogram2dcontour"
           }
          ],
          "mesh3d": [
           {
            "colorbar": {
             "outlinewidth": 0,
             "ticks": ""
            },
            "type": "mesh3d"
           }
          ],
          "parcoords": [
           {
            "line": {
             "colorbar": {
              "outlinewidth": 0,
              "ticks": ""
             }
            },
            "type": "parcoords"
           }
          ],
          "pie": [
           {
            "automargin": true,
            "type": "pie"
           }
          ],
          "scatter": [
           {
            "fillpattern": {
             "fillmode": "overlay",
             "size": 10,
             "solidity": 0.2
            },
            "type": "scatter"
           }
          ],
          "scatter3d": [
           {
            "line": {
             "colorbar": {
              "outlinewidth": 0,
              "ticks": ""
             }
            },
            "marker": {
             "colorbar": {
              "outlinewidth": 0,
              "ticks": ""
             }
            },
            "type": "scatter3d"
           }
          ],
          "scattercarpet": [
           {
            "marker": {
             "colorbar": {
              "outlinewidth": 0,
              "ticks": ""
             }
            },
            "type": "scattercarpet"
           }
          ],
          "scattergeo": [
           {
            "marker": {
             "colorbar": {
              "outlinewidth": 0,
              "ticks": ""
             }
            },
            "type": "scattergeo"
           }
          ],
          "scattergl": [
           {
            "marker": {
             "colorbar": {
              "outlinewidth": 0,
              "ticks": ""
             }
            },
            "type": "scattergl"
           }
          ],
          "scattermapbox": [
           {
            "marker": {
             "colorbar": {
              "outlinewidth": 0,
              "ticks": ""
             }
            },
            "type": "scattermapbox"
           }
          ],
          "scatterpolar": [
           {
            "marker": {
             "colorbar": {
              "outlinewidth": 0,
              "ticks": ""
             }
            },
            "type": "scatterpolar"
           }
          ],
          "scatterpolargl": [
           {
            "marker": {
             "colorbar": {
              "outlinewidth": 0,
              "ticks": ""
             }
            },
            "type": "scatterpolargl"
           }
          ],
          "scatterternary": [
           {
            "marker": {
             "colorbar": {
              "outlinewidth": 0,
              "ticks": ""
             }
            },
            "type": "scatterternary"
           }
          ],
          "surface": [
           {
            "colorbar": {
             "outlinewidth": 0,
             "ticks": ""
            },
            "colorscale": [
             [
              0,
              "#0d0887"
             ],
             [
              0.1111111111111111,
              "#46039f"
             ],
             [
              0.2222222222222222,
              "#7201a8"
             ],
             [
              0.3333333333333333,
              "#9c179e"
             ],
             [
              0.4444444444444444,
              "#bd3786"
             ],
             [
              0.5555555555555556,
              "#d8576b"
             ],
             [
              0.6666666666666666,
              "#ed7953"
             ],
             [
              0.7777777777777778,
              "#fb9f3a"
             ],
             [
              0.8888888888888888,
              "#fdca26"
             ],
             [
              1,
              "#f0f921"
             ]
            ],
            "type": "surface"
           }
          ],
          "table": [
           {
            "cells": {
             "fill": {
              "color": "#EBF0F8"
             },
             "line": {
              "color": "white"
             }
            },
            "header": {
             "fill": {
              "color": "#C8D4E3"
             },
             "line": {
              "color": "white"
             }
            },
            "type": "table"
           }
          ]
         },
         "layout": {
          "annotationdefaults": {
           "arrowcolor": "#2a3f5f",
           "arrowhead": 0,
           "arrowwidth": 1
          },
          "autotypenumbers": "strict",
          "coloraxis": {
           "colorbar": {
            "outlinewidth": 0,
            "ticks": ""
           }
          },
          "colorscale": {
           "diverging": [
            [
             0,
             "#8e0152"
            ],
            [
             0.1,
             "#c51b7d"
            ],
            [
             0.2,
             "#de77ae"
            ],
            [
             0.3,
             "#f1b6da"
            ],
            [
             0.4,
             "#fde0ef"
            ],
            [
             0.5,
             "#f7f7f7"
            ],
            [
             0.6,
             "#e6f5d0"
            ],
            [
             0.7,
             "#b8e186"
            ],
            [
             0.8,
             "#7fbc41"
            ],
            [
             0.9,
             "#4d9221"
            ],
            [
             1,
             "#276419"
            ]
           ],
           "sequential": [
            [
             0,
             "#0d0887"
            ],
            [
             0.1111111111111111,
             "#46039f"
            ],
            [
             0.2222222222222222,
             "#7201a8"
            ],
            [
             0.3333333333333333,
             "#9c179e"
            ],
            [
             0.4444444444444444,
             "#bd3786"
            ],
            [
             0.5555555555555556,
             "#d8576b"
            ],
            [
             0.6666666666666666,
             "#ed7953"
            ],
            [
             0.7777777777777778,
             "#fb9f3a"
            ],
            [
             0.8888888888888888,
             "#fdca26"
            ],
            [
             1,
             "#f0f921"
            ]
           ],
           "sequentialminus": [
            [
             0,
             "#0d0887"
            ],
            [
             0.1111111111111111,
             "#46039f"
            ],
            [
             0.2222222222222222,
             "#7201a8"
            ],
            [
             0.3333333333333333,
             "#9c179e"
            ],
            [
             0.4444444444444444,
             "#bd3786"
            ],
            [
             0.5555555555555556,
             "#d8576b"
            ],
            [
             0.6666666666666666,
             "#ed7953"
            ],
            [
             0.7777777777777778,
             "#fb9f3a"
            ],
            [
             0.8888888888888888,
             "#fdca26"
            ],
            [
             1,
             "#f0f921"
            ]
           ]
          },
          "colorway": [
           "#636efa",
           "#EF553B",
           "#00cc96",
           "#ab63fa",
           "#FFA15A",
           "#19d3f3",
           "#FF6692",
           "#B6E880",
           "#FF97FF",
           "#FECB52"
          ],
          "font": {
           "color": "#2a3f5f"
          },
          "geo": {
           "bgcolor": "white",
           "lakecolor": "white",
           "landcolor": "#E5ECF6",
           "showlakes": true,
           "showland": true,
           "subunitcolor": "white"
          },
          "hoverlabel": {
           "align": "left"
          },
          "hovermode": "closest",
          "mapbox": {
           "style": "light"
          },
          "paper_bgcolor": "white",
          "plot_bgcolor": "#E5ECF6",
          "polar": {
           "angularaxis": {
            "gridcolor": "white",
            "linecolor": "white",
            "ticks": ""
           },
           "bgcolor": "#E5ECF6",
           "radialaxis": {
            "gridcolor": "white",
            "linecolor": "white",
            "ticks": ""
           }
          },
          "scene": {
           "xaxis": {
            "backgroundcolor": "#E5ECF6",
            "gridcolor": "white",
            "gridwidth": 2,
            "linecolor": "white",
            "showbackground": true,
            "ticks": "",
            "zerolinecolor": "white"
           },
           "yaxis": {
            "backgroundcolor": "#E5ECF6",
            "gridcolor": "white",
            "gridwidth": 2,
            "linecolor": "white",
            "showbackground": true,
            "ticks": "",
            "zerolinecolor": "white"
           },
           "zaxis": {
            "backgroundcolor": "#E5ECF6",
            "gridcolor": "white",
            "gridwidth": 2,
            "linecolor": "white",
            "showbackground": true,
            "ticks": "",
            "zerolinecolor": "white"
           }
          },
          "shapedefaults": {
           "line": {
            "color": "#2a3f5f"
           }
          },
          "ternary": {
           "aaxis": {
            "gridcolor": "white",
            "linecolor": "white",
            "ticks": ""
           },
           "baxis": {
            "gridcolor": "white",
            "linecolor": "white",
            "ticks": ""
           },
           "bgcolor": "#E5ECF6",
           "caxis": {
            "gridcolor": "white",
            "linecolor": "white",
            "ticks": ""
           }
          },
          "title": {
           "x": 0.05
          },
          "xaxis": {
           "automargin": true,
           "gridcolor": "white",
           "linecolor": "white",
           "ticks": "",
           "title": {
            "standoff": 15
           },
           "zerolinecolor": "white",
           "zerolinewidth": 2
          },
          "yaxis": {
           "automargin": true,
           "gridcolor": "white",
           "linecolor": "white",
           "ticks": "",
           "title": {
            "standoff": 15
           },
           "zerolinecolor": "white",
           "zerolinewidth": 2
          }
         }
        },
        "title": {
         "text": "Distribution of Tips wrt Gender"
        },
        "xaxis": {
         "anchor": "y",
         "domain": [
          0,
          1
         ],
         "title": {
          "text": "Total bill paid by Customer"
         }
        },
        "yaxis": {
         "anchor": "x",
         "domain": [
          0,
          1
         ],
         "title": {
          "text": "Tip (INR)"
         }
        }
       }
      }
     },
     "metadata": {},
     "output_type": "display_data"
    }
   ],
   "source": [
    "fig = px.scatter(data_frame= df, x='total_bill', y='tip', color='gender',trendline=\"ols\",\n",
    "             title='Distribution of Tips wrt Gender',\n",
    "             labels={'tip': 'Tip (INR)', 'total_bill': 'Total bill paid by Customer'},\n",
    "             height=400)\n",
    "fig.show()"
   ]
  },
  {
   "cell_type": "code",
   "execution_count": 98,
   "id": "50b909b5",
   "metadata": {},
   "outputs": [
    {
     "data": {
      "application/vnd.plotly.v1+json": {
       "config": {
        "plotlyServerURL": "https://plot.ly"
       },
       "data": [
        {
         "hovertemplate": "timing_Lunch=False<br>Total bill paid by Customer=%{x}<br>Tip (INR)=%{y}<extra></extra>",
         "legendgroup": "False",
         "marker": {
          "color": "#636efa",
          "symbol": "circle"
         },
         "mode": "markers",
         "name": "False",
         "orientation": "v",
         "showlegend": true,
         "type": "scatter",
         "x": [
          1997.79,
          3713.57,
          948.77,
          4357.65,
          3085.35,
          3598.75,
          298.81,
          4855.57,
          4195.72,
          1219.23,
          2718.83,
          2273.34,
          1958.54,
          2389.14,
          3968.84,
          1158.43,
          2668.33,
          3043.59,
          422.96,
          3116.22,
          512.25,
          4754.65,
          4835.03,
          4080.31,
          668.83,
          2312.73,
          2576.85,
          365.06,
          1442.14,
          3380.11,
          2696.33,
          1087.3,
          4709.59,
          4495.17,
          3069.92,
          4625,
          624.76,
          417.09,
          1502.48,
          4177.94,
          1912.42,
          1548.49,
          2804.94,
          876.44,
          557.84,
          4937.06,
          1153.84,
          226.51,
          4114.21,
          3699.23,
          3902.1,
          555.41,
          756.17,
          4342.9,
          3191.83,
          1788.31,
          505.08,
          1692.72,
          1760.88,
          3702.11,
          4458.62,
          2466.63,
          3623.57,
          3851.77,
          2894.13,
          3900.64,
          2709.12,
          322.01,
          717.88,
          3254.77,
          1708.91,
          2641.14,
          1396.6,
          3826.65,
          1590.81,
          973.86,
          3240.34,
          4057.63,
          1095.54,
          4484.28,
          2788.84,
          4501.24,
          728.25,
          250.12,
          233.37,
          651.59,
          220.57,
          1266.12,
          1820.55,
          290.19,
          1408.56,
          586.79,
          144.22,
          1567.23,
          2612.86,
          447.1,
          1537.5,
          1349.9,
          895.5,
          249.37,
          431.12,
          1361.87,
          3426.25,
          355.77,
          1340.66,
          395.44,
          165.36,
          456,
          340.94,
          2771.72,
          1739.74,
          352.31,
          279.62,
          2658.05,
          1287.18,
          326.83,
          3516.5,
          860.1,
          1837.12,
          1438.12,
          337.92,
          412.67,
          2864.96,
          2742.32,
          646.89,
          1827.34,
          1876.21,
          384.59
         ],
         "xaxis": "x",
         "y": [
          190,
          370.7,
          94.7,
          430.5,
          300.1,
          340,
          20,
          470.3,
          400.3,
          120,
          250.3,
          220.1,
          190.3,
          230.5,
          390.2,
          110.2,
          261.1,
          300.2,
          42.1,
          300.1,
          54,
          450.2,
          490.23,
          401.5,
          63.2,
          231.34,
          250.3,
          30,
          140.3,
          300,
          250.3,
          100,
          450.2,
          390,
          300,
          450.3,
          60,
          20,
          152,
          412,
          191,
          123,
          239,
          60.34,
          32,
          324.1,
          112,
          20,
          412,
          342,
          342,
          52,
          65,
          432,
          312,
          123.5,
          49.4,
          154,
          145,
          354,
          342,
          231,
          312.4,
          274,
          234,
          352,
          211,
          20,
          50,
          321,
          149,
          245,
          132,
          315,
          134,
          64,
          245,
          325,
          75,
          412,
          255,
          432,
          56,
          23,
          43,
          54,
          23,
          224,
          190,
          23,
          109,
          43,
          23,
          123,
          242,
          43,
          123,
          143,
          43,
          24,
          54,
          150,
          234,
          23,
          121,
          32,
          34,
          43,
          34,
          254,
          171,
          24,
          43,
          190,
          132,
          23,
          235,
          23,
          139,
          113,
          23,
          43,
          162,
          234,
          43,
          142,
          123,
          43
         ],
         "yaxis": "y"
        },
        {
         "hovertemplate": "<b>OLS trendline</b><br>tip = 0.0907846 * total_bill + -2.07338<br>R<sup>2</sup>=0.952651<br><br>timing_Lunch=False<br>Total bill paid by Customer=%{x}<br>Tip (INR)=%{y} <b>(trend)</b><extra></extra>",
         "legendgroup": "False",
         "marker": {
          "color": "#636efa",
          "symbol": "circle"
         },
         "mode": "lines",
         "name": "False",
         "showlegend": false,
         "type": "scatter",
         "x": [
          144.22,
          165.36,
          220.57,
          226.51,
          233.37,
          249.37,
          250.12,
          279.62,
          290.19,
          298.81,
          322.01,
          326.83,
          337.92,
          340.94,
          352.31,
          355.77,
          365.06,
          384.59,
          395.44,
          412.67,
          417.09,
          422.96,
          431.12,
          447.1,
          456,
          505.08,
          512.25,
          555.41,
          557.84,
          586.79,
          624.76,
          646.89,
          651.59,
          668.83,
          717.88,
          728.25,
          756.17,
          860.1,
          876.44,
          895.5,
          948.77,
          973.86,
          1087.3,
          1095.54,
          1153.84,
          1158.43,
          1219.23,
          1266.12,
          1287.18,
          1340.66,
          1349.9,
          1361.87,
          1396.6,
          1408.56,
          1438.12,
          1442.14,
          1502.48,
          1537.5,
          1548.49,
          1567.23,
          1590.81,
          1692.72,
          1708.91,
          1739.74,
          1760.88,
          1788.31,
          1820.55,
          1827.34,
          1837.12,
          1876.21,
          1912.42,
          1958.54,
          1997.79,
          2273.34,
          2312.73,
          2389.14,
          2466.63,
          2576.85,
          2612.86,
          2641.14,
          2658.05,
          2668.33,
          2696.33,
          2709.12,
          2718.83,
          2742.32,
          2771.72,
          2788.84,
          2804.94,
          2864.96,
          2894.13,
          3043.59,
          3069.92,
          3085.35,
          3116.22,
          3191.83,
          3240.34,
          3254.77,
          3380.11,
          3426.25,
          3516.5,
          3598.75,
          3623.57,
          3699.23,
          3702.11,
          3713.57,
          3826.65,
          3851.77,
          3900.64,
          3902.1,
          3968.84,
          4057.63,
          4080.31,
          4114.21,
          4177.94,
          4195.72,
          4342.9,
          4357.65,
          4458.62,
          4484.28,
          4495.17,
          4501.24,
          4625,
          4709.59,
          4754.65,
          4835.03,
          4855.57,
          4937.06
         ],
         "xaxis": "x",
         "y": [
          11.019579848498951,
          12.938766755521163,
          17.950985730766966,
          18.490246384868755,
          19.113028891120997,
          20.56558284156354,
          20.63367130799054,
          23.311817654118975,
          24.27141110763008,
          25.053974548431,
          27.160177776572688,
          27.597759654143502,
          28.604561111043992,
          28.878730669190027,
          29.910951820223254,
          30.225066612006458,
          31.068455749482162,
          32.84147941524109,
          33.82649256288494,
          35.39071159826776,
          35.7919796270775,
          36.32488535764611,
          37.06568787237181,
          38.5164261303763,
          39.32440926530997,
          43.78011850829247,
          44.43104424733453,
          48.34930852865329,
          48.56991515987676,
          51.19812996395873,
          54.645222057602695,
          56.65428574030854,
          57.08097346325104,
          58.64610034485288,
          63.099086049178304,
          64.04052257830887,
          66.5752292218311,
          76.01047497617445,
          77.49389569806391,
          79.22425059152857,
          84.06034740028322,
          86.33813356382093,
          96.63674107245856,
          97.38480635693648,
          102.67754981386149,
          103.09425122839471,
          108.61395624007636,
          112.87084716109203,
          114.78277129836205,
          119.63793287771625,
          120.47678278409683,
          121.56347470827163,
          124.71642462695098,
          125.80220870490679,
          128.4858021283494,
          128.8507563083981,
          134.32870039400453,
          137.50797785303564,
          138.50570084774589,
          140.2070046622017,
          142.3477060466664,
          151.5995668647664,
          153.06936989337044,
          155.8682597866294,
          157.78744669365162,
          160.27766887244155,
          163.20456508258326,
          163.82099266530233,
          164.70886626751033,
          168.25763713768526,
          171.54494829678055,
          175.73193505893119,
          179.29523146861055,
          204.31093403388823,
          207.88694029063396,
          214.8237932502161,
          221.85869360145318,
          231.86497462756424,
          235.13412886227903,
          237.7015179696862,
          239.23668592606018,
          240.1699518392195,
          242.71192125249394,
          243.87305656662895,
          244.75457524530376,
          246.88710601379725,
          249.5561738977354,
          251.11040662470893,
          252.57203903734174,
          258.02093204393935,
          260.6691194648399,
          274.23778905441134,
          276.6281481491083,
          278.02895486506634,
          280.8314761432014,
          287.69570140526145,
          292.09966341375946,
          293.4096855078148,
          304.78863001709414,
          308.9774324716828,
          317.17074459839773,
          324.6377797498915,
          326.89105406551545,
          333.75981855867064,
          334.0212782697503,
          335.0616700367548,
          345.32759508150747,
          347.60810478370223,
          352.04474925608514,
          352.177294804063,
          358.2362604698465,
          366.29702704858363,
          368.3560222733359,
          371.43362095583603,
          377.2193249096925,
          378.8334754871218,
          392.1951561387551,
          393.53422931181933,
          402.7007525853308,
          405.03028598335305,
          406.018930515873,
          406.56999317082216,
          417.80549797749524,
          425.4849691442412,
          429.5757242071749,
          436.87299211571064,
          438.73770824959126,
          446.135747088439
         ],
         "yaxis": "y"
        },
        {
         "hovertemplate": "timing_Lunch=True<br>Total bill paid by Customer=%{x}<br>Tip (INR)=%{y}<extra></extra>",
         "legendgroup": "True",
         "marker": {
          "color": "#EF553B",
          "symbol": "circle"
         },
         "mode": "markers",
         "name": "True",
         "orientation": "v",
         "showlegend": true,
         "type": "scatter",
         "x": [
          4763.43,
          3073.56,
          948.89,
          478.8,
          1072.76,
          1080.34,
          1660.36,
          1597.9,
          3136.89,
          869.57,
          1602.29,
          1018.52,
          1662.15,
          3484.32,
          785.78,
          4564.74,
          1696.21,
          2824.21,
          4854.01,
          3920.64,
          1140.72,
          1761.59,
          2065.65,
          4050.55,
          3906.77,
          3592.92,
          1920.64,
          3260.28,
          774.05,
          2570.22,
          2252.2,
          350.86,
          4556.32,
          2169.84,
          1298.23,
          569.5,
          4662.55,
          4078.98,
          4383.01,
          4075.71,
          1726.42,
          124.09,
          426.47,
          331.51,
          775.35,
          45.97,
          1751.37,
          574.49,
          145.42,
          484.55,
          489.75,
          377.06,
          125.91,
          459.68,
          633.39,
          429.45,
          1095.29,
          395.72,
          336.29,
          1036.96,
          206.33,
          496.3,
          744.67,
          4638.53,
          4411.23,
          1360.89,
          506.64,
          452.01,
          3238.89,
          406.13,
          458.01,
          343.4
         ],
         "xaxis": "x",
         "y": [
          470.3,
          300.6,
          94.9,
          47.6,
          90.2,
          100,
          150.3,
          150.2,
          300.2,
          79.9,
          150.3,
          100.5,
          140.3,
          340.2,
          79.2,
          400.23,
          150,
          250.3,
          450.2,
          310.2,
          100,
          165,
          245,
          421,
          345,
          324.5,
          165,
          234,
          43,
          213,
          256,
          34,
          357,
          234,
          126,
          54,
          461,
          342,
          354,
          394,
          152,
          12,
          43,
          23,
          23,
          3,
          132,
          43,
          23,
          42,
          23,
          43,
          23,
          43,
          63,
          42,
          100,
          43,
          42,
          101,
          32,
          43,
          72,
          412,
          312,
          102,
          64,
          43,
          421,
          54,
          64,
          31
         ],
         "yaxis": "y"
        },
        {
         "hovertemplate": "<b>OLS trendline</b><br>tip = 0.0895198 * total_bill + 3.78639<br>R<sup>2</sup>=0.957164<br><br>timing_Lunch=True<br>Total bill paid by Customer=%{x}<br>Tip (INR)=%{y} <b>(trend)</b><extra></extra>",
         "legendgroup": "True",
         "marker": {
          "color": "#EF553B",
          "symbol": "circle"
         },
         "mode": "lines",
         "name": "True",
         "showlegend": false,
         "type": "scatter",
         "x": [
          45.97,
          124.09,
          125.91,
          145.42,
          206.33,
          331.51,
          336.29,
          343.4,
          350.86,
          377.06,
          395.72,
          406.13,
          426.47,
          429.45,
          452.01,
          458.01,
          459.68,
          478.8,
          484.55,
          489.75,
          496.3,
          506.64,
          569.5,
          574.49,
          633.39,
          744.67,
          774.05,
          775.35,
          785.78,
          869.57,
          948.89,
          1018.52,
          1036.96,
          1072.76,
          1080.34,
          1095.29,
          1140.72,
          1298.23,
          1360.89,
          1597.9,
          1602.29,
          1660.36,
          1662.15,
          1696.21,
          1726.42,
          1751.37,
          1761.59,
          1920.64,
          2065.65,
          2169.84,
          2252.2,
          2570.22,
          2824.21,
          3073.56,
          3136.89,
          3238.89,
          3260.28,
          3484.32,
          3592.92,
          3906.77,
          3920.64,
          4050.55,
          4075.71,
          4078.98,
          4383.01,
          4411.23,
          4556.32,
          4564.74,
          4638.53,
          4662.55,
          4763.43,
          4854.01
         ],
         "xaxis": "x",
         "y": [
          7.901610387370187,
          14.89489393315989,
          15.057819893904096,
          16.80435038517851,
          22.256998884590324,
          33.46308227248017,
          33.890986718830334,
          34.527472202836535,
          35.19528960237048,
          37.540707279017816,
          39.21114597543917,
          40.14304666299256,
          41.963878553947026,
          42.230647434725995,
          44.250213189884924,
          44.7873317417889,
          44.936829738735504,
          46.64844752413616,
          47.16318613637746,
          47.6286888813609,
          48.21504330052274,
          49.14067760497058,
          54.76788963375118,
          55.214593229417986,
          60.48730701394197,
          70.44906575658763,
          73.07915626574407,
          73.19553195198992,
          74.12922303471632,
          81.6300836120553,
          88.7307908682258,
          94.96405166307136,
          96.61479601258958,
          99.81960337228327,
          100.49816314285528,
          101.83648353468269,
          105.90336617018224,
          120.00362335524798,
          125.61293143229847,
          146.83000943009185,
          147.22300117056824,
          152.42141355541216,
          152.58165392339686,
          155.6306969030384,
          158.3350888118749,
          160.5686067902089,
          161.48349872361868,
          175.72161633700645,
          188.70287653893894,
          198.02994019275138,
          205.40278751521987,
          233.87186116130334,
          256.60898466098496,
          278.9307364805275,
          284.6000227958739,
          293.7310381782414,
          295.6458658157791,
          315.7018725438734,
          325.4237183333353,
          353.51949458584545,
          354.76113363833014,
          366.3906454846376,
          368.6429626122883,
          368.93569222307593,
          396.1523844456367,
          398.6786320347583,
          411.66705381738285,
          412.4208101852214,
          419.02647317605374,
          421.17673777884266,
          430.20749103152144,
          438.3161907700984
         ],
         "yaxis": "y"
        }
       ],
       "layout": {
        "height": 400,
        "legend": {
         "title": {
          "text": "timing_Lunch"
         },
         "tracegroupgap": 0
        },
        "template": {
         "data": {
          "bar": [
           {
            "error_x": {
             "color": "#2a3f5f"
            },
            "error_y": {
             "color": "#2a3f5f"
            },
            "marker": {
             "line": {
              "color": "#E5ECF6",
              "width": 0.5
             },
             "pattern": {
              "fillmode": "overlay",
              "size": 10,
              "solidity": 0.2
             }
            },
            "type": "bar"
           }
          ],
          "barpolar": [
           {
            "marker": {
             "line": {
              "color": "#E5ECF6",
              "width": 0.5
             },
             "pattern": {
              "fillmode": "overlay",
              "size": 10,
              "solidity": 0.2
             }
            },
            "type": "barpolar"
           }
          ],
          "carpet": [
           {
            "aaxis": {
             "endlinecolor": "#2a3f5f",
             "gridcolor": "white",
             "linecolor": "white",
             "minorgridcolor": "white",
             "startlinecolor": "#2a3f5f"
            },
            "baxis": {
             "endlinecolor": "#2a3f5f",
             "gridcolor": "white",
             "linecolor": "white",
             "minorgridcolor": "white",
             "startlinecolor": "#2a3f5f"
            },
            "type": "carpet"
           }
          ],
          "choropleth": [
           {
            "colorbar": {
             "outlinewidth": 0,
             "ticks": ""
            },
            "type": "choropleth"
           }
          ],
          "contour": [
           {
            "colorbar": {
             "outlinewidth": 0,
             "ticks": ""
            },
            "colorscale": [
             [
              0,
              "#0d0887"
             ],
             [
              0.1111111111111111,
              "#46039f"
             ],
             [
              0.2222222222222222,
              "#7201a8"
             ],
             [
              0.3333333333333333,
              "#9c179e"
             ],
             [
              0.4444444444444444,
              "#bd3786"
             ],
             [
              0.5555555555555556,
              "#d8576b"
             ],
             [
              0.6666666666666666,
              "#ed7953"
             ],
             [
              0.7777777777777778,
              "#fb9f3a"
             ],
             [
              0.8888888888888888,
              "#fdca26"
             ],
             [
              1,
              "#f0f921"
             ]
            ],
            "type": "contour"
           }
          ],
          "contourcarpet": [
           {
            "colorbar": {
             "outlinewidth": 0,
             "ticks": ""
            },
            "type": "contourcarpet"
           }
          ],
          "heatmap": [
           {
            "colorbar": {
             "outlinewidth": 0,
             "ticks": ""
            },
            "colorscale": [
             [
              0,
              "#0d0887"
             ],
             [
              0.1111111111111111,
              "#46039f"
             ],
             [
              0.2222222222222222,
              "#7201a8"
             ],
             [
              0.3333333333333333,
              "#9c179e"
             ],
             [
              0.4444444444444444,
              "#bd3786"
             ],
             [
              0.5555555555555556,
              "#d8576b"
             ],
             [
              0.6666666666666666,
              "#ed7953"
             ],
             [
              0.7777777777777778,
              "#fb9f3a"
             ],
             [
              0.8888888888888888,
              "#fdca26"
             ],
             [
              1,
              "#f0f921"
             ]
            ],
            "type": "heatmap"
           }
          ],
          "heatmapgl": [
           {
            "colorbar": {
             "outlinewidth": 0,
             "ticks": ""
            },
            "colorscale": [
             [
              0,
              "#0d0887"
             ],
             [
              0.1111111111111111,
              "#46039f"
             ],
             [
              0.2222222222222222,
              "#7201a8"
             ],
             [
              0.3333333333333333,
              "#9c179e"
             ],
             [
              0.4444444444444444,
              "#bd3786"
             ],
             [
              0.5555555555555556,
              "#d8576b"
             ],
             [
              0.6666666666666666,
              "#ed7953"
             ],
             [
              0.7777777777777778,
              "#fb9f3a"
             ],
             [
              0.8888888888888888,
              "#fdca26"
             ],
             [
              1,
              "#f0f921"
             ]
            ],
            "type": "heatmapgl"
           }
          ],
          "histogram": [
           {
            "marker": {
             "pattern": {
              "fillmode": "overlay",
              "size": 10,
              "solidity": 0.2
             }
            },
            "type": "histogram"
           }
          ],
          "histogram2d": [
           {
            "colorbar": {
             "outlinewidth": 0,
             "ticks": ""
            },
            "colorscale": [
             [
              0,
              "#0d0887"
             ],
             [
              0.1111111111111111,
              "#46039f"
             ],
             [
              0.2222222222222222,
              "#7201a8"
             ],
             [
              0.3333333333333333,
              "#9c179e"
             ],
             [
              0.4444444444444444,
              "#bd3786"
             ],
             [
              0.5555555555555556,
              "#d8576b"
             ],
             [
              0.6666666666666666,
              "#ed7953"
             ],
             [
              0.7777777777777778,
              "#fb9f3a"
             ],
             [
              0.8888888888888888,
              "#fdca26"
             ],
             [
              1,
              "#f0f921"
             ]
            ],
            "type": "histogram2d"
           }
          ],
          "histogram2dcontour": [
           {
            "colorbar": {
             "outlinewidth": 0,
             "ticks": ""
            },
            "colorscale": [
             [
              0,
              "#0d0887"
             ],
             [
              0.1111111111111111,
              "#46039f"
             ],
             [
              0.2222222222222222,
              "#7201a8"
             ],
             [
              0.3333333333333333,
              "#9c179e"
             ],
             [
              0.4444444444444444,
              "#bd3786"
             ],
             [
              0.5555555555555556,
              "#d8576b"
             ],
             [
              0.6666666666666666,
              "#ed7953"
             ],
             [
              0.7777777777777778,
              "#fb9f3a"
             ],
             [
              0.8888888888888888,
              "#fdca26"
             ],
             [
              1,
              "#f0f921"
             ]
            ],
            "type": "histogram2dcontour"
           }
          ],
          "mesh3d": [
           {
            "colorbar": {
             "outlinewidth": 0,
             "ticks": ""
            },
            "type": "mesh3d"
           }
          ],
          "parcoords": [
           {
            "line": {
             "colorbar": {
              "outlinewidth": 0,
              "ticks": ""
             }
            },
            "type": "parcoords"
           }
          ],
          "pie": [
           {
            "automargin": true,
            "type": "pie"
           }
          ],
          "scatter": [
           {
            "fillpattern": {
             "fillmode": "overlay",
             "size": 10,
             "solidity": 0.2
            },
            "type": "scatter"
           }
          ],
          "scatter3d": [
           {
            "line": {
             "colorbar": {
              "outlinewidth": 0,
              "ticks": ""
             }
            },
            "marker": {
             "colorbar": {
              "outlinewidth": 0,
              "ticks": ""
             }
            },
            "type": "scatter3d"
           }
          ],
          "scattercarpet": [
           {
            "marker": {
             "colorbar": {
              "outlinewidth": 0,
              "ticks": ""
             }
            },
            "type": "scattercarpet"
           }
          ],
          "scattergeo": [
           {
            "marker": {
             "colorbar": {
              "outlinewidth": 0,
              "ticks": ""
             }
            },
            "type": "scattergeo"
           }
          ],
          "scattergl": [
           {
            "marker": {
             "colorbar": {
              "outlinewidth": 0,
              "ticks": ""
             }
            },
            "type": "scattergl"
           }
          ],
          "scattermapbox": [
           {
            "marker": {
             "colorbar": {
              "outlinewidth": 0,
              "ticks": ""
             }
            },
            "type": "scattermapbox"
           }
          ],
          "scatterpolar": [
           {
            "marker": {
             "colorbar": {
              "outlinewidth": 0,
              "ticks": ""
             }
            },
            "type": "scatterpolar"
           }
          ],
          "scatterpolargl": [
           {
            "marker": {
             "colorbar": {
              "outlinewidth": 0,
              "ticks": ""
             }
            },
            "type": "scatterpolargl"
           }
          ],
          "scatterternary": [
           {
            "marker": {
             "colorbar": {
              "outlinewidth": 0,
              "ticks": ""
             }
            },
            "type": "scatterternary"
           }
          ],
          "surface": [
           {
            "colorbar": {
             "outlinewidth": 0,
             "ticks": ""
            },
            "colorscale": [
             [
              0,
              "#0d0887"
             ],
             [
              0.1111111111111111,
              "#46039f"
             ],
             [
              0.2222222222222222,
              "#7201a8"
             ],
             [
              0.3333333333333333,
              "#9c179e"
             ],
             [
              0.4444444444444444,
              "#bd3786"
             ],
             [
              0.5555555555555556,
              "#d8576b"
             ],
             [
              0.6666666666666666,
              "#ed7953"
             ],
             [
              0.7777777777777778,
              "#fb9f3a"
             ],
             [
              0.8888888888888888,
              "#fdca26"
             ],
             [
              1,
              "#f0f921"
             ]
            ],
            "type": "surface"
           }
          ],
          "table": [
           {
            "cells": {
             "fill": {
              "color": "#EBF0F8"
             },
             "line": {
              "color": "white"
             }
            },
            "header": {
             "fill": {
              "color": "#C8D4E3"
             },
             "line": {
              "color": "white"
             }
            },
            "type": "table"
           }
          ]
         },
         "layout": {
          "annotationdefaults": {
           "arrowcolor": "#2a3f5f",
           "arrowhead": 0,
           "arrowwidth": 1
          },
          "autotypenumbers": "strict",
          "coloraxis": {
           "colorbar": {
            "outlinewidth": 0,
            "ticks": ""
           }
          },
          "colorscale": {
           "diverging": [
            [
             0,
             "#8e0152"
            ],
            [
             0.1,
             "#c51b7d"
            ],
            [
             0.2,
             "#de77ae"
            ],
            [
             0.3,
             "#f1b6da"
            ],
            [
             0.4,
             "#fde0ef"
            ],
            [
             0.5,
             "#f7f7f7"
            ],
            [
             0.6,
             "#e6f5d0"
            ],
            [
             0.7,
             "#b8e186"
            ],
            [
             0.8,
             "#7fbc41"
            ],
            [
             0.9,
             "#4d9221"
            ],
            [
             1,
             "#276419"
            ]
           ],
           "sequential": [
            [
             0,
             "#0d0887"
            ],
            [
             0.1111111111111111,
             "#46039f"
            ],
            [
             0.2222222222222222,
             "#7201a8"
            ],
            [
             0.3333333333333333,
             "#9c179e"
            ],
            [
             0.4444444444444444,
             "#bd3786"
            ],
            [
             0.5555555555555556,
             "#d8576b"
            ],
            [
             0.6666666666666666,
             "#ed7953"
            ],
            [
             0.7777777777777778,
             "#fb9f3a"
            ],
            [
             0.8888888888888888,
             "#fdca26"
            ],
            [
             1,
             "#f0f921"
            ]
           ],
           "sequentialminus": [
            [
             0,
             "#0d0887"
            ],
            [
             0.1111111111111111,
             "#46039f"
            ],
            [
             0.2222222222222222,
             "#7201a8"
            ],
            [
             0.3333333333333333,
             "#9c179e"
            ],
            [
             0.4444444444444444,
             "#bd3786"
            ],
            [
             0.5555555555555556,
             "#d8576b"
            ],
            [
             0.6666666666666666,
             "#ed7953"
            ],
            [
             0.7777777777777778,
             "#fb9f3a"
            ],
            [
             0.8888888888888888,
             "#fdca26"
            ],
            [
             1,
             "#f0f921"
            ]
           ]
          },
          "colorway": [
           "#636efa",
           "#EF553B",
           "#00cc96",
           "#ab63fa",
           "#FFA15A",
           "#19d3f3",
           "#FF6692",
           "#B6E880",
           "#FF97FF",
           "#FECB52"
          ],
          "font": {
           "color": "#2a3f5f"
          },
          "geo": {
           "bgcolor": "white",
           "lakecolor": "white",
           "landcolor": "#E5ECF6",
           "showlakes": true,
           "showland": true,
           "subunitcolor": "white"
          },
          "hoverlabel": {
           "align": "left"
          },
          "hovermode": "closest",
          "mapbox": {
           "style": "light"
          },
          "paper_bgcolor": "white",
          "plot_bgcolor": "#E5ECF6",
          "polar": {
           "angularaxis": {
            "gridcolor": "white",
            "linecolor": "white",
            "ticks": ""
           },
           "bgcolor": "#E5ECF6",
           "radialaxis": {
            "gridcolor": "white",
            "linecolor": "white",
            "ticks": ""
           }
          },
          "scene": {
           "xaxis": {
            "backgroundcolor": "#E5ECF6",
            "gridcolor": "white",
            "gridwidth": 2,
            "linecolor": "white",
            "showbackground": true,
            "ticks": "",
            "zerolinecolor": "white"
           },
           "yaxis": {
            "backgroundcolor": "#E5ECF6",
            "gridcolor": "white",
            "gridwidth": 2,
            "linecolor": "white",
            "showbackground": true,
            "ticks": "",
            "zerolinecolor": "white"
           },
           "zaxis": {
            "backgroundcolor": "#E5ECF6",
            "gridcolor": "white",
            "gridwidth": 2,
            "linecolor": "white",
            "showbackground": true,
            "ticks": "",
            "zerolinecolor": "white"
           }
          },
          "shapedefaults": {
           "line": {
            "color": "#2a3f5f"
           }
          },
          "ternary": {
           "aaxis": {
            "gridcolor": "white",
            "linecolor": "white",
            "ticks": ""
           },
           "baxis": {
            "gridcolor": "white",
            "linecolor": "white",
            "ticks": ""
           },
           "bgcolor": "#E5ECF6",
           "caxis": {
            "gridcolor": "white",
            "linecolor": "white",
            "ticks": ""
           }
          },
          "title": {
           "x": 0.05
          },
          "xaxis": {
           "automargin": true,
           "gridcolor": "white",
           "linecolor": "white",
           "ticks": "",
           "title": {
            "standoff": 15
           },
           "zerolinecolor": "white",
           "zerolinewidth": 2
          },
          "yaxis": {
           "automargin": true,
           "gridcolor": "white",
           "linecolor": "white",
           "ticks": "",
           "title": {
            "standoff": 15
           },
           "zerolinecolor": "white",
           "zerolinewidth": 2
          }
         }
        },
        "title": {
         "text": "Distribution of Tips by Timing"
        },
        "xaxis": {
         "anchor": "y",
         "domain": [
          0,
          1
         ],
         "title": {
          "text": "Total bill paid by Customer"
         }
        },
        "yaxis": {
         "anchor": "x",
         "domain": [
          0,
          1
         ],
         "title": {
          "text": "Tip (INR)"
         }
        }
       }
      }
     },
     "metadata": {},
     "output_type": "display_data"
    }
   ],
   "source": [
    "fig = px.scatter(data_frame= df, x='total_bill', y='tip', color='timing_Lunch', trendline=\"ols\",\n",
    "             title='Distribution of Tips by Timing',\n",
    "             labels={'tip': 'Tip (INR)', 'total_bill': 'Total bill paid by Customer'},\n",
    "             height=400)\n",
    "fig.show()"
   ]
  },
  {
   "cell_type": "code",
   "execution_count": 99,
   "id": "4ea52416",
   "metadata": {},
   "outputs": [
    {
     "data": {
      "application/vnd.plotly.v1+json": {
       "config": {
        "plotlyServerURL": "https://plot.ly"
       },
       "data": [
        {
         "hovertemplate": "Total bill paid by Customer=%{x}<br>Tip (INR)=%{y}<br>day=%{marker.color}<extra></extra>",
         "legendgroup": "",
         "marker": {
          "color": [
           6,
           6,
           6,
           6,
           6,
           6,
           4,
           5,
           6,
           0,
           1,
           6,
           6,
           6,
           6,
           6,
           6,
           6,
           6,
           6,
           6,
           5,
           5,
           5,
           6,
           5,
           5,
           0,
           5,
           4,
           5,
           5,
           5,
           5,
           5,
           5,
           0,
           4,
           4,
           0,
           6,
           6,
           6,
           6,
           6,
           0,
           0,
           4,
           5,
           5,
           5,
           5,
           4,
           4,
           4,
           5,
           6,
           6,
           6,
           6,
           6,
           6,
           6,
           6,
           6,
           6,
           6,
           6,
           0,
           0,
           0,
           5,
           5,
           5,
           5,
           5,
           5,
           5,
           5,
           6,
           5,
           4,
           5,
           0,
           4,
           0,
           4,
           6,
           6,
           6,
           5,
           5,
           5,
           6,
           0,
           6,
           6,
           6,
           6,
           6,
           0,
           0,
           6,
           5,
           5,
           0,
           5,
           4,
           5,
           5,
           5,
           5,
           5,
           5,
           5,
           5,
           5,
           5,
           6,
           6,
           6,
           6,
           6,
           6,
           6,
           6,
           4,
           5,
           4,
           5,
           5,
           5,
           5,
           5,
           6,
           6,
           6,
           6,
           6,
           6,
           6,
           6,
           6,
           6,
           5,
           5,
           5,
           5,
           6,
           5,
           0,
           0,
           0,
           6,
           0,
           0,
           6,
           4,
           6,
           0,
           6,
           4,
           6,
           0,
           4,
           5,
           0,
           4,
           4,
           5,
           6,
           6,
           0,
           5,
           6,
           5,
           6,
           4,
           6,
           5,
           4,
           4,
           4,
           5,
           0,
           0,
           0,
           5,
           4,
           0,
           5,
           0,
           6,
           0,
           0,
           4,
           5,
           4,
           4,
           4
          ],
          "coloraxis": "coloraxis",
          "symbol": "circle"
         },
         "mode": "markers",
         "name": "",
         "orientation": "v",
         "showlegend": false,
         "type": "scatter",
         "x": [
          1997.79,
          4763.43,
          3713.57,
          3073.56,
          948.89,
          948.77,
          478.8,
          4357.65,
          3085.35,
          3598.75,
          298.81,
          4855.57,
          4195.72,
          1219.23,
          1072.76,
          1080.34,
          1660.36,
          2718.83,
          2273.34,
          1597.9,
          3136.89,
          869.57,
          1602.29,
          1958.54,
          2389.14,
          3968.84,
          1158.43,
          2668.33,
          3043.59,
          422.96,
          3116.22,
          1018.52,
          512.25,
          4754.65,
          4835.03,
          4080.31,
          1662.15,
          668.83,
          3484.32,
          2312.73,
          785.78,
          2576.85,
          365.06,
          4564.74,
          1442.14,
          3380.11,
          1696.21,
          2696.33,
          2824.21,
          1087.3,
          4854.01,
          3920.64,
          4709.59,
          4495.17,
          3069.92,
          4625,
          624.76,
          1140.72,
          417.09,
          1761.59,
          2065.65,
          1502.48,
          4177.94,
          1912.42,
          1548.49,
          2804.94,
          876.44,
          4050.55,
          557.84,
          4937.06,
          3906.77,
          1153.84,
          226.51,
          4114.21,
          3592.92,
          3699.23,
          3902.1,
          555.41,
          1920.64,
          756.17,
          4342.9,
          3191.83,
          1788.31,
          505.08,
          1692.72,
          1760.88,
          3702.11,
          3260.28,
          4458.62,
          2466.63,
          774.05,
          3623.57,
          3851.77,
          2894.13,
          3900.64,
          2570.22,
          2709.12,
          2252.2,
          322.01,
          717.88,
          350.86,
          3254.77,
          1708.91,
          2641.14,
          4556.32,
          1396.6,
          2169.84,
          3826.65,
          1298.23,
          569.5,
          1590.81,
          973.86,
          4662.55,
          4078.98,
          3240.34,
          4383.01,
          4057.63,
          1095.54,
          4484.28,
          2788.84,
          4075.71,
          4501.24,
          1726.42,
          728.25,
          124.09,
          250.12,
          426.47,
          331.51,
          233.37,
          651.59,
          220.57,
          1266.12,
          775.35,
          1820.55,
          45.97,
          1751.37,
          290.19,
          574.49,
          145.42,
          484.55,
          489.75,
          1408.56,
          586.79,
          144.22,
          1567.23,
          377.06,
          125.91,
          2612.86,
          447.1,
          1537.5,
          459.68,
          1349.9,
          895.5,
          249.37,
          431.12,
          1361.87,
          3426.25,
          355.77,
          1340.66,
          395.44,
          165.36,
          456,
          340.94,
          2771.72,
          633.39,
          429.45,
          1739.74,
          1095.29,
          395.72,
          336.29,
          352.31,
          279.62,
          2658.05,
          1287.18,
          326.83,
          1036.96,
          3516.5,
          206.33,
          496.3,
          860.1,
          1837.12,
          744.67,
          4638.53,
          4411.23,
          1438.12,
          337.92,
          412.67,
          2864.96,
          2742.32,
          1360.89,
          646.89,
          506.64,
          452.01,
          3238.89,
          1827.34,
          1876.21,
          384.59,
          406.13,
          458.01,
          343.4
         ],
         "xaxis": "x",
         "y": [
          190,
          470.3,
          370.7,
          300.6,
          94.9,
          94.7,
          47.6,
          430.5,
          300.1,
          340,
          20,
          470.3,
          400.3,
          120,
          90.2,
          100,
          150.3,
          250.3,
          220.1,
          150.2,
          300.2,
          79.9,
          150.3,
          190.3,
          230.5,
          390.2,
          110.2,
          261.1,
          300.2,
          42.1,
          300.1,
          100.5,
          54,
          450.2,
          490.23,
          401.5,
          140.3,
          63.2,
          340.2,
          231.34,
          79.2,
          250.3,
          30,
          400.23,
          140.3,
          300,
          150,
          250.3,
          250.3,
          100,
          450.2,
          310.2,
          450.2,
          390,
          300,
          450.3,
          60,
          100,
          20,
          165,
          245,
          152,
          412,
          191,
          123,
          239,
          60.34,
          421,
          32,
          324.1,
          345,
          112,
          20,
          412,
          324.5,
          342,
          342,
          52,
          165,
          65,
          432,
          312,
          123.5,
          49.4,
          154,
          145,
          354,
          234,
          342,
          231,
          43,
          312.4,
          274,
          234,
          352,
          213,
          211,
          256,
          20,
          50,
          34,
          321,
          149,
          245,
          357,
          132,
          234,
          315,
          126,
          54,
          134,
          64,
          461,
          342,
          245,
          354,
          325,
          75,
          412,
          255,
          394,
          432,
          152,
          56,
          12,
          23,
          43,
          23,
          43,
          54,
          23,
          224,
          23,
          190,
          3,
          132,
          23,
          43,
          23,
          42,
          23,
          109,
          43,
          23,
          123,
          43,
          23,
          242,
          43,
          123,
          43,
          143,
          43,
          24,
          54,
          150,
          234,
          23,
          121,
          32,
          34,
          43,
          34,
          254,
          63,
          42,
          171,
          100,
          43,
          42,
          24,
          43,
          190,
          132,
          23,
          101,
          235,
          32,
          43,
          23,
          139,
          72,
          412,
          312,
          113,
          23,
          43,
          162,
          234,
          102,
          43,
          64,
          43,
          421,
          142,
          123,
          43,
          54,
          64,
          31
         ],
         "yaxis": "y"
        },
        {
         "hovertemplate": "<b>OLS trendline</b><br>tip = 0.090205 * total_bill + 0.35707<br>R<sup>2</sup>=0.954383<br><br>Total bill paid by Customer=%{x}<br>Tip (INR)=%{y} <b>(trend)</b><extra></extra>",
         "legendgroup": "",
         "marker": {
          "symbol": "circle"
         },
         "mode": "lines",
         "name": "",
         "showlegend": false,
         "type": "scatter",
         "x": [
          45.97,
          124.09,
          125.91,
          144.22,
          145.42,
          165.36,
          206.33,
          220.57,
          226.51,
          233.37,
          249.37,
          250.12,
          279.62,
          290.19,
          298.81,
          322.01,
          326.83,
          331.51,
          336.29,
          337.92,
          340.94,
          343.4,
          350.86,
          352.31,
          355.77,
          365.06,
          377.06,
          384.59,
          395.44,
          395.72,
          406.13,
          412.67,
          417.09,
          422.96,
          426.47,
          429.45,
          431.12,
          447.1,
          452.01,
          456,
          458.01,
          459.68,
          478.8,
          484.55,
          489.75,
          496.3,
          505.08,
          506.64,
          512.25,
          555.41,
          557.84,
          569.5,
          574.49,
          586.79,
          624.76,
          633.39,
          646.89,
          651.59,
          668.83,
          717.88,
          728.25,
          744.67,
          756.17,
          774.05,
          775.35,
          785.78,
          860.1,
          869.57,
          876.44,
          895.5,
          948.77,
          948.89,
          973.86,
          1018.52,
          1036.96,
          1072.76,
          1080.34,
          1087.3,
          1095.29,
          1095.54,
          1140.72,
          1153.84,
          1158.43,
          1219.23,
          1266.12,
          1287.18,
          1298.23,
          1340.66,
          1349.9,
          1360.89,
          1361.87,
          1396.6,
          1408.56,
          1438.12,
          1442.14,
          1502.48,
          1537.5,
          1548.49,
          1567.23,
          1590.81,
          1597.9,
          1602.29,
          1660.36,
          1662.15,
          1692.72,
          1696.21,
          1708.91,
          1726.42,
          1739.74,
          1751.37,
          1760.88,
          1761.59,
          1788.31,
          1820.55,
          1827.34,
          1837.12,
          1876.21,
          1912.42,
          1920.64,
          1958.54,
          1997.79,
          2065.65,
          2169.84,
          2252.2,
          2273.34,
          2312.73,
          2389.14,
          2466.63,
          2570.22,
          2576.85,
          2612.86,
          2641.14,
          2658.05,
          2668.33,
          2696.33,
          2709.12,
          2718.83,
          2742.32,
          2771.72,
          2788.84,
          2804.94,
          2824.21,
          2864.96,
          2894.13,
          3043.59,
          3069.92,
          3073.56,
          3085.35,
          3116.22,
          3136.89,
          3191.83,
          3238.89,
          3240.34,
          3254.77,
          3260.28,
          3380.11,
          3426.25,
          3484.32,
          3516.5,
          3592.92,
          3598.75,
          3623.57,
          3699.23,
          3702.11,
          3713.57,
          3826.65,
          3851.77,
          3900.64,
          3902.1,
          3906.77,
          3920.64,
          3968.84,
          4050.55,
          4057.63,
          4075.71,
          4078.98,
          4080.31,
          4114.21,
          4177.94,
          4195.72,
          4342.9,
          4357.65,
          4383.01,
          4411.23,
          4458.62,
          4484.28,
          4495.17,
          4501.24,
          4556.32,
          4564.74,
          4625,
          4638.53,
          4662.55,
          4709.59,
          4754.65,
          4763.43,
          4835.03,
          4854.01,
          4855.57,
          4937.06
         ],
         "xaxis": "x",
         "y": [
          4.5037939057680845,
          11.550608758076132,
          11.714781863954276,
          13.366435473090993,
          13.474681476966692,
          15.273369241367902,
          18.96906822369075,
          20.253587469682383,
          20.789405188867097,
          21.408211511023183,
          22.851491562699177,
          22.91914531512149,
          25.580192910399106,
          26.53365979453756,
          27.311226922378,
          29.403982997308194,
          29.838771112875587,
          30.260930527990816,
          30.692110443429023,
          30.839144598693515,
          31.111563708447356,
          31.33346801639254,
          32.00639734048647,
          32.13719459516961,
          32.44930390634455,
          33.28730838634892,
          34.36976842510592,
          35.04901209942593,
          36.02773638446872,
          36.05299378537305,
          36.99202786899474,
          37.581968590117306,
          37.9806747043928,
          38.510178073351426,
          38.82679763468785,
          39.095608544312505,
          39.24625089970619,
          40.68772685131759,
          41.13063341717566,
          41.49055138006236,
          41.671863436554155,
          41.82250579194784,
          43.547225453700655,
          44.06590422227171,
          44.53497023906641,
          45.12581301022127,
          45.91781293857847,
          46.05853274361689,
          46.56458281173578,
          50.45783075113177,
          50.67702890898007,
          51.72881924663895,
          52.1789422127554,
          53.28846375248132,
          56.71354772511492,
          57.49201690298766,
          58.70978444658928,
          59.13374796176911,
          60.688882217449994,
          65.11343762586921,
          66.04886350936172,
          67.5300296623942,
          68.56738719953633,
          70.18025265728426,
          70.29751916148294,
          71.23835734516922,
          77.94239318520422,
          78.79663456578996,
          79.41634293797833,
          81.13565029953736,
          85.94087082158612,
          85.9516954219737,
          88.20411435262055,
          92.23266979686116,
          93.89605005641775,
          97.12538917204279,
          97.80914309652428,
          98.43696991900335,
          99.15770789480905,
          99.18025914561649,
          103.25572119153658,
          104.43921083391089,
          104.85325179873546,
          110.33771599510423,
          114.56742859654719,
          116.46714596456573,
          117.46391125025445,
          121.29130953729275,
          122.12480376713563,
          123.11615675263059,
          123.20455765579572,
          126.33737741796493,
          127.41622925659274,
          130.08268915206412,
          130.44531326504773,
          135.88828315993084,
          139.04726237303666,
          140.03861535853162,
          141.72905711905713,
          143.85609109521462,
          144.49564456811356,
          144.89164453229213,
          150.1298490698437,
          150.29131602562498,
          153.0488829743584,
          153.36369843563023,
          154.50930197664806,
          156.088791583201,
          157.29032222622124,
          158.33940641378322,
          159.19725599449816,
          159.26130154679126,
          161.67157923309017,
          164.5797885372173,
          165.1922805091473,
          166.07448544073426,
          169.6005990169852,
          172.86692218393443,
          173.60840731048296,
          177.02717693289048,
          180.56772330965816,
          186.68903482882897,
          196.0874941153366,
          203.51677818133876,
          205.4237119496157,
          208.97688702683553,
          215.8694513236207,
          222.859437023894,
          232.20377330846375,
          232.80183247987702,
          236.05011464618033,
          238.60111213751762,
          240.12647874213272,
          241.05378617533452,
          243.5795262657675,
          244.733248257076,
          245.60913883843688,
          247.72805436430372,
          250.38008145925832,
          251.92439111455167,
          253.37669166655064,
          255.11494207878792,
          258.7907959604002,
          261.42207590461203,
          274.90411568733043,
          277.2792134223697,
          277.607559634126,
          278.67107662220474,
          281.4557050719071,
          283.32024248866605,
          288.2761053661085,
          292.5211528181005,
          292.6519500727837,
          293.95360826938895,
          294.4506378371849,
          305.2599033742058,
          309.42196222322644,
          314.660166760778,
          317.56296376471136,
          324.4564301115288,
          324.9823252803582,
          327.22121346052063,
          334.0461240048835,
          334.30591441418517,
          335.33966375119815,
          345.5400455164182,
          347.8059951975495,
          352.2143137053874,
          352.3460130101028,
          352.7672703751858,
          354.0184137699824,
          358.36629492565635,
          365.7369457395592,
          366.37559716242583,
          368.0065036208197,
          368.301473981381,
          368.4214466356765,
          371.47939624516505,
          377.22816110099694,
          378.83200605842194,
          392.10837843377647,
          393.4389022314153,
          395.7265011133218,
          398.27208630446523,
          402.54690140752314,
          404.86156179039847,
          405.8438942755705,
          406.39143864517507,
          411.3599302230697,
          412.11945635026416,
          417.5552098448889,
          418.7756835385874,
          420.94240771616603,
          425.1856510680934,
          429.2502885136259,
          430.04228844198315,
          436.5009666732332,
          438.21305763453387,
          438.35377743957224,
          445.7045831527646
         ],
         "yaxis": "y"
        }
       ],
       "layout": {
        "coloraxis": {
         "colorbar": {
          "title": {
           "text": "day"
          }
         },
         "colorscale": [
          [
           0,
           "#0d0887"
          ],
          [
           0.1111111111111111,
           "#46039f"
          ],
          [
           0.2222222222222222,
           "#7201a8"
          ],
          [
           0.3333333333333333,
           "#9c179e"
          ],
          [
           0.4444444444444444,
           "#bd3786"
          ],
          [
           0.5555555555555556,
           "#d8576b"
          ],
          [
           0.6666666666666666,
           "#ed7953"
          ],
          [
           0.7777777777777778,
           "#fb9f3a"
          ],
          [
           0.8888888888888888,
           "#fdca26"
          ],
          [
           1,
           "#f0f921"
          ]
         ]
        },
        "height": 400,
        "legend": {
         "tracegroupgap": 0
        },
        "template": {
         "data": {
          "bar": [
           {
            "error_x": {
             "color": "#2a3f5f"
            },
            "error_y": {
             "color": "#2a3f5f"
            },
            "marker": {
             "line": {
              "color": "#E5ECF6",
              "width": 0.5
             },
             "pattern": {
              "fillmode": "overlay",
              "size": 10,
              "solidity": 0.2
             }
            },
            "type": "bar"
           }
          ],
          "barpolar": [
           {
            "marker": {
             "line": {
              "color": "#E5ECF6",
              "width": 0.5
             },
             "pattern": {
              "fillmode": "overlay",
              "size": 10,
              "solidity": 0.2
             }
            },
            "type": "barpolar"
           }
          ],
          "carpet": [
           {
            "aaxis": {
             "endlinecolor": "#2a3f5f",
             "gridcolor": "white",
             "linecolor": "white",
             "minorgridcolor": "white",
             "startlinecolor": "#2a3f5f"
            },
            "baxis": {
             "endlinecolor": "#2a3f5f",
             "gridcolor": "white",
             "linecolor": "white",
             "minorgridcolor": "white",
             "startlinecolor": "#2a3f5f"
            },
            "type": "carpet"
           }
          ],
          "choropleth": [
           {
            "colorbar": {
             "outlinewidth": 0,
             "ticks": ""
            },
            "type": "choropleth"
           }
          ],
          "contour": [
           {
            "colorbar": {
             "outlinewidth": 0,
             "ticks": ""
            },
            "colorscale": [
             [
              0,
              "#0d0887"
             ],
             [
              0.1111111111111111,
              "#46039f"
             ],
             [
              0.2222222222222222,
              "#7201a8"
             ],
             [
              0.3333333333333333,
              "#9c179e"
             ],
             [
              0.4444444444444444,
              "#bd3786"
             ],
             [
              0.5555555555555556,
              "#d8576b"
             ],
             [
              0.6666666666666666,
              "#ed7953"
             ],
             [
              0.7777777777777778,
              "#fb9f3a"
             ],
             [
              0.8888888888888888,
              "#fdca26"
             ],
             [
              1,
              "#f0f921"
             ]
            ],
            "type": "contour"
           }
          ],
          "contourcarpet": [
           {
            "colorbar": {
             "outlinewidth": 0,
             "ticks": ""
            },
            "type": "contourcarpet"
           }
          ],
          "heatmap": [
           {
            "colorbar": {
             "outlinewidth": 0,
             "ticks": ""
            },
            "colorscale": [
             [
              0,
              "#0d0887"
             ],
             [
              0.1111111111111111,
              "#46039f"
             ],
             [
              0.2222222222222222,
              "#7201a8"
             ],
             [
              0.3333333333333333,
              "#9c179e"
             ],
             [
              0.4444444444444444,
              "#bd3786"
             ],
             [
              0.5555555555555556,
              "#d8576b"
             ],
             [
              0.6666666666666666,
              "#ed7953"
             ],
             [
              0.7777777777777778,
              "#fb9f3a"
             ],
             [
              0.8888888888888888,
              "#fdca26"
             ],
             [
              1,
              "#f0f921"
             ]
            ],
            "type": "heatmap"
           }
          ],
          "heatmapgl": [
           {
            "colorbar": {
             "outlinewidth": 0,
             "ticks": ""
            },
            "colorscale": [
             [
              0,
              "#0d0887"
             ],
             [
              0.1111111111111111,
              "#46039f"
             ],
             [
              0.2222222222222222,
              "#7201a8"
             ],
             [
              0.3333333333333333,
              "#9c179e"
             ],
             [
              0.4444444444444444,
              "#bd3786"
             ],
             [
              0.5555555555555556,
              "#d8576b"
             ],
             [
              0.6666666666666666,
              "#ed7953"
             ],
             [
              0.7777777777777778,
              "#fb9f3a"
             ],
             [
              0.8888888888888888,
              "#fdca26"
             ],
             [
              1,
              "#f0f921"
             ]
            ],
            "type": "heatmapgl"
           }
          ],
          "histogram": [
           {
            "marker": {
             "pattern": {
              "fillmode": "overlay",
              "size": 10,
              "solidity": 0.2
             }
            },
            "type": "histogram"
           }
          ],
          "histogram2d": [
           {
            "colorbar": {
             "outlinewidth": 0,
             "ticks": ""
            },
            "colorscale": [
             [
              0,
              "#0d0887"
             ],
             [
              0.1111111111111111,
              "#46039f"
             ],
             [
              0.2222222222222222,
              "#7201a8"
             ],
             [
              0.3333333333333333,
              "#9c179e"
             ],
             [
              0.4444444444444444,
              "#bd3786"
             ],
             [
              0.5555555555555556,
              "#d8576b"
             ],
             [
              0.6666666666666666,
              "#ed7953"
             ],
             [
              0.7777777777777778,
              "#fb9f3a"
             ],
             [
              0.8888888888888888,
              "#fdca26"
             ],
             [
              1,
              "#f0f921"
             ]
            ],
            "type": "histogram2d"
           }
          ],
          "histogram2dcontour": [
           {
            "colorbar": {
             "outlinewidth": 0,
             "ticks": ""
            },
            "colorscale": [
             [
              0,
              "#0d0887"
             ],
             [
              0.1111111111111111,
              "#46039f"
             ],
             [
              0.2222222222222222,
              "#7201a8"
             ],
             [
              0.3333333333333333,
              "#9c179e"
             ],
             [
              0.4444444444444444,
              "#bd3786"
             ],
             [
              0.5555555555555556,
              "#d8576b"
             ],
             [
              0.6666666666666666,
              "#ed7953"
             ],
             [
              0.7777777777777778,
              "#fb9f3a"
             ],
             [
              0.8888888888888888,
              "#fdca26"
             ],
             [
              1,
              "#f0f921"
             ]
            ],
            "type": "histogram2dcontour"
           }
          ],
          "mesh3d": [
           {
            "colorbar": {
             "outlinewidth": 0,
             "ticks": ""
            },
            "type": "mesh3d"
           }
          ],
          "parcoords": [
           {
            "line": {
             "colorbar": {
              "outlinewidth": 0,
              "ticks": ""
             }
            },
            "type": "parcoords"
           }
          ],
          "pie": [
           {
            "automargin": true,
            "type": "pie"
           }
          ],
          "scatter": [
           {
            "fillpattern": {
             "fillmode": "overlay",
             "size": 10,
             "solidity": 0.2
            },
            "type": "scatter"
           }
          ],
          "scatter3d": [
           {
            "line": {
             "colorbar": {
              "outlinewidth": 0,
              "ticks": ""
             }
            },
            "marker": {
             "colorbar": {
              "outlinewidth": 0,
              "ticks": ""
             }
            },
            "type": "scatter3d"
           }
          ],
          "scattercarpet": [
           {
            "marker": {
             "colorbar": {
              "outlinewidth": 0,
              "ticks": ""
             }
            },
            "type": "scattercarpet"
           }
          ],
          "scattergeo": [
           {
            "marker": {
             "colorbar": {
              "outlinewidth": 0,
              "ticks": ""
             }
            },
            "type": "scattergeo"
           }
          ],
          "scattergl": [
           {
            "marker": {
             "colorbar": {
              "outlinewidth": 0,
              "ticks": ""
             }
            },
            "type": "scattergl"
           }
          ],
          "scattermapbox": [
           {
            "marker": {
             "colorbar": {
              "outlinewidth": 0,
              "ticks": ""
             }
            },
            "type": "scattermapbox"
           }
          ],
          "scatterpolar": [
           {
            "marker": {
             "colorbar": {
              "outlinewidth": 0,
              "ticks": ""
             }
            },
            "type": "scatterpolar"
           }
          ],
          "scatterpolargl": [
           {
            "marker": {
             "colorbar": {
              "outlinewidth": 0,
              "ticks": ""
             }
            },
            "type": "scatterpolargl"
           }
          ],
          "scatterternary": [
           {
            "marker": {
             "colorbar": {
              "outlinewidth": 0,
              "ticks": ""
             }
            },
            "type": "scatterternary"
           }
          ],
          "surface": [
           {
            "colorbar": {
             "outlinewidth": 0,
             "ticks": ""
            },
            "colorscale": [
             [
              0,
              "#0d0887"
             ],
             [
              0.1111111111111111,
              "#46039f"
             ],
             [
              0.2222222222222222,
              "#7201a8"
             ],
             [
              0.3333333333333333,
              "#9c179e"
             ],
             [
              0.4444444444444444,
              "#bd3786"
             ],
             [
              0.5555555555555556,
              "#d8576b"
             ],
             [
              0.6666666666666666,
              "#ed7953"
             ],
             [
              0.7777777777777778,
              "#fb9f3a"
             ],
             [
              0.8888888888888888,
              "#fdca26"
             ],
             [
              1,
              "#f0f921"
             ]
            ],
            "type": "surface"
           }
          ],
          "table": [
           {
            "cells": {
             "fill": {
              "color": "#EBF0F8"
             },
             "line": {
              "color": "white"
             }
            },
            "header": {
             "fill": {
              "color": "#C8D4E3"
             },
             "line": {
              "color": "white"
             }
            },
            "type": "table"
           }
          ]
         },
         "layout": {
          "annotationdefaults": {
           "arrowcolor": "#2a3f5f",
           "arrowhead": 0,
           "arrowwidth": 1
          },
          "autotypenumbers": "strict",
          "coloraxis": {
           "colorbar": {
            "outlinewidth": 0,
            "ticks": ""
           }
          },
          "colorscale": {
           "diverging": [
            [
             0,
             "#8e0152"
            ],
            [
             0.1,
             "#c51b7d"
            ],
            [
             0.2,
             "#de77ae"
            ],
            [
             0.3,
             "#f1b6da"
            ],
            [
             0.4,
             "#fde0ef"
            ],
            [
             0.5,
             "#f7f7f7"
            ],
            [
             0.6,
             "#e6f5d0"
            ],
            [
             0.7,
             "#b8e186"
            ],
            [
             0.8,
             "#7fbc41"
            ],
            [
             0.9,
             "#4d9221"
            ],
            [
             1,
             "#276419"
            ]
           ],
           "sequential": [
            [
             0,
             "#0d0887"
            ],
            [
             0.1111111111111111,
             "#46039f"
            ],
            [
             0.2222222222222222,
             "#7201a8"
            ],
            [
             0.3333333333333333,
             "#9c179e"
            ],
            [
             0.4444444444444444,
             "#bd3786"
            ],
            [
             0.5555555555555556,
             "#d8576b"
            ],
            [
             0.6666666666666666,
             "#ed7953"
            ],
            [
             0.7777777777777778,
             "#fb9f3a"
            ],
            [
             0.8888888888888888,
             "#fdca26"
            ],
            [
             1,
             "#f0f921"
            ]
           ],
           "sequentialminus": [
            [
             0,
             "#0d0887"
            ],
            [
             0.1111111111111111,
             "#46039f"
            ],
            [
             0.2222222222222222,
             "#7201a8"
            ],
            [
             0.3333333333333333,
             "#9c179e"
            ],
            [
             0.4444444444444444,
             "#bd3786"
            ],
            [
             0.5555555555555556,
             "#d8576b"
            ],
            [
             0.6666666666666666,
             "#ed7953"
            ],
            [
             0.7777777777777778,
             "#fb9f3a"
            ],
            [
             0.8888888888888888,
             "#fdca26"
            ],
            [
             1,
             "#f0f921"
            ]
           ]
          },
          "colorway": [
           "#636efa",
           "#EF553B",
           "#00cc96",
           "#ab63fa",
           "#FFA15A",
           "#19d3f3",
           "#FF6692",
           "#B6E880",
           "#FF97FF",
           "#FECB52"
          ],
          "font": {
           "color": "#2a3f5f"
          },
          "geo": {
           "bgcolor": "white",
           "lakecolor": "white",
           "landcolor": "#E5ECF6",
           "showlakes": true,
           "showland": true,
           "subunitcolor": "white"
          },
          "hoverlabel": {
           "align": "left"
          },
          "hovermode": "closest",
          "mapbox": {
           "style": "light"
          },
          "paper_bgcolor": "white",
          "plot_bgcolor": "#E5ECF6",
          "polar": {
           "angularaxis": {
            "gridcolor": "white",
            "linecolor": "white",
            "ticks": ""
           },
           "bgcolor": "#E5ECF6",
           "radialaxis": {
            "gridcolor": "white",
            "linecolor": "white",
            "ticks": ""
           }
          },
          "scene": {
           "xaxis": {
            "backgroundcolor": "#E5ECF6",
            "gridcolor": "white",
            "gridwidth": 2,
            "linecolor": "white",
            "showbackground": true,
            "ticks": "",
            "zerolinecolor": "white"
           },
           "yaxis": {
            "backgroundcolor": "#E5ECF6",
            "gridcolor": "white",
            "gridwidth": 2,
            "linecolor": "white",
            "showbackground": true,
            "ticks": "",
            "zerolinecolor": "white"
           },
           "zaxis": {
            "backgroundcolor": "#E5ECF6",
            "gridcolor": "white",
            "gridwidth": 2,
            "linecolor": "white",
            "showbackground": true,
            "ticks": "",
            "zerolinecolor": "white"
           }
          },
          "shapedefaults": {
           "line": {
            "color": "#2a3f5f"
           }
          },
          "ternary": {
           "aaxis": {
            "gridcolor": "white",
            "linecolor": "white",
            "ticks": ""
           },
           "baxis": {
            "gridcolor": "white",
            "linecolor": "white",
            "ticks": ""
           },
           "bgcolor": "#E5ECF6",
           "caxis": {
            "gridcolor": "white",
            "linecolor": "white",
            "ticks": ""
           }
          },
          "title": {
           "x": 0.05
          },
          "xaxis": {
           "automargin": true,
           "gridcolor": "white",
           "linecolor": "white",
           "ticks": "",
           "title": {
            "standoff": 15
           },
           "zerolinecolor": "white",
           "zerolinewidth": 2
          },
          "yaxis": {
           "automargin": true,
           "gridcolor": "white",
           "linecolor": "white",
           "ticks": "",
           "title": {
            "standoff": 15
           },
           "zerolinecolor": "white",
           "zerolinewidth": 2
          }
         }
        },
        "title": {
         "text": "Distribution of Tips according to Day"
        },
        "xaxis": {
         "anchor": "y",
         "domain": [
          0,
          1
         ],
         "title": {
          "text": "Total bill paid by Customer"
         }
        },
        "yaxis": {
         "anchor": "x",
         "domain": [
          0,
          1
         ],
         "title": {
          "text": "Tip (INR)"
         }
        }
       }
      }
     },
     "metadata": {},
     "output_type": "display_data"
    }
   ],
   "source": [
    "fig = px.scatter(data_frame= df, x='total_bill', y='tip', color='day', trendline=\"ols\",\n",
    "             title='Distribution of Tips according to Day',\n",
    "             labels={'tip': 'Tip (INR)', 'total_bill': 'Total bill paid by Customer'},\n",
    "             height=400)\n",
    "fig.show()"
   ]
  },
  {
   "cell_type": "code",
   "execution_count": 100,
   "id": "10d3f6ea",
   "metadata": {},
   "outputs": [
    {
     "data": {
      "application/vnd.plotly.v1+json": {
       "config": {
        "plotlyServerURL": "https://plot.ly"
       },
       "data": [
        {
         "hovertemplate": "occasion_Birthday Party=True<br>Total bill paid by Customer=%{x}<br>Tip (INR)=%{y}<extra></extra>",
         "legendgroup": "True",
         "marker": {
          "color": "#636efa",
          "symbol": "circle"
         },
         "mode": "markers",
         "name": "True",
         "orientation": "v",
         "showlegend": true,
         "type": "scatter",
         "x": [
          1997.79,
          4763.43,
          3073.56,
          948.89,
          948.77,
          478.8,
          4357.65,
          3085.35,
          3598.75,
          298.81,
          4855.57,
          4195.72,
          1597.9,
          1958.54,
          2389.14,
          3043.59,
          422.96,
          4835.03,
          668.83,
          3484.32,
          2312.73,
          785.78,
          2576.85,
          365.06,
          4564.74,
          1442.14,
          3380.11,
          1696.21,
          1087.3,
          4854.01,
          3920.64,
          4495.17,
          4625,
          4177.94,
          3699.23,
          3902.1,
          555.41,
          1920.64,
          756.17,
          4342.9,
          3191.83,
          1788.31,
          505.08,
          1692.72,
          1760.88,
          3900.64,
          322.01,
          350.86,
          3254.77,
          4662.55,
          4078.98,
          3240.34,
          4383.01,
          4057.63,
          1095.54,
          4484.28,
          2788.84,
          1726.42,
          728.25,
          124.09,
          489.75,
          459.68,
          895.5,
          1361.87,
          165.36,
          2771.72,
          633.39,
          429.45,
          1739.74,
          1095.29,
          395.72,
          336.29,
          352.31,
          279.62,
          1287.18,
          326.83,
          3516.5,
          206.33,
          496.3,
          860.1,
          1837.12,
          1438.12,
          2742.32,
          646.89,
          506.64,
          452.01,
          3238.89,
          1827.34,
          384.59,
          343.4
         ],
         "xaxis": "x",
         "y": [
          190,
          470.3,
          300.6,
          94.9,
          94.7,
          47.6,
          430.5,
          300.1,
          340,
          20,
          470.3,
          400.3,
          150.2,
          190.3,
          230.5,
          300.2,
          42.1,
          490.23,
          63.2,
          340.2,
          231.34,
          79.2,
          250.3,
          30,
          400.23,
          140.3,
          300,
          150,
          100,
          450.2,
          310.2,
          390,
          450.3,
          412,
          342,
          342,
          52,
          165,
          65,
          432,
          312,
          123.5,
          49.4,
          154,
          145,
          352,
          20,
          34,
          321,
          461,
          342,
          245,
          354,
          325,
          75,
          412,
          255,
          152,
          56,
          12,
          23,
          43,
          43,
          150,
          34,
          254,
          63,
          42,
          171,
          100,
          43,
          42,
          24,
          43,
          132,
          23,
          235,
          32,
          43,
          23,
          139,
          113,
          234,
          43,
          64,
          43,
          421,
          142,
          43,
          31
         ],
         "yaxis": "y"
        },
        {
         "hovertemplate": "<b>OLS trendline</b><br>tip = 0.0933794 * total_bill + -3.16975<br>R<sup>2</sup>=0.969251<br><br>occasion_Birthday Party=True<br>Total bill paid by Customer=%{x}<br>Tip (INR)=%{y} <b>(trend)</b><extra></extra>",
         "legendgroup": "True",
         "marker": {
          "color": "#636efa",
          "symbol": "circle"
         },
         "mode": "lines",
         "name": "True",
         "showlegend": false,
         "type": "scatter",
         "x": [
          124.09,
          165.36,
          206.33,
          279.62,
          298.81,
          322.01,
          326.83,
          336.29,
          343.4,
          350.86,
          352.31,
          365.06,
          384.59,
          395.72,
          422.96,
          429.45,
          452.01,
          459.68,
          478.8,
          489.75,
          496.3,
          505.08,
          506.64,
          555.41,
          633.39,
          646.89,
          668.83,
          728.25,
          756.17,
          785.78,
          860.1,
          895.5,
          948.77,
          948.89,
          1087.3,
          1095.29,
          1095.54,
          1287.18,
          1361.87,
          1438.12,
          1442.14,
          1597.9,
          1692.72,
          1696.21,
          1726.42,
          1739.74,
          1760.88,
          1788.31,
          1827.34,
          1837.12,
          1920.64,
          1958.54,
          1997.79,
          2312.73,
          2389.14,
          2576.85,
          2742.32,
          2771.72,
          2788.84,
          3043.59,
          3073.56,
          3085.35,
          3191.83,
          3238.89,
          3240.34,
          3254.77,
          3380.11,
          3484.32,
          3516.5,
          3598.75,
          3699.23,
          3900.64,
          3902.1,
          3920.64,
          4057.63,
          4078.98,
          4177.94,
          4195.72,
          4342.9,
          4357.65,
          4383.01,
          4484.28,
          4495.17,
          4564.74,
          4625,
          4662.55,
          4763.43,
          4835.03,
          4854.01,
          4855.57
         ],
         "xaxis": "x",
         "y": [
          8.41770091010968,
          12.271469065985652,
          16.097223399550916,
          22.941000190056126,
          24.732951023864214,
          26.899353282558724,
          27.349442027684052,
          28.232811224548282,
          28.896738813311988,
          29.593349194771516,
          29.72874933593992,
          30.91933678414488,
          32.74303661657177,
          33.78234942429893,
          36.32600449011092,
          36.93203684609918,
          39.03867628386418,
          39.7548963409412,
          41.540310616210135,
          42.56281513055086,
          43.17445025100125,
          43.99432145062788,
          44.13999332664355,
          48.694107040287136,
          55.975833252916374,
          57.23645525689808,
          59.28519946188764,
          64.83380386756126,
          67.44095693061087,
          70.20592119267744,
          77.14587877311607,
          80.45150980577925,
          85.42583085408342,
          85.4370363830077,
          98.3616802030899,
          99.10778167063168,
          99.13112652255727,
          117.02635621463557,
          124.00086417592405,
          131.12104401322821,
          131.49642923219167,
          146.04120577590967,
          154.89544121424646,
          155.22133534712765,
          158.04232725381564,
          159.28614096441095,
          161.2601816432386,
          163.82157879651405,
          167.46617707913677,
          168.37942768646573,
          176.178475817766,
          179.71755536968504,
          183.38269712200227,
          212.79160778378028,
          219.9267283263168,
          237.45497694612487,
          252.9064675386327,
          255.65182212508174,
          257.25047758494594,
          281.03888169711956,
          283.83746254595894,
          284.93840576276966,
          294.8814450949158,
          299.2758800213884,
          299.41128016255686,
          300.7587450157017,
          312.46291997711427,
          322.19398805377614,
          325.1989373936377,
          332.879393677156,
          342.26215656308807,
          361.06970306841833,
          361.20603700366377,
          362.9372912224653,
          375.7293362836102,
          377.7229866380554,
          386.96381282427984,
          388.62409869322767,
          402.36767991885944,
          403.74502618246913,
          406.1131279618007,
          415.56966057981765,
          416.5865623296963,
          423.08296772354873,
          428.71001083169233,
          432.2164075909156,
          441.63652223992864,
          448.3224878314168,
          450.09482898960744,
          450.24050086562306
         ],
         "yaxis": "y"
        },
        {
         "hovertemplate": "occasion_Birthday Party=False<br>Total bill paid by Customer=%{x}<br>Tip (INR)=%{y}<extra></extra>",
         "legendgroup": "False",
         "marker": {
          "color": "#EF553B",
          "symbol": "circle"
         },
         "mode": "markers",
         "name": "False",
         "orientation": "v",
         "showlegend": true,
         "type": "scatter",
         "x": [
          3713.57,
          1219.23,
          1072.76,
          1080.34,
          1660.36,
          2718.83,
          2273.34,
          3136.89,
          869.57,
          1602.29,
          3968.84,
          1158.43,
          2668.33,
          3116.22,
          1018.52,
          512.25,
          4754.65,
          4080.31,
          1662.15,
          2696.33,
          2824.21,
          4709.59,
          3069.92,
          624.76,
          1140.72,
          417.09,
          1761.59,
          2065.65,
          1502.48,
          1912.42,
          1548.49,
          2804.94,
          876.44,
          4050.55,
          557.84,
          4937.06,
          3906.77,
          1153.84,
          226.51,
          4114.21,
          3592.92,
          3702.11,
          3260.28,
          4458.62,
          2466.63,
          774.05,
          3623.57,
          3851.77,
          2894.13,
          2570.22,
          2709.12,
          2252.2,
          717.88,
          1708.91,
          2641.14,
          4556.32,
          1396.6,
          2169.84,
          3826.65,
          1298.23,
          569.5,
          1590.81,
          973.86,
          4075.71,
          4501.24,
          250.12,
          426.47,
          331.51,
          233.37,
          651.59,
          220.57,
          1266.12,
          775.35,
          1820.55,
          45.97,
          1751.37,
          290.19,
          574.49,
          145.42,
          484.55,
          1408.56,
          586.79,
          144.22,
          1567.23,
          377.06,
          125.91,
          2612.86,
          447.1,
          1537.5,
          1349.9,
          249.37,
          431.12,
          3426.25,
          355.77,
          1340.66,
          395.44,
          456,
          340.94,
          2658.05,
          1036.96,
          744.67,
          4638.53,
          4411.23,
          337.92,
          412.67,
          2864.96,
          1360.89,
          1876.21,
          406.13,
          458.01
         ],
         "xaxis": "x",
         "y": [
          370.7,
          120,
          90.2,
          100,
          150.3,
          250.3,
          220.1,
          300.2,
          79.9,
          150.3,
          390.2,
          110.2,
          261.1,
          300.1,
          100.5,
          54,
          450.2,
          401.5,
          140.3,
          250.3,
          250.3,
          450.2,
          300,
          60,
          100,
          20,
          165,
          245,
          152,
          191,
          123,
          239,
          60.34,
          421,
          32,
          324.1,
          345,
          112,
          20,
          412,
          324.5,
          354,
          234,
          342,
          231,
          43,
          312.4,
          274,
          234,
          213,
          211,
          256,
          50,
          149,
          245,
          357,
          132,
          234,
          315,
          126,
          54,
          134,
          64,
          394,
          432,
          23,
          43,
          23,
          43,
          54,
          23,
          224,
          23,
          190,
          3,
          132,
          23,
          43,
          23,
          42,
          109,
          43,
          23,
          123,
          43,
          23,
          242,
          43,
          123,
          143,
          24,
          54,
          234,
          23,
          121,
          32,
          43,
          34,
          190,
          101,
          72,
          412,
          312,
          23,
          43,
          162,
          102,
          123,
          54,
          64
         ],
         "yaxis": "y"
        },
        {
         "hovertemplate": "<b>OLS trendline</b><br>tip = 0.0867187 * total_bill + 4.30536<br>R<sup>2</sup>=0.940315<br><br>occasion_Birthday Party=False<br>Total bill paid by Customer=%{x}<br>Tip (INR)=%{y} <b>(trend)</b><extra></extra>",
         "legendgroup": "False",
         "marker": {
          "color": "#EF553B",
          "symbol": "circle"
         },
         "mode": "lines",
         "name": "False",
         "showlegend": false,
         "type": "scatter",
         "x": [
          45.97,
          125.91,
          144.22,
          145.42,
          220.57,
          226.51,
          233.37,
          249.37,
          250.12,
          290.19,
          331.51,
          337.92,
          340.94,
          355.77,
          377.06,
          395.44,
          406.13,
          412.67,
          417.09,
          426.47,
          431.12,
          447.1,
          456,
          458.01,
          484.55,
          512.25,
          557.84,
          569.5,
          574.49,
          586.79,
          624.76,
          651.59,
          717.88,
          744.67,
          774.05,
          775.35,
          869.57,
          876.44,
          973.86,
          1018.52,
          1036.96,
          1072.76,
          1080.34,
          1140.72,
          1153.84,
          1158.43,
          1219.23,
          1266.12,
          1298.23,
          1340.66,
          1349.9,
          1360.89,
          1396.6,
          1408.56,
          1502.48,
          1537.5,
          1548.49,
          1567.23,
          1590.81,
          1602.29,
          1660.36,
          1662.15,
          1708.91,
          1751.37,
          1761.59,
          1820.55,
          1876.21,
          1912.42,
          2065.65,
          2169.84,
          2252.2,
          2273.34,
          2466.63,
          2570.22,
          2612.86,
          2641.14,
          2658.05,
          2668.33,
          2696.33,
          2709.12,
          2718.83,
          2804.94,
          2824.21,
          2864.96,
          2894.13,
          3069.92,
          3116.22,
          3136.89,
          3260.28,
          3426.25,
          3592.92,
          3623.57,
          3702.11,
          3713.57,
          3826.65,
          3851.77,
          3906.77,
          3968.84,
          4050.55,
          4075.71,
          4080.31,
          4114.21,
          4411.23,
          4458.62,
          4501.24,
          4556.32,
          4638.53,
          4709.59,
          4754.65,
          4937.06
         ],
         "xaxis": "x",
         "y": [
          8.291820709652375,
          15.224114080571475,
          16.81193359047301,
          16.915996037872347,
          23.432906806255758,
          23.948015920882476,
          24.54290624518201,
          25.930405543839825,
          25.99544457346441,
          29.47026312954057,
          33.053480068324376,
          33.60934697484916,
          33.87123746747082,
          35.15727587991428,
          37.00351713419084,
          38.597406953524,
          39.52442992243975,
          40.09157026076613,
          40.474866942020356,
          41.2882884058585,
          41.691530389530925,
          43.07729531406542,
          43.849091798943824,
          44.02339639833771,
          46.32491085998636,
          48.7270190207877,
          52.68052483490081,
          53.69166494879769,
          54.12439129256659,
          55.19103137840978,
          58.483740651537104,
          60.81040353797393,
          66.55898656972558,
          68.88218070791575,
          71.42997629507616,
          71.54271061309211,
          79.71334710806332,
          80.30910461942452,
          88.75724097412727,
          92.63009839150588,
          94.22919133320903,
          97.33372101395588,
          97.991048806695,
          103.22712428500495,
          104.36487370990434,
          104.76291257120681,
          110.0354099061065,
          114.10165003823553,
          116.88618769322945,
          120.56566239585764,
          121.36694324083253,
          122.31998182159812,
          125.41670681879,
          126.45386254453673,
          134.5984834276581,
          137.63537251759539,
          138.58841109836098,
          140.21351965191394,
          142.25834674331088,
          143.25387749009786,
          148.28963275716407,
          148.4448592412014,
          152.49982594152888,
          156.18190220534203,
          157.06816738235972,
          162.18110229791375,
          167.00786548311964,
          170.1479498333946,
          183.43585717922815,
          192.4710791746755,
          199.61323181451655,
          201.44646526286823,
          218.20832397771628,
          227.19151474946392,
          230.88920038038702,
          233.34160539076467,
          234.8080187120337,
          235.6994870114213,
          238.1276107840725,
          239.23674303593705,
          240.07878167281004,
          247.54612946077407,
          249.21719892859505,
          252.75098620486418,
          255.2805708637297,
          270.52485222067077,
          274.5399283161618,
          276.33240397261534,
          287.0326251264521,
          301.4253287888419,
          315.878735545548,
          318.5366638895394,
          325.34755107182593,
          326.3413474444896,
          336.1474987377537,
          338.32587263664647,
          343.0954014757827,
          348.47803156751337,
          355.5638170483465,
          357.74565969548587,
          358.14456574385,
          361.08432988288126,
          386.84151998834017,
          390.95111947355235,
          394.6470707303521,
          399.4235370659816,
          406.5526818998978,
          412.7149131600618,
          416.6224580599068,
          432.4408172516676
         ],
         "yaxis": "y"
        }
       ],
       "layout": {
        "height": 400,
        "legend": {
         "title": {
          "text": "occasion_Birthday Party"
         },
         "tracegroupgap": 0
        },
        "template": {
         "data": {
          "bar": [
           {
            "error_x": {
             "color": "#2a3f5f"
            },
            "error_y": {
             "color": "#2a3f5f"
            },
            "marker": {
             "line": {
              "color": "#E5ECF6",
              "width": 0.5
             },
             "pattern": {
              "fillmode": "overlay",
              "size": 10,
              "solidity": 0.2
             }
            },
            "type": "bar"
           }
          ],
          "barpolar": [
           {
            "marker": {
             "line": {
              "color": "#E5ECF6",
              "width": 0.5
             },
             "pattern": {
              "fillmode": "overlay",
              "size": 10,
              "solidity": 0.2
             }
            },
            "type": "barpolar"
           }
          ],
          "carpet": [
           {
            "aaxis": {
             "endlinecolor": "#2a3f5f",
             "gridcolor": "white",
             "linecolor": "white",
             "minorgridcolor": "white",
             "startlinecolor": "#2a3f5f"
            },
            "baxis": {
             "endlinecolor": "#2a3f5f",
             "gridcolor": "white",
             "linecolor": "white",
             "minorgridcolor": "white",
             "startlinecolor": "#2a3f5f"
            },
            "type": "carpet"
           }
          ],
          "choropleth": [
           {
            "colorbar": {
             "outlinewidth": 0,
             "ticks": ""
            },
            "type": "choropleth"
           }
          ],
          "contour": [
           {
            "colorbar": {
             "outlinewidth": 0,
             "ticks": ""
            },
            "colorscale": [
             [
              0,
              "#0d0887"
             ],
             [
              0.1111111111111111,
              "#46039f"
             ],
             [
              0.2222222222222222,
              "#7201a8"
             ],
             [
              0.3333333333333333,
              "#9c179e"
             ],
             [
              0.4444444444444444,
              "#bd3786"
             ],
             [
              0.5555555555555556,
              "#d8576b"
             ],
             [
              0.6666666666666666,
              "#ed7953"
             ],
             [
              0.7777777777777778,
              "#fb9f3a"
             ],
             [
              0.8888888888888888,
              "#fdca26"
             ],
             [
              1,
              "#f0f921"
             ]
            ],
            "type": "contour"
           }
          ],
          "contourcarpet": [
           {
            "colorbar": {
             "outlinewidth": 0,
             "ticks": ""
            },
            "type": "contourcarpet"
           }
          ],
          "heatmap": [
           {
            "colorbar": {
             "outlinewidth": 0,
             "ticks": ""
            },
            "colorscale": [
             [
              0,
              "#0d0887"
             ],
             [
              0.1111111111111111,
              "#46039f"
             ],
             [
              0.2222222222222222,
              "#7201a8"
             ],
             [
              0.3333333333333333,
              "#9c179e"
             ],
             [
              0.4444444444444444,
              "#bd3786"
             ],
             [
              0.5555555555555556,
              "#d8576b"
             ],
             [
              0.6666666666666666,
              "#ed7953"
             ],
             [
              0.7777777777777778,
              "#fb9f3a"
             ],
             [
              0.8888888888888888,
              "#fdca26"
             ],
             [
              1,
              "#f0f921"
             ]
            ],
            "type": "heatmap"
           }
          ],
          "heatmapgl": [
           {
            "colorbar": {
             "outlinewidth": 0,
             "ticks": ""
            },
            "colorscale": [
             [
              0,
              "#0d0887"
             ],
             [
              0.1111111111111111,
              "#46039f"
             ],
             [
              0.2222222222222222,
              "#7201a8"
             ],
             [
              0.3333333333333333,
              "#9c179e"
             ],
             [
              0.4444444444444444,
              "#bd3786"
             ],
             [
              0.5555555555555556,
              "#d8576b"
             ],
             [
              0.6666666666666666,
              "#ed7953"
             ],
             [
              0.7777777777777778,
              "#fb9f3a"
             ],
             [
              0.8888888888888888,
              "#fdca26"
             ],
             [
              1,
              "#f0f921"
             ]
            ],
            "type": "heatmapgl"
           }
          ],
          "histogram": [
           {
            "marker": {
             "pattern": {
              "fillmode": "overlay",
              "size": 10,
              "solidity": 0.2
             }
            },
            "type": "histogram"
           }
          ],
          "histogram2d": [
           {
            "colorbar": {
             "outlinewidth": 0,
             "ticks": ""
            },
            "colorscale": [
             [
              0,
              "#0d0887"
             ],
             [
              0.1111111111111111,
              "#46039f"
             ],
             [
              0.2222222222222222,
              "#7201a8"
             ],
             [
              0.3333333333333333,
              "#9c179e"
             ],
             [
              0.4444444444444444,
              "#bd3786"
             ],
             [
              0.5555555555555556,
              "#d8576b"
             ],
             [
              0.6666666666666666,
              "#ed7953"
             ],
             [
              0.7777777777777778,
              "#fb9f3a"
             ],
             [
              0.8888888888888888,
              "#fdca26"
             ],
             [
              1,
              "#f0f921"
             ]
            ],
            "type": "histogram2d"
           }
          ],
          "histogram2dcontour": [
           {
            "colorbar": {
             "outlinewidth": 0,
             "ticks": ""
            },
            "colorscale": [
             [
              0,
              "#0d0887"
             ],
             [
              0.1111111111111111,
              "#46039f"
             ],
             [
              0.2222222222222222,
              "#7201a8"
             ],
             [
              0.3333333333333333,
              "#9c179e"
             ],
             [
              0.4444444444444444,
              "#bd3786"
             ],
             [
              0.5555555555555556,
              "#d8576b"
             ],
             [
              0.6666666666666666,
              "#ed7953"
             ],
             [
              0.7777777777777778,
              "#fb9f3a"
             ],
             [
              0.8888888888888888,
              "#fdca26"
             ],
             [
              1,
              "#f0f921"
             ]
            ],
            "type": "histogram2dcontour"
           }
          ],
          "mesh3d": [
           {
            "colorbar": {
             "outlinewidth": 0,
             "ticks": ""
            },
            "type": "mesh3d"
           }
          ],
          "parcoords": [
           {
            "line": {
             "colorbar": {
              "outlinewidth": 0,
              "ticks": ""
             }
            },
            "type": "parcoords"
           }
          ],
          "pie": [
           {
            "automargin": true,
            "type": "pie"
           }
          ],
          "scatter": [
           {
            "fillpattern": {
             "fillmode": "overlay",
             "size": 10,
             "solidity": 0.2
            },
            "type": "scatter"
           }
          ],
          "scatter3d": [
           {
            "line": {
             "colorbar": {
              "outlinewidth": 0,
              "ticks": ""
             }
            },
            "marker": {
             "colorbar": {
              "outlinewidth": 0,
              "ticks": ""
             }
            },
            "type": "scatter3d"
           }
          ],
          "scattercarpet": [
           {
            "marker": {
             "colorbar": {
              "outlinewidth": 0,
              "ticks": ""
             }
            },
            "type": "scattercarpet"
           }
          ],
          "scattergeo": [
           {
            "marker": {
             "colorbar": {
              "outlinewidth": 0,
              "ticks": ""
             }
            },
            "type": "scattergeo"
           }
          ],
          "scattergl": [
           {
            "marker": {
             "colorbar": {
              "outlinewidth": 0,
              "ticks": ""
             }
            },
            "type": "scattergl"
           }
          ],
          "scattermapbox": [
           {
            "marker": {
             "colorbar": {
              "outlinewidth": 0,
              "ticks": ""
             }
            },
            "type": "scattermapbox"
           }
          ],
          "scatterpolar": [
           {
            "marker": {
             "colorbar": {
              "outlinewidth": 0,
              "ticks": ""
             }
            },
            "type": "scatterpolar"
           }
          ],
          "scatterpolargl": [
           {
            "marker": {
             "colorbar": {
              "outlinewidth": 0,
              "ticks": ""
             }
            },
            "type": "scatterpolargl"
           }
          ],
          "scatterternary": [
           {
            "marker": {
             "colorbar": {
              "outlinewidth": 0,
              "ticks": ""
             }
            },
            "type": "scatterternary"
           }
          ],
          "surface": [
           {
            "colorbar": {
             "outlinewidth": 0,
             "ticks": ""
            },
            "colorscale": [
             [
              0,
              "#0d0887"
             ],
             [
              0.1111111111111111,
              "#46039f"
             ],
             [
              0.2222222222222222,
              "#7201a8"
             ],
             [
              0.3333333333333333,
              "#9c179e"
             ],
             [
              0.4444444444444444,
              "#bd3786"
             ],
             [
              0.5555555555555556,
              "#d8576b"
             ],
             [
              0.6666666666666666,
              "#ed7953"
             ],
             [
              0.7777777777777778,
              "#fb9f3a"
             ],
             [
              0.8888888888888888,
              "#fdca26"
             ],
             [
              1,
              "#f0f921"
             ]
            ],
            "type": "surface"
           }
          ],
          "table": [
           {
            "cells": {
             "fill": {
              "color": "#EBF0F8"
             },
             "line": {
              "color": "white"
             }
            },
            "header": {
             "fill": {
              "color": "#C8D4E3"
             },
             "line": {
              "color": "white"
             }
            },
            "type": "table"
           }
          ]
         },
         "layout": {
          "annotationdefaults": {
           "arrowcolor": "#2a3f5f",
           "arrowhead": 0,
           "arrowwidth": 1
          },
          "autotypenumbers": "strict",
          "coloraxis": {
           "colorbar": {
            "outlinewidth": 0,
            "ticks": ""
           }
          },
          "colorscale": {
           "diverging": [
            [
             0,
             "#8e0152"
            ],
            [
             0.1,
             "#c51b7d"
            ],
            [
             0.2,
             "#de77ae"
            ],
            [
             0.3,
             "#f1b6da"
            ],
            [
             0.4,
             "#fde0ef"
            ],
            [
             0.5,
             "#f7f7f7"
            ],
            [
             0.6,
             "#e6f5d0"
            ],
            [
             0.7,
             "#b8e186"
            ],
            [
             0.8,
             "#7fbc41"
            ],
            [
             0.9,
             "#4d9221"
            ],
            [
             1,
             "#276419"
            ]
           ],
           "sequential": [
            [
             0,
             "#0d0887"
            ],
            [
             0.1111111111111111,
             "#46039f"
            ],
            [
             0.2222222222222222,
             "#7201a8"
            ],
            [
             0.3333333333333333,
             "#9c179e"
            ],
            [
             0.4444444444444444,
             "#bd3786"
            ],
            [
             0.5555555555555556,
             "#d8576b"
            ],
            [
             0.6666666666666666,
             "#ed7953"
            ],
            [
             0.7777777777777778,
             "#fb9f3a"
            ],
            [
             0.8888888888888888,
             "#fdca26"
            ],
            [
             1,
             "#f0f921"
            ]
           ],
           "sequentialminus": [
            [
             0,
             "#0d0887"
            ],
            [
             0.1111111111111111,
             "#46039f"
            ],
            [
             0.2222222222222222,
             "#7201a8"
            ],
            [
             0.3333333333333333,
             "#9c179e"
            ],
            [
             0.4444444444444444,
             "#bd3786"
            ],
            [
             0.5555555555555556,
             "#d8576b"
            ],
            [
             0.6666666666666666,
             "#ed7953"
            ],
            [
             0.7777777777777778,
             "#fb9f3a"
            ],
            [
             0.8888888888888888,
             "#fdca26"
            ],
            [
             1,
             "#f0f921"
            ]
           ]
          },
          "colorway": [
           "#636efa",
           "#EF553B",
           "#00cc96",
           "#ab63fa",
           "#FFA15A",
           "#19d3f3",
           "#FF6692",
           "#B6E880",
           "#FF97FF",
           "#FECB52"
          ],
          "font": {
           "color": "#2a3f5f"
          },
          "geo": {
           "bgcolor": "white",
           "lakecolor": "white",
           "landcolor": "#E5ECF6",
           "showlakes": true,
           "showland": true,
           "subunitcolor": "white"
          },
          "hoverlabel": {
           "align": "left"
          },
          "hovermode": "closest",
          "mapbox": {
           "style": "light"
          },
          "paper_bgcolor": "white",
          "plot_bgcolor": "#E5ECF6",
          "polar": {
           "angularaxis": {
            "gridcolor": "white",
            "linecolor": "white",
            "ticks": ""
           },
           "bgcolor": "#E5ECF6",
           "radialaxis": {
            "gridcolor": "white",
            "linecolor": "white",
            "ticks": ""
           }
          },
          "scene": {
           "xaxis": {
            "backgroundcolor": "#E5ECF6",
            "gridcolor": "white",
            "gridwidth": 2,
            "linecolor": "white",
            "showbackground": true,
            "ticks": "",
            "zerolinecolor": "white"
           },
           "yaxis": {
            "backgroundcolor": "#E5ECF6",
            "gridcolor": "white",
            "gridwidth": 2,
            "linecolor": "white",
            "showbackground": true,
            "ticks": "",
            "zerolinecolor": "white"
           },
           "zaxis": {
            "backgroundcolor": "#E5ECF6",
            "gridcolor": "white",
            "gridwidth": 2,
            "linecolor": "white",
            "showbackground": true,
            "ticks": "",
            "zerolinecolor": "white"
           }
          },
          "shapedefaults": {
           "line": {
            "color": "#2a3f5f"
           }
          },
          "ternary": {
           "aaxis": {
            "gridcolor": "white",
            "linecolor": "white",
            "ticks": ""
           },
           "baxis": {
            "gridcolor": "white",
            "linecolor": "white",
            "ticks": ""
           },
           "bgcolor": "#E5ECF6",
           "caxis": {
            "gridcolor": "white",
            "linecolor": "white",
            "ticks": ""
           }
          },
          "title": {
           "x": 0.05
          },
          "xaxis": {
           "automargin": true,
           "gridcolor": "white",
           "linecolor": "white",
           "ticks": "",
           "title": {
            "standoff": 15
           },
           "zerolinecolor": "white",
           "zerolinewidth": 2
          },
          "yaxis": {
           "automargin": true,
           "gridcolor": "white",
           "linecolor": "white",
           "ticks": "",
           "title": {
            "standoff": 15
           },
           "zerolinecolor": "white",
           "zerolinewidth": 2
          }
         }
        },
        "title": {
         "text": "Distribution of Tips by Ocassion"
        },
        "xaxis": {
         "anchor": "y",
         "domain": [
          0,
          1
         ],
         "title": {
          "text": "Total bill paid by Customer"
         }
        },
        "yaxis": {
         "anchor": "x",
         "domain": [
          0,
          1
         ],
         "title": {
          "text": "Tip (INR)"
         }
        }
       }
      }
     },
     "metadata": {},
     "output_type": "display_data"
    }
   ],
   "source": [
    "fig = px.scatter(data_frame= df, x='total_bill', y='tip', color='occasion_Birthday Party',trendline=\"ols\",\n",
    "             title='Distribution of Tips by Ocassion',\n",
    "             labels={'tip': 'Tip (INR)', 'total_bill': 'Total bill paid by Customer'},\n",
    "             height=400)\n",
    "fig.show()"
   ]
  },
  {
   "cell_type": "code",
   "execution_count": 101,
   "id": "f78c97fb",
   "metadata": {},
   "outputs": [
    {
     "data": {
      "application/vnd.plotly.v1+json": {
       "config": {
        "plotlyServerURL": "https://plot.ly"
       },
       "data": [
        {
         "hovertemplate": "occasion_Date=False<br>Total bill paid by Customer=%{x}<br>Tip (INR)=%{y}<extra></extra>",
         "legendgroup": "False",
         "marker": {
          "color": "#636efa",
          "symbol": "circle"
         },
         "mode": "markers",
         "name": "False",
         "orientation": "v",
         "showlegend": true,
         "type": "scatter",
         "x": [
          1997.79,
          4763.43,
          3713.57,
          3073.56,
          948.89,
          948.77,
          478.8,
          4357.65,
          3085.35,
          3598.75,
          298.81,
          4855.57,
          4195.72,
          1219.23,
          1072.76,
          1080.34,
          1660.36,
          2718.83,
          2273.34,
          1597.9,
          3136.89,
          869.57,
          1602.29,
          1958.54,
          2389.14,
          3968.84,
          2668.33,
          3043.59,
          422.96,
          3116.22,
          512.25,
          4835.03,
          1662.15,
          668.83,
          3484.32,
          2312.73,
          785.78,
          2576.85,
          365.06,
          4564.74,
          1442.14,
          3380.11,
          1696.21,
          2696.33,
          2824.21,
          1087.3,
          4854.01,
          3920.64,
          4709.59,
          4495.17,
          3069.92,
          4625,
          1140.72,
          1761.59,
          2065.65,
          4177.94,
          1912.42,
          1548.49,
          876.44,
          557.84,
          4937.06,
          3906.77,
          1153.84,
          226.51,
          4114.21,
          3699.23,
          3902.1,
          555.41,
          1920.64,
          756.17,
          4342.9,
          3191.83,
          1788.31,
          505.08,
          1692.72,
          1760.88,
          3702.11,
          4458.62,
          3623.57,
          2894.13,
          3900.64,
          2709.12,
          322.01,
          717.88,
          350.86,
          3254.77,
          1708.91,
          2641.14,
          4556.32,
          1396.6,
          2169.84,
          3826.65,
          1298.23,
          569.5,
          973.86,
          4662.55,
          4078.98,
          3240.34,
          4383.01,
          4057.63,
          1095.54,
          4484.28,
          2788.84,
          4075.71,
          1726.42,
          728.25,
          124.09,
          250.12,
          331.51,
          233.37,
          651.59,
          220.57,
          1266.12,
          775.35,
          1820.55,
          45.97,
          1751.37,
          574.49,
          484.55,
          489.75,
          1408.56,
          586.79,
          1567.23,
          125.91,
          2612.86,
          1537.5,
          459.68,
          1349.9,
          895.5,
          249.37,
          431.12,
          1361.87,
          3426.25,
          355.77,
          165.36,
          456,
          340.94,
          2771.72,
          633.39,
          429.45,
          1739.74,
          1095.29,
          395.72,
          336.29,
          352.31,
          279.62,
          2658.05,
          1287.18,
          326.83,
          3516.5,
          206.33,
          496.3,
          860.1,
          1837.12,
          4638.53,
          4411.23,
          1438.12,
          2864.96,
          2742.32,
          646.89,
          506.64,
          452.01,
          3238.89,
          1827.34,
          384.59,
          458.01,
          343.4
         ],
         "xaxis": "x",
         "y": [
          190,
          470.3,
          370.7,
          300.6,
          94.9,
          94.7,
          47.6,
          430.5,
          300.1,
          340,
          20,
          470.3,
          400.3,
          120,
          90.2,
          100,
          150.3,
          250.3,
          220.1,
          150.2,
          300.2,
          79.9,
          150.3,
          190.3,
          230.5,
          390.2,
          261.1,
          300.2,
          42.1,
          300.1,
          54,
          490.23,
          140.3,
          63.2,
          340.2,
          231.34,
          79.2,
          250.3,
          30,
          400.23,
          140.3,
          300,
          150,
          250.3,
          250.3,
          100,
          450.2,
          310.2,
          450.2,
          390,
          300,
          450.3,
          100,
          165,
          245,
          412,
          191,
          123,
          60.34,
          32,
          324.1,
          345,
          112,
          20,
          412,
          342,
          342,
          52,
          165,
          65,
          432,
          312,
          123.5,
          49.4,
          154,
          145,
          354,
          342,
          312.4,
          234,
          352,
          211,
          20,
          50,
          34,
          321,
          149,
          245,
          357,
          132,
          234,
          315,
          126,
          54,
          64,
          461,
          342,
          245,
          354,
          325,
          75,
          412,
          255,
          394,
          152,
          56,
          12,
          23,
          23,
          43,
          54,
          23,
          224,
          23,
          190,
          3,
          132,
          43,
          42,
          23,
          109,
          43,
          123,
          23,
          242,
          123,
          43,
          143,
          43,
          24,
          54,
          150,
          234,
          23,
          34,
          43,
          34,
          254,
          63,
          42,
          171,
          100,
          43,
          42,
          24,
          43,
          190,
          132,
          23,
          235,
          32,
          43,
          23,
          139,
          412,
          312,
          113,
          162,
          234,
          43,
          64,
          43,
          421,
          142,
          43,
          64,
          31
         ],
         "yaxis": "y"
        },
        {
         "hovertemplate": "<b>OLS trendline</b><br>tip = 0.0900312 * total_bill + 0.761198<br>R<sup>2</sup>=0.952850<br><br>occasion_Date=False<br>Total bill paid by Customer=%{x}<br>Tip (INR)=%{y} <b>(trend)</b><extra></extra>",
         "legendgroup": "False",
         "marker": {
          "color": "#636efa",
          "symbol": "circle"
         },
         "mode": "lines",
         "name": "False",
         "showlegend": false,
         "type": "scatter",
         "x": [
          45.97,
          124.09,
          125.91,
          165.36,
          206.33,
          220.57,
          226.51,
          233.37,
          249.37,
          250.12,
          279.62,
          298.81,
          322.01,
          326.83,
          331.51,
          336.29,
          340.94,
          343.4,
          350.86,
          352.31,
          355.77,
          365.06,
          384.59,
          395.72,
          422.96,
          429.45,
          431.12,
          452.01,
          456,
          458.01,
          459.68,
          478.8,
          484.55,
          489.75,
          496.3,
          505.08,
          506.64,
          512.25,
          555.41,
          557.84,
          569.5,
          574.49,
          586.79,
          633.39,
          646.89,
          651.59,
          668.83,
          717.88,
          728.25,
          756.17,
          775.35,
          785.78,
          860.1,
          869.57,
          876.44,
          895.5,
          948.77,
          948.89,
          973.86,
          1072.76,
          1080.34,
          1087.3,
          1095.29,
          1095.54,
          1140.72,
          1153.84,
          1219.23,
          1266.12,
          1287.18,
          1298.23,
          1349.9,
          1361.87,
          1396.6,
          1408.56,
          1438.12,
          1442.14,
          1537.5,
          1548.49,
          1567.23,
          1597.9,
          1602.29,
          1660.36,
          1662.15,
          1692.72,
          1696.21,
          1708.91,
          1726.42,
          1739.74,
          1751.37,
          1760.88,
          1761.59,
          1788.31,
          1820.55,
          1827.34,
          1837.12,
          1912.42,
          1920.64,
          1958.54,
          1997.79,
          2065.65,
          2169.84,
          2273.34,
          2312.73,
          2389.14,
          2576.85,
          2612.86,
          2641.14,
          2658.05,
          2668.33,
          2696.33,
          2709.12,
          2718.83,
          2742.32,
          2771.72,
          2788.84,
          2824.21,
          2864.96,
          2894.13,
          3043.59,
          3069.92,
          3073.56,
          3085.35,
          3116.22,
          3136.89,
          3191.83,
          3238.89,
          3240.34,
          3254.77,
          3380.11,
          3426.25,
          3484.32,
          3516.5,
          3598.75,
          3623.57,
          3699.23,
          3702.11,
          3713.57,
          3826.65,
          3900.64,
          3902.1,
          3906.77,
          3920.64,
          3968.84,
          4057.63,
          4075.71,
          4078.98,
          4114.21,
          4177.94,
          4195.72,
          4342.9,
          4357.65,
          4383.01,
          4411.23,
          4458.62,
          4484.28,
          4495.17,
          4556.32,
          4564.74,
          4625,
          4638.53,
          4662.55,
          4709.59,
          4763.43,
          4835.03,
          4854.01,
          4855.57,
          4937.06
         ],
         "xaxis": "x",
         "y": [
          4.89993005931961,
          11.93316438286035,
          12.097021096491225,
          15.6487504111825,
          19.33732709110395,
          20.619370828523564,
          21.154155926857307,
          21.771769693619845,
          23.2122682749902,
          23.279791645991935,
          25.93571090539352,
          27.66340889142458,
          29.752131834411593,
          30.186082032049406,
          30.607427867100235,
          31.037776818284634,
          31.456421718495385,
          31.677898375381076,
          32.34953083894501,
          32.4800760228817,
          32.791583841103034,
          33.62797332991119,
          35.38628191079638,
          36.38832873646213,
          38.84077757124515,
          39.4250798083135,
          39.57543184774403,
          41.456182808045696,
          41.81540714177493,
          41.996369776059574,
          42.14672181549011,
          43.86811762022768,
          44.385796797907645,
          44.85395883685301,
          45.4436629436015,
          46.234136540128475,
          46.374585151812084,
          46.879659966905066,
          50.765404890151586,
          50.984180612197214,
          52.03394395337085,
          52.483199448435734,
          53.590582732864185,
          57.786034851105335,
          59.00145552913657,
          59.424601987414114,
          60.97673920884067,
          65.39276767235414,
          66.3263908154048,
          68.84006083989607,
          70.56685851431378,
          71.50588352704457,
          78.19699943750986,
          79.04959453535844,
          79.66810861373433,
          81.38410254879176,
          86.18006251314166,
          86.19086625250195,
          88.43894435105305,
          97.34302620714853,
          98.02546241007273,
          98.65207929296884,
          99.37142827204066,
          99.39393606237456,
          103.4615439315191,
          104.64275276824277,
          110.52989040798074,
          114.75145156300921,
          116.64750782073796,
          117.64235215349684,
          122.29426225970974,
          123.37193526089742,
          126.49871749408443,
          127.57549018365877,
          130.23681131274049,
          130.5987365813098,
          139.18410812627707,
          140.17355058935584,
          141.86073455278586,
          144.62199027095016,
          145.01722706921365,
          150.24533660797465,
          150.40649238676548,
          153.1587449887962,
          153.4729537418576,
          154.61634949082034,
          156.1927951258075,
          157.3920101947983,
          158.43907260113187,
          159.2952689454339,
          159.3591910699822,
          161.7648237008707,
          164.66742834233193,
          165.27873992780098,
          166.1592446856636,
          172.93859113423784,
          173.67864728041687,
          177.09082829503785,
          180.624551377462,
          186.734065985699,
          196.11441268526008,
          205.43263788349952,
          208.97896532851067,
          215.85824636616744,
          232.75799566048173,
          236.00001778017838,
          238.54609902275044,
          240.06852596093628,
          240.9940462994667,
          243.51491881686482,
          244.66641737034774,
          245.54061994691688,
          247.65545192669123,
          250.30236806995921,
          251.84370155202552,
          255.02810372846736,
          258.696873552895,
          261.3230825290558,
          274.7791399022816,
          277.1496603802492,
          277.47737380751096,
          278.53884119965824,
          281.3181031500896,
          283.17904725489745,
          288.1253592586779,
          292.3622257111334,
          292.4927708950702,
          293.79192055314354,
          305.07642631495355,
          309.23046409898024,
          314.45857363774127,
          317.3557764095224,
          324.76083942937936,
          326.99541285373016,
          333.80717052038517,
          334.0664602650318,
          335.0982173739384,
          345.2789410977733,
          351.9403467249978,
          352.0717922205479,
          352.4922377439853,
          353.7409699517107,
          358.08047192808897,
          366.07433874308106,
          367.7021021400295,
          367.9965040375971,
          371.16830185145193,
          376.90598776337265,
          378.50674181192056,
          391.757528137301,
          393.0854877670018,
          395.3686780184739,
          397.90935739136575,
          402.1759341270621,
          404.4861337269348,
          405.46657307388,
          410.9719785895548,
          411.73004096800094,
          417.155318750087,
          418.3734403629583,
          420.5359888582406,
          424.7710546874694,
          429.61833241378065,
          436.0645635654129,
          437.77335500756357,
          437.9138036192471,
          445.25044295648905
         ],
         "yaxis": "y"
        },
        {
         "hovertemplate": "occasion_Date=True<br>Total bill paid by Customer=%{x}<br>Tip (INR)=%{y}<extra></extra>",
         "legendgroup": "True",
         "marker": {
          "color": "#EF553B",
          "symbol": "circle"
         },
         "mode": "markers",
         "name": "True",
         "orientation": "v",
         "showlegend": true,
         "type": "scatter",
         "x": [
          1158.43,
          1018.52,
          4754.65,
          4080.31,
          624.76,
          417.09,
          1502.48,
          2804.94,
          4050.55,
          3592.92,
          3260.28,
          2466.63,
          774.05,
          3851.77,
          2570.22,
          2252.2,
          1590.81,
          4501.24,
          426.47,
          290.19,
          145.42,
          144.22,
          377.06,
          447.1,
          1340.66,
          395.44,
          1036.96,
          744.67,
          337.92,
          412.67,
          1360.89,
          1876.21,
          406.13
         ],
         "xaxis": "x",
         "y": [
          110.2,
          100.5,
          450.2,
          401.5,
          60,
          20,
          152,
          239,
          421,
          324.5,
          234,
          231,
          43,
          274,
          213,
          256,
          134,
          432,
          43,
          23,
          23,
          23,
          43,
          43,
          121,
          32,
          101,
          72,
          23,
          43,
          102,
          123,
          54
         ],
         "yaxis": "y"
        },
        {
         "hovertemplate": "<b>OLS trendline</b><br>tip = 0.09111 * total_bill + -1.43682<br>R<sup>2</sup>=0.960748<br><br>occasion_Date=True<br>Total bill paid by Customer=%{x}<br>Tip (INR)=%{y} <b>(trend)</b><extra></extra>",
         "legendgroup": "True",
         "marker": {
          "color": "#EF553B",
          "symbol": "circle"
         },
         "mode": "lines",
         "name": "True",
         "showlegend": false,
         "type": "scatter",
         "x": [
          144.22,
          145.42,
          290.19,
          337.92,
          377.06,
          395.44,
          406.13,
          412.67,
          417.09,
          426.47,
          447.1,
          624.76,
          744.67,
          774.05,
          1018.52,
          1036.96,
          1158.43,
          1340.66,
          1360.89,
          1502.48,
          1590.81,
          1876.21,
          2252.2,
          2466.63,
          2570.22,
          2804.94,
          3260.28,
          3592.92,
          3851.77,
          4050.55,
          4080.31,
          4501.24,
          4754.65
         ],
         "xaxis": "x",
         "y": [
          11.703074139024446,
          11.812406185525553,
          25.002406495496842,
          29.351088645078452,
          32.91713556178962,
          34.5917380740316,
          35.56570438827898,
          36.16156404171003,
          36.56427041298911,
          37.41888257647278,
          39.298482675904346,
          55.48509216039353,
          66.41009690701684,
          69.08690984551899,
          91.36058101895742,
          93.04065013352447,
          104.10778654059922,
          120.71076890218012,
          122.55392498611133,
          135.45419537285466,
          143.50194509572378,
          169.50475015523753,
          203.76121362519748,
          223.29793923455816,
          232.73602814876637,
          254.1213764443833,
          295.6074214892291,
          325.9142647793365,
          349.4980983100132,
          367.60895181292193,
          370.3203865661494,
          408.6713351775759,
          431.75953009744757
         ],
         "yaxis": "y"
        }
       ],
       "layout": {
        "height": 400,
        "legend": {
         "title": {
          "text": "occasion_Date"
         },
         "tracegroupgap": 0
        },
        "template": {
         "data": {
          "bar": [
           {
            "error_x": {
             "color": "#2a3f5f"
            },
            "error_y": {
             "color": "#2a3f5f"
            },
            "marker": {
             "line": {
              "color": "#E5ECF6",
              "width": 0.5
             },
             "pattern": {
              "fillmode": "overlay",
              "size": 10,
              "solidity": 0.2
             }
            },
            "type": "bar"
           }
          ],
          "barpolar": [
           {
            "marker": {
             "line": {
              "color": "#E5ECF6",
              "width": 0.5
             },
             "pattern": {
              "fillmode": "overlay",
              "size": 10,
              "solidity": 0.2
             }
            },
            "type": "barpolar"
           }
          ],
          "carpet": [
           {
            "aaxis": {
             "endlinecolor": "#2a3f5f",
             "gridcolor": "white",
             "linecolor": "white",
             "minorgridcolor": "white",
             "startlinecolor": "#2a3f5f"
            },
            "baxis": {
             "endlinecolor": "#2a3f5f",
             "gridcolor": "white",
             "linecolor": "white",
             "minorgridcolor": "white",
             "startlinecolor": "#2a3f5f"
            },
            "type": "carpet"
           }
          ],
          "choropleth": [
           {
            "colorbar": {
             "outlinewidth": 0,
             "ticks": ""
            },
            "type": "choropleth"
           }
          ],
          "contour": [
           {
            "colorbar": {
             "outlinewidth": 0,
             "ticks": ""
            },
            "colorscale": [
             [
              0,
              "#0d0887"
             ],
             [
              0.1111111111111111,
              "#46039f"
             ],
             [
              0.2222222222222222,
              "#7201a8"
             ],
             [
              0.3333333333333333,
              "#9c179e"
             ],
             [
              0.4444444444444444,
              "#bd3786"
             ],
             [
              0.5555555555555556,
              "#d8576b"
             ],
             [
              0.6666666666666666,
              "#ed7953"
             ],
             [
              0.7777777777777778,
              "#fb9f3a"
             ],
             [
              0.8888888888888888,
              "#fdca26"
             ],
             [
              1,
              "#f0f921"
             ]
            ],
            "type": "contour"
           }
          ],
          "contourcarpet": [
           {
            "colorbar": {
             "outlinewidth": 0,
             "ticks": ""
            },
            "type": "contourcarpet"
           }
          ],
          "heatmap": [
           {
            "colorbar": {
             "outlinewidth": 0,
             "ticks": ""
            },
            "colorscale": [
             [
              0,
              "#0d0887"
             ],
             [
              0.1111111111111111,
              "#46039f"
             ],
             [
              0.2222222222222222,
              "#7201a8"
             ],
             [
              0.3333333333333333,
              "#9c179e"
             ],
             [
              0.4444444444444444,
              "#bd3786"
             ],
             [
              0.5555555555555556,
              "#d8576b"
             ],
             [
              0.6666666666666666,
              "#ed7953"
             ],
             [
              0.7777777777777778,
              "#fb9f3a"
             ],
             [
              0.8888888888888888,
              "#fdca26"
             ],
             [
              1,
              "#f0f921"
             ]
            ],
            "type": "heatmap"
           }
          ],
          "heatmapgl": [
           {
            "colorbar": {
             "outlinewidth": 0,
             "ticks": ""
            },
            "colorscale": [
             [
              0,
              "#0d0887"
             ],
             [
              0.1111111111111111,
              "#46039f"
             ],
             [
              0.2222222222222222,
              "#7201a8"
             ],
             [
              0.3333333333333333,
              "#9c179e"
             ],
             [
              0.4444444444444444,
              "#bd3786"
             ],
             [
              0.5555555555555556,
              "#d8576b"
             ],
             [
              0.6666666666666666,
              "#ed7953"
             ],
             [
              0.7777777777777778,
              "#fb9f3a"
             ],
             [
              0.8888888888888888,
              "#fdca26"
             ],
             [
              1,
              "#f0f921"
             ]
            ],
            "type": "heatmapgl"
           }
          ],
          "histogram": [
           {
            "marker": {
             "pattern": {
              "fillmode": "overlay",
              "size": 10,
              "solidity": 0.2
             }
            },
            "type": "histogram"
           }
          ],
          "histogram2d": [
           {
            "colorbar": {
             "outlinewidth": 0,
             "ticks": ""
            },
            "colorscale": [
             [
              0,
              "#0d0887"
             ],
             [
              0.1111111111111111,
              "#46039f"
             ],
             [
              0.2222222222222222,
              "#7201a8"
             ],
             [
              0.3333333333333333,
              "#9c179e"
             ],
             [
              0.4444444444444444,
              "#bd3786"
             ],
             [
              0.5555555555555556,
              "#d8576b"
             ],
             [
              0.6666666666666666,
              "#ed7953"
             ],
             [
              0.7777777777777778,
              "#fb9f3a"
             ],
             [
              0.8888888888888888,
              "#fdca26"
             ],
             [
              1,
              "#f0f921"
             ]
            ],
            "type": "histogram2d"
           }
          ],
          "histogram2dcontour": [
           {
            "colorbar": {
             "outlinewidth": 0,
             "ticks": ""
            },
            "colorscale": [
             [
              0,
              "#0d0887"
             ],
             [
              0.1111111111111111,
              "#46039f"
             ],
             [
              0.2222222222222222,
              "#7201a8"
             ],
             [
              0.3333333333333333,
              "#9c179e"
             ],
             [
              0.4444444444444444,
              "#bd3786"
             ],
             [
              0.5555555555555556,
              "#d8576b"
             ],
             [
              0.6666666666666666,
              "#ed7953"
             ],
             [
              0.7777777777777778,
              "#fb9f3a"
             ],
             [
              0.8888888888888888,
              "#fdca26"
             ],
             [
              1,
              "#f0f921"
             ]
            ],
            "type": "histogram2dcontour"
           }
          ],
          "mesh3d": [
           {
            "colorbar": {
             "outlinewidth": 0,
             "ticks": ""
            },
            "type": "mesh3d"
           }
          ],
          "parcoords": [
           {
            "line": {
             "colorbar": {
              "outlinewidth": 0,
              "ticks": ""
             }
            },
            "type": "parcoords"
           }
          ],
          "pie": [
           {
            "automargin": true,
            "type": "pie"
           }
          ],
          "scatter": [
           {
            "fillpattern": {
             "fillmode": "overlay",
             "size": 10,
             "solidity": 0.2
            },
            "type": "scatter"
           }
          ],
          "scatter3d": [
           {
            "line": {
             "colorbar": {
              "outlinewidth": 0,
              "ticks": ""
             }
            },
            "marker": {
             "colorbar": {
              "outlinewidth": 0,
              "ticks": ""
             }
            },
            "type": "scatter3d"
           }
          ],
          "scattercarpet": [
           {
            "marker": {
             "colorbar": {
              "outlinewidth": 0,
              "ticks": ""
             }
            },
            "type": "scattercarpet"
           }
          ],
          "scattergeo": [
           {
            "marker": {
             "colorbar": {
              "outlinewidth": 0,
              "ticks": ""
             }
            },
            "type": "scattergeo"
           }
          ],
          "scattergl": [
           {
            "marker": {
             "colorbar": {
              "outlinewidth": 0,
              "ticks": ""
             }
            },
            "type": "scattergl"
           }
          ],
          "scattermapbox": [
           {
            "marker": {
             "colorbar": {
              "outlinewidth": 0,
              "ticks": ""
             }
            },
            "type": "scattermapbox"
           }
          ],
          "scatterpolar": [
           {
            "marker": {
             "colorbar": {
              "outlinewidth": 0,
              "ticks": ""
             }
            },
            "type": "scatterpolar"
           }
          ],
          "scatterpolargl": [
           {
            "marker": {
             "colorbar": {
              "outlinewidth": 0,
              "ticks": ""
             }
            },
            "type": "scatterpolargl"
           }
          ],
          "scatterternary": [
           {
            "marker": {
             "colorbar": {
              "outlinewidth": 0,
              "ticks": ""
             }
            },
            "type": "scatterternary"
           }
          ],
          "surface": [
           {
            "colorbar": {
             "outlinewidth": 0,
             "ticks": ""
            },
            "colorscale": [
             [
              0,
              "#0d0887"
             ],
             [
              0.1111111111111111,
              "#46039f"
             ],
             [
              0.2222222222222222,
              "#7201a8"
             ],
             [
              0.3333333333333333,
              "#9c179e"
             ],
             [
              0.4444444444444444,
              "#bd3786"
             ],
             [
              0.5555555555555556,
              "#d8576b"
             ],
             [
              0.6666666666666666,
              "#ed7953"
             ],
             [
              0.7777777777777778,
              "#fb9f3a"
             ],
             [
              0.8888888888888888,
              "#fdca26"
             ],
             [
              1,
              "#f0f921"
             ]
            ],
            "type": "surface"
           }
          ],
          "table": [
           {
            "cells": {
             "fill": {
              "color": "#EBF0F8"
             },
             "line": {
              "color": "white"
             }
            },
            "header": {
             "fill": {
              "color": "#C8D4E3"
             },
             "line": {
              "color": "white"
             }
            },
            "type": "table"
           }
          ]
         },
         "layout": {
          "annotationdefaults": {
           "arrowcolor": "#2a3f5f",
           "arrowhead": 0,
           "arrowwidth": 1
          },
          "autotypenumbers": "strict",
          "coloraxis": {
           "colorbar": {
            "outlinewidth": 0,
            "ticks": ""
           }
          },
          "colorscale": {
           "diverging": [
            [
             0,
             "#8e0152"
            ],
            [
             0.1,
             "#c51b7d"
            ],
            [
             0.2,
             "#de77ae"
            ],
            [
             0.3,
             "#f1b6da"
            ],
            [
             0.4,
             "#fde0ef"
            ],
            [
             0.5,
             "#f7f7f7"
            ],
            [
             0.6,
             "#e6f5d0"
            ],
            [
             0.7,
             "#b8e186"
            ],
            [
             0.8,
             "#7fbc41"
            ],
            [
             0.9,
             "#4d9221"
            ],
            [
             1,
             "#276419"
            ]
           ],
           "sequential": [
            [
             0,
             "#0d0887"
            ],
            [
             0.1111111111111111,
             "#46039f"
            ],
            [
             0.2222222222222222,
             "#7201a8"
            ],
            [
             0.3333333333333333,
             "#9c179e"
            ],
            [
             0.4444444444444444,
             "#bd3786"
            ],
            [
             0.5555555555555556,
             "#d8576b"
            ],
            [
             0.6666666666666666,
             "#ed7953"
            ],
            [
             0.7777777777777778,
             "#fb9f3a"
            ],
            [
             0.8888888888888888,
             "#fdca26"
            ],
            [
             1,
             "#f0f921"
            ]
           ],
           "sequentialminus": [
            [
             0,
             "#0d0887"
            ],
            [
             0.1111111111111111,
             "#46039f"
            ],
            [
             0.2222222222222222,
             "#7201a8"
            ],
            [
             0.3333333333333333,
             "#9c179e"
            ],
            [
             0.4444444444444444,
             "#bd3786"
            ],
            [
             0.5555555555555556,
             "#d8576b"
            ],
            [
             0.6666666666666666,
             "#ed7953"
            ],
            [
             0.7777777777777778,
             "#fb9f3a"
            ],
            [
             0.8888888888888888,
             "#fdca26"
            ],
            [
             1,
             "#f0f921"
            ]
           ]
          },
          "colorway": [
           "#636efa",
           "#EF553B",
           "#00cc96",
           "#ab63fa",
           "#FFA15A",
           "#19d3f3",
           "#FF6692",
           "#B6E880",
           "#FF97FF",
           "#FECB52"
          ],
          "font": {
           "color": "#2a3f5f"
          },
          "geo": {
           "bgcolor": "white",
           "lakecolor": "white",
           "landcolor": "#E5ECF6",
           "showlakes": true,
           "showland": true,
           "subunitcolor": "white"
          },
          "hoverlabel": {
           "align": "left"
          },
          "hovermode": "closest",
          "mapbox": {
           "style": "light"
          },
          "paper_bgcolor": "white",
          "plot_bgcolor": "#E5ECF6",
          "polar": {
           "angularaxis": {
            "gridcolor": "white",
            "linecolor": "white",
            "ticks": ""
           },
           "bgcolor": "#E5ECF6",
           "radialaxis": {
            "gridcolor": "white",
            "linecolor": "white",
            "ticks": ""
           }
          },
          "scene": {
           "xaxis": {
            "backgroundcolor": "#E5ECF6",
            "gridcolor": "white",
            "gridwidth": 2,
            "linecolor": "white",
            "showbackground": true,
            "ticks": "",
            "zerolinecolor": "white"
           },
           "yaxis": {
            "backgroundcolor": "#E5ECF6",
            "gridcolor": "white",
            "gridwidth": 2,
            "linecolor": "white",
            "showbackground": true,
            "ticks": "",
            "zerolinecolor": "white"
           },
           "zaxis": {
            "backgroundcolor": "#E5ECF6",
            "gridcolor": "white",
            "gridwidth": 2,
            "linecolor": "white",
            "showbackground": true,
            "ticks": "",
            "zerolinecolor": "white"
           }
          },
          "shapedefaults": {
           "line": {
            "color": "#2a3f5f"
           }
          },
          "ternary": {
           "aaxis": {
            "gridcolor": "white",
            "linecolor": "white",
            "ticks": ""
           },
           "baxis": {
            "gridcolor": "white",
            "linecolor": "white",
            "ticks": ""
           },
           "bgcolor": "#E5ECF6",
           "caxis": {
            "gridcolor": "white",
            "linecolor": "white",
            "ticks": ""
           }
          },
          "title": {
           "x": 0.05
          },
          "xaxis": {
           "automargin": true,
           "gridcolor": "white",
           "linecolor": "white",
           "ticks": "",
           "title": {
            "standoff": 15
           },
           "zerolinecolor": "white",
           "zerolinewidth": 2
          },
          "yaxis": {
           "automargin": true,
           "gridcolor": "white",
           "linecolor": "white",
           "ticks": "",
           "title": {
            "standoff": 15
           },
           "zerolinecolor": "white",
           "zerolinewidth": 2
          }
         }
        },
        "title": {
         "text": "Distribution of Tips by Ocassion"
        },
        "xaxis": {
         "anchor": "y",
         "domain": [
          0,
          1
         ],
         "title": {
          "text": "Total bill paid by Customer"
         }
        },
        "yaxis": {
         "anchor": "x",
         "domain": [
          0,
          1
         ],
         "title": {
          "text": "Tip (INR)"
         }
        }
       }
      }
     },
     "metadata": {},
     "output_type": "display_data"
    }
   ],
   "source": [
    "fig = px.scatter(data_frame= df, x='total_bill', y='tip', color='occasion_Date',trendline=\"ols\",\n",
    "             title='Distribution of Tips by Ocassion',\n",
    "             labels={'tip': 'Tip (INR)', 'total_bill': 'Total bill paid by Customer'},\n",
    "             height=400)\n",
    "fig.show()"
   ]
  },
  {
   "cell_type": "code",
   "execution_count": 102,
   "id": "583e278b",
   "metadata": {},
   "outputs": [
    {
     "data": {
      "application/vnd.plotly.v1+json": {
       "config": {
        "plotlyServerURL": "https://plot.ly"
       },
       "data": [
        {
         "hovertemplate": "occasion_Festival=False<br>Total bill paid by Customer=%{x}<br>Tip (INR)=%{y}<extra></extra>",
         "legendgroup": "False",
         "marker": {
          "color": "#636efa",
          "symbol": "circle"
         },
         "mode": "markers",
         "name": "False",
         "orientation": "v",
         "showlegend": true,
         "type": "scatter",
         "x": [
          1997.79,
          4763.43,
          3713.57,
          3073.56,
          948.89,
          948.77,
          478.8,
          4357.65,
          3085.35,
          3598.75,
          298.81,
          4855.57,
          4195.72,
          1219.23,
          1072.76,
          1080.34,
          1660.36,
          2718.83,
          2273.34,
          1597.9,
          1958.54,
          2389.14,
          3968.84,
          1158.43,
          3043.59,
          422.96,
          1018.52,
          4754.65,
          4835.03,
          4080.31,
          1662.15,
          668.83,
          3484.32,
          2312.73,
          785.78,
          2576.85,
          365.06,
          4564.74,
          1442.14,
          3380.11,
          1696.21,
          2824.21,
          1087.3,
          4854.01,
          3920.64,
          4709.59,
          4495.17,
          3069.92,
          4625,
          624.76,
          417.09,
          2065.65,
          1502.48,
          4177.94,
          2804.94,
          876.44,
          4050.55,
          557.84,
          4937.06,
          3906.77,
          1153.84,
          226.51,
          4114.21,
          3592.92,
          3699.23,
          3902.1,
          555.41,
          1920.64,
          756.17,
          4342.9,
          3191.83,
          1788.31,
          505.08,
          1692.72,
          1760.88,
          3702.11,
          3260.28,
          4458.62,
          2466.63,
          774.05,
          3623.57,
          3851.77,
          3900.64,
          2570.22,
          2252.2,
          322.01,
          350.86,
          3254.77,
          1396.6,
          1590.81,
          973.86,
          4662.55,
          4078.98,
          3240.34,
          4383.01,
          4057.63,
          1095.54,
          4484.28,
          2788.84,
          4075.71,
          4501.24,
          1726.42,
          728.25,
          124.09,
          250.12,
          426.47,
          233.37,
          651.59,
          220.57,
          1266.12,
          775.35,
          1820.55,
          45.97,
          290.19,
          145.42,
          484.55,
          489.75,
          1408.56,
          586.79,
          144.22,
          1567.23,
          377.06,
          447.1,
          459.68,
          1349.9,
          895.5,
          249.37,
          1361.87,
          355.77,
          1340.66,
          395.44,
          165.36,
          2771.72,
          633.39,
          429.45,
          1739.74,
          1095.29,
          395.72,
          336.29,
          352.31,
          279.62,
          1287.18,
          326.83,
          1036.96,
          3516.5,
          206.33,
          496.3,
          860.1,
          1837.12,
          744.67,
          4638.53,
          4411.23,
          1438.12,
          337.92,
          412.67,
          2742.32,
          1360.89,
          646.89,
          506.64,
          452.01,
          3238.89,
          1827.34,
          1876.21,
          384.59,
          406.13,
          343.4
         ],
         "xaxis": "x",
         "y": [
          190,
          470.3,
          370.7,
          300.6,
          94.9,
          94.7,
          47.6,
          430.5,
          300.1,
          340,
          20,
          470.3,
          400.3,
          120,
          90.2,
          100,
          150.3,
          250.3,
          220.1,
          150.2,
          190.3,
          230.5,
          390.2,
          110.2,
          300.2,
          42.1,
          100.5,
          450.2,
          490.23,
          401.5,
          140.3,
          63.2,
          340.2,
          231.34,
          79.2,
          250.3,
          30,
          400.23,
          140.3,
          300,
          150,
          250.3,
          100,
          450.2,
          310.2,
          450.2,
          390,
          300,
          450.3,
          60,
          20,
          245,
          152,
          412,
          239,
          60.34,
          421,
          32,
          324.1,
          345,
          112,
          20,
          412,
          324.5,
          342,
          342,
          52,
          165,
          65,
          432,
          312,
          123.5,
          49.4,
          154,
          145,
          354,
          234,
          342,
          231,
          43,
          312.4,
          274,
          352,
          213,
          256,
          20,
          34,
          321,
          132,
          134,
          64,
          461,
          342,
          245,
          354,
          325,
          75,
          412,
          255,
          394,
          432,
          152,
          56,
          12,
          23,
          43,
          43,
          54,
          23,
          224,
          23,
          190,
          3,
          23,
          23,
          42,
          23,
          109,
          43,
          23,
          123,
          43,
          43,
          43,
          143,
          43,
          24,
          150,
          23,
          121,
          32,
          34,
          254,
          63,
          42,
          171,
          100,
          43,
          42,
          24,
          43,
          132,
          23,
          101,
          235,
          32,
          43,
          23,
          139,
          72,
          412,
          312,
          113,
          23,
          43,
          234,
          102,
          43,
          64,
          43,
          421,
          142,
          123,
          43,
          54,
          31
         ],
         "yaxis": "y"
        },
        {
         "hovertemplate": "<b>OLS trendline</b><br>tip = 0.0913471 * total_bill + -0.364702<br>R<sup>2</sup>=0.958880<br><br>occasion_Festival=False<br>Total bill paid by Customer=%{x}<br>Tip (INR)=%{y} <b>(trend)</b><extra></extra>",
         "legendgroup": "False",
         "marker": {
          "color": "#636efa",
          "symbol": "circle"
         },
         "mode": "lines",
         "name": "False",
         "showlegend": false,
         "type": "scatter",
         "x": [
          45.97,
          124.09,
          144.22,
          145.42,
          165.36,
          206.33,
          220.57,
          226.51,
          233.37,
          249.37,
          250.12,
          279.62,
          290.19,
          298.81,
          322.01,
          326.83,
          336.29,
          337.92,
          343.4,
          350.86,
          352.31,
          355.77,
          365.06,
          377.06,
          384.59,
          395.44,
          395.72,
          406.13,
          412.67,
          417.09,
          422.96,
          426.47,
          429.45,
          447.1,
          452.01,
          459.68,
          478.8,
          484.55,
          489.75,
          496.3,
          505.08,
          506.64,
          555.41,
          557.84,
          586.79,
          624.76,
          633.39,
          646.89,
          651.59,
          668.83,
          728.25,
          744.67,
          756.17,
          774.05,
          775.35,
          785.78,
          860.1,
          876.44,
          895.5,
          948.77,
          948.89,
          973.86,
          1018.52,
          1036.96,
          1072.76,
          1080.34,
          1087.3,
          1095.29,
          1095.54,
          1153.84,
          1158.43,
          1219.23,
          1266.12,
          1287.18,
          1340.66,
          1349.9,
          1360.89,
          1361.87,
          1396.6,
          1408.56,
          1438.12,
          1442.14,
          1502.48,
          1567.23,
          1590.81,
          1597.9,
          1660.36,
          1662.15,
          1692.72,
          1696.21,
          1726.42,
          1739.74,
          1760.88,
          1788.31,
          1820.55,
          1827.34,
          1837.12,
          1876.21,
          1920.64,
          1958.54,
          1997.79,
          2065.65,
          2252.2,
          2273.34,
          2312.73,
          2389.14,
          2466.63,
          2570.22,
          2576.85,
          2718.83,
          2742.32,
          2771.72,
          2788.84,
          2804.94,
          2824.21,
          3043.59,
          3069.92,
          3073.56,
          3085.35,
          3191.83,
          3238.89,
          3240.34,
          3254.77,
          3260.28,
          3380.11,
          3484.32,
          3516.5,
          3592.92,
          3598.75,
          3623.57,
          3699.23,
          3702.11,
          3713.57,
          3851.77,
          3900.64,
          3902.1,
          3906.77,
          3920.64,
          3968.84,
          4050.55,
          4057.63,
          4075.71,
          4078.98,
          4080.31,
          4114.21,
          4177.94,
          4195.72,
          4342.9,
          4357.65,
          4383.01,
          4411.23,
          4458.62,
          4484.28,
          4495.17,
          4501.24,
          4564.74,
          4625,
          4638.53,
          4662.55,
          4709.59,
          4754.65,
          4763.43,
          4835.03,
          4854.01,
          4855.57,
          4937.06
         ],
         "xaxis": "x",
         "y": [
          3.834522035229048,
          10.970554135211536,
          12.809370394462015,
          12.918986862971732,
          14.74044718137484,
          18.482936110410716,
          19.78371820339267,
          20.326319722515763,
          20.952960534162973,
          22.414513447625847,
          22.48302374044442,
          25.177761924641594,
          26.143300318098007,
          26.93071195022613,
          29.0499636747473,
          29.49025648992799,
          30.35439965001292,
          30.503295353071948,
          31.00387722593298,
          31.68532627183505,
          31.817779504617622,
          32.133840322153965,
          32.98245448253335,
          34.07861916763051,
          34.76646250752897,
          35.75757807697099,
          35.78315525295659,
          36.73407811727837,
          37.33148787065632,
          37.73524186300044,
          38.27144908812713,
          38.59207725851805,
          38.86429148865051,
          40.476567046314244,
          40.925081096633164,
          41.62571302452443,
          43.37226875611257,
          43.89751433438828,
          44.37251903126372,
          44.97084225521259,
          45.77286941647534,
          45.91537082553796,
          50.37036679988699,
          50.59234014861917,
          53.23683745141605,
          56.70528520917764,
          57.49361031187668,
          58.72679558261098,
          59.15612675094071,
          60.73095001519695,
          66.1587921475697,
          67.65871082501097,
          68.70920198156242,
          70.34248736235718,
          70.46123853657605,
          71.41398834203964,
          78.2029016250747,
          79.69551253794867,
          81.43658744611132,
          86.30264517737177,
          86.31360682422275,
          88.59454283979575,
          92.674102409499,
          94.35854214226497,
          97.62876678613814,
          98.32117747889117,
          98.95695299624752,
          99.68681598240805,
          99.70965274668092,
          105.03518617511126,
          105.45446916716094,
          111.00837023831986,
          115.29163374533698,
          117.2154027676825,
          122.10064338093217,
          122.94469018845697,
          123.94859434589179,
          124.03811446184137,
          127.21059775462673,
          128.30310855744023,
          131.00332756506288,
          131.37054273457045,
          136.8824241594673,
          142.79714610613738,
          144.9511097123533,
          145.59876034713153,
          151.3042975330622,
          151.46780876525588,
          154.26028830054088,
          154.57908952978997,
          157.33868412452208,
          158.5554269249799,
          160.48650371189274,
          162.99215348791066,
          165.93718260853834,
          166.55742912618913,
          167.45080334454332,
          171.02155980624732,
          175.08010955281955,
          178.5421630165847,
          182.12753500742335,
          188.32634630164776,
          205.36713980205394,
          207.2982165889668,
          210.89637716779822,
          217.87620580015434,
          224.95468925416924,
          234.41733089827042,
          235.02296188678662,
          247.9924170526278,
          250.1381594237055,
          252.8237629021935,
          254.3876245195988,
          255.85831213877083,
          257.6185699289227,
          277.6582873136405,
          280.0634553268579,
          280.39595861467063,
          281.4729404177786,
          291.19957505687404,
          295.49836756359673,
          295.63082079637934,
          296.94895883020865,
          297.4522811147824,
          308.39839896604843,
          317.91767578554635,
          320.85722408274853,
          327.8379661856756,
          328.3705195285186,
          330.6377534855279,
          337.5490718250655,
          337.81215134948883,
          338.8589886237566,
          351.48315191379214,
          355.94728259385033,
          356.0806492972038,
          356.5072400538208,
          357.7742237356789,
          362.1771518874858,
          369.6411199224266,
          370.2878570866339,
          371.93941187884695,
          372.2381167555359,
          372.3596083414675,
          375.456273576867,
          381.27782152530375,
          382.9019722003894,
          396.34643206310596,
          397.6938011552046,
          400.0103625230433,
          402.5881764741634,
          406.9171135097263,
          409.26107899469235,
          410.25584844641804,
          410.810325082963,
          416.61086320826877,
          422.11543686859835,
          423.3513625510454,
          425.5455188623815,
          429.8424844279624,
          433.95858282050216,
          434.76060998176496,
          441.3010592695113,
          443.03482641310666,
          443.1773278221693,
          450.6211995045499
         ],
         "yaxis": "y"
        },
        {
         "hovertemplate": "occasion_Festival=True<br>Total bill paid by Customer=%{x}<br>Tip (INR)=%{y}<extra></extra>",
         "legendgroup": "True",
         "marker": {
          "color": "#EF553B",
          "symbol": "circle"
         },
         "mode": "markers",
         "name": "True",
         "orientation": "v",
         "showlegend": true,
         "type": "scatter",
         "x": [
          3136.89,
          869.57,
          1602.29,
          2668.33,
          3116.22,
          512.25,
          2696.33,
          1140.72,
          1761.59,
          1912.42,
          1548.49,
          2894.13,
          2709.12,
          717.88,
          1708.91,
          2641.14,
          4556.32,
          2169.84,
          3826.65,
          1298.23,
          569.5,
          331.51,
          1751.37,
          574.49,
          125.91,
          2612.86,
          1537.5,
          431.12,
          3426.25,
          456,
          340.94,
          2658.05,
          2864.96,
          458.01
         ],
         "xaxis": "x",
         "y": [
          300.2,
          79.9,
          150.3,
          261.1,
          300.1,
          54,
          250.3,
          100,
          165,
          191,
          123,
          234,
          211,
          50,
          149,
          245,
          357,
          234,
          315,
          126,
          54,
          23,
          132,
          43,
          23,
          242,
          123,
          54,
          234,
          43,
          34,
          190,
          162,
          64
         ],
         "yaxis": "y"
        },
        {
         "hovertemplate": "<b>OLS trendline</b><br>tip = 0.0794294 * total_bill + 12.4118<br>R<sup>2</sup>=0.928529<br><br>occasion_Festival=True<br>Total bill paid by Customer=%{x}<br>Tip (INR)=%{y} <b>(trend)</b><extra></extra>",
         "legendgroup": "True",
         "marker": {
          "color": "#EF553B",
          "symbol": "circle"
         },
         "mode": "lines",
         "name": "True",
         "showlegend": false,
         "type": "scatter",
         "x": [
          125.91,
          331.51,
          340.94,
          431.12,
          456,
          458.01,
          512.25,
          569.5,
          574.49,
          717.88,
          869.57,
          1140.72,
          1298.23,
          1537.5,
          1548.49,
          1602.29,
          1708.91,
          1751.37,
          1761.59,
          1912.42,
          2169.84,
          2612.86,
          2641.14,
          2658.05,
          2668.33,
          2696.33,
          2709.12,
          2864.96,
          2894.13,
          3116.22,
          3136.89,
          3426.25,
          3826.65,
          4556.32
         ],
         "xaxis": "x",
         "y": [
          22.41277434173081,
          38.743454119279534,
          39.49247313825951,
          46.65541429749757,
          48.6316171810842,
          48.79127022754759,
          53.099519600768616,
          57.64685139680298,
          58.04320398478921,
          69.43258225960784,
          81.48122435813103,
          103.01849975541865,
          115.52942082429851,
          134.53448770354987,
          135.4074165496358,
          139.68071699726283,
          148.14947710369398,
          151.52204842351267,
          152.33381664980908,
          164.3141494846713,
          184.7608595446742,
          219.9496618552269,
          222.19592461840335,
          223.53907537248097,
          224.35560936135835,
          226.57963189915682,
          227.59553362267263,
          239.97380763304807,
          242.29076254117598,
          259.93123273473526,
          261.57303794388866,
          284.5567222845088,
          316.36024457502685,
          374.3174776162913
         ],
         "yaxis": "y"
        }
       ],
       "layout": {
        "height": 400,
        "legend": {
         "title": {
          "text": "occasion_Festival"
         },
         "tracegroupgap": 0
        },
        "template": {
         "data": {
          "bar": [
           {
            "error_x": {
             "color": "#2a3f5f"
            },
            "error_y": {
             "color": "#2a3f5f"
            },
            "marker": {
             "line": {
              "color": "#E5ECF6",
              "width": 0.5
             },
             "pattern": {
              "fillmode": "overlay",
              "size": 10,
              "solidity": 0.2
             }
            },
            "type": "bar"
           }
          ],
          "barpolar": [
           {
            "marker": {
             "line": {
              "color": "#E5ECF6",
              "width": 0.5
             },
             "pattern": {
              "fillmode": "overlay",
              "size": 10,
              "solidity": 0.2
             }
            },
            "type": "barpolar"
           }
          ],
          "carpet": [
           {
            "aaxis": {
             "endlinecolor": "#2a3f5f",
             "gridcolor": "white",
             "linecolor": "white",
             "minorgridcolor": "white",
             "startlinecolor": "#2a3f5f"
            },
            "baxis": {
             "endlinecolor": "#2a3f5f",
             "gridcolor": "white",
             "linecolor": "white",
             "minorgridcolor": "white",
             "startlinecolor": "#2a3f5f"
            },
            "type": "carpet"
           }
          ],
          "choropleth": [
           {
            "colorbar": {
             "outlinewidth": 0,
             "ticks": ""
            },
            "type": "choropleth"
           }
          ],
          "contour": [
           {
            "colorbar": {
             "outlinewidth": 0,
             "ticks": ""
            },
            "colorscale": [
             [
              0,
              "#0d0887"
             ],
             [
              0.1111111111111111,
              "#46039f"
             ],
             [
              0.2222222222222222,
              "#7201a8"
             ],
             [
              0.3333333333333333,
              "#9c179e"
             ],
             [
              0.4444444444444444,
              "#bd3786"
             ],
             [
              0.5555555555555556,
              "#d8576b"
             ],
             [
              0.6666666666666666,
              "#ed7953"
             ],
             [
              0.7777777777777778,
              "#fb9f3a"
             ],
             [
              0.8888888888888888,
              "#fdca26"
             ],
             [
              1,
              "#f0f921"
             ]
            ],
            "type": "contour"
           }
          ],
          "contourcarpet": [
           {
            "colorbar": {
             "outlinewidth": 0,
             "ticks": ""
            },
            "type": "contourcarpet"
           }
          ],
          "heatmap": [
           {
            "colorbar": {
             "outlinewidth": 0,
             "ticks": ""
            },
            "colorscale": [
             [
              0,
              "#0d0887"
             ],
             [
              0.1111111111111111,
              "#46039f"
             ],
             [
              0.2222222222222222,
              "#7201a8"
             ],
             [
              0.3333333333333333,
              "#9c179e"
             ],
             [
              0.4444444444444444,
              "#bd3786"
             ],
             [
              0.5555555555555556,
              "#d8576b"
             ],
             [
              0.6666666666666666,
              "#ed7953"
             ],
             [
              0.7777777777777778,
              "#fb9f3a"
             ],
             [
              0.8888888888888888,
              "#fdca26"
             ],
             [
              1,
              "#f0f921"
             ]
            ],
            "type": "heatmap"
           }
          ],
          "heatmapgl": [
           {
            "colorbar": {
             "outlinewidth": 0,
             "ticks": ""
            },
            "colorscale": [
             [
              0,
              "#0d0887"
             ],
             [
              0.1111111111111111,
              "#46039f"
             ],
             [
              0.2222222222222222,
              "#7201a8"
             ],
             [
              0.3333333333333333,
              "#9c179e"
             ],
             [
              0.4444444444444444,
              "#bd3786"
             ],
             [
              0.5555555555555556,
              "#d8576b"
             ],
             [
              0.6666666666666666,
              "#ed7953"
             ],
             [
              0.7777777777777778,
              "#fb9f3a"
             ],
             [
              0.8888888888888888,
              "#fdca26"
             ],
             [
              1,
              "#f0f921"
             ]
            ],
            "type": "heatmapgl"
           }
          ],
          "histogram": [
           {
            "marker": {
             "pattern": {
              "fillmode": "overlay",
              "size": 10,
              "solidity": 0.2
             }
            },
            "type": "histogram"
           }
          ],
          "histogram2d": [
           {
            "colorbar": {
             "outlinewidth": 0,
             "ticks": ""
            },
            "colorscale": [
             [
              0,
              "#0d0887"
             ],
             [
              0.1111111111111111,
              "#46039f"
             ],
             [
              0.2222222222222222,
              "#7201a8"
             ],
             [
              0.3333333333333333,
              "#9c179e"
             ],
             [
              0.4444444444444444,
              "#bd3786"
             ],
             [
              0.5555555555555556,
              "#d8576b"
             ],
             [
              0.6666666666666666,
              "#ed7953"
             ],
             [
              0.7777777777777778,
              "#fb9f3a"
             ],
             [
              0.8888888888888888,
              "#fdca26"
             ],
             [
              1,
              "#f0f921"
             ]
            ],
            "type": "histogram2d"
           }
          ],
          "histogram2dcontour": [
           {
            "colorbar": {
             "outlinewidth": 0,
             "ticks": ""
            },
            "colorscale": [
             [
              0,
              "#0d0887"
             ],
             [
              0.1111111111111111,
              "#46039f"
             ],
             [
              0.2222222222222222,
              "#7201a8"
             ],
             [
              0.3333333333333333,
              "#9c179e"
             ],
             [
              0.4444444444444444,
              "#bd3786"
             ],
             [
              0.5555555555555556,
              "#d8576b"
             ],
             [
              0.6666666666666666,
              "#ed7953"
             ],
             [
              0.7777777777777778,
              "#fb9f3a"
             ],
             [
              0.8888888888888888,
              "#fdca26"
             ],
             [
              1,
              "#f0f921"
             ]
            ],
            "type": "histogram2dcontour"
           }
          ],
          "mesh3d": [
           {
            "colorbar": {
             "outlinewidth": 0,
             "ticks": ""
            },
            "type": "mesh3d"
           }
          ],
          "parcoords": [
           {
            "line": {
             "colorbar": {
              "outlinewidth": 0,
              "ticks": ""
             }
            },
            "type": "parcoords"
           }
          ],
          "pie": [
           {
            "automargin": true,
            "type": "pie"
           }
          ],
          "scatter": [
           {
            "fillpattern": {
             "fillmode": "overlay",
             "size": 10,
             "solidity": 0.2
            },
            "type": "scatter"
           }
          ],
          "scatter3d": [
           {
            "line": {
             "colorbar": {
              "outlinewidth": 0,
              "ticks": ""
             }
            },
            "marker": {
             "colorbar": {
              "outlinewidth": 0,
              "ticks": ""
             }
            },
            "type": "scatter3d"
           }
          ],
          "scattercarpet": [
           {
            "marker": {
             "colorbar": {
              "outlinewidth": 0,
              "ticks": ""
             }
            },
            "type": "scattercarpet"
           }
          ],
          "scattergeo": [
           {
            "marker": {
             "colorbar": {
              "outlinewidth": 0,
              "ticks": ""
             }
            },
            "type": "scattergeo"
           }
          ],
          "scattergl": [
           {
            "marker": {
             "colorbar": {
              "outlinewidth": 0,
              "ticks": ""
             }
            },
            "type": "scattergl"
           }
          ],
          "scattermapbox": [
           {
            "marker": {
             "colorbar": {
              "outlinewidth": 0,
              "ticks": ""
             }
            },
            "type": "scattermapbox"
           }
          ],
          "scatterpolar": [
           {
            "marker": {
             "colorbar": {
              "outlinewidth": 0,
              "ticks": ""
             }
            },
            "type": "scatterpolar"
           }
          ],
          "scatterpolargl": [
           {
            "marker": {
             "colorbar": {
              "outlinewidth": 0,
              "ticks": ""
             }
            },
            "type": "scatterpolargl"
           }
          ],
          "scatterternary": [
           {
            "marker": {
             "colorbar": {
              "outlinewidth": 0,
              "ticks": ""
             }
            },
            "type": "scatterternary"
           }
          ],
          "surface": [
           {
            "colorbar": {
             "outlinewidth": 0,
             "ticks": ""
            },
            "colorscale": [
             [
              0,
              "#0d0887"
             ],
             [
              0.1111111111111111,
              "#46039f"
             ],
             [
              0.2222222222222222,
              "#7201a8"
             ],
             [
              0.3333333333333333,
              "#9c179e"
             ],
             [
              0.4444444444444444,
              "#bd3786"
             ],
             [
              0.5555555555555556,
              "#d8576b"
             ],
             [
              0.6666666666666666,
              "#ed7953"
             ],
             [
              0.7777777777777778,
              "#fb9f3a"
             ],
             [
              0.8888888888888888,
              "#fdca26"
             ],
             [
              1,
              "#f0f921"
             ]
            ],
            "type": "surface"
           }
          ],
          "table": [
           {
            "cells": {
             "fill": {
              "color": "#EBF0F8"
             },
             "line": {
              "color": "white"
             }
            },
            "header": {
             "fill": {
              "color": "#C8D4E3"
             },
             "line": {
              "color": "white"
             }
            },
            "type": "table"
           }
          ]
         },
         "layout": {
          "annotationdefaults": {
           "arrowcolor": "#2a3f5f",
           "arrowhead": 0,
           "arrowwidth": 1
          },
          "autotypenumbers": "strict",
          "coloraxis": {
           "colorbar": {
            "outlinewidth": 0,
            "ticks": ""
           }
          },
          "colorscale": {
           "diverging": [
            [
             0,
             "#8e0152"
            ],
            [
             0.1,
             "#c51b7d"
            ],
            [
             0.2,
             "#de77ae"
            ],
            [
             0.3,
             "#f1b6da"
            ],
            [
             0.4,
             "#fde0ef"
            ],
            [
             0.5,
             "#f7f7f7"
            ],
            [
             0.6,
             "#e6f5d0"
            ],
            [
             0.7,
             "#b8e186"
            ],
            [
             0.8,
             "#7fbc41"
            ],
            [
             0.9,
             "#4d9221"
            ],
            [
             1,
             "#276419"
            ]
           ],
           "sequential": [
            [
             0,
             "#0d0887"
            ],
            [
             0.1111111111111111,
             "#46039f"
            ],
            [
             0.2222222222222222,
             "#7201a8"
            ],
            [
             0.3333333333333333,
             "#9c179e"
            ],
            [
             0.4444444444444444,
             "#bd3786"
            ],
            [
             0.5555555555555556,
             "#d8576b"
            ],
            [
             0.6666666666666666,
             "#ed7953"
            ],
            [
             0.7777777777777778,
             "#fb9f3a"
            ],
            [
             0.8888888888888888,
             "#fdca26"
            ],
            [
             1,
             "#f0f921"
            ]
           ],
           "sequentialminus": [
            [
             0,
             "#0d0887"
            ],
            [
             0.1111111111111111,
             "#46039f"
            ],
            [
             0.2222222222222222,
             "#7201a8"
            ],
            [
             0.3333333333333333,
             "#9c179e"
            ],
            [
             0.4444444444444444,
             "#bd3786"
            ],
            [
             0.5555555555555556,
             "#d8576b"
            ],
            [
             0.6666666666666666,
             "#ed7953"
            ],
            [
             0.7777777777777778,
             "#fb9f3a"
            ],
            [
             0.8888888888888888,
             "#fdca26"
            ],
            [
             1,
             "#f0f921"
            ]
           ]
          },
          "colorway": [
           "#636efa",
           "#EF553B",
           "#00cc96",
           "#ab63fa",
           "#FFA15A",
           "#19d3f3",
           "#FF6692",
           "#B6E880",
           "#FF97FF",
           "#FECB52"
          ],
          "font": {
           "color": "#2a3f5f"
          },
          "geo": {
           "bgcolor": "white",
           "lakecolor": "white",
           "landcolor": "#E5ECF6",
           "showlakes": true,
           "showland": true,
           "subunitcolor": "white"
          },
          "hoverlabel": {
           "align": "left"
          },
          "hovermode": "closest",
          "mapbox": {
           "style": "light"
          },
          "paper_bgcolor": "white",
          "plot_bgcolor": "#E5ECF6",
          "polar": {
           "angularaxis": {
            "gridcolor": "white",
            "linecolor": "white",
            "ticks": ""
           },
           "bgcolor": "#E5ECF6",
           "radialaxis": {
            "gridcolor": "white",
            "linecolor": "white",
            "ticks": ""
           }
          },
          "scene": {
           "xaxis": {
            "backgroundcolor": "#E5ECF6",
            "gridcolor": "white",
            "gridwidth": 2,
            "linecolor": "white",
            "showbackground": true,
            "ticks": "",
            "zerolinecolor": "white"
           },
           "yaxis": {
            "backgroundcolor": "#E5ECF6",
            "gridcolor": "white",
            "gridwidth": 2,
            "linecolor": "white",
            "showbackground": true,
            "ticks": "",
            "zerolinecolor": "white"
           },
           "zaxis": {
            "backgroundcolor": "#E5ECF6",
            "gridcolor": "white",
            "gridwidth": 2,
            "linecolor": "white",
            "showbackground": true,
            "ticks": "",
            "zerolinecolor": "white"
           }
          },
          "shapedefaults": {
           "line": {
            "color": "#2a3f5f"
           }
          },
          "ternary": {
           "aaxis": {
            "gridcolor": "white",
            "linecolor": "white",
            "ticks": ""
           },
           "baxis": {
            "gridcolor": "white",
            "linecolor": "white",
            "ticks": ""
           },
           "bgcolor": "#E5ECF6",
           "caxis": {
            "gridcolor": "white",
            "linecolor": "white",
            "ticks": ""
           }
          },
          "title": {
           "x": 0.05
          },
          "xaxis": {
           "automargin": true,
           "gridcolor": "white",
           "linecolor": "white",
           "ticks": "",
           "title": {
            "standoff": 15
           },
           "zerolinecolor": "white",
           "zerolinewidth": 2
          },
          "yaxis": {
           "automargin": true,
           "gridcolor": "white",
           "linecolor": "white",
           "ticks": "",
           "title": {
            "standoff": 15
           },
           "zerolinecolor": "white",
           "zerolinewidth": 2
          }
         }
        },
        "title": {
         "text": "Distribution of Tips by Ocassion"
        },
        "xaxis": {
         "anchor": "y",
         "domain": [
          0,
          1
         ],
         "title": {
          "text": "Total bill paid by Customer"
         }
        },
        "yaxis": {
         "anchor": "x",
         "domain": [
          0,
          1
         ],
         "title": {
          "text": "Tip (INR)"
         }
        }
       }
      }
     },
     "metadata": {},
     "output_type": "display_data"
    }
   ],
   "source": [
    "fig = px.scatter(data_frame= df, x='total_bill', y='tip', color='occasion_Festival',trendline=\"ols\",\n",
    "             title='Distribution of Tips by Ocassion',\n",
    "             labels={'tip': 'Tip (INR)', 'total_bill': 'Total bill paid by Customer'},\n",
    "             height=400)\n",
    "fig.show()"
   ]
  },
  {
   "cell_type": "code",
   "execution_count": 103,
   "id": "8a111aeb",
   "metadata": {},
   "outputs": [
    {
     "data": {
      "application/vnd.plotly.v1+json": {
       "config": {
        "plotlyServerURL": "https://plot.ly"
       },
       "data": [
        {
         "hovertemplate": "Total bill paid by =%{x}<br>Tip (INR)=%{y}<br>drunk=%{marker.color}<extra></extra>",
         "legendgroup": "",
         "marker": {
          "color": [
           0,
           1,
           0,
           1,
           1,
           0,
           1,
           0,
           0,
           0,
           1,
           1,
           0,
           0,
           1,
           0,
           0,
           1,
           0,
           1,
           0,
           1,
           0,
           0,
           1,
           0,
           1,
           0,
           1,
           1,
           1,
           1,
           0,
           0,
           0,
           0,
           0,
           0,
           0,
           0,
           0,
           1,
           1,
           1,
           0,
           0,
           0,
           1,
           1,
           0,
           1,
           0,
           0,
           1,
           0,
           1,
           0,
           1,
           1,
           1,
           0,
           0,
           1,
           1,
           0,
           0,
           0,
           1,
           0,
           0,
           1,
           0,
           0,
           0,
           0,
           0,
           0,
           0,
           0,
           1,
           1,
           0,
           0,
           1,
           0,
           0,
           1,
           0,
           0,
           0,
           0,
           0,
           0,
           0,
           0,
           0,
           1,
           0,
           0,
           0,
           0,
           1,
           1,
           0,
           1,
           0,
           1,
           1,
           0,
           1,
           0,
           1,
           0,
           0,
           1,
           1,
           0,
           1,
           1,
           0,
           0,
           1,
           0,
           0,
           0,
           1,
           1,
           0,
           1,
           0,
           1,
           0,
           0,
           1,
           0,
           1,
           1,
           0,
           0,
           1,
           0,
           0,
           0,
           0,
           0,
           1,
           1,
           0,
           0,
           0,
           1,
           0,
           0,
           0,
           0,
           0,
           1,
           0,
           1,
           0,
           1,
           0,
           1,
           0,
           0,
           0,
           0,
           1,
           1,
           0,
           1,
           0,
           0,
           1,
           0,
           0,
           1,
           0,
           0,
           0,
           0,
           1,
           1,
           1,
           0,
           0,
           1,
           0,
           0,
           0,
           0,
           1,
           1,
           1,
           0,
           1,
           1,
           0,
           0,
           1
          ],
          "coloraxis": "coloraxis",
          "symbol": "circle"
         },
         "mode": "markers",
         "name": "",
         "orientation": "v",
         "showlegend": false,
         "type": "scatter",
         "x": [
          1997.79,
          4763.43,
          3713.57,
          3073.56,
          948.89,
          948.77,
          478.8,
          4357.65,
          3085.35,
          3598.75,
          298.81,
          4855.57,
          4195.72,
          1219.23,
          1072.76,
          1080.34,
          1660.36,
          2718.83,
          2273.34,
          1597.9,
          3136.89,
          869.57,
          1602.29,
          1958.54,
          2389.14,
          3968.84,
          1158.43,
          2668.33,
          3043.59,
          422.96,
          3116.22,
          1018.52,
          512.25,
          4754.65,
          4835.03,
          4080.31,
          1662.15,
          668.83,
          3484.32,
          2312.73,
          785.78,
          2576.85,
          365.06,
          4564.74,
          1442.14,
          3380.11,
          1696.21,
          2696.33,
          2824.21,
          1087.3,
          4854.01,
          3920.64,
          4709.59,
          4495.17,
          3069.92,
          4625,
          624.76,
          1140.72,
          417.09,
          1761.59,
          2065.65,
          1502.48,
          4177.94,
          1912.42,
          1548.49,
          2804.94,
          876.44,
          4050.55,
          557.84,
          4937.06,
          3906.77,
          1153.84,
          226.51,
          4114.21,
          3592.92,
          3699.23,
          3902.1,
          555.41,
          1920.64,
          756.17,
          4342.9,
          3191.83,
          1788.31,
          505.08,
          1692.72,
          1760.88,
          3702.11,
          3260.28,
          4458.62,
          2466.63,
          774.05,
          3623.57,
          3851.77,
          2894.13,
          3900.64,
          2570.22,
          2709.12,
          2252.2,
          322.01,
          717.88,
          350.86,
          3254.77,
          1708.91,
          2641.14,
          4556.32,
          1396.6,
          2169.84,
          3826.65,
          1298.23,
          569.5,
          1590.81,
          973.86,
          4662.55,
          4078.98,
          3240.34,
          4383.01,
          4057.63,
          1095.54,
          4484.28,
          2788.84,
          4075.71,
          4501.24,
          1726.42,
          728.25,
          124.09,
          250.12,
          426.47,
          331.51,
          233.37,
          651.59,
          220.57,
          1266.12,
          775.35,
          1820.55,
          45.97,
          1751.37,
          290.19,
          574.49,
          145.42,
          484.55,
          489.75,
          1408.56,
          586.79,
          144.22,
          1567.23,
          377.06,
          125.91,
          2612.86,
          447.1,
          1537.5,
          459.68,
          1349.9,
          895.5,
          249.37,
          431.12,
          1361.87,
          3426.25,
          355.77,
          1340.66,
          395.44,
          165.36,
          456,
          340.94,
          2771.72,
          633.39,
          429.45,
          1739.74,
          1095.29,
          395.72,
          336.29,
          352.31,
          279.62,
          2658.05,
          1287.18,
          326.83,
          1036.96,
          3516.5,
          206.33,
          496.3,
          860.1,
          1837.12,
          744.67,
          4638.53,
          4411.23,
          1438.12,
          337.92,
          412.67,
          2864.96,
          2742.32,
          1360.89,
          646.89,
          506.64,
          452.01,
          3238.89,
          1827.34,
          1876.21,
          384.59,
          406.13,
          458.01,
          343.4
         ],
         "xaxis": "x",
         "y": [
          190,
          470.3,
          370.7,
          300.6,
          94.9,
          94.7,
          47.6,
          430.5,
          300.1,
          340,
          20,
          470.3,
          400.3,
          120,
          90.2,
          100,
          150.3,
          250.3,
          220.1,
          150.2,
          300.2,
          79.9,
          150.3,
          190.3,
          230.5,
          390.2,
          110.2,
          261.1,
          300.2,
          42.1,
          300.1,
          100.5,
          54,
          450.2,
          490.23,
          401.5,
          140.3,
          63.2,
          340.2,
          231.34,
          79.2,
          250.3,
          30,
          400.23,
          140.3,
          300,
          150,
          250.3,
          250.3,
          100,
          450.2,
          310.2,
          450.2,
          390,
          300,
          450.3,
          60,
          100,
          20,
          165,
          245,
          152,
          412,
          191,
          123,
          239,
          60.34,
          421,
          32,
          324.1,
          345,
          112,
          20,
          412,
          324.5,
          342,
          342,
          52,
          165,
          65,
          432,
          312,
          123.5,
          49.4,
          154,
          145,
          354,
          234,
          342,
          231,
          43,
          312.4,
          274,
          234,
          352,
          213,
          211,
          256,
          20,
          50,
          34,
          321,
          149,
          245,
          357,
          132,
          234,
          315,
          126,
          54,
          134,
          64,
          461,
          342,
          245,
          354,
          325,
          75,
          412,
          255,
          394,
          432,
          152,
          56,
          12,
          23,
          43,
          23,
          43,
          54,
          23,
          224,
          23,
          190,
          3,
          132,
          23,
          43,
          23,
          42,
          23,
          109,
          43,
          23,
          123,
          43,
          23,
          242,
          43,
          123,
          43,
          143,
          43,
          24,
          54,
          150,
          234,
          23,
          121,
          32,
          34,
          43,
          34,
          254,
          63,
          42,
          171,
          100,
          43,
          42,
          24,
          43,
          190,
          132,
          23,
          101,
          235,
          32,
          43,
          23,
          139,
          72,
          412,
          312,
          113,
          23,
          43,
          162,
          234,
          102,
          43,
          64,
          43,
          421,
          142,
          123,
          43,
          54,
          64,
          31
         ],
         "yaxis": "y"
        },
        {
         "hovertemplate": "<b>OLS trendline</b><br>tip = 0.090205 * total_bill + 0.35707<br>R<sup>2</sup>=0.954383<br><br>Total bill paid by =%{x}<br>Tip (INR)=%{y} <b>(trend)</b><extra></extra>",
         "legendgroup": "",
         "marker": {
          "symbol": "circle"
         },
         "mode": "lines",
         "name": "",
         "showlegend": false,
         "type": "scatter",
         "x": [
          45.97,
          124.09,
          125.91,
          144.22,
          145.42,
          165.36,
          206.33,
          220.57,
          226.51,
          233.37,
          249.37,
          250.12,
          279.62,
          290.19,
          298.81,
          322.01,
          326.83,
          331.51,
          336.29,
          337.92,
          340.94,
          343.4,
          350.86,
          352.31,
          355.77,
          365.06,
          377.06,
          384.59,
          395.44,
          395.72,
          406.13,
          412.67,
          417.09,
          422.96,
          426.47,
          429.45,
          431.12,
          447.1,
          452.01,
          456,
          458.01,
          459.68,
          478.8,
          484.55,
          489.75,
          496.3,
          505.08,
          506.64,
          512.25,
          555.41,
          557.84,
          569.5,
          574.49,
          586.79,
          624.76,
          633.39,
          646.89,
          651.59,
          668.83,
          717.88,
          728.25,
          744.67,
          756.17,
          774.05,
          775.35,
          785.78,
          860.1,
          869.57,
          876.44,
          895.5,
          948.77,
          948.89,
          973.86,
          1018.52,
          1036.96,
          1072.76,
          1080.34,
          1087.3,
          1095.29,
          1095.54,
          1140.72,
          1153.84,
          1158.43,
          1219.23,
          1266.12,
          1287.18,
          1298.23,
          1340.66,
          1349.9,
          1360.89,
          1361.87,
          1396.6,
          1408.56,
          1438.12,
          1442.14,
          1502.48,
          1537.5,
          1548.49,
          1567.23,
          1590.81,
          1597.9,
          1602.29,
          1660.36,
          1662.15,
          1692.72,
          1696.21,
          1708.91,
          1726.42,
          1739.74,
          1751.37,
          1760.88,
          1761.59,
          1788.31,
          1820.55,
          1827.34,
          1837.12,
          1876.21,
          1912.42,
          1920.64,
          1958.54,
          1997.79,
          2065.65,
          2169.84,
          2252.2,
          2273.34,
          2312.73,
          2389.14,
          2466.63,
          2570.22,
          2576.85,
          2612.86,
          2641.14,
          2658.05,
          2668.33,
          2696.33,
          2709.12,
          2718.83,
          2742.32,
          2771.72,
          2788.84,
          2804.94,
          2824.21,
          2864.96,
          2894.13,
          3043.59,
          3069.92,
          3073.56,
          3085.35,
          3116.22,
          3136.89,
          3191.83,
          3238.89,
          3240.34,
          3254.77,
          3260.28,
          3380.11,
          3426.25,
          3484.32,
          3516.5,
          3592.92,
          3598.75,
          3623.57,
          3699.23,
          3702.11,
          3713.57,
          3826.65,
          3851.77,
          3900.64,
          3902.1,
          3906.77,
          3920.64,
          3968.84,
          4050.55,
          4057.63,
          4075.71,
          4078.98,
          4080.31,
          4114.21,
          4177.94,
          4195.72,
          4342.9,
          4357.65,
          4383.01,
          4411.23,
          4458.62,
          4484.28,
          4495.17,
          4501.24,
          4556.32,
          4564.74,
          4625,
          4638.53,
          4662.55,
          4709.59,
          4754.65,
          4763.43,
          4835.03,
          4854.01,
          4855.57,
          4937.06
         ],
         "xaxis": "x",
         "y": [
          4.5037939057680845,
          11.550608758076132,
          11.714781863954276,
          13.366435473090993,
          13.474681476966692,
          15.273369241367902,
          18.96906822369075,
          20.253587469682383,
          20.789405188867097,
          21.408211511023183,
          22.851491562699177,
          22.91914531512149,
          25.580192910399106,
          26.53365979453756,
          27.311226922378,
          29.403982997308194,
          29.838771112875587,
          30.260930527990816,
          30.692110443429023,
          30.839144598693515,
          31.111563708447356,
          31.33346801639254,
          32.00639734048647,
          32.13719459516961,
          32.44930390634455,
          33.28730838634892,
          34.36976842510592,
          35.04901209942593,
          36.02773638446872,
          36.05299378537305,
          36.99202786899474,
          37.581968590117306,
          37.9806747043928,
          38.510178073351426,
          38.82679763468785,
          39.095608544312505,
          39.24625089970619,
          40.68772685131759,
          41.13063341717566,
          41.49055138006236,
          41.671863436554155,
          41.82250579194784,
          43.547225453700655,
          44.06590422227171,
          44.53497023906641,
          45.12581301022127,
          45.91781293857847,
          46.05853274361689,
          46.56458281173578,
          50.45783075113177,
          50.67702890898007,
          51.72881924663895,
          52.1789422127554,
          53.28846375248132,
          56.71354772511492,
          57.49201690298766,
          58.70978444658928,
          59.13374796176911,
          60.688882217449994,
          65.11343762586921,
          66.04886350936172,
          67.5300296623942,
          68.56738719953633,
          70.18025265728426,
          70.29751916148294,
          71.23835734516922,
          77.94239318520422,
          78.79663456578996,
          79.41634293797833,
          81.13565029953736,
          85.94087082158612,
          85.9516954219737,
          88.20411435262055,
          92.23266979686116,
          93.89605005641775,
          97.12538917204279,
          97.80914309652428,
          98.43696991900335,
          99.15770789480905,
          99.18025914561649,
          103.25572119153658,
          104.43921083391089,
          104.85325179873546,
          110.33771599510423,
          114.56742859654719,
          116.46714596456573,
          117.46391125025445,
          121.29130953729275,
          122.12480376713563,
          123.11615675263059,
          123.20455765579572,
          126.33737741796493,
          127.41622925659274,
          130.08268915206412,
          130.44531326504773,
          135.88828315993084,
          139.04726237303666,
          140.03861535853162,
          141.72905711905713,
          143.85609109521462,
          144.49564456811356,
          144.89164453229213,
          150.1298490698437,
          150.29131602562498,
          153.0488829743584,
          153.36369843563023,
          154.50930197664806,
          156.088791583201,
          157.29032222622124,
          158.33940641378322,
          159.19725599449816,
          159.26130154679126,
          161.67157923309017,
          164.5797885372173,
          165.1922805091473,
          166.07448544073426,
          169.6005990169852,
          172.86692218393443,
          173.60840731048296,
          177.02717693289048,
          180.56772330965816,
          186.68903482882897,
          196.0874941153366,
          203.51677818133876,
          205.4237119496157,
          208.97688702683553,
          215.8694513236207,
          222.859437023894,
          232.20377330846375,
          232.80183247987702,
          236.05011464618033,
          238.60111213751762,
          240.12647874213272,
          241.05378617533452,
          243.5795262657675,
          244.733248257076,
          245.60913883843688,
          247.72805436430372,
          250.38008145925832,
          251.92439111455167,
          253.37669166655064,
          255.11494207878792,
          258.7907959604002,
          261.42207590461203,
          274.90411568733043,
          277.2792134223697,
          277.607559634126,
          278.67107662220474,
          281.4557050719071,
          283.32024248866605,
          288.2761053661085,
          292.5211528181005,
          292.6519500727837,
          293.95360826938895,
          294.4506378371849,
          305.2599033742058,
          309.42196222322644,
          314.660166760778,
          317.56296376471136,
          324.4564301115288,
          324.9823252803582,
          327.22121346052063,
          334.0461240048835,
          334.30591441418517,
          335.33966375119815,
          345.5400455164182,
          347.8059951975495,
          352.2143137053874,
          352.3460130101028,
          352.7672703751858,
          354.0184137699824,
          358.36629492565635,
          365.7369457395592,
          366.37559716242583,
          368.0065036208197,
          368.301473981381,
          368.4214466356765,
          371.47939624516505,
          377.22816110099694,
          378.83200605842194,
          392.10837843377647,
          393.4389022314153,
          395.7265011133218,
          398.27208630446523,
          402.54690140752314,
          404.86156179039847,
          405.8438942755705,
          406.39143864517507,
          411.3599302230697,
          412.11945635026416,
          417.5552098448889,
          418.7756835385874,
          420.94240771616603,
          425.1856510680934,
          429.2502885136259,
          430.04228844198315,
          436.5009666732332,
          438.21305763453387,
          438.35377743957224,
          445.7045831527646
         ],
         "yaxis": "y"
        }
       ],
       "layout": {
        "coloraxis": {
         "colorbar": {
          "title": {
           "text": "drunk"
          }
         },
         "colorscale": [
          [
           0,
           "#0d0887"
          ],
          [
           0.1111111111111111,
           "#46039f"
          ],
          [
           0.2222222222222222,
           "#7201a8"
          ],
          [
           0.3333333333333333,
           "#9c179e"
          ],
          [
           0.4444444444444444,
           "#bd3786"
          ],
          [
           0.5555555555555556,
           "#d8576b"
          ],
          [
           0.6666666666666666,
           "#ed7953"
          ],
          [
           0.7777777777777778,
           "#fb9f3a"
          ],
          [
           0.8888888888888888,
           "#fdca26"
          ],
          [
           1,
           "#f0f921"
          ]
         ]
        },
        "height": 400,
        "legend": {
         "tracegroupgap": 0
        },
        "template": {
         "data": {
          "bar": [
           {
            "error_x": {
             "color": "#2a3f5f"
            },
            "error_y": {
             "color": "#2a3f5f"
            },
            "marker": {
             "line": {
              "color": "#E5ECF6",
              "width": 0.5
             },
             "pattern": {
              "fillmode": "overlay",
              "size": 10,
              "solidity": 0.2
             }
            },
            "type": "bar"
           }
          ],
          "barpolar": [
           {
            "marker": {
             "line": {
              "color": "#E5ECF6",
              "width": 0.5
             },
             "pattern": {
              "fillmode": "overlay",
              "size": 10,
              "solidity": 0.2
             }
            },
            "type": "barpolar"
           }
          ],
          "carpet": [
           {
            "aaxis": {
             "endlinecolor": "#2a3f5f",
             "gridcolor": "white",
             "linecolor": "white",
             "minorgridcolor": "white",
             "startlinecolor": "#2a3f5f"
            },
            "baxis": {
             "endlinecolor": "#2a3f5f",
             "gridcolor": "white",
             "linecolor": "white",
             "minorgridcolor": "white",
             "startlinecolor": "#2a3f5f"
            },
            "type": "carpet"
           }
          ],
          "choropleth": [
           {
            "colorbar": {
             "outlinewidth": 0,
             "ticks": ""
            },
            "type": "choropleth"
           }
          ],
          "contour": [
           {
            "colorbar": {
             "outlinewidth": 0,
             "ticks": ""
            },
            "colorscale": [
             [
              0,
              "#0d0887"
             ],
             [
              0.1111111111111111,
              "#46039f"
             ],
             [
              0.2222222222222222,
              "#7201a8"
             ],
             [
              0.3333333333333333,
              "#9c179e"
             ],
             [
              0.4444444444444444,
              "#bd3786"
             ],
             [
              0.5555555555555556,
              "#d8576b"
             ],
             [
              0.6666666666666666,
              "#ed7953"
             ],
             [
              0.7777777777777778,
              "#fb9f3a"
             ],
             [
              0.8888888888888888,
              "#fdca26"
             ],
             [
              1,
              "#f0f921"
             ]
            ],
            "type": "contour"
           }
          ],
          "contourcarpet": [
           {
            "colorbar": {
             "outlinewidth": 0,
             "ticks": ""
            },
            "type": "contourcarpet"
           }
          ],
          "heatmap": [
           {
            "colorbar": {
             "outlinewidth": 0,
             "ticks": ""
            },
            "colorscale": [
             [
              0,
              "#0d0887"
             ],
             [
              0.1111111111111111,
              "#46039f"
             ],
             [
              0.2222222222222222,
              "#7201a8"
             ],
             [
              0.3333333333333333,
              "#9c179e"
             ],
             [
              0.4444444444444444,
              "#bd3786"
             ],
             [
              0.5555555555555556,
              "#d8576b"
             ],
             [
              0.6666666666666666,
              "#ed7953"
             ],
             [
              0.7777777777777778,
              "#fb9f3a"
             ],
             [
              0.8888888888888888,
              "#fdca26"
             ],
             [
              1,
              "#f0f921"
             ]
            ],
            "type": "heatmap"
           }
          ],
          "heatmapgl": [
           {
            "colorbar": {
             "outlinewidth": 0,
             "ticks": ""
            },
            "colorscale": [
             [
              0,
              "#0d0887"
             ],
             [
              0.1111111111111111,
              "#46039f"
             ],
             [
              0.2222222222222222,
              "#7201a8"
             ],
             [
              0.3333333333333333,
              "#9c179e"
             ],
             [
              0.4444444444444444,
              "#bd3786"
             ],
             [
              0.5555555555555556,
              "#d8576b"
             ],
             [
              0.6666666666666666,
              "#ed7953"
             ],
             [
              0.7777777777777778,
              "#fb9f3a"
             ],
             [
              0.8888888888888888,
              "#fdca26"
             ],
             [
              1,
              "#f0f921"
             ]
            ],
            "type": "heatmapgl"
           }
          ],
          "histogram": [
           {
            "marker": {
             "pattern": {
              "fillmode": "overlay",
              "size": 10,
              "solidity": 0.2
             }
            },
            "type": "histogram"
           }
          ],
          "histogram2d": [
           {
            "colorbar": {
             "outlinewidth": 0,
             "ticks": ""
            },
            "colorscale": [
             [
              0,
              "#0d0887"
             ],
             [
              0.1111111111111111,
              "#46039f"
             ],
             [
              0.2222222222222222,
              "#7201a8"
             ],
             [
              0.3333333333333333,
              "#9c179e"
             ],
             [
              0.4444444444444444,
              "#bd3786"
             ],
             [
              0.5555555555555556,
              "#d8576b"
             ],
             [
              0.6666666666666666,
              "#ed7953"
             ],
             [
              0.7777777777777778,
              "#fb9f3a"
             ],
             [
              0.8888888888888888,
              "#fdca26"
             ],
             [
              1,
              "#f0f921"
             ]
            ],
            "type": "histogram2d"
           }
          ],
          "histogram2dcontour": [
           {
            "colorbar": {
             "outlinewidth": 0,
             "ticks": ""
            },
            "colorscale": [
             [
              0,
              "#0d0887"
             ],
             [
              0.1111111111111111,
              "#46039f"
             ],
             [
              0.2222222222222222,
              "#7201a8"
             ],
             [
              0.3333333333333333,
              "#9c179e"
             ],
             [
              0.4444444444444444,
              "#bd3786"
             ],
             [
              0.5555555555555556,
              "#d8576b"
             ],
             [
              0.6666666666666666,
              "#ed7953"
             ],
             [
              0.7777777777777778,
              "#fb9f3a"
             ],
             [
              0.8888888888888888,
              "#fdca26"
             ],
             [
              1,
              "#f0f921"
             ]
            ],
            "type": "histogram2dcontour"
           }
          ],
          "mesh3d": [
           {
            "colorbar": {
             "outlinewidth": 0,
             "ticks": ""
            },
            "type": "mesh3d"
           }
          ],
          "parcoords": [
           {
            "line": {
             "colorbar": {
              "outlinewidth": 0,
              "ticks": ""
             }
            },
            "type": "parcoords"
           }
          ],
          "pie": [
           {
            "automargin": true,
            "type": "pie"
           }
          ],
          "scatter": [
           {
            "fillpattern": {
             "fillmode": "overlay",
             "size": 10,
             "solidity": 0.2
            },
            "type": "scatter"
           }
          ],
          "scatter3d": [
           {
            "line": {
             "colorbar": {
              "outlinewidth": 0,
              "ticks": ""
             }
            },
            "marker": {
             "colorbar": {
              "outlinewidth": 0,
              "ticks": ""
             }
            },
            "type": "scatter3d"
           }
          ],
          "scattercarpet": [
           {
            "marker": {
             "colorbar": {
              "outlinewidth": 0,
              "ticks": ""
             }
            },
            "type": "scattercarpet"
           }
          ],
          "scattergeo": [
           {
            "marker": {
             "colorbar": {
              "outlinewidth": 0,
              "ticks": ""
             }
            },
            "type": "scattergeo"
           }
          ],
          "scattergl": [
           {
            "marker": {
             "colorbar": {
              "outlinewidth": 0,
              "ticks": ""
             }
            },
            "type": "scattergl"
           }
          ],
          "scattermapbox": [
           {
            "marker": {
             "colorbar": {
              "outlinewidth": 0,
              "ticks": ""
             }
            },
            "type": "scattermapbox"
           }
          ],
          "scatterpolar": [
           {
            "marker": {
             "colorbar": {
              "outlinewidth": 0,
              "ticks": ""
             }
            },
            "type": "scatterpolar"
           }
          ],
          "scatterpolargl": [
           {
            "marker": {
             "colorbar": {
              "outlinewidth": 0,
              "ticks": ""
             }
            },
            "type": "scatterpolargl"
           }
          ],
          "scatterternary": [
           {
            "marker": {
             "colorbar": {
              "outlinewidth": 0,
              "ticks": ""
             }
            },
            "type": "scatterternary"
           }
          ],
          "surface": [
           {
            "colorbar": {
             "outlinewidth": 0,
             "ticks": ""
            },
            "colorscale": [
             [
              0,
              "#0d0887"
             ],
             [
              0.1111111111111111,
              "#46039f"
             ],
             [
              0.2222222222222222,
              "#7201a8"
             ],
             [
              0.3333333333333333,
              "#9c179e"
             ],
             [
              0.4444444444444444,
              "#bd3786"
             ],
             [
              0.5555555555555556,
              "#d8576b"
             ],
             [
              0.6666666666666666,
              "#ed7953"
             ],
             [
              0.7777777777777778,
              "#fb9f3a"
             ],
             [
              0.8888888888888888,
              "#fdca26"
             ],
             [
              1,
              "#f0f921"
             ]
            ],
            "type": "surface"
           }
          ],
          "table": [
           {
            "cells": {
             "fill": {
              "color": "#EBF0F8"
             },
             "line": {
              "color": "white"
             }
            },
            "header": {
             "fill": {
              "color": "#C8D4E3"
             },
             "line": {
              "color": "white"
             }
            },
            "type": "table"
           }
          ]
         },
         "layout": {
          "annotationdefaults": {
           "arrowcolor": "#2a3f5f",
           "arrowhead": 0,
           "arrowwidth": 1
          },
          "autotypenumbers": "strict",
          "coloraxis": {
           "colorbar": {
            "outlinewidth": 0,
            "ticks": ""
           }
          },
          "colorscale": {
           "diverging": [
            [
             0,
             "#8e0152"
            ],
            [
             0.1,
             "#c51b7d"
            ],
            [
             0.2,
             "#de77ae"
            ],
            [
             0.3,
             "#f1b6da"
            ],
            [
             0.4,
             "#fde0ef"
            ],
            [
             0.5,
             "#f7f7f7"
            ],
            [
             0.6,
             "#e6f5d0"
            ],
            [
             0.7,
             "#b8e186"
            ],
            [
             0.8,
             "#7fbc41"
            ],
            [
             0.9,
             "#4d9221"
            ],
            [
             1,
             "#276419"
            ]
           ],
           "sequential": [
            [
             0,
             "#0d0887"
            ],
            [
             0.1111111111111111,
             "#46039f"
            ],
            [
             0.2222222222222222,
             "#7201a8"
            ],
            [
             0.3333333333333333,
             "#9c179e"
            ],
            [
             0.4444444444444444,
             "#bd3786"
            ],
            [
             0.5555555555555556,
             "#d8576b"
            ],
            [
             0.6666666666666666,
             "#ed7953"
            ],
            [
             0.7777777777777778,
             "#fb9f3a"
            ],
            [
             0.8888888888888888,
             "#fdca26"
            ],
            [
             1,
             "#f0f921"
            ]
           ],
           "sequentialminus": [
            [
             0,
             "#0d0887"
            ],
            [
             0.1111111111111111,
             "#46039f"
            ],
            [
             0.2222222222222222,
             "#7201a8"
            ],
            [
             0.3333333333333333,
             "#9c179e"
            ],
            [
             0.4444444444444444,
             "#bd3786"
            ],
            [
             0.5555555555555556,
             "#d8576b"
            ],
            [
             0.6666666666666666,
             "#ed7953"
            ],
            [
             0.7777777777777778,
             "#fb9f3a"
            ],
            [
             0.8888888888888888,
             "#fdca26"
            ],
            [
             1,
             "#f0f921"
            ]
           ]
          },
          "colorway": [
           "#636efa",
           "#EF553B",
           "#00cc96",
           "#ab63fa",
           "#FFA15A",
           "#19d3f3",
           "#FF6692",
           "#B6E880",
           "#FF97FF",
           "#FECB52"
          ],
          "font": {
           "color": "#2a3f5f"
          },
          "geo": {
           "bgcolor": "white",
           "lakecolor": "white",
           "landcolor": "#E5ECF6",
           "showlakes": true,
           "showland": true,
           "subunitcolor": "white"
          },
          "hoverlabel": {
           "align": "left"
          },
          "hovermode": "closest",
          "mapbox": {
           "style": "light"
          },
          "paper_bgcolor": "white",
          "plot_bgcolor": "#E5ECF6",
          "polar": {
           "angularaxis": {
            "gridcolor": "white",
            "linecolor": "white",
            "ticks": ""
           },
           "bgcolor": "#E5ECF6",
           "radialaxis": {
            "gridcolor": "white",
            "linecolor": "white",
            "ticks": ""
           }
          },
          "scene": {
           "xaxis": {
            "backgroundcolor": "#E5ECF6",
            "gridcolor": "white",
            "gridwidth": 2,
            "linecolor": "white",
            "showbackground": true,
            "ticks": "",
            "zerolinecolor": "white"
           },
           "yaxis": {
            "backgroundcolor": "#E5ECF6",
            "gridcolor": "white",
            "gridwidth": 2,
            "linecolor": "white",
            "showbackground": true,
            "ticks": "",
            "zerolinecolor": "white"
           },
           "zaxis": {
            "backgroundcolor": "#E5ECF6",
            "gridcolor": "white",
            "gridwidth": 2,
            "linecolor": "white",
            "showbackground": true,
            "ticks": "",
            "zerolinecolor": "white"
           }
          },
          "shapedefaults": {
           "line": {
            "color": "#2a3f5f"
           }
          },
          "ternary": {
           "aaxis": {
            "gridcolor": "white",
            "linecolor": "white",
            "ticks": ""
           },
           "baxis": {
            "gridcolor": "white",
            "linecolor": "white",
            "ticks": ""
           },
           "bgcolor": "#E5ECF6",
           "caxis": {
            "gridcolor": "white",
            "linecolor": "white",
            "ticks": ""
           }
          },
          "title": {
           "x": 0.05
          },
          "xaxis": {
           "automargin": true,
           "gridcolor": "white",
           "linecolor": "white",
           "ticks": "",
           "title": {
            "standoff": 15
           },
           "zerolinecolor": "white",
           "zerolinewidth": 2
          },
          "yaxis": {
           "automargin": true,
           "gridcolor": "white",
           "linecolor": "white",
           "ticks": "",
           "title": {
            "standoff": 15
           },
           "zerolinecolor": "white",
           "zerolinewidth": 2
          }
         }
        },
        "title": {
         "text": "Distribution of Tips by Drunk"
        },
        "xaxis": {
         "anchor": "y",
         "domain": [
          0,
          1
         ],
         "title": {
          "text": "Total bill paid by "
         }
        },
        "yaxis": {
         "anchor": "x",
         "domain": [
          0,
          1
         ],
         "title": {
          "text": "Tip (INR)"
         }
        }
       }
      }
     },
     "metadata": {},
     "output_type": "display_data"
    }
   ],
   "source": [
    "fig = px.scatter(data_frame= df, x='total_bill', y='tip', color='drunk',trendline=\"ols\",\n",
    "             title='Distribution of Tips by Drunk',\n",
    "             labels={'tip': 'Tip (INR)', 'total_bill': 'Total bill paid by '},\n",
    "             height=400)\n",
    "fig.show()"
   ]
  },
  {
   "cell_type": "markdown",
   "id": "21fa5ea2",
   "metadata": {},
   "source": [
    "**Tip given to waiter according to days**"
   ]
  },
  {
   "cell_type": "code",
   "execution_count": 104,
   "id": "d0fdc0d2",
   "metadata": {},
   "outputs": [
    {
     "data": {
      "application/vnd.plotly.v1+json": {
       "config": {
        "plotlyServerURL": "https://plot.ly"
       },
       "data": [
        {
         "domain": {
          "x": [
           0,
           1
          ],
          "y": [
           0,
           1
          ]
         },
         "hovertemplate": "day=%{label}<br>tip=%{value}<extra></extra>",
         "labels": [
          6,
          6,
          6,
          6,
          6,
          6,
          4,
          5,
          6,
          0,
          1,
          6,
          6,
          6,
          6,
          6,
          6,
          6,
          6,
          6,
          6,
          5,
          5,
          5,
          6,
          5,
          5,
          0,
          5,
          4,
          5,
          5,
          5,
          5,
          5,
          5,
          0,
          4,
          4,
          0,
          6,
          6,
          6,
          6,
          6,
          0,
          0,
          4,
          5,
          5,
          5,
          5,
          4,
          4,
          4,
          5,
          6,
          6,
          6,
          6,
          6,
          6,
          6,
          6,
          6,
          6,
          6,
          6,
          0,
          0,
          0,
          5,
          5,
          5,
          5,
          5,
          5,
          5,
          5,
          6,
          5,
          4,
          5,
          0,
          4,
          0,
          4,
          6,
          6,
          6,
          5,
          5,
          5,
          6,
          0,
          6,
          6,
          6,
          6,
          6,
          0,
          0,
          6,
          5,
          5,
          0,
          5,
          4,
          5,
          5,
          5,
          5,
          5,
          5,
          5,
          5,
          5,
          5,
          6,
          6,
          6,
          6,
          6,
          6,
          6,
          6,
          4,
          5,
          4,
          5,
          5,
          5,
          5,
          5,
          6,
          6,
          6,
          6,
          6,
          6,
          6,
          6,
          6,
          6,
          5,
          5,
          5,
          5,
          6,
          5,
          0,
          0,
          0,
          6,
          0,
          0,
          6,
          4,
          6,
          0,
          6,
          4,
          6,
          0,
          4,
          5,
          0,
          4,
          4,
          5,
          6,
          6,
          0,
          5,
          6,
          5,
          6,
          4,
          6,
          5,
          4,
          4,
          4,
          5,
          0,
          0,
          0,
          5,
          4,
          0,
          5,
          0,
          6,
          0,
          0,
          4,
          5,
          4,
          4,
          4
         ],
         "legendgroup": "",
         "name": "",
         "showlegend": true,
         "type": "pie",
         "values": [
          190,
          470.3,
          370.7,
          300.6,
          94.9,
          94.7,
          47.6,
          430.5,
          300.1,
          340,
          20,
          470.3,
          400.3,
          120,
          90.2,
          100,
          150.3,
          250.3,
          220.1,
          150.2,
          300.2,
          79.9,
          150.3,
          190.3,
          230.5,
          390.2,
          110.2,
          261.1,
          300.2,
          42.1,
          300.1,
          100.5,
          54,
          450.2,
          490.23,
          401.5,
          140.3,
          63.2,
          340.2,
          231.34,
          79.2,
          250.3,
          30,
          400.23,
          140.3,
          300,
          150,
          250.3,
          250.3,
          100,
          450.2,
          310.2,
          450.2,
          390,
          300,
          450.3,
          60,
          100,
          20,
          165,
          245,
          152,
          412,
          191,
          123,
          239,
          60.34,
          421,
          32,
          324.1,
          345,
          112,
          20,
          412,
          324.5,
          342,
          342,
          52,
          165,
          65,
          432,
          312,
          123.5,
          49.4,
          154,
          145,
          354,
          234,
          342,
          231,
          43,
          312.4,
          274,
          234,
          352,
          213,
          211,
          256,
          20,
          50,
          34,
          321,
          149,
          245,
          357,
          132,
          234,
          315,
          126,
          54,
          134,
          64,
          461,
          342,
          245,
          354,
          325,
          75,
          412,
          255,
          394,
          432,
          152,
          56,
          12,
          23,
          43,
          23,
          43,
          54,
          23,
          224,
          23,
          190,
          3,
          132,
          23,
          43,
          23,
          42,
          23,
          109,
          43,
          23,
          123,
          43,
          23,
          242,
          43,
          123,
          43,
          143,
          43,
          24,
          54,
          150,
          234,
          23,
          121,
          32,
          34,
          43,
          34,
          254,
          63,
          42,
          171,
          100,
          43,
          42,
          24,
          43,
          190,
          132,
          23,
          101,
          235,
          32,
          43,
          23,
          139,
          72,
          412,
          312,
          113,
          23,
          43,
          162,
          234,
          102,
          43,
          64,
          43,
          421,
          142,
          123,
          43,
          54,
          64,
          31
         ]
        }
       ],
       "layout": {
        "legend": {
         "tracegroupgap": 0
        },
        "margin": {
         "t": 60
        },
        "template": {
         "data": {
          "bar": [
           {
            "error_x": {
             "color": "#2a3f5f"
            },
            "error_y": {
             "color": "#2a3f5f"
            },
            "marker": {
             "line": {
              "color": "#E5ECF6",
              "width": 0.5
             },
             "pattern": {
              "fillmode": "overlay",
              "size": 10,
              "solidity": 0.2
             }
            },
            "type": "bar"
           }
          ],
          "barpolar": [
           {
            "marker": {
             "line": {
              "color": "#E5ECF6",
              "width": 0.5
             },
             "pattern": {
              "fillmode": "overlay",
              "size": 10,
              "solidity": 0.2
             }
            },
            "type": "barpolar"
           }
          ],
          "carpet": [
           {
            "aaxis": {
             "endlinecolor": "#2a3f5f",
             "gridcolor": "white",
             "linecolor": "white",
             "minorgridcolor": "white",
             "startlinecolor": "#2a3f5f"
            },
            "baxis": {
             "endlinecolor": "#2a3f5f",
             "gridcolor": "white",
             "linecolor": "white",
             "minorgridcolor": "white",
             "startlinecolor": "#2a3f5f"
            },
            "type": "carpet"
           }
          ],
          "choropleth": [
           {
            "colorbar": {
             "outlinewidth": 0,
             "ticks": ""
            },
            "type": "choropleth"
           }
          ],
          "contour": [
           {
            "colorbar": {
             "outlinewidth": 0,
             "ticks": ""
            },
            "colorscale": [
             [
              0,
              "#0d0887"
             ],
             [
              0.1111111111111111,
              "#46039f"
             ],
             [
              0.2222222222222222,
              "#7201a8"
             ],
             [
              0.3333333333333333,
              "#9c179e"
             ],
             [
              0.4444444444444444,
              "#bd3786"
             ],
             [
              0.5555555555555556,
              "#d8576b"
             ],
             [
              0.6666666666666666,
              "#ed7953"
             ],
             [
              0.7777777777777778,
              "#fb9f3a"
             ],
             [
              0.8888888888888888,
              "#fdca26"
             ],
             [
              1,
              "#f0f921"
             ]
            ],
            "type": "contour"
           }
          ],
          "contourcarpet": [
           {
            "colorbar": {
             "outlinewidth": 0,
             "ticks": ""
            },
            "type": "contourcarpet"
           }
          ],
          "heatmap": [
           {
            "colorbar": {
             "outlinewidth": 0,
             "ticks": ""
            },
            "colorscale": [
             [
              0,
              "#0d0887"
             ],
             [
              0.1111111111111111,
              "#46039f"
             ],
             [
              0.2222222222222222,
              "#7201a8"
             ],
             [
              0.3333333333333333,
              "#9c179e"
             ],
             [
              0.4444444444444444,
              "#bd3786"
             ],
             [
              0.5555555555555556,
              "#d8576b"
             ],
             [
              0.6666666666666666,
              "#ed7953"
             ],
             [
              0.7777777777777778,
              "#fb9f3a"
             ],
             [
              0.8888888888888888,
              "#fdca26"
             ],
             [
              1,
              "#f0f921"
             ]
            ],
            "type": "heatmap"
           }
          ],
          "heatmapgl": [
           {
            "colorbar": {
             "outlinewidth": 0,
             "ticks": ""
            },
            "colorscale": [
             [
              0,
              "#0d0887"
             ],
             [
              0.1111111111111111,
              "#46039f"
             ],
             [
              0.2222222222222222,
              "#7201a8"
             ],
             [
              0.3333333333333333,
              "#9c179e"
             ],
             [
              0.4444444444444444,
              "#bd3786"
             ],
             [
              0.5555555555555556,
              "#d8576b"
             ],
             [
              0.6666666666666666,
              "#ed7953"
             ],
             [
              0.7777777777777778,
              "#fb9f3a"
             ],
             [
              0.8888888888888888,
              "#fdca26"
             ],
             [
              1,
              "#f0f921"
             ]
            ],
            "type": "heatmapgl"
           }
          ],
          "histogram": [
           {
            "marker": {
             "pattern": {
              "fillmode": "overlay",
              "size": 10,
              "solidity": 0.2
             }
            },
            "type": "histogram"
           }
          ],
          "histogram2d": [
           {
            "colorbar": {
             "outlinewidth": 0,
             "ticks": ""
            },
            "colorscale": [
             [
              0,
              "#0d0887"
             ],
             [
              0.1111111111111111,
              "#46039f"
             ],
             [
              0.2222222222222222,
              "#7201a8"
             ],
             [
              0.3333333333333333,
              "#9c179e"
             ],
             [
              0.4444444444444444,
              "#bd3786"
             ],
             [
              0.5555555555555556,
              "#d8576b"
             ],
             [
              0.6666666666666666,
              "#ed7953"
             ],
             [
              0.7777777777777778,
              "#fb9f3a"
             ],
             [
              0.8888888888888888,
              "#fdca26"
             ],
             [
              1,
              "#f0f921"
             ]
            ],
            "type": "histogram2d"
           }
          ],
          "histogram2dcontour": [
           {
            "colorbar": {
             "outlinewidth": 0,
             "ticks": ""
            },
            "colorscale": [
             [
              0,
              "#0d0887"
             ],
             [
              0.1111111111111111,
              "#46039f"
             ],
             [
              0.2222222222222222,
              "#7201a8"
             ],
             [
              0.3333333333333333,
              "#9c179e"
             ],
             [
              0.4444444444444444,
              "#bd3786"
             ],
             [
              0.5555555555555556,
              "#d8576b"
             ],
             [
              0.6666666666666666,
              "#ed7953"
             ],
             [
              0.7777777777777778,
              "#fb9f3a"
             ],
             [
              0.8888888888888888,
              "#fdca26"
             ],
             [
              1,
              "#f0f921"
             ]
            ],
            "type": "histogram2dcontour"
           }
          ],
          "mesh3d": [
           {
            "colorbar": {
             "outlinewidth": 0,
             "ticks": ""
            },
            "type": "mesh3d"
           }
          ],
          "parcoords": [
           {
            "line": {
             "colorbar": {
              "outlinewidth": 0,
              "ticks": ""
             }
            },
            "type": "parcoords"
           }
          ],
          "pie": [
           {
            "automargin": true,
            "type": "pie"
           }
          ],
          "scatter": [
           {
            "fillpattern": {
             "fillmode": "overlay",
             "size": 10,
             "solidity": 0.2
            },
            "type": "scatter"
           }
          ],
          "scatter3d": [
           {
            "line": {
             "colorbar": {
              "outlinewidth": 0,
              "ticks": ""
             }
            },
            "marker": {
             "colorbar": {
              "outlinewidth": 0,
              "ticks": ""
             }
            },
            "type": "scatter3d"
           }
          ],
          "scattercarpet": [
           {
            "marker": {
             "colorbar": {
              "outlinewidth": 0,
              "ticks": ""
             }
            },
            "type": "scattercarpet"
           }
          ],
          "scattergeo": [
           {
            "marker": {
             "colorbar": {
              "outlinewidth": 0,
              "ticks": ""
             }
            },
            "type": "scattergeo"
           }
          ],
          "scattergl": [
           {
            "marker": {
             "colorbar": {
              "outlinewidth": 0,
              "ticks": ""
             }
            },
            "type": "scattergl"
           }
          ],
          "scattermapbox": [
           {
            "marker": {
             "colorbar": {
              "outlinewidth": 0,
              "ticks": ""
             }
            },
            "type": "scattermapbox"
           }
          ],
          "scatterpolar": [
           {
            "marker": {
             "colorbar": {
              "outlinewidth": 0,
              "ticks": ""
             }
            },
            "type": "scatterpolar"
           }
          ],
          "scatterpolargl": [
           {
            "marker": {
             "colorbar": {
              "outlinewidth": 0,
              "ticks": ""
             }
            },
            "type": "scatterpolargl"
           }
          ],
          "scatterternary": [
           {
            "marker": {
             "colorbar": {
              "outlinewidth": 0,
              "ticks": ""
             }
            },
            "type": "scatterternary"
           }
          ],
          "surface": [
           {
            "colorbar": {
             "outlinewidth": 0,
             "ticks": ""
            },
            "colorscale": [
             [
              0,
              "#0d0887"
             ],
             [
              0.1111111111111111,
              "#46039f"
             ],
             [
              0.2222222222222222,
              "#7201a8"
             ],
             [
              0.3333333333333333,
              "#9c179e"
             ],
             [
              0.4444444444444444,
              "#bd3786"
             ],
             [
              0.5555555555555556,
              "#d8576b"
             ],
             [
              0.6666666666666666,
              "#ed7953"
             ],
             [
              0.7777777777777778,
              "#fb9f3a"
             ],
             [
              0.8888888888888888,
              "#fdca26"
             ],
             [
              1,
              "#f0f921"
             ]
            ],
            "type": "surface"
           }
          ],
          "table": [
           {
            "cells": {
             "fill": {
              "color": "#EBF0F8"
             },
             "line": {
              "color": "white"
             }
            },
            "header": {
             "fill": {
              "color": "#C8D4E3"
             },
             "line": {
              "color": "white"
             }
            },
            "type": "table"
           }
          ]
         },
         "layout": {
          "annotationdefaults": {
           "arrowcolor": "#2a3f5f",
           "arrowhead": 0,
           "arrowwidth": 1
          },
          "autotypenumbers": "strict",
          "coloraxis": {
           "colorbar": {
            "outlinewidth": 0,
            "ticks": ""
           }
          },
          "colorscale": {
           "diverging": [
            [
             0,
             "#8e0152"
            ],
            [
             0.1,
             "#c51b7d"
            ],
            [
             0.2,
             "#de77ae"
            ],
            [
             0.3,
             "#f1b6da"
            ],
            [
             0.4,
             "#fde0ef"
            ],
            [
             0.5,
             "#f7f7f7"
            ],
            [
             0.6,
             "#e6f5d0"
            ],
            [
             0.7,
             "#b8e186"
            ],
            [
             0.8,
             "#7fbc41"
            ],
            [
             0.9,
             "#4d9221"
            ],
            [
             1,
             "#276419"
            ]
           ],
           "sequential": [
            [
             0,
             "#0d0887"
            ],
            [
             0.1111111111111111,
             "#46039f"
            ],
            [
             0.2222222222222222,
             "#7201a8"
            ],
            [
             0.3333333333333333,
             "#9c179e"
            ],
            [
             0.4444444444444444,
             "#bd3786"
            ],
            [
             0.5555555555555556,
             "#d8576b"
            ],
            [
             0.6666666666666666,
             "#ed7953"
            ],
            [
             0.7777777777777778,
             "#fb9f3a"
            ],
            [
             0.8888888888888888,
             "#fdca26"
            ],
            [
             1,
             "#f0f921"
            ]
           ],
           "sequentialminus": [
            [
             0,
             "#0d0887"
            ],
            [
             0.1111111111111111,
             "#46039f"
            ],
            [
             0.2222222222222222,
             "#7201a8"
            ],
            [
             0.3333333333333333,
             "#9c179e"
            ],
            [
             0.4444444444444444,
             "#bd3786"
            ],
            [
             0.5555555555555556,
             "#d8576b"
            ],
            [
             0.6666666666666666,
             "#ed7953"
            ],
            [
             0.7777777777777778,
             "#fb9f3a"
            ],
            [
             0.8888888888888888,
             "#fdca26"
            ],
            [
             1,
             "#f0f921"
            ]
           ]
          },
          "colorway": [
           "#636efa",
           "#EF553B",
           "#00cc96",
           "#ab63fa",
           "#FFA15A",
           "#19d3f3",
           "#FF6692",
           "#B6E880",
           "#FF97FF",
           "#FECB52"
          ],
          "font": {
           "color": "#2a3f5f"
          },
          "geo": {
           "bgcolor": "white",
           "lakecolor": "white",
           "landcolor": "#E5ECF6",
           "showlakes": true,
           "showland": true,
           "subunitcolor": "white"
          },
          "hoverlabel": {
           "align": "left"
          },
          "hovermode": "closest",
          "mapbox": {
           "style": "light"
          },
          "paper_bgcolor": "white",
          "plot_bgcolor": "#E5ECF6",
          "polar": {
           "angularaxis": {
            "gridcolor": "white",
            "linecolor": "white",
            "ticks": ""
           },
           "bgcolor": "#E5ECF6",
           "radialaxis": {
            "gridcolor": "white",
            "linecolor": "white",
            "ticks": ""
           }
          },
          "scene": {
           "xaxis": {
            "backgroundcolor": "#E5ECF6",
            "gridcolor": "white",
            "gridwidth": 2,
            "linecolor": "white",
            "showbackground": true,
            "ticks": "",
            "zerolinecolor": "white"
           },
           "yaxis": {
            "backgroundcolor": "#E5ECF6",
            "gridcolor": "white",
            "gridwidth": 2,
            "linecolor": "white",
            "showbackground": true,
            "ticks": "",
            "zerolinecolor": "white"
           },
           "zaxis": {
            "backgroundcolor": "#E5ECF6",
            "gridcolor": "white",
            "gridwidth": 2,
            "linecolor": "white",
            "showbackground": true,
            "ticks": "",
            "zerolinecolor": "white"
           }
          },
          "shapedefaults": {
           "line": {
            "color": "#2a3f5f"
           }
          },
          "ternary": {
           "aaxis": {
            "gridcolor": "white",
            "linecolor": "white",
            "ticks": ""
           },
           "baxis": {
            "gridcolor": "white",
            "linecolor": "white",
            "ticks": ""
           },
           "bgcolor": "#E5ECF6",
           "caxis": {
            "gridcolor": "white",
            "linecolor": "white",
            "ticks": ""
           }
          },
          "title": {
           "x": 0.05
          },
          "xaxis": {
           "automargin": true,
           "gridcolor": "white",
           "linecolor": "white",
           "ticks": "",
           "title": {
            "standoff": 15
           },
           "zerolinecolor": "white",
           "zerolinewidth": 2
          },
          "yaxis": {
           "automargin": true,
           "gridcolor": "white",
           "linecolor": "white",
           "ticks": "",
           "title": {
            "standoff": 15
           },
           "zerolinecolor": "white",
           "zerolinewidth": 2
          }
         }
        }
       }
      }
     },
     "metadata": {},
     "output_type": "display_data"
    }
   ],
   "source": [
    "figure = px.pie(df, \n",
    "             values='tip', \n",
    "             names='day')\n",
    "figure.show()"
   ]
  },
  {
   "cell_type": "markdown",
   "id": "2da37de3",
   "metadata": {},
   "source": [
    "##### It shows that, on Saturday and Sunday most tips are being given to the waiter"
   ]
  },
  {
   "cell_type": "markdown",
   "id": "df27ba25",
   "metadata": {},
   "source": [
    "**Tip given to waiter according to Gender**"
   ]
  },
  {
   "cell_type": "code",
   "execution_count": 105,
   "id": "beab2480",
   "metadata": {},
   "outputs": [
    {
     "data": {
      "application/vnd.plotly.v1+json": {
       "config": {
        "plotlyServerURL": "https://plot.ly"
       },
       "data": [
        {
         "domain": {
          "x": [
           0,
           1
          ],
          "y": [
           0,
           1
          ]
         },
         "hole": 0.5,
         "hovertemplate": "gender=%{label}<br>tip=%{value}<extra></extra>",
         "labels": [
          1,
          1,
          1,
          0,
          0,
          1,
          1,
          0,
          0,
          1,
          0,
          1,
          1,
          1,
          1,
          1,
          1,
          1,
          0,
          0,
          1,
          1,
          1,
          1,
          0,
          1,
          1,
          1,
          1,
          0,
          0,
          1,
          1,
          0,
          1,
          1,
          1,
          0,
          1,
          0,
          1,
          1,
          1,
          0,
          1,
          0,
          0,
          0,
          1,
          1,
          1,
          1,
          1,
          1,
          1,
          1,
          0,
          1,
          0,
          1,
          1,
          1,
          1,
          0,
          0,
          1,
          0,
          0,
          0,
          1,
          1,
          0,
          1,
          0,
          1,
          1,
          1,
          1,
          1,
          1,
          1,
          1,
          1,
          1,
          1,
          1,
          1,
          1,
          0,
          0,
          0,
          1,
          1,
          0,
          1,
          1,
          1,
          1,
          0,
          1,
          1,
          1,
          1,
          0,
          0,
          1,
          1,
          1,
          1,
          1,
          1,
          0,
          1,
          0,
          0,
          1,
          1,
          1,
          1,
          0,
          0,
          0,
          1,
          0,
          0,
          0,
          1,
          0,
          1,
          0,
          1,
          1,
          0,
          0,
          1,
          0,
          1,
          1,
          1,
          1,
          1,
          0,
          1,
          1,
          0,
          1,
          0,
          0,
          0,
          1,
          1,
          1,
          0,
          1,
          0,
          1,
          0,
          1,
          1,
          1,
          0,
          0,
          1,
          1,
          0,
          0,
          0,
          1,
          0,
          1,
          0,
          1,
          1,
          1,
          1,
          1,
          1,
          1,
          1,
          1,
          1,
          1,
          0,
          1,
          0,
          0,
          1,
          0,
          1,
          1,
          0,
          1,
          0,
          0,
          1,
          1,
          1,
          1,
          0,
          0
         ],
         "legendgroup": "",
         "name": "",
         "showlegend": true,
         "type": "pie",
         "values": [
          190,
          470.3,
          370.7,
          300.6,
          94.9,
          94.7,
          47.6,
          430.5,
          300.1,
          340,
          20,
          470.3,
          400.3,
          120,
          90.2,
          100,
          150.3,
          250.3,
          220.1,
          150.2,
          300.2,
          79.9,
          150.3,
          190.3,
          230.5,
          390.2,
          110.2,
          261.1,
          300.2,
          42.1,
          300.1,
          100.5,
          54,
          450.2,
          490.23,
          401.5,
          140.3,
          63.2,
          340.2,
          231.34,
          79.2,
          250.3,
          30,
          400.23,
          140.3,
          300,
          150,
          250.3,
          250.3,
          100,
          450.2,
          310.2,
          450.2,
          390,
          300,
          450.3,
          60,
          100,
          20,
          165,
          245,
          152,
          412,
          191,
          123,
          239,
          60.34,
          421,
          32,
          324.1,
          345,
          112,
          20,
          412,
          324.5,
          342,
          342,
          52,
          165,
          65,
          432,
          312,
          123.5,
          49.4,
          154,
          145,
          354,
          234,
          342,
          231,
          43,
          312.4,
          274,
          234,
          352,
          213,
          211,
          256,
          20,
          50,
          34,
          321,
          149,
          245,
          357,
          132,
          234,
          315,
          126,
          54,
          134,
          64,
          461,
          342,
          245,
          354,
          325,
          75,
          412,
          255,
          394,
          432,
          152,
          56,
          12,
          23,
          43,
          23,
          43,
          54,
          23,
          224,
          23,
          190,
          3,
          132,
          23,
          43,
          23,
          42,
          23,
          109,
          43,
          23,
          123,
          43,
          23,
          242,
          43,
          123,
          43,
          143,
          43,
          24,
          54,
          150,
          234,
          23,
          121,
          32,
          34,
          43,
          34,
          254,
          63,
          42,
          171,
          100,
          43,
          42,
          24,
          43,
          190,
          132,
          23,
          101,
          235,
          32,
          43,
          23,
          139,
          72,
          412,
          312,
          113,
          23,
          43,
          162,
          234,
          102,
          43,
          64,
          43,
          421,
          142,
          123,
          43,
          54,
          64,
          31
         ]
        }
       ],
       "layout": {
        "legend": {
         "tracegroupgap": 0
        },
        "margin": {
         "t": 60
        },
        "template": {
         "data": {
          "bar": [
           {
            "error_x": {
             "color": "#2a3f5f"
            },
            "error_y": {
             "color": "#2a3f5f"
            },
            "marker": {
             "line": {
              "color": "#E5ECF6",
              "width": 0.5
             },
             "pattern": {
              "fillmode": "overlay",
              "size": 10,
              "solidity": 0.2
             }
            },
            "type": "bar"
           }
          ],
          "barpolar": [
           {
            "marker": {
             "line": {
              "color": "#E5ECF6",
              "width": 0.5
             },
             "pattern": {
              "fillmode": "overlay",
              "size": 10,
              "solidity": 0.2
             }
            },
            "type": "barpolar"
           }
          ],
          "carpet": [
           {
            "aaxis": {
             "endlinecolor": "#2a3f5f",
             "gridcolor": "white",
             "linecolor": "white",
             "minorgridcolor": "white",
             "startlinecolor": "#2a3f5f"
            },
            "baxis": {
             "endlinecolor": "#2a3f5f",
             "gridcolor": "white",
             "linecolor": "white",
             "minorgridcolor": "white",
             "startlinecolor": "#2a3f5f"
            },
            "type": "carpet"
           }
          ],
          "choropleth": [
           {
            "colorbar": {
             "outlinewidth": 0,
             "ticks": ""
            },
            "type": "choropleth"
           }
          ],
          "contour": [
           {
            "colorbar": {
             "outlinewidth": 0,
             "ticks": ""
            },
            "colorscale": [
             [
              0,
              "#0d0887"
             ],
             [
              0.1111111111111111,
              "#46039f"
             ],
             [
              0.2222222222222222,
              "#7201a8"
             ],
             [
              0.3333333333333333,
              "#9c179e"
             ],
             [
              0.4444444444444444,
              "#bd3786"
             ],
             [
              0.5555555555555556,
              "#d8576b"
             ],
             [
              0.6666666666666666,
              "#ed7953"
             ],
             [
              0.7777777777777778,
              "#fb9f3a"
             ],
             [
              0.8888888888888888,
              "#fdca26"
             ],
             [
              1,
              "#f0f921"
             ]
            ],
            "type": "contour"
           }
          ],
          "contourcarpet": [
           {
            "colorbar": {
             "outlinewidth": 0,
             "ticks": ""
            },
            "type": "contourcarpet"
           }
          ],
          "heatmap": [
           {
            "colorbar": {
             "outlinewidth": 0,
             "ticks": ""
            },
            "colorscale": [
             [
              0,
              "#0d0887"
             ],
             [
              0.1111111111111111,
              "#46039f"
             ],
             [
              0.2222222222222222,
              "#7201a8"
             ],
             [
              0.3333333333333333,
              "#9c179e"
             ],
             [
              0.4444444444444444,
              "#bd3786"
             ],
             [
              0.5555555555555556,
              "#d8576b"
             ],
             [
              0.6666666666666666,
              "#ed7953"
             ],
             [
              0.7777777777777778,
              "#fb9f3a"
             ],
             [
              0.8888888888888888,
              "#fdca26"
             ],
             [
              1,
              "#f0f921"
             ]
            ],
            "type": "heatmap"
           }
          ],
          "heatmapgl": [
           {
            "colorbar": {
             "outlinewidth": 0,
             "ticks": ""
            },
            "colorscale": [
             [
              0,
              "#0d0887"
             ],
             [
              0.1111111111111111,
              "#46039f"
             ],
             [
              0.2222222222222222,
              "#7201a8"
             ],
             [
              0.3333333333333333,
              "#9c179e"
             ],
             [
              0.4444444444444444,
              "#bd3786"
             ],
             [
              0.5555555555555556,
              "#d8576b"
             ],
             [
              0.6666666666666666,
              "#ed7953"
             ],
             [
              0.7777777777777778,
              "#fb9f3a"
             ],
             [
              0.8888888888888888,
              "#fdca26"
             ],
             [
              1,
              "#f0f921"
             ]
            ],
            "type": "heatmapgl"
           }
          ],
          "histogram": [
           {
            "marker": {
             "pattern": {
              "fillmode": "overlay",
              "size": 10,
              "solidity": 0.2
             }
            },
            "type": "histogram"
           }
          ],
          "histogram2d": [
           {
            "colorbar": {
             "outlinewidth": 0,
             "ticks": ""
            },
            "colorscale": [
             [
              0,
              "#0d0887"
             ],
             [
              0.1111111111111111,
              "#46039f"
             ],
             [
              0.2222222222222222,
              "#7201a8"
             ],
             [
              0.3333333333333333,
              "#9c179e"
             ],
             [
              0.4444444444444444,
              "#bd3786"
             ],
             [
              0.5555555555555556,
              "#d8576b"
             ],
             [
              0.6666666666666666,
              "#ed7953"
             ],
             [
              0.7777777777777778,
              "#fb9f3a"
             ],
             [
              0.8888888888888888,
              "#fdca26"
             ],
             [
              1,
              "#f0f921"
             ]
            ],
            "type": "histogram2d"
           }
          ],
          "histogram2dcontour": [
           {
            "colorbar": {
             "outlinewidth": 0,
             "ticks": ""
            },
            "colorscale": [
             [
              0,
              "#0d0887"
             ],
             [
              0.1111111111111111,
              "#46039f"
             ],
             [
              0.2222222222222222,
              "#7201a8"
             ],
             [
              0.3333333333333333,
              "#9c179e"
             ],
             [
              0.4444444444444444,
              "#bd3786"
             ],
             [
              0.5555555555555556,
              "#d8576b"
             ],
             [
              0.6666666666666666,
              "#ed7953"
             ],
             [
              0.7777777777777778,
              "#fb9f3a"
             ],
             [
              0.8888888888888888,
              "#fdca26"
             ],
             [
              1,
              "#f0f921"
             ]
            ],
            "type": "histogram2dcontour"
           }
          ],
          "mesh3d": [
           {
            "colorbar": {
             "outlinewidth": 0,
             "ticks": ""
            },
            "type": "mesh3d"
           }
          ],
          "parcoords": [
           {
            "line": {
             "colorbar": {
              "outlinewidth": 0,
              "ticks": ""
             }
            },
            "type": "parcoords"
           }
          ],
          "pie": [
           {
            "automargin": true,
            "type": "pie"
           }
          ],
          "scatter": [
           {
            "fillpattern": {
             "fillmode": "overlay",
             "size": 10,
             "solidity": 0.2
            },
            "type": "scatter"
           }
          ],
          "scatter3d": [
           {
            "line": {
             "colorbar": {
              "outlinewidth": 0,
              "ticks": ""
             }
            },
            "marker": {
             "colorbar": {
              "outlinewidth": 0,
              "ticks": ""
             }
            },
            "type": "scatter3d"
           }
          ],
          "scattercarpet": [
           {
            "marker": {
             "colorbar": {
              "outlinewidth": 0,
              "ticks": ""
             }
            },
            "type": "scattercarpet"
           }
          ],
          "scattergeo": [
           {
            "marker": {
             "colorbar": {
              "outlinewidth": 0,
              "ticks": ""
             }
            },
            "type": "scattergeo"
           }
          ],
          "scattergl": [
           {
            "marker": {
             "colorbar": {
              "outlinewidth": 0,
              "ticks": ""
             }
            },
            "type": "scattergl"
           }
          ],
          "scattermapbox": [
           {
            "marker": {
             "colorbar": {
              "outlinewidth": 0,
              "ticks": ""
             }
            },
            "type": "scattermapbox"
           }
          ],
          "scatterpolar": [
           {
            "marker": {
             "colorbar": {
              "outlinewidth": 0,
              "ticks": ""
             }
            },
            "type": "scatterpolar"
           }
          ],
          "scatterpolargl": [
           {
            "marker": {
             "colorbar": {
              "outlinewidth": 0,
              "ticks": ""
             }
            },
            "type": "scatterpolargl"
           }
          ],
          "scatterternary": [
           {
            "marker": {
             "colorbar": {
              "outlinewidth": 0,
              "ticks": ""
             }
            },
            "type": "scatterternary"
           }
          ],
          "surface": [
           {
            "colorbar": {
             "outlinewidth": 0,
             "ticks": ""
            },
            "colorscale": [
             [
              0,
              "#0d0887"
             ],
             [
              0.1111111111111111,
              "#46039f"
             ],
             [
              0.2222222222222222,
              "#7201a8"
             ],
             [
              0.3333333333333333,
              "#9c179e"
             ],
             [
              0.4444444444444444,
              "#bd3786"
             ],
             [
              0.5555555555555556,
              "#d8576b"
             ],
             [
              0.6666666666666666,
              "#ed7953"
             ],
             [
              0.7777777777777778,
              "#fb9f3a"
             ],
             [
              0.8888888888888888,
              "#fdca26"
             ],
             [
              1,
              "#f0f921"
             ]
            ],
            "type": "surface"
           }
          ],
          "table": [
           {
            "cells": {
             "fill": {
              "color": "#EBF0F8"
             },
             "line": {
              "color": "white"
             }
            },
            "header": {
             "fill": {
              "color": "#C8D4E3"
             },
             "line": {
              "color": "white"
             }
            },
            "type": "table"
           }
          ]
         },
         "layout": {
          "annotationdefaults": {
           "arrowcolor": "#2a3f5f",
           "arrowhead": 0,
           "arrowwidth": 1
          },
          "autotypenumbers": "strict",
          "coloraxis": {
           "colorbar": {
            "outlinewidth": 0,
            "ticks": ""
           }
          },
          "colorscale": {
           "diverging": [
            [
             0,
             "#8e0152"
            ],
            [
             0.1,
             "#c51b7d"
            ],
            [
             0.2,
             "#de77ae"
            ],
            [
             0.3,
             "#f1b6da"
            ],
            [
             0.4,
             "#fde0ef"
            ],
            [
             0.5,
             "#f7f7f7"
            ],
            [
             0.6,
             "#e6f5d0"
            ],
            [
             0.7,
             "#b8e186"
            ],
            [
             0.8,
             "#7fbc41"
            ],
            [
             0.9,
             "#4d9221"
            ],
            [
             1,
             "#276419"
            ]
           ],
           "sequential": [
            [
             0,
             "#0d0887"
            ],
            [
             0.1111111111111111,
             "#46039f"
            ],
            [
             0.2222222222222222,
             "#7201a8"
            ],
            [
             0.3333333333333333,
             "#9c179e"
            ],
            [
             0.4444444444444444,
             "#bd3786"
            ],
            [
             0.5555555555555556,
             "#d8576b"
            ],
            [
             0.6666666666666666,
             "#ed7953"
            ],
            [
             0.7777777777777778,
             "#fb9f3a"
            ],
            [
             0.8888888888888888,
             "#fdca26"
            ],
            [
             1,
             "#f0f921"
            ]
           ],
           "sequentialminus": [
            [
             0,
             "#0d0887"
            ],
            [
             0.1111111111111111,
             "#46039f"
            ],
            [
             0.2222222222222222,
             "#7201a8"
            ],
            [
             0.3333333333333333,
             "#9c179e"
            ],
            [
             0.4444444444444444,
             "#bd3786"
            ],
            [
             0.5555555555555556,
             "#d8576b"
            ],
            [
             0.6666666666666666,
             "#ed7953"
            ],
            [
             0.7777777777777778,
             "#fb9f3a"
            ],
            [
             0.8888888888888888,
             "#fdca26"
            ],
            [
             1,
             "#f0f921"
            ]
           ]
          },
          "colorway": [
           "#636efa",
           "#EF553B",
           "#00cc96",
           "#ab63fa",
           "#FFA15A",
           "#19d3f3",
           "#FF6692",
           "#B6E880",
           "#FF97FF",
           "#FECB52"
          ],
          "font": {
           "color": "#2a3f5f"
          },
          "geo": {
           "bgcolor": "white",
           "lakecolor": "white",
           "landcolor": "#E5ECF6",
           "showlakes": true,
           "showland": true,
           "subunitcolor": "white"
          },
          "hoverlabel": {
           "align": "left"
          },
          "hovermode": "closest",
          "mapbox": {
           "style": "light"
          },
          "paper_bgcolor": "white",
          "plot_bgcolor": "#E5ECF6",
          "polar": {
           "angularaxis": {
            "gridcolor": "white",
            "linecolor": "white",
            "ticks": ""
           },
           "bgcolor": "#E5ECF6",
           "radialaxis": {
            "gridcolor": "white",
            "linecolor": "white",
            "ticks": ""
           }
          },
          "scene": {
           "xaxis": {
            "backgroundcolor": "#E5ECF6",
            "gridcolor": "white",
            "gridwidth": 2,
            "linecolor": "white",
            "showbackground": true,
            "ticks": "",
            "zerolinecolor": "white"
           },
           "yaxis": {
            "backgroundcolor": "#E5ECF6",
            "gridcolor": "white",
            "gridwidth": 2,
            "linecolor": "white",
            "showbackground": true,
            "ticks": "",
            "zerolinecolor": "white"
           },
           "zaxis": {
            "backgroundcolor": "#E5ECF6",
            "gridcolor": "white",
            "gridwidth": 2,
            "linecolor": "white",
            "showbackground": true,
            "ticks": "",
            "zerolinecolor": "white"
           }
          },
          "shapedefaults": {
           "line": {
            "color": "#2a3f5f"
           }
          },
          "ternary": {
           "aaxis": {
            "gridcolor": "white",
            "linecolor": "white",
            "ticks": ""
           },
           "baxis": {
            "gridcolor": "white",
            "linecolor": "white",
            "ticks": ""
           },
           "bgcolor": "#E5ECF6",
           "caxis": {
            "gridcolor": "white",
            "linecolor": "white",
            "ticks": ""
           }
          },
          "title": {
           "x": 0.05
          },
          "xaxis": {
           "automargin": true,
           "gridcolor": "white",
           "linecolor": "white",
           "ticks": "",
           "title": {
            "standoff": 15
           },
           "zerolinecolor": "white",
           "zerolinewidth": 2
          },
          "yaxis": {
           "automargin": true,
           "gridcolor": "white",
           "linecolor": "white",
           "ticks": "",
           "title": {
            "standoff": 15
           },
           "zerolinecolor": "white",
           "zerolinewidth": 2
          }
         }
        }
       }
      }
     },
     "metadata": {},
     "output_type": "display_data"
    }
   ],
   "source": [
    "figure = px.pie(df, \n",
    "             values='tip', \n",
    "             names='gender',hole = 0.5)\n",
    "figure.show()"
   ]
  },
  {
   "cell_type": "markdown",
   "id": "0cbaf6d1-1a71-4dcc-8ca6-528a88d0c23e",
   "metadata": {},
   "source": [
    "##### It shows that most of the time male are giving tip to waiters"
   ]
  },
  {
   "cell_type": "markdown",
   "id": "64fc988e",
   "metadata": {},
   "source": [
    "**Tip given to waiter according to people who smoked**"
   ]
  },
  {
   "cell_type": "code",
   "execution_count": 106,
   "id": "2d5aa24e",
   "metadata": {},
   "outputs": [
    {
     "data": {
      "application/vnd.plotly.v1+json": {
       "config": {
        "plotlyServerURL": "https://plot.ly"
       },
       "data": [
        {
         "domain": {
          "x": [
           0,
           1
          ],
          "y": [
           0,
           1
          ]
         },
         "hole": 0.5,
         "hovertemplate": "drunk=%{label}<br>tip=%{value}<extra></extra>",
         "labels": [
          0,
          1,
          0,
          1,
          1,
          0,
          1,
          0,
          0,
          0,
          1,
          1,
          0,
          0,
          1,
          0,
          0,
          1,
          0,
          1,
          0,
          1,
          0,
          0,
          1,
          0,
          1,
          0,
          1,
          1,
          1,
          1,
          0,
          0,
          0,
          0,
          0,
          0,
          0,
          0,
          0,
          1,
          1,
          1,
          0,
          0,
          0,
          1,
          1,
          0,
          1,
          0,
          0,
          1,
          0,
          1,
          0,
          1,
          1,
          1,
          0,
          0,
          1,
          1,
          0,
          0,
          0,
          1,
          0,
          0,
          1,
          0,
          0,
          0,
          0,
          0,
          0,
          0,
          0,
          1,
          1,
          0,
          0,
          1,
          0,
          0,
          1,
          0,
          0,
          0,
          0,
          0,
          0,
          0,
          0,
          0,
          1,
          0,
          0,
          0,
          0,
          1,
          1,
          0,
          1,
          0,
          1,
          1,
          0,
          1,
          0,
          1,
          0,
          0,
          1,
          1,
          0,
          1,
          1,
          0,
          0,
          1,
          0,
          0,
          0,
          1,
          1,
          0,
          1,
          0,
          1,
          0,
          0,
          1,
          0,
          1,
          1,
          0,
          0,
          1,
          0,
          0,
          0,
          0,
          0,
          1,
          1,
          0,
          0,
          0,
          1,
          0,
          0,
          0,
          0,
          0,
          1,
          0,
          1,
          0,
          1,
          0,
          1,
          0,
          0,
          0,
          0,
          1,
          1,
          0,
          1,
          0,
          0,
          1,
          0,
          0,
          1,
          0,
          0,
          0,
          0,
          1,
          1,
          1,
          0,
          0,
          1,
          0,
          0,
          0,
          0,
          1,
          1,
          1,
          0,
          1,
          1,
          0,
          0,
          1
         ],
         "legendgroup": "",
         "name": "",
         "showlegend": true,
         "type": "pie",
         "values": [
          190,
          470.3,
          370.7,
          300.6,
          94.9,
          94.7,
          47.6,
          430.5,
          300.1,
          340,
          20,
          470.3,
          400.3,
          120,
          90.2,
          100,
          150.3,
          250.3,
          220.1,
          150.2,
          300.2,
          79.9,
          150.3,
          190.3,
          230.5,
          390.2,
          110.2,
          261.1,
          300.2,
          42.1,
          300.1,
          100.5,
          54,
          450.2,
          490.23,
          401.5,
          140.3,
          63.2,
          340.2,
          231.34,
          79.2,
          250.3,
          30,
          400.23,
          140.3,
          300,
          150,
          250.3,
          250.3,
          100,
          450.2,
          310.2,
          450.2,
          390,
          300,
          450.3,
          60,
          100,
          20,
          165,
          245,
          152,
          412,
          191,
          123,
          239,
          60.34,
          421,
          32,
          324.1,
          345,
          112,
          20,
          412,
          324.5,
          342,
          342,
          52,
          165,
          65,
          432,
          312,
          123.5,
          49.4,
          154,
          145,
          354,
          234,
          342,
          231,
          43,
          312.4,
          274,
          234,
          352,
          213,
          211,
          256,
          20,
          50,
          34,
          321,
          149,
          245,
          357,
          132,
          234,
          315,
          126,
          54,
          134,
          64,
          461,
          342,
          245,
          354,
          325,
          75,
          412,
          255,
          394,
          432,
          152,
          56,
          12,
          23,
          43,
          23,
          43,
          54,
          23,
          224,
          23,
          190,
          3,
          132,
          23,
          43,
          23,
          42,
          23,
          109,
          43,
          23,
          123,
          43,
          23,
          242,
          43,
          123,
          43,
          143,
          43,
          24,
          54,
          150,
          234,
          23,
          121,
          32,
          34,
          43,
          34,
          254,
          63,
          42,
          171,
          100,
          43,
          42,
          24,
          43,
          190,
          132,
          23,
          101,
          235,
          32,
          43,
          23,
          139,
          72,
          412,
          312,
          113,
          23,
          43,
          162,
          234,
          102,
          43,
          64,
          43,
          421,
          142,
          123,
          43,
          54,
          64,
          31
         ]
        }
       ],
       "layout": {
        "legend": {
         "tracegroupgap": 0
        },
        "margin": {
         "t": 60
        },
        "template": {
         "data": {
          "bar": [
           {
            "error_x": {
             "color": "#2a3f5f"
            },
            "error_y": {
             "color": "#2a3f5f"
            },
            "marker": {
             "line": {
              "color": "#E5ECF6",
              "width": 0.5
             },
             "pattern": {
              "fillmode": "overlay",
              "size": 10,
              "solidity": 0.2
             }
            },
            "type": "bar"
           }
          ],
          "barpolar": [
           {
            "marker": {
             "line": {
              "color": "#E5ECF6",
              "width": 0.5
             },
             "pattern": {
              "fillmode": "overlay",
              "size": 10,
              "solidity": 0.2
             }
            },
            "type": "barpolar"
           }
          ],
          "carpet": [
           {
            "aaxis": {
             "endlinecolor": "#2a3f5f",
             "gridcolor": "white",
             "linecolor": "white",
             "minorgridcolor": "white",
             "startlinecolor": "#2a3f5f"
            },
            "baxis": {
             "endlinecolor": "#2a3f5f",
             "gridcolor": "white",
             "linecolor": "white",
             "minorgridcolor": "white",
             "startlinecolor": "#2a3f5f"
            },
            "type": "carpet"
           }
          ],
          "choropleth": [
           {
            "colorbar": {
             "outlinewidth": 0,
             "ticks": ""
            },
            "type": "choropleth"
           }
          ],
          "contour": [
           {
            "colorbar": {
             "outlinewidth": 0,
             "ticks": ""
            },
            "colorscale": [
             [
              0,
              "#0d0887"
             ],
             [
              0.1111111111111111,
              "#46039f"
             ],
             [
              0.2222222222222222,
              "#7201a8"
             ],
             [
              0.3333333333333333,
              "#9c179e"
             ],
             [
              0.4444444444444444,
              "#bd3786"
             ],
             [
              0.5555555555555556,
              "#d8576b"
             ],
             [
              0.6666666666666666,
              "#ed7953"
             ],
             [
              0.7777777777777778,
              "#fb9f3a"
             ],
             [
              0.8888888888888888,
              "#fdca26"
             ],
             [
              1,
              "#f0f921"
             ]
            ],
            "type": "contour"
           }
          ],
          "contourcarpet": [
           {
            "colorbar": {
             "outlinewidth": 0,
             "ticks": ""
            },
            "type": "contourcarpet"
           }
          ],
          "heatmap": [
           {
            "colorbar": {
             "outlinewidth": 0,
             "ticks": ""
            },
            "colorscale": [
             [
              0,
              "#0d0887"
             ],
             [
              0.1111111111111111,
              "#46039f"
             ],
             [
              0.2222222222222222,
              "#7201a8"
             ],
             [
              0.3333333333333333,
              "#9c179e"
             ],
             [
              0.4444444444444444,
              "#bd3786"
             ],
             [
              0.5555555555555556,
              "#d8576b"
             ],
             [
              0.6666666666666666,
              "#ed7953"
             ],
             [
              0.7777777777777778,
              "#fb9f3a"
             ],
             [
              0.8888888888888888,
              "#fdca26"
             ],
             [
              1,
              "#f0f921"
             ]
            ],
            "type": "heatmap"
           }
          ],
          "heatmapgl": [
           {
            "colorbar": {
             "outlinewidth": 0,
             "ticks": ""
            },
            "colorscale": [
             [
              0,
              "#0d0887"
             ],
             [
              0.1111111111111111,
              "#46039f"
             ],
             [
              0.2222222222222222,
              "#7201a8"
             ],
             [
              0.3333333333333333,
              "#9c179e"
             ],
             [
              0.4444444444444444,
              "#bd3786"
             ],
             [
              0.5555555555555556,
              "#d8576b"
             ],
             [
              0.6666666666666666,
              "#ed7953"
             ],
             [
              0.7777777777777778,
              "#fb9f3a"
             ],
             [
              0.8888888888888888,
              "#fdca26"
             ],
             [
              1,
              "#f0f921"
             ]
            ],
            "type": "heatmapgl"
           }
          ],
          "histogram": [
           {
            "marker": {
             "pattern": {
              "fillmode": "overlay",
              "size": 10,
              "solidity": 0.2
             }
            },
            "type": "histogram"
           }
          ],
          "histogram2d": [
           {
            "colorbar": {
             "outlinewidth": 0,
             "ticks": ""
            },
            "colorscale": [
             [
              0,
              "#0d0887"
             ],
             [
              0.1111111111111111,
              "#46039f"
             ],
             [
              0.2222222222222222,
              "#7201a8"
             ],
             [
              0.3333333333333333,
              "#9c179e"
             ],
             [
              0.4444444444444444,
              "#bd3786"
             ],
             [
              0.5555555555555556,
              "#d8576b"
             ],
             [
              0.6666666666666666,
              "#ed7953"
             ],
             [
              0.7777777777777778,
              "#fb9f3a"
             ],
             [
              0.8888888888888888,
              "#fdca26"
             ],
             [
              1,
              "#f0f921"
             ]
            ],
            "type": "histogram2d"
           }
          ],
          "histogram2dcontour": [
           {
            "colorbar": {
             "outlinewidth": 0,
             "ticks": ""
            },
            "colorscale": [
             [
              0,
              "#0d0887"
             ],
             [
              0.1111111111111111,
              "#46039f"
             ],
             [
              0.2222222222222222,
              "#7201a8"
             ],
             [
              0.3333333333333333,
              "#9c179e"
             ],
             [
              0.4444444444444444,
              "#bd3786"
             ],
             [
              0.5555555555555556,
              "#d8576b"
             ],
             [
              0.6666666666666666,
              "#ed7953"
             ],
             [
              0.7777777777777778,
              "#fb9f3a"
             ],
             [
              0.8888888888888888,
              "#fdca26"
             ],
             [
              1,
              "#f0f921"
             ]
            ],
            "type": "histogram2dcontour"
           }
          ],
          "mesh3d": [
           {
            "colorbar": {
             "outlinewidth": 0,
             "ticks": ""
            },
            "type": "mesh3d"
           }
          ],
          "parcoords": [
           {
            "line": {
             "colorbar": {
              "outlinewidth": 0,
              "ticks": ""
             }
            },
            "type": "parcoords"
           }
          ],
          "pie": [
           {
            "automargin": true,
            "type": "pie"
           }
          ],
          "scatter": [
           {
            "fillpattern": {
             "fillmode": "overlay",
             "size": 10,
             "solidity": 0.2
            },
            "type": "scatter"
           }
          ],
          "scatter3d": [
           {
            "line": {
             "colorbar": {
              "outlinewidth": 0,
              "ticks": ""
             }
            },
            "marker": {
             "colorbar": {
              "outlinewidth": 0,
              "ticks": ""
             }
            },
            "type": "scatter3d"
           }
          ],
          "scattercarpet": [
           {
            "marker": {
             "colorbar": {
              "outlinewidth": 0,
              "ticks": ""
             }
            },
            "type": "scattercarpet"
           }
          ],
          "scattergeo": [
           {
            "marker": {
             "colorbar": {
              "outlinewidth": 0,
              "ticks": ""
             }
            },
            "type": "scattergeo"
           }
          ],
          "scattergl": [
           {
            "marker": {
             "colorbar": {
              "outlinewidth": 0,
              "ticks": ""
             }
            },
            "type": "scattergl"
           }
          ],
          "scattermapbox": [
           {
            "marker": {
             "colorbar": {
              "outlinewidth": 0,
              "ticks": ""
             }
            },
            "type": "scattermapbox"
           }
          ],
          "scatterpolar": [
           {
            "marker": {
             "colorbar": {
              "outlinewidth": 0,
              "ticks": ""
             }
            },
            "type": "scatterpolar"
           }
          ],
          "scatterpolargl": [
           {
            "marker": {
             "colorbar": {
              "outlinewidth": 0,
              "ticks": ""
             }
            },
            "type": "scatterpolargl"
           }
          ],
          "scatterternary": [
           {
            "marker": {
             "colorbar": {
              "outlinewidth": 0,
              "ticks": ""
             }
            },
            "type": "scatterternary"
           }
          ],
          "surface": [
           {
            "colorbar": {
             "outlinewidth": 0,
             "ticks": ""
            },
            "colorscale": [
             [
              0,
              "#0d0887"
             ],
             [
              0.1111111111111111,
              "#46039f"
             ],
             [
              0.2222222222222222,
              "#7201a8"
             ],
             [
              0.3333333333333333,
              "#9c179e"
             ],
             [
              0.4444444444444444,
              "#bd3786"
             ],
             [
              0.5555555555555556,
              "#d8576b"
             ],
             [
              0.6666666666666666,
              "#ed7953"
             ],
             [
              0.7777777777777778,
              "#fb9f3a"
             ],
             [
              0.8888888888888888,
              "#fdca26"
             ],
             [
              1,
              "#f0f921"
             ]
            ],
            "type": "surface"
           }
          ],
          "table": [
           {
            "cells": {
             "fill": {
              "color": "#EBF0F8"
             },
             "line": {
              "color": "white"
             }
            },
            "header": {
             "fill": {
              "color": "#C8D4E3"
             },
             "line": {
              "color": "white"
             }
            },
            "type": "table"
           }
          ]
         },
         "layout": {
          "annotationdefaults": {
           "arrowcolor": "#2a3f5f",
           "arrowhead": 0,
           "arrowwidth": 1
          },
          "autotypenumbers": "strict",
          "coloraxis": {
           "colorbar": {
            "outlinewidth": 0,
            "ticks": ""
           }
          },
          "colorscale": {
           "diverging": [
            [
             0,
             "#8e0152"
            ],
            [
             0.1,
             "#c51b7d"
            ],
            [
             0.2,
             "#de77ae"
            ],
            [
             0.3,
             "#f1b6da"
            ],
            [
             0.4,
             "#fde0ef"
            ],
            [
             0.5,
             "#f7f7f7"
            ],
            [
             0.6,
             "#e6f5d0"
            ],
            [
             0.7,
             "#b8e186"
            ],
            [
             0.8,
             "#7fbc41"
            ],
            [
             0.9,
             "#4d9221"
            ],
            [
             1,
             "#276419"
            ]
           ],
           "sequential": [
            [
             0,
             "#0d0887"
            ],
            [
             0.1111111111111111,
             "#46039f"
            ],
            [
             0.2222222222222222,
             "#7201a8"
            ],
            [
             0.3333333333333333,
             "#9c179e"
            ],
            [
             0.4444444444444444,
             "#bd3786"
            ],
            [
             0.5555555555555556,
             "#d8576b"
            ],
            [
             0.6666666666666666,
             "#ed7953"
            ],
            [
             0.7777777777777778,
             "#fb9f3a"
            ],
            [
             0.8888888888888888,
             "#fdca26"
            ],
            [
             1,
             "#f0f921"
            ]
           ],
           "sequentialminus": [
            [
             0,
             "#0d0887"
            ],
            [
             0.1111111111111111,
             "#46039f"
            ],
            [
             0.2222222222222222,
             "#7201a8"
            ],
            [
             0.3333333333333333,
             "#9c179e"
            ],
            [
             0.4444444444444444,
             "#bd3786"
            ],
            [
             0.5555555555555556,
             "#d8576b"
            ],
            [
             0.6666666666666666,
             "#ed7953"
            ],
            [
             0.7777777777777778,
             "#fb9f3a"
            ],
            [
             0.8888888888888888,
             "#fdca26"
            ],
            [
             1,
             "#f0f921"
            ]
           ]
          },
          "colorway": [
           "#636efa",
           "#EF553B",
           "#00cc96",
           "#ab63fa",
           "#FFA15A",
           "#19d3f3",
           "#FF6692",
           "#B6E880",
           "#FF97FF",
           "#FECB52"
          ],
          "font": {
           "color": "#2a3f5f"
          },
          "geo": {
           "bgcolor": "white",
           "lakecolor": "white",
           "landcolor": "#E5ECF6",
           "showlakes": true,
           "showland": true,
           "subunitcolor": "white"
          },
          "hoverlabel": {
           "align": "left"
          },
          "hovermode": "closest",
          "mapbox": {
           "style": "light"
          },
          "paper_bgcolor": "white",
          "plot_bgcolor": "#E5ECF6",
          "polar": {
           "angularaxis": {
            "gridcolor": "white",
            "linecolor": "white",
            "ticks": ""
           },
           "bgcolor": "#E5ECF6",
           "radialaxis": {
            "gridcolor": "white",
            "linecolor": "white",
            "ticks": ""
           }
          },
          "scene": {
           "xaxis": {
            "backgroundcolor": "#E5ECF6",
            "gridcolor": "white",
            "gridwidth": 2,
            "linecolor": "white",
            "showbackground": true,
            "ticks": "",
            "zerolinecolor": "white"
           },
           "yaxis": {
            "backgroundcolor": "#E5ECF6",
            "gridcolor": "white",
            "gridwidth": 2,
            "linecolor": "white",
            "showbackground": true,
            "ticks": "",
            "zerolinecolor": "white"
           },
           "zaxis": {
            "backgroundcolor": "#E5ECF6",
            "gridcolor": "white",
            "gridwidth": 2,
            "linecolor": "white",
            "showbackground": true,
            "ticks": "",
            "zerolinecolor": "white"
           }
          },
          "shapedefaults": {
           "line": {
            "color": "#2a3f5f"
           }
          },
          "ternary": {
           "aaxis": {
            "gridcolor": "white",
            "linecolor": "white",
            "ticks": ""
           },
           "baxis": {
            "gridcolor": "white",
            "linecolor": "white",
            "ticks": ""
           },
           "bgcolor": "#E5ECF6",
           "caxis": {
            "gridcolor": "white",
            "linecolor": "white",
            "ticks": ""
           }
          },
          "title": {
           "x": 0.05
          },
          "xaxis": {
           "automargin": true,
           "gridcolor": "white",
           "linecolor": "white",
           "ticks": "",
           "title": {
            "standoff": 15
           },
           "zerolinecolor": "white",
           "zerolinewidth": 2
          },
          "yaxis": {
           "automargin": true,
           "gridcolor": "white",
           "linecolor": "white",
           "ticks": "",
           "title": {
            "standoff": 15
           },
           "zerolinecolor": "white",
           "zerolinewidth": 2
          }
         }
        }
       }
      }
     },
     "metadata": {},
     "output_type": "display_data"
    }
   ],
   "source": [
    "figure = px.pie(df, \n",
    "             values='tip', \n",
    "             names='drunk',hole = 0.5)\n",
    "figure.show()"
   ]
  },
  {
   "cell_type": "markdown",
   "id": "24cea6d2-cc48-4934-97f8-256078ee5e71",
   "metadata": {},
   "source": [
    "##### According to above drunk people are giving more tips to waiter"
   ]
  },
  {
   "cell_type": "markdown",
   "id": "15dd9c4f",
   "metadata": {},
   "source": [
    "**Tips given to waiter according to timing when they came**"
   ]
  },
  {
   "cell_type": "code",
   "execution_count": 107,
   "id": "1b98fd39",
   "metadata": {},
   "outputs": [
    {
     "data": {
      "application/vnd.plotly.v1+json": {
       "config": {
        "plotlyServerURL": "https://plot.ly"
       },
       "data": [
        {
         "domain": {
          "x": [
           0,
           1
          ],
          "y": [
           0,
           1
          ]
         },
         "hole": 0.5,
         "hovertemplate": "timing_Lunch=%{label}<br>tip=%{value}<extra></extra>",
         "labels": [
          false,
          true,
          false,
          true,
          true,
          false,
          true,
          false,
          false,
          false,
          false,
          false,
          false,
          false,
          true,
          true,
          true,
          false,
          false,
          true,
          true,
          true,
          true,
          false,
          false,
          false,
          false,
          false,
          false,
          false,
          false,
          true,
          false,
          false,
          false,
          false,
          true,
          false,
          true,
          false,
          true,
          false,
          false,
          true,
          false,
          false,
          true,
          false,
          true,
          false,
          true,
          true,
          false,
          false,
          false,
          false,
          false,
          true,
          false,
          true,
          true,
          false,
          false,
          false,
          false,
          false,
          false,
          true,
          false,
          false,
          true,
          false,
          false,
          false,
          true,
          false,
          false,
          false,
          true,
          false,
          false,
          false,
          false,
          false,
          false,
          false,
          false,
          true,
          false,
          false,
          true,
          false,
          false,
          false,
          false,
          true,
          false,
          true,
          false,
          false,
          true,
          false,
          false,
          false,
          true,
          false,
          true,
          false,
          true,
          true,
          false,
          false,
          true,
          true,
          false,
          true,
          false,
          false,
          false,
          false,
          true,
          false,
          true,
          false,
          true,
          false,
          true,
          true,
          false,
          false,
          false,
          false,
          true,
          false,
          true,
          true,
          false,
          true,
          true,
          true,
          true,
          false,
          false,
          false,
          false,
          true,
          true,
          false,
          false,
          false,
          true,
          false,
          false,
          false,
          false,
          false,
          false,
          false,
          false,
          false,
          false,
          false,
          false,
          false,
          true,
          true,
          false,
          true,
          true,
          true,
          false,
          false,
          false,
          false,
          false,
          true,
          false,
          true,
          true,
          false,
          false,
          true,
          true,
          true,
          false,
          false,
          false,
          false,
          false,
          true,
          false,
          true,
          true,
          true,
          false,
          false,
          false,
          true,
          true,
          true
         ],
         "legendgroup": "",
         "name": "",
         "showlegend": true,
         "type": "pie",
         "values": [
          190,
          470.3,
          370.7,
          300.6,
          94.9,
          94.7,
          47.6,
          430.5,
          300.1,
          340,
          20,
          470.3,
          400.3,
          120,
          90.2,
          100,
          150.3,
          250.3,
          220.1,
          150.2,
          300.2,
          79.9,
          150.3,
          190.3,
          230.5,
          390.2,
          110.2,
          261.1,
          300.2,
          42.1,
          300.1,
          100.5,
          54,
          450.2,
          490.23,
          401.5,
          140.3,
          63.2,
          340.2,
          231.34,
          79.2,
          250.3,
          30,
          400.23,
          140.3,
          300,
          150,
          250.3,
          250.3,
          100,
          450.2,
          310.2,
          450.2,
          390,
          300,
          450.3,
          60,
          100,
          20,
          165,
          245,
          152,
          412,
          191,
          123,
          239,
          60.34,
          421,
          32,
          324.1,
          345,
          112,
          20,
          412,
          324.5,
          342,
          342,
          52,
          165,
          65,
          432,
          312,
          123.5,
          49.4,
          154,
          145,
          354,
          234,
          342,
          231,
          43,
          312.4,
          274,
          234,
          352,
          213,
          211,
          256,
          20,
          50,
          34,
          321,
          149,
          245,
          357,
          132,
          234,
          315,
          126,
          54,
          134,
          64,
          461,
          342,
          245,
          354,
          325,
          75,
          412,
          255,
          394,
          432,
          152,
          56,
          12,
          23,
          43,
          23,
          43,
          54,
          23,
          224,
          23,
          190,
          3,
          132,
          23,
          43,
          23,
          42,
          23,
          109,
          43,
          23,
          123,
          43,
          23,
          242,
          43,
          123,
          43,
          143,
          43,
          24,
          54,
          150,
          234,
          23,
          121,
          32,
          34,
          43,
          34,
          254,
          63,
          42,
          171,
          100,
          43,
          42,
          24,
          43,
          190,
          132,
          23,
          101,
          235,
          32,
          43,
          23,
          139,
          72,
          412,
          312,
          113,
          23,
          43,
          162,
          234,
          102,
          43,
          64,
          43,
          421,
          142,
          123,
          43,
          54,
          64,
          31
         ]
        }
       ],
       "layout": {
        "legend": {
         "tracegroupgap": 0
        },
        "margin": {
         "t": 60
        },
        "template": {
         "data": {
          "bar": [
           {
            "error_x": {
             "color": "#2a3f5f"
            },
            "error_y": {
             "color": "#2a3f5f"
            },
            "marker": {
             "line": {
              "color": "#E5ECF6",
              "width": 0.5
             },
             "pattern": {
              "fillmode": "overlay",
              "size": 10,
              "solidity": 0.2
             }
            },
            "type": "bar"
           }
          ],
          "barpolar": [
           {
            "marker": {
             "line": {
              "color": "#E5ECF6",
              "width": 0.5
             },
             "pattern": {
              "fillmode": "overlay",
              "size": 10,
              "solidity": 0.2
             }
            },
            "type": "barpolar"
           }
          ],
          "carpet": [
           {
            "aaxis": {
             "endlinecolor": "#2a3f5f",
             "gridcolor": "white",
             "linecolor": "white",
             "minorgridcolor": "white",
             "startlinecolor": "#2a3f5f"
            },
            "baxis": {
             "endlinecolor": "#2a3f5f",
             "gridcolor": "white",
             "linecolor": "white",
             "minorgridcolor": "white",
             "startlinecolor": "#2a3f5f"
            },
            "type": "carpet"
           }
          ],
          "choropleth": [
           {
            "colorbar": {
             "outlinewidth": 0,
             "ticks": ""
            },
            "type": "choropleth"
           }
          ],
          "contour": [
           {
            "colorbar": {
             "outlinewidth": 0,
             "ticks": ""
            },
            "colorscale": [
             [
              0,
              "#0d0887"
             ],
             [
              0.1111111111111111,
              "#46039f"
             ],
             [
              0.2222222222222222,
              "#7201a8"
             ],
             [
              0.3333333333333333,
              "#9c179e"
             ],
             [
              0.4444444444444444,
              "#bd3786"
             ],
             [
              0.5555555555555556,
              "#d8576b"
             ],
             [
              0.6666666666666666,
              "#ed7953"
             ],
             [
              0.7777777777777778,
              "#fb9f3a"
             ],
             [
              0.8888888888888888,
              "#fdca26"
             ],
             [
              1,
              "#f0f921"
             ]
            ],
            "type": "contour"
           }
          ],
          "contourcarpet": [
           {
            "colorbar": {
             "outlinewidth": 0,
             "ticks": ""
            },
            "type": "contourcarpet"
           }
          ],
          "heatmap": [
           {
            "colorbar": {
             "outlinewidth": 0,
             "ticks": ""
            },
            "colorscale": [
             [
              0,
              "#0d0887"
             ],
             [
              0.1111111111111111,
              "#46039f"
             ],
             [
              0.2222222222222222,
              "#7201a8"
             ],
             [
              0.3333333333333333,
              "#9c179e"
             ],
             [
              0.4444444444444444,
              "#bd3786"
             ],
             [
              0.5555555555555556,
              "#d8576b"
             ],
             [
              0.6666666666666666,
              "#ed7953"
             ],
             [
              0.7777777777777778,
              "#fb9f3a"
             ],
             [
              0.8888888888888888,
              "#fdca26"
             ],
             [
              1,
              "#f0f921"
             ]
            ],
            "type": "heatmap"
           }
          ],
          "heatmapgl": [
           {
            "colorbar": {
             "outlinewidth": 0,
             "ticks": ""
            },
            "colorscale": [
             [
              0,
              "#0d0887"
             ],
             [
              0.1111111111111111,
              "#46039f"
             ],
             [
              0.2222222222222222,
              "#7201a8"
             ],
             [
              0.3333333333333333,
              "#9c179e"
             ],
             [
              0.4444444444444444,
              "#bd3786"
             ],
             [
              0.5555555555555556,
              "#d8576b"
             ],
             [
              0.6666666666666666,
              "#ed7953"
             ],
             [
              0.7777777777777778,
              "#fb9f3a"
             ],
             [
              0.8888888888888888,
              "#fdca26"
             ],
             [
              1,
              "#f0f921"
             ]
            ],
            "type": "heatmapgl"
           }
          ],
          "histogram": [
           {
            "marker": {
             "pattern": {
              "fillmode": "overlay",
              "size": 10,
              "solidity": 0.2
             }
            },
            "type": "histogram"
           }
          ],
          "histogram2d": [
           {
            "colorbar": {
             "outlinewidth": 0,
             "ticks": ""
            },
            "colorscale": [
             [
              0,
              "#0d0887"
             ],
             [
              0.1111111111111111,
              "#46039f"
             ],
             [
              0.2222222222222222,
              "#7201a8"
             ],
             [
              0.3333333333333333,
              "#9c179e"
             ],
             [
              0.4444444444444444,
              "#bd3786"
             ],
             [
              0.5555555555555556,
              "#d8576b"
             ],
             [
              0.6666666666666666,
              "#ed7953"
             ],
             [
              0.7777777777777778,
              "#fb9f3a"
             ],
             [
              0.8888888888888888,
              "#fdca26"
             ],
             [
              1,
              "#f0f921"
             ]
            ],
            "type": "histogram2d"
           }
          ],
          "histogram2dcontour": [
           {
            "colorbar": {
             "outlinewidth": 0,
             "ticks": ""
            },
            "colorscale": [
             [
              0,
              "#0d0887"
             ],
             [
              0.1111111111111111,
              "#46039f"
             ],
             [
              0.2222222222222222,
              "#7201a8"
             ],
             [
              0.3333333333333333,
              "#9c179e"
             ],
             [
              0.4444444444444444,
              "#bd3786"
             ],
             [
              0.5555555555555556,
              "#d8576b"
             ],
             [
              0.6666666666666666,
              "#ed7953"
             ],
             [
              0.7777777777777778,
              "#fb9f3a"
             ],
             [
              0.8888888888888888,
              "#fdca26"
             ],
             [
              1,
              "#f0f921"
             ]
            ],
            "type": "histogram2dcontour"
           }
          ],
          "mesh3d": [
           {
            "colorbar": {
             "outlinewidth": 0,
             "ticks": ""
            },
            "type": "mesh3d"
           }
          ],
          "parcoords": [
           {
            "line": {
             "colorbar": {
              "outlinewidth": 0,
              "ticks": ""
             }
            },
            "type": "parcoords"
           }
          ],
          "pie": [
           {
            "automargin": true,
            "type": "pie"
           }
          ],
          "scatter": [
           {
            "fillpattern": {
             "fillmode": "overlay",
             "size": 10,
             "solidity": 0.2
            },
            "type": "scatter"
           }
          ],
          "scatter3d": [
           {
            "line": {
             "colorbar": {
              "outlinewidth": 0,
              "ticks": ""
             }
            },
            "marker": {
             "colorbar": {
              "outlinewidth": 0,
              "ticks": ""
             }
            },
            "type": "scatter3d"
           }
          ],
          "scattercarpet": [
           {
            "marker": {
             "colorbar": {
              "outlinewidth": 0,
              "ticks": ""
             }
            },
            "type": "scattercarpet"
           }
          ],
          "scattergeo": [
           {
            "marker": {
             "colorbar": {
              "outlinewidth": 0,
              "ticks": ""
             }
            },
            "type": "scattergeo"
           }
          ],
          "scattergl": [
           {
            "marker": {
             "colorbar": {
              "outlinewidth": 0,
              "ticks": ""
             }
            },
            "type": "scattergl"
           }
          ],
          "scattermapbox": [
           {
            "marker": {
             "colorbar": {
              "outlinewidth": 0,
              "ticks": ""
             }
            },
            "type": "scattermapbox"
           }
          ],
          "scatterpolar": [
           {
            "marker": {
             "colorbar": {
              "outlinewidth": 0,
              "ticks": ""
             }
            },
            "type": "scatterpolar"
           }
          ],
          "scatterpolargl": [
           {
            "marker": {
             "colorbar": {
              "outlinewidth": 0,
              "ticks": ""
             }
            },
            "type": "scatterpolargl"
           }
          ],
          "scatterternary": [
           {
            "marker": {
             "colorbar": {
              "outlinewidth": 0,
              "ticks": ""
             }
            },
            "type": "scatterternary"
           }
          ],
          "surface": [
           {
            "colorbar": {
             "outlinewidth": 0,
             "ticks": ""
            },
            "colorscale": [
             [
              0,
              "#0d0887"
             ],
             [
              0.1111111111111111,
              "#46039f"
             ],
             [
              0.2222222222222222,
              "#7201a8"
             ],
             [
              0.3333333333333333,
              "#9c179e"
             ],
             [
              0.4444444444444444,
              "#bd3786"
             ],
             [
              0.5555555555555556,
              "#d8576b"
             ],
             [
              0.6666666666666666,
              "#ed7953"
             ],
             [
              0.7777777777777778,
              "#fb9f3a"
             ],
             [
              0.8888888888888888,
              "#fdca26"
             ],
             [
              1,
              "#f0f921"
             ]
            ],
            "type": "surface"
           }
          ],
          "table": [
           {
            "cells": {
             "fill": {
              "color": "#EBF0F8"
             },
             "line": {
              "color": "white"
             }
            },
            "header": {
             "fill": {
              "color": "#C8D4E3"
             },
             "line": {
              "color": "white"
             }
            },
            "type": "table"
           }
          ]
         },
         "layout": {
          "annotationdefaults": {
           "arrowcolor": "#2a3f5f",
           "arrowhead": 0,
           "arrowwidth": 1
          },
          "autotypenumbers": "strict",
          "coloraxis": {
           "colorbar": {
            "outlinewidth": 0,
            "ticks": ""
           }
          },
          "colorscale": {
           "diverging": [
            [
             0,
             "#8e0152"
            ],
            [
             0.1,
             "#c51b7d"
            ],
            [
             0.2,
             "#de77ae"
            ],
            [
             0.3,
             "#f1b6da"
            ],
            [
             0.4,
             "#fde0ef"
            ],
            [
             0.5,
             "#f7f7f7"
            ],
            [
             0.6,
             "#e6f5d0"
            ],
            [
             0.7,
             "#b8e186"
            ],
            [
             0.8,
             "#7fbc41"
            ],
            [
             0.9,
             "#4d9221"
            ],
            [
             1,
             "#276419"
            ]
           ],
           "sequential": [
            [
             0,
             "#0d0887"
            ],
            [
             0.1111111111111111,
             "#46039f"
            ],
            [
             0.2222222222222222,
             "#7201a8"
            ],
            [
             0.3333333333333333,
             "#9c179e"
            ],
            [
             0.4444444444444444,
             "#bd3786"
            ],
            [
             0.5555555555555556,
             "#d8576b"
            ],
            [
             0.6666666666666666,
             "#ed7953"
            ],
            [
             0.7777777777777778,
             "#fb9f3a"
            ],
            [
             0.8888888888888888,
             "#fdca26"
            ],
            [
             1,
             "#f0f921"
            ]
           ],
           "sequentialminus": [
            [
             0,
             "#0d0887"
            ],
            [
             0.1111111111111111,
             "#46039f"
            ],
            [
             0.2222222222222222,
             "#7201a8"
            ],
            [
             0.3333333333333333,
             "#9c179e"
            ],
            [
             0.4444444444444444,
             "#bd3786"
            ],
            [
             0.5555555555555556,
             "#d8576b"
            ],
            [
             0.6666666666666666,
             "#ed7953"
            ],
            [
             0.7777777777777778,
             "#fb9f3a"
            ],
            [
             0.8888888888888888,
             "#fdca26"
            ],
            [
             1,
             "#f0f921"
            ]
           ]
          },
          "colorway": [
           "#636efa",
           "#EF553B",
           "#00cc96",
           "#ab63fa",
           "#FFA15A",
           "#19d3f3",
           "#FF6692",
           "#B6E880",
           "#FF97FF",
           "#FECB52"
          ],
          "font": {
           "color": "#2a3f5f"
          },
          "geo": {
           "bgcolor": "white",
           "lakecolor": "white",
           "landcolor": "#E5ECF6",
           "showlakes": true,
           "showland": true,
           "subunitcolor": "white"
          },
          "hoverlabel": {
           "align": "left"
          },
          "hovermode": "closest",
          "mapbox": {
           "style": "light"
          },
          "paper_bgcolor": "white",
          "plot_bgcolor": "#E5ECF6",
          "polar": {
           "angularaxis": {
            "gridcolor": "white",
            "linecolor": "white",
            "ticks": ""
           },
           "bgcolor": "#E5ECF6",
           "radialaxis": {
            "gridcolor": "white",
            "linecolor": "white",
            "ticks": ""
           }
          },
          "scene": {
           "xaxis": {
            "backgroundcolor": "#E5ECF6",
            "gridcolor": "white",
            "gridwidth": 2,
            "linecolor": "white",
            "showbackground": true,
            "ticks": "",
            "zerolinecolor": "white"
           },
           "yaxis": {
            "backgroundcolor": "#E5ECF6",
            "gridcolor": "white",
            "gridwidth": 2,
            "linecolor": "white",
            "showbackground": true,
            "ticks": "",
            "zerolinecolor": "white"
           },
           "zaxis": {
            "backgroundcolor": "#E5ECF6",
            "gridcolor": "white",
            "gridwidth": 2,
            "linecolor": "white",
            "showbackground": true,
            "ticks": "",
            "zerolinecolor": "white"
           }
          },
          "shapedefaults": {
           "line": {
            "color": "#2a3f5f"
           }
          },
          "ternary": {
           "aaxis": {
            "gridcolor": "white",
            "linecolor": "white",
            "ticks": ""
           },
           "baxis": {
            "gridcolor": "white",
            "linecolor": "white",
            "ticks": ""
           },
           "bgcolor": "#E5ECF6",
           "caxis": {
            "gridcolor": "white",
            "linecolor": "white",
            "ticks": ""
           }
          },
          "title": {
           "x": 0.05
          },
          "xaxis": {
           "automargin": true,
           "gridcolor": "white",
           "linecolor": "white",
           "ticks": "",
           "title": {
            "standoff": 15
           },
           "zerolinecolor": "white",
           "zerolinewidth": 2
          },
          "yaxis": {
           "automargin": true,
           "gridcolor": "white",
           "linecolor": "white",
           "ticks": "",
           "title": {
            "standoff": 15
           },
           "zerolinecolor": "white",
           "zerolinewidth": 2
          }
         }
        }
       }
      }
     },
     "metadata": {},
     "output_type": "display_data"
    }
   ],
   "source": [
    "figure = px.pie(df, \n",
    "             values='tip', \n",
    "             names='timing_Lunch',hole = 0.5)\n",
    "figure.show()"
   ]
  },
  {
   "cell_type": "markdown",
   "id": "0b945110-ec73-4acc-b44c-4190e66540fe",
   "metadata": {},
   "source": [
    "##### According to above data tips are more given at dinner time"
   ]
  },
  {
   "cell_type": "markdown",
   "id": "4e55cf1a-7d77-4cd5-bf6f-1e65d1c3984d",
   "metadata": {},
   "source": [
    "**Tips given to waiter according to payment method**"
   ]
  },
  {
   "cell_type": "code",
   "execution_count": 108,
   "id": "1393cf3f",
   "metadata": {},
   "outputs": [
    {
     "data": {
      "application/vnd.plotly.v1+json": {
       "config": {
        "plotlyServerURL": "https://plot.ly"
       },
       "data": [
        {
         "domain": {
          "x": [
           0,
           1
          ],
          "y": [
           0,
           1
          ]
         },
         "hole": 0.5,
         "hovertemplate": "payment_method_Cash=%{label}<br>tip=%{value}<extra></extra>",
         "labels": [
          true,
          true,
          false,
          false,
          true,
          true,
          true,
          true,
          true,
          true,
          true,
          true,
          false,
          false,
          false,
          false,
          true,
          false,
          false,
          true,
          true,
          true,
          true,
          true,
          true,
          true,
          true,
          false,
          false,
          false,
          false,
          false,
          false,
          true,
          true,
          true,
          true,
          true,
          true,
          true,
          true,
          true,
          true,
          false,
          false,
          true,
          false,
          false,
          true,
          true,
          false,
          false,
          true,
          false,
          true,
          false,
          true,
          true,
          true,
          true,
          true,
          true,
          true,
          true,
          true,
          true,
          true,
          true,
          false,
          true,
          false,
          false,
          false,
          false,
          false,
          true,
          false,
          false,
          false,
          true,
          false,
          false,
          true,
          true,
          false,
          false,
          true,
          true,
          true,
          true,
          true,
          true,
          true,
          false,
          false,
          false,
          false,
          false,
          false,
          false,
          true,
          false,
          false,
          false,
          false,
          false,
          true,
          false,
          true,
          true,
          false,
          false,
          false,
          false,
          false,
          true,
          false,
          false,
          false,
          false,
          false,
          false,
          true,
          false,
          false,
          false,
          true,
          false,
          false,
          false,
          false,
          true,
          true,
          false,
          false,
          false,
          false,
          true,
          true,
          false,
          true,
          true,
          true,
          true,
          false,
          false,
          false,
          true,
          false,
          false,
          true,
          false,
          false,
          false,
          false,
          false,
          true,
          false,
          false,
          true,
          true,
          true,
          true,
          true,
          true,
          true,
          true,
          true,
          true,
          false,
          false,
          false,
          false,
          false,
          true,
          false,
          true,
          false,
          false,
          false,
          false,
          true,
          false,
          false,
          true,
          false,
          false,
          false,
          false,
          false,
          true,
          false,
          false,
          false,
          false,
          false,
          false,
          true,
          false,
          false
         ],
         "legendgroup": "",
         "name": "",
         "showlegend": true,
         "type": "pie",
         "values": [
          190,
          470.3,
          370.7,
          300.6,
          94.9,
          94.7,
          47.6,
          430.5,
          300.1,
          340,
          20,
          470.3,
          400.3,
          120,
          90.2,
          100,
          150.3,
          250.3,
          220.1,
          150.2,
          300.2,
          79.9,
          150.3,
          190.3,
          230.5,
          390.2,
          110.2,
          261.1,
          300.2,
          42.1,
          300.1,
          100.5,
          54,
          450.2,
          490.23,
          401.5,
          140.3,
          63.2,
          340.2,
          231.34,
          79.2,
          250.3,
          30,
          400.23,
          140.3,
          300,
          150,
          250.3,
          250.3,
          100,
          450.2,
          310.2,
          450.2,
          390,
          300,
          450.3,
          60,
          100,
          20,
          165,
          245,
          152,
          412,
          191,
          123,
          239,
          60.34,
          421,
          32,
          324.1,
          345,
          112,
          20,
          412,
          324.5,
          342,
          342,
          52,
          165,
          65,
          432,
          312,
          123.5,
          49.4,
          154,
          145,
          354,
          234,
          342,
          231,
          43,
          312.4,
          274,
          234,
          352,
          213,
          211,
          256,
          20,
          50,
          34,
          321,
          149,
          245,
          357,
          132,
          234,
          315,
          126,
          54,
          134,
          64,
          461,
          342,
          245,
          354,
          325,
          75,
          412,
          255,
          394,
          432,
          152,
          56,
          12,
          23,
          43,
          23,
          43,
          54,
          23,
          224,
          23,
          190,
          3,
          132,
          23,
          43,
          23,
          42,
          23,
          109,
          43,
          23,
          123,
          43,
          23,
          242,
          43,
          123,
          43,
          143,
          43,
          24,
          54,
          150,
          234,
          23,
          121,
          32,
          34,
          43,
          34,
          254,
          63,
          42,
          171,
          100,
          43,
          42,
          24,
          43,
          190,
          132,
          23,
          101,
          235,
          32,
          43,
          23,
          139,
          72,
          412,
          312,
          113,
          23,
          43,
          162,
          234,
          102,
          43,
          64,
          43,
          421,
          142,
          123,
          43,
          54,
          64,
          31
         ]
        }
       ],
       "layout": {
        "legend": {
         "tracegroupgap": 0
        },
        "margin": {
         "t": 60
        },
        "template": {
         "data": {
          "bar": [
           {
            "error_x": {
             "color": "#2a3f5f"
            },
            "error_y": {
             "color": "#2a3f5f"
            },
            "marker": {
             "line": {
              "color": "#E5ECF6",
              "width": 0.5
             },
             "pattern": {
              "fillmode": "overlay",
              "size": 10,
              "solidity": 0.2
             }
            },
            "type": "bar"
           }
          ],
          "barpolar": [
           {
            "marker": {
             "line": {
              "color": "#E5ECF6",
              "width": 0.5
             },
             "pattern": {
              "fillmode": "overlay",
              "size": 10,
              "solidity": 0.2
             }
            },
            "type": "barpolar"
           }
          ],
          "carpet": [
           {
            "aaxis": {
             "endlinecolor": "#2a3f5f",
             "gridcolor": "white",
             "linecolor": "white",
             "minorgridcolor": "white",
             "startlinecolor": "#2a3f5f"
            },
            "baxis": {
             "endlinecolor": "#2a3f5f",
             "gridcolor": "white",
             "linecolor": "white",
             "minorgridcolor": "white",
             "startlinecolor": "#2a3f5f"
            },
            "type": "carpet"
           }
          ],
          "choropleth": [
           {
            "colorbar": {
             "outlinewidth": 0,
             "ticks": ""
            },
            "type": "choropleth"
           }
          ],
          "contour": [
           {
            "colorbar": {
             "outlinewidth": 0,
             "ticks": ""
            },
            "colorscale": [
             [
              0,
              "#0d0887"
             ],
             [
              0.1111111111111111,
              "#46039f"
             ],
             [
              0.2222222222222222,
              "#7201a8"
             ],
             [
              0.3333333333333333,
              "#9c179e"
             ],
             [
              0.4444444444444444,
              "#bd3786"
             ],
             [
              0.5555555555555556,
              "#d8576b"
             ],
             [
              0.6666666666666666,
              "#ed7953"
             ],
             [
              0.7777777777777778,
              "#fb9f3a"
             ],
             [
              0.8888888888888888,
              "#fdca26"
             ],
             [
              1,
              "#f0f921"
             ]
            ],
            "type": "contour"
           }
          ],
          "contourcarpet": [
           {
            "colorbar": {
             "outlinewidth": 0,
             "ticks": ""
            },
            "type": "contourcarpet"
           }
          ],
          "heatmap": [
           {
            "colorbar": {
             "outlinewidth": 0,
             "ticks": ""
            },
            "colorscale": [
             [
              0,
              "#0d0887"
             ],
             [
              0.1111111111111111,
              "#46039f"
             ],
             [
              0.2222222222222222,
              "#7201a8"
             ],
             [
              0.3333333333333333,
              "#9c179e"
             ],
             [
              0.4444444444444444,
              "#bd3786"
             ],
             [
              0.5555555555555556,
              "#d8576b"
             ],
             [
              0.6666666666666666,
              "#ed7953"
             ],
             [
              0.7777777777777778,
              "#fb9f3a"
             ],
             [
              0.8888888888888888,
              "#fdca26"
             ],
             [
              1,
              "#f0f921"
             ]
            ],
            "type": "heatmap"
           }
          ],
          "heatmapgl": [
           {
            "colorbar": {
             "outlinewidth": 0,
             "ticks": ""
            },
            "colorscale": [
             [
              0,
              "#0d0887"
             ],
             [
              0.1111111111111111,
              "#46039f"
             ],
             [
              0.2222222222222222,
              "#7201a8"
             ],
             [
              0.3333333333333333,
              "#9c179e"
             ],
             [
              0.4444444444444444,
              "#bd3786"
             ],
             [
              0.5555555555555556,
              "#d8576b"
             ],
             [
              0.6666666666666666,
              "#ed7953"
             ],
             [
              0.7777777777777778,
              "#fb9f3a"
             ],
             [
              0.8888888888888888,
              "#fdca26"
             ],
             [
              1,
              "#f0f921"
             ]
            ],
            "type": "heatmapgl"
           }
          ],
          "histogram": [
           {
            "marker": {
             "pattern": {
              "fillmode": "overlay",
              "size": 10,
              "solidity": 0.2
             }
            },
            "type": "histogram"
           }
          ],
          "histogram2d": [
           {
            "colorbar": {
             "outlinewidth": 0,
             "ticks": ""
            },
            "colorscale": [
             [
              0,
              "#0d0887"
             ],
             [
              0.1111111111111111,
              "#46039f"
             ],
             [
              0.2222222222222222,
              "#7201a8"
             ],
             [
              0.3333333333333333,
              "#9c179e"
             ],
             [
              0.4444444444444444,
              "#bd3786"
             ],
             [
              0.5555555555555556,
              "#d8576b"
             ],
             [
              0.6666666666666666,
              "#ed7953"
             ],
             [
              0.7777777777777778,
              "#fb9f3a"
             ],
             [
              0.8888888888888888,
              "#fdca26"
             ],
             [
              1,
              "#f0f921"
             ]
            ],
            "type": "histogram2d"
           }
          ],
          "histogram2dcontour": [
           {
            "colorbar": {
             "outlinewidth": 0,
             "ticks": ""
            },
            "colorscale": [
             [
              0,
              "#0d0887"
             ],
             [
              0.1111111111111111,
              "#46039f"
             ],
             [
              0.2222222222222222,
              "#7201a8"
             ],
             [
              0.3333333333333333,
              "#9c179e"
             ],
             [
              0.4444444444444444,
              "#bd3786"
             ],
             [
              0.5555555555555556,
              "#d8576b"
             ],
             [
              0.6666666666666666,
              "#ed7953"
             ],
             [
              0.7777777777777778,
              "#fb9f3a"
             ],
             [
              0.8888888888888888,
              "#fdca26"
             ],
             [
              1,
              "#f0f921"
             ]
            ],
            "type": "histogram2dcontour"
           }
          ],
          "mesh3d": [
           {
            "colorbar": {
             "outlinewidth": 0,
             "ticks": ""
            },
            "type": "mesh3d"
           }
          ],
          "parcoords": [
           {
            "line": {
             "colorbar": {
              "outlinewidth": 0,
              "ticks": ""
             }
            },
            "type": "parcoords"
           }
          ],
          "pie": [
           {
            "automargin": true,
            "type": "pie"
           }
          ],
          "scatter": [
           {
            "fillpattern": {
             "fillmode": "overlay",
             "size": 10,
             "solidity": 0.2
            },
            "type": "scatter"
           }
          ],
          "scatter3d": [
           {
            "line": {
             "colorbar": {
              "outlinewidth": 0,
              "ticks": ""
             }
            },
            "marker": {
             "colorbar": {
              "outlinewidth": 0,
              "ticks": ""
             }
            },
            "type": "scatter3d"
           }
          ],
          "scattercarpet": [
           {
            "marker": {
             "colorbar": {
              "outlinewidth": 0,
              "ticks": ""
             }
            },
            "type": "scattercarpet"
           }
          ],
          "scattergeo": [
           {
            "marker": {
             "colorbar": {
              "outlinewidth": 0,
              "ticks": ""
             }
            },
            "type": "scattergeo"
           }
          ],
          "scattergl": [
           {
            "marker": {
             "colorbar": {
              "outlinewidth": 0,
              "ticks": ""
             }
            },
            "type": "scattergl"
           }
          ],
          "scattermapbox": [
           {
            "marker": {
             "colorbar": {
              "outlinewidth": 0,
              "ticks": ""
             }
            },
            "type": "scattermapbox"
           }
          ],
          "scatterpolar": [
           {
            "marker": {
             "colorbar": {
              "outlinewidth": 0,
              "ticks": ""
             }
            },
            "type": "scatterpolar"
           }
          ],
          "scatterpolargl": [
           {
            "marker": {
             "colorbar": {
              "outlinewidth": 0,
              "ticks": ""
             }
            },
            "type": "scatterpolargl"
           }
          ],
          "scatterternary": [
           {
            "marker": {
             "colorbar": {
              "outlinewidth": 0,
              "ticks": ""
             }
            },
            "type": "scatterternary"
           }
          ],
          "surface": [
           {
            "colorbar": {
             "outlinewidth": 0,
             "ticks": ""
            },
            "colorscale": [
             [
              0,
              "#0d0887"
             ],
             [
              0.1111111111111111,
              "#46039f"
             ],
             [
              0.2222222222222222,
              "#7201a8"
             ],
             [
              0.3333333333333333,
              "#9c179e"
             ],
             [
              0.4444444444444444,
              "#bd3786"
             ],
             [
              0.5555555555555556,
              "#d8576b"
             ],
             [
              0.6666666666666666,
              "#ed7953"
             ],
             [
              0.7777777777777778,
              "#fb9f3a"
             ],
             [
              0.8888888888888888,
              "#fdca26"
             ],
             [
              1,
              "#f0f921"
             ]
            ],
            "type": "surface"
           }
          ],
          "table": [
           {
            "cells": {
             "fill": {
              "color": "#EBF0F8"
             },
             "line": {
              "color": "white"
             }
            },
            "header": {
             "fill": {
              "color": "#C8D4E3"
             },
             "line": {
              "color": "white"
             }
            },
            "type": "table"
           }
          ]
         },
         "layout": {
          "annotationdefaults": {
           "arrowcolor": "#2a3f5f",
           "arrowhead": 0,
           "arrowwidth": 1
          },
          "autotypenumbers": "strict",
          "coloraxis": {
           "colorbar": {
            "outlinewidth": 0,
            "ticks": ""
           }
          },
          "colorscale": {
           "diverging": [
            [
             0,
             "#8e0152"
            ],
            [
             0.1,
             "#c51b7d"
            ],
            [
             0.2,
             "#de77ae"
            ],
            [
             0.3,
             "#f1b6da"
            ],
            [
             0.4,
             "#fde0ef"
            ],
            [
             0.5,
             "#f7f7f7"
            ],
            [
             0.6,
             "#e6f5d0"
            ],
            [
             0.7,
             "#b8e186"
            ],
            [
             0.8,
             "#7fbc41"
            ],
            [
             0.9,
             "#4d9221"
            ],
            [
             1,
             "#276419"
            ]
           ],
           "sequential": [
            [
             0,
             "#0d0887"
            ],
            [
             0.1111111111111111,
             "#46039f"
            ],
            [
             0.2222222222222222,
             "#7201a8"
            ],
            [
             0.3333333333333333,
             "#9c179e"
            ],
            [
             0.4444444444444444,
             "#bd3786"
            ],
            [
             0.5555555555555556,
             "#d8576b"
            ],
            [
             0.6666666666666666,
             "#ed7953"
            ],
            [
             0.7777777777777778,
             "#fb9f3a"
            ],
            [
             0.8888888888888888,
             "#fdca26"
            ],
            [
             1,
             "#f0f921"
            ]
           ],
           "sequentialminus": [
            [
             0,
             "#0d0887"
            ],
            [
             0.1111111111111111,
             "#46039f"
            ],
            [
             0.2222222222222222,
             "#7201a8"
            ],
            [
             0.3333333333333333,
             "#9c179e"
            ],
            [
             0.4444444444444444,
             "#bd3786"
            ],
            [
             0.5555555555555556,
             "#d8576b"
            ],
            [
             0.6666666666666666,
             "#ed7953"
            ],
            [
             0.7777777777777778,
             "#fb9f3a"
            ],
            [
             0.8888888888888888,
             "#fdca26"
            ],
            [
             1,
             "#f0f921"
            ]
           ]
          },
          "colorway": [
           "#636efa",
           "#EF553B",
           "#00cc96",
           "#ab63fa",
           "#FFA15A",
           "#19d3f3",
           "#FF6692",
           "#B6E880",
           "#FF97FF",
           "#FECB52"
          ],
          "font": {
           "color": "#2a3f5f"
          },
          "geo": {
           "bgcolor": "white",
           "lakecolor": "white",
           "landcolor": "#E5ECF6",
           "showlakes": true,
           "showland": true,
           "subunitcolor": "white"
          },
          "hoverlabel": {
           "align": "left"
          },
          "hovermode": "closest",
          "mapbox": {
           "style": "light"
          },
          "paper_bgcolor": "white",
          "plot_bgcolor": "#E5ECF6",
          "polar": {
           "angularaxis": {
            "gridcolor": "white",
            "linecolor": "white",
            "ticks": ""
           },
           "bgcolor": "#E5ECF6",
           "radialaxis": {
            "gridcolor": "white",
            "linecolor": "white",
            "ticks": ""
           }
          },
          "scene": {
           "xaxis": {
            "backgroundcolor": "#E5ECF6",
            "gridcolor": "white",
            "gridwidth": 2,
            "linecolor": "white",
            "showbackground": true,
            "ticks": "",
            "zerolinecolor": "white"
           },
           "yaxis": {
            "backgroundcolor": "#E5ECF6",
            "gridcolor": "white",
            "gridwidth": 2,
            "linecolor": "white",
            "showbackground": true,
            "ticks": "",
            "zerolinecolor": "white"
           },
           "zaxis": {
            "backgroundcolor": "#E5ECF6",
            "gridcolor": "white",
            "gridwidth": 2,
            "linecolor": "white",
            "showbackground": true,
            "ticks": "",
            "zerolinecolor": "white"
           }
          },
          "shapedefaults": {
           "line": {
            "color": "#2a3f5f"
           }
          },
          "ternary": {
           "aaxis": {
            "gridcolor": "white",
            "linecolor": "white",
            "ticks": ""
           },
           "baxis": {
            "gridcolor": "white",
            "linecolor": "white",
            "ticks": ""
           },
           "bgcolor": "#E5ECF6",
           "caxis": {
            "gridcolor": "white",
            "linecolor": "white",
            "ticks": ""
           }
          },
          "title": {
           "x": 0.05
          },
          "xaxis": {
           "automargin": true,
           "gridcolor": "white",
           "linecolor": "white",
           "ticks": "",
           "title": {
            "standoff": 15
           },
           "zerolinecolor": "white",
           "zerolinewidth": 2
          },
          "yaxis": {
           "automargin": true,
           "gridcolor": "white",
           "linecolor": "white",
           "ticks": "",
           "title": {
            "standoff": 15
           },
           "zerolinecolor": "white",
           "zerolinewidth": 2
          }
         }
        }
       }
      }
     },
     "metadata": {},
     "output_type": "display_data"
    }
   ],
   "source": [
    "figure = px.pie(df, \n",
    "             values='tip', \n",
    "             names='payment_method_Cash',hole = 0.5)\n",
    "figure.show()"
   ]
  },
  {
   "cell_type": "markdown",
   "id": "b84b9aec-3180-40d4-966e-9711ea21d1f4",
   "metadata": {},
   "source": [
    "##### Most of the time cash payers are giving tips"
   ]
  },
  {
   "cell_type": "markdown",
   "id": "e00c4f69-1497-4903-98a4-804bec2f53c1",
   "metadata": {},
   "source": [
    "**Tips given to waiter according to occassion**"
   ]
  },
  {
   "cell_type": "code",
   "execution_count": 71,
   "id": "6ebcc187",
   "metadata": {},
   "outputs": [
    {
     "ename": "ValueError",
     "evalue": "Value of 'names' is not the name of a column in 'data_frame'. Expected one of ['total_bill', 'tip', 'day', 'gender', 'drunk', 'payment_method_Cash', 'payment_method_Online', 'timing_Lunch', 'group_Family', 'group_Friends', 'group_Single', 'occasion_Birthday Party', 'occasion_Date', 'occasion_Festival'] but received: occasion",
     "output_type": "error",
     "traceback": [
      "\u001b[1;31m---------------------------------------------------------------------------\u001b[0m",
      "\u001b[1;31mValueError\u001b[0m                                Traceback (most recent call last)",
      "Cell \u001b[1;32mIn[71], line 1\u001b[0m\n\u001b[1;32m----> 1\u001b[0m figure \u001b[38;5;241m=\u001b[39m \u001b[43mpx\u001b[49m\u001b[38;5;241;43m.\u001b[39;49m\u001b[43mpie\u001b[49m\u001b[43m(\u001b[49m\u001b[43mdf\u001b[49m\u001b[43m,\u001b[49m\u001b[43m \u001b[49m\n\u001b[0;32m      2\u001b[0m \u001b[43m             \u001b[49m\u001b[43mvalues\u001b[49m\u001b[38;5;241;43m=\u001b[39;49m\u001b[38;5;124;43m'\u001b[39;49m\u001b[38;5;124;43mtip\u001b[39;49m\u001b[38;5;124;43m'\u001b[39;49m\u001b[43m,\u001b[49m\u001b[43m \u001b[49m\n\u001b[0;32m      3\u001b[0m \u001b[43m             \u001b[49m\u001b[43mnames\u001b[49m\u001b[38;5;241;43m=\u001b[39;49m\u001b[38;5;124;43m'\u001b[39;49m\u001b[38;5;124;43moccasion\u001b[39;49m\u001b[38;5;124;43m'\u001b[39;49m\u001b[43m,\u001b[49m\u001b[43mhole\u001b[49m\u001b[43m \u001b[49m\u001b[38;5;241;43m=\u001b[39;49m\u001b[43m \u001b[49m\u001b[38;5;241;43m0.5\u001b[39;49m\u001b[43m)\u001b[49m\n\u001b[0;32m      4\u001b[0m figure\u001b[38;5;241m.\u001b[39mshow()\n",
      "File \u001b[1;32mc:\\Users\\lenovo\\AppData\\Local\\Programs\\Python\\Python311\\Lib\\site-packages\\plotly\\express\\_chart_types.py:1482\u001b[0m, in \u001b[0;36mpie\u001b[1;34m(data_frame, names, values, color, facet_row, facet_col, facet_col_wrap, facet_row_spacing, facet_col_spacing, color_discrete_sequence, color_discrete_map, hover_name, hover_data, custom_data, category_orders, labels, title, template, width, height, opacity, hole)\u001b[0m\n\u001b[0;32m   1480\u001b[0m \u001b[38;5;28;01melse\u001b[39;00m:\n\u001b[0;32m   1481\u001b[0m     layout_patch \u001b[38;5;241m=\u001b[39m {}\n\u001b[1;32m-> 1482\u001b[0m \u001b[38;5;28;01mreturn\u001b[39;00m \u001b[43mmake_figure\u001b[49m\u001b[43m(\u001b[49m\n\u001b[0;32m   1483\u001b[0m \u001b[43m    \u001b[49m\u001b[43margs\u001b[49m\u001b[38;5;241;43m=\u001b[39;49m\u001b[38;5;28;43mlocals\u001b[39;49m\u001b[43m(\u001b[49m\u001b[43m)\u001b[49m\u001b[43m,\u001b[49m\n\u001b[0;32m   1484\u001b[0m \u001b[43m    \u001b[49m\u001b[43mconstructor\u001b[49m\u001b[38;5;241;43m=\u001b[39;49m\u001b[43mgo\u001b[49m\u001b[38;5;241;43m.\u001b[39;49m\u001b[43mPie\u001b[49m\u001b[43m,\u001b[49m\n\u001b[0;32m   1485\u001b[0m \u001b[43m    \u001b[49m\u001b[43mtrace_patch\u001b[49m\u001b[38;5;241;43m=\u001b[39;49m\u001b[38;5;28;43mdict\u001b[39;49m\u001b[43m(\u001b[49m\u001b[43mshowlegend\u001b[49m\u001b[38;5;241;43m=\u001b[39;49m\u001b[43m(\u001b[49m\u001b[43mnames\u001b[49m\u001b[43m \u001b[49m\u001b[38;5;129;43;01mis\u001b[39;49;00m\u001b[43m \u001b[49m\u001b[38;5;129;43;01mnot\u001b[39;49;00m\u001b[43m \u001b[49m\u001b[38;5;28;43;01mNone\u001b[39;49;00m\u001b[43m)\u001b[49m\u001b[43m,\u001b[49m\u001b[43m \u001b[49m\u001b[43mhole\u001b[49m\u001b[38;5;241;43m=\u001b[39;49m\u001b[43mhole\u001b[49m\u001b[43m)\u001b[49m\u001b[43m,\u001b[49m\n\u001b[0;32m   1486\u001b[0m \u001b[43m    \u001b[49m\u001b[43mlayout_patch\u001b[49m\u001b[38;5;241;43m=\u001b[39;49m\u001b[43mlayout_patch\u001b[49m\u001b[43m,\u001b[49m\n\u001b[0;32m   1487\u001b[0m \u001b[43m\u001b[49m\u001b[43m)\u001b[49m\n",
      "File \u001b[1;32mc:\\Users\\lenovo\\AppData\\Local\\Programs\\Python\\Python311\\Lib\\site-packages\\plotly\\express\\_core.py:2090\u001b[0m, in \u001b[0;36mmake_figure\u001b[1;34m(args, constructor, trace_patch, layout_patch)\u001b[0m\n\u001b[0;32m   2087\u001b[0m layout_patch \u001b[38;5;241m=\u001b[39m layout_patch \u001b[38;5;129;01mor\u001b[39;00m {}\n\u001b[0;32m   2088\u001b[0m apply_default_cascade(args)\n\u001b[1;32m-> 2090\u001b[0m args \u001b[38;5;241m=\u001b[39m \u001b[43mbuild_dataframe\u001b[49m\u001b[43m(\u001b[49m\u001b[43margs\u001b[49m\u001b[43m,\u001b[49m\u001b[43m \u001b[49m\u001b[43mconstructor\u001b[49m\u001b[43m)\u001b[49m\n\u001b[0;32m   2091\u001b[0m \u001b[38;5;28;01mif\u001b[39;00m constructor \u001b[38;5;129;01min\u001b[39;00m [go\u001b[38;5;241m.\u001b[39mTreemap, go\u001b[38;5;241m.\u001b[39mSunburst, go\u001b[38;5;241m.\u001b[39mIcicle] \u001b[38;5;129;01mand\u001b[39;00m args[\u001b[38;5;124m\"\u001b[39m\u001b[38;5;124mpath\u001b[39m\u001b[38;5;124m\"\u001b[39m] \u001b[38;5;129;01mis\u001b[39;00m \u001b[38;5;129;01mnot\u001b[39;00m \u001b[38;5;28;01mNone\u001b[39;00m:\n\u001b[0;32m   2092\u001b[0m     args \u001b[38;5;241m=\u001b[39m process_dataframe_hierarchy(args)\n",
      "File \u001b[1;32mc:\\Users\\lenovo\\AppData\\Local\\Programs\\Python\\Python311\\Lib\\site-packages\\plotly\\express\\_core.py:1492\u001b[0m, in \u001b[0;36mbuild_dataframe\u001b[1;34m(args, constructor)\u001b[0m\n\u001b[0;32m   1489\u001b[0m     args[\u001b[38;5;124m\"\u001b[39m\u001b[38;5;124mcolor\u001b[39m\u001b[38;5;124m\"\u001b[39m] \u001b[38;5;241m=\u001b[39m \u001b[38;5;28;01mNone\u001b[39;00m\n\u001b[0;32m   1490\u001b[0m \u001b[38;5;66;03m# now that things have been prepped, we do the systematic rewriting of `args`\u001b[39;00m\n\u001b[1;32m-> 1492\u001b[0m df_output, wide_id_vars \u001b[38;5;241m=\u001b[39m \u001b[43mprocess_args_into_dataframe\u001b[49m\u001b[43m(\u001b[49m\n\u001b[0;32m   1493\u001b[0m \u001b[43m    \u001b[49m\u001b[43margs\u001b[49m\u001b[43m,\u001b[49m\u001b[43m \u001b[49m\u001b[43mwide_mode\u001b[49m\u001b[43m,\u001b[49m\u001b[43m \u001b[49m\u001b[43mvar_name\u001b[49m\u001b[43m,\u001b[49m\u001b[43m \u001b[49m\u001b[43mvalue_name\u001b[49m\n\u001b[0;32m   1494\u001b[0m \u001b[43m\u001b[49m\u001b[43m)\u001b[49m\n\u001b[0;32m   1496\u001b[0m \u001b[38;5;66;03m# now that `df_output` exists and `args` contains only references, we complete\u001b[39;00m\n\u001b[0;32m   1497\u001b[0m \u001b[38;5;66;03m# the special-case and wide-mode handling by further rewriting args and/or mutating\u001b[39;00m\n\u001b[0;32m   1498\u001b[0m \u001b[38;5;66;03m# df_output\u001b[39;00m\n\u001b[0;32m   1500\u001b[0m count_name \u001b[38;5;241m=\u001b[39m _escape_col_name(df_output, \u001b[38;5;124m\"\u001b[39m\u001b[38;5;124mcount\u001b[39m\u001b[38;5;124m\"\u001b[39m, [var_name, value_name])\n",
      "File \u001b[1;32mc:\\Users\\lenovo\\AppData\\Local\\Programs\\Python\\Python311\\Lib\\site-packages\\plotly\\express\\_core.py:1213\u001b[0m, in \u001b[0;36mprocess_args_into_dataframe\u001b[1;34m(args, wide_mode, var_name, value_name)\u001b[0m\n\u001b[0;32m   1211\u001b[0m         \u001b[38;5;28;01mif\u001b[39;00m argument \u001b[38;5;241m==\u001b[39m \u001b[38;5;124m\"\u001b[39m\u001b[38;5;124mindex\u001b[39m\u001b[38;5;124m\"\u001b[39m:\n\u001b[0;32m   1212\u001b[0m             err_msg \u001b[38;5;241m+\u001b[39m\u001b[38;5;241m=\u001b[39m \u001b[38;5;124m\"\u001b[39m\u001b[38;5;130;01m\\n\u001b[39;00m\u001b[38;5;124m To use the index, pass it in directly as `df.index`.\u001b[39m\u001b[38;5;124m\"\u001b[39m\n\u001b[1;32m-> 1213\u001b[0m         \u001b[38;5;28;01mraise\u001b[39;00m \u001b[38;5;167;01mValueError\u001b[39;00m(err_msg)\n\u001b[0;32m   1214\u001b[0m \u001b[38;5;28;01melif\u001b[39;00m length \u001b[38;5;129;01mand\u001b[39;00m \u001b[38;5;28mlen\u001b[39m(df_input[argument]) \u001b[38;5;241m!=\u001b[39m length:\n\u001b[0;32m   1215\u001b[0m     \u001b[38;5;28;01mraise\u001b[39;00m \u001b[38;5;167;01mValueError\u001b[39;00m(\n\u001b[0;32m   1216\u001b[0m         \u001b[38;5;124m\"\u001b[39m\u001b[38;5;124mAll arguments should have the same length. \u001b[39m\u001b[38;5;124m\"\u001b[39m\n\u001b[0;32m   1217\u001b[0m         \u001b[38;5;124m\"\u001b[39m\u001b[38;5;124mThe length of column argument `df[\u001b[39m\u001b[38;5;132;01m%s\u001b[39;00m\u001b[38;5;124m]` is \u001b[39m\u001b[38;5;132;01m%d\u001b[39;00m\u001b[38;5;124m, whereas the \u001b[39m\u001b[38;5;124m\"\u001b[39m\n\u001b[1;32m   (...)\u001b[0m\n\u001b[0;32m   1224\u001b[0m         )\n\u001b[0;32m   1225\u001b[0m     )\n",
      "\u001b[1;31mValueError\u001b[0m: Value of 'names' is not the name of a column in 'data_frame'. Expected one of ['total_bill', 'tip', 'day', 'gender', 'drunk', 'payment_method_Cash', 'payment_method_Online', 'timing_Lunch', 'group_Family', 'group_Friends', 'group_Single', 'occasion_Birthday Party', 'occasion_Date', 'occasion_Festival'] but received: occasion"
     ]
    }
   ],
   "source": [
    "figure = px.pie(df, \n",
    "             values='tip', \n",
    "             names='occasion',hole = 0.5)\n",
    "figure.show()"
   ]
  },
  {
   "cell_type": "markdown",
   "id": "7c05eed3-5363-45b2-ad85-b28c27a33b31",
   "metadata": {},
   "source": [
    "##### Tips are more given at birthday parties"
   ]
  },
  {
   "cell_type": "markdown",
   "id": "e9c99982-c585-4ee3-bf22-013d6330d54d",
   "metadata": {},
   "source": [
    "**Tips given to waiter according to group of people**"
   ]
  },
  {
   "cell_type": "code",
   "execution_count": 109,
   "id": "c1ab170d",
   "metadata": {},
   "outputs": [
    {
     "data": {
      "application/vnd.plotly.v1+json": {
       "config": {
        "plotlyServerURL": "https://plot.ly"
       },
       "data": [
        {
         "domain": {
          "x": [
           0,
           1
          ],
          "y": [
           0,
           1
          ]
         },
         "hole": 0.5,
         "hovertemplate": "group_Friends=%{label}<br>tip=%{value}<extra></extra>",
         "labels": [
          false,
          false,
          false,
          false,
          false,
          false,
          false,
          false,
          false,
          false,
          false,
          false,
          false,
          false,
          false,
          false,
          false,
          false,
          false,
          false,
          false,
          false,
          false,
          false,
          false,
          true,
          true,
          true,
          true,
          false,
          false,
          false,
          false,
          false,
          false,
          false,
          false,
          false,
          false,
          false,
          false,
          false,
          false,
          false,
          false,
          false,
          false,
          false,
          false,
          false,
          true,
          true,
          false,
          false,
          false,
          false,
          false,
          false,
          false,
          false,
          true,
          true,
          true,
          false,
          false,
          true,
          false,
          false,
          false,
          false,
          false,
          true,
          false,
          false,
          true,
          false,
          false,
          true,
          false,
          false,
          false,
          false,
          false,
          false,
          false,
          false,
          true,
          false,
          true,
          true,
          false,
          false,
          false,
          true,
          false,
          false,
          false,
          false,
          false,
          false,
          false,
          false,
          false,
          false,
          false,
          false,
          false,
          false,
          false,
          false,
          false,
          false,
          false,
          false,
          false,
          false,
          false,
          false,
          false,
          false,
          true,
          false,
          false,
          false,
          true,
          true,
          false,
          false,
          false,
          false,
          false,
          false,
          false,
          false,
          false,
          true,
          false,
          true,
          false,
          false,
          false,
          false,
          false,
          false,
          false,
          false,
          false,
          false,
          true,
          false,
          false,
          true,
          false,
          false,
          false,
          true,
          false,
          false,
          false,
          false,
          false,
          false,
          false,
          false,
          true,
          true,
          false,
          false,
          false,
          false,
          false,
          false,
          true,
          false,
          true,
          true,
          true,
          false,
          false,
          true,
          true,
          false,
          false,
          false,
          false,
          false,
          false,
          false,
          false,
          false,
          false,
          false,
          false,
          false,
          false,
          false,
          true,
          false,
          false,
          false
         ],
         "legendgroup": "",
         "name": "",
         "showlegend": true,
         "type": "pie",
         "values": [
          190,
          470.3,
          370.7,
          300.6,
          94.9,
          94.7,
          47.6,
          430.5,
          300.1,
          340,
          20,
          470.3,
          400.3,
          120,
          90.2,
          100,
          150.3,
          250.3,
          220.1,
          150.2,
          300.2,
          79.9,
          150.3,
          190.3,
          230.5,
          390.2,
          110.2,
          261.1,
          300.2,
          42.1,
          300.1,
          100.5,
          54,
          450.2,
          490.23,
          401.5,
          140.3,
          63.2,
          340.2,
          231.34,
          79.2,
          250.3,
          30,
          400.23,
          140.3,
          300,
          150,
          250.3,
          250.3,
          100,
          450.2,
          310.2,
          450.2,
          390,
          300,
          450.3,
          60,
          100,
          20,
          165,
          245,
          152,
          412,
          191,
          123,
          239,
          60.34,
          421,
          32,
          324.1,
          345,
          112,
          20,
          412,
          324.5,
          342,
          342,
          52,
          165,
          65,
          432,
          312,
          123.5,
          49.4,
          154,
          145,
          354,
          234,
          342,
          231,
          43,
          312.4,
          274,
          234,
          352,
          213,
          211,
          256,
          20,
          50,
          34,
          321,
          149,
          245,
          357,
          132,
          234,
          315,
          126,
          54,
          134,
          64,
          461,
          342,
          245,
          354,
          325,
          75,
          412,
          255,
          394,
          432,
          152,
          56,
          12,
          23,
          43,
          23,
          43,
          54,
          23,
          224,
          23,
          190,
          3,
          132,
          23,
          43,
          23,
          42,
          23,
          109,
          43,
          23,
          123,
          43,
          23,
          242,
          43,
          123,
          43,
          143,
          43,
          24,
          54,
          150,
          234,
          23,
          121,
          32,
          34,
          43,
          34,
          254,
          63,
          42,
          171,
          100,
          43,
          42,
          24,
          43,
          190,
          132,
          23,
          101,
          235,
          32,
          43,
          23,
          139,
          72,
          412,
          312,
          113,
          23,
          43,
          162,
          234,
          102,
          43,
          64,
          43,
          421,
          142,
          123,
          43,
          54,
          64,
          31
         ]
        }
       ],
       "layout": {
        "legend": {
         "tracegroupgap": 0
        },
        "margin": {
         "t": 60
        },
        "template": {
         "data": {
          "bar": [
           {
            "error_x": {
             "color": "#2a3f5f"
            },
            "error_y": {
             "color": "#2a3f5f"
            },
            "marker": {
             "line": {
              "color": "#E5ECF6",
              "width": 0.5
             },
             "pattern": {
              "fillmode": "overlay",
              "size": 10,
              "solidity": 0.2
             }
            },
            "type": "bar"
           }
          ],
          "barpolar": [
           {
            "marker": {
             "line": {
              "color": "#E5ECF6",
              "width": 0.5
             },
             "pattern": {
              "fillmode": "overlay",
              "size": 10,
              "solidity": 0.2
             }
            },
            "type": "barpolar"
           }
          ],
          "carpet": [
           {
            "aaxis": {
             "endlinecolor": "#2a3f5f",
             "gridcolor": "white",
             "linecolor": "white",
             "minorgridcolor": "white",
             "startlinecolor": "#2a3f5f"
            },
            "baxis": {
             "endlinecolor": "#2a3f5f",
             "gridcolor": "white",
             "linecolor": "white",
             "minorgridcolor": "white",
             "startlinecolor": "#2a3f5f"
            },
            "type": "carpet"
           }
          ],
          "choropleth": [
           {
            "colorbar": {
             "outlinewidth": 0,
             "ticks": ""
            },
            "type": "choropleth"
           }
          ],
          "contour": [
           {
            "colorbar": {
             "outlinewidth": 0,
             "ticks": ""
            },
            "colorscale": [
             [
              0,
              "#0d0887"
             ],
             [
              0.1111111111111111,
              "#46039f"
             ],
             [
              0.2222222222222222,
              "#7201a8"
             ],
             [
              0.3333333333333333,
              "#9c179e"
             ],
             [
              0.4444444444444444,
              "#bd3786"
             ],
             [
              0.5555555555555556,
              "#d8576b"
             ],
             [
              0.6666666666666666,
              "#ed7953"
             ],
             [
              0.7777777777777778,
              "#fb9f3a"
             ],
             [
              0.8888888888888888,
              "#fdca26"
             ],
             [
              1,
              "#f0f921"
             ]
            ],
            "type": "contour"
           }
          ],
          "contourcarpet": [
           {
            "colorbar": {
             "outlinewidth": 0,
             "ticks": ""
            },
            "type": "contourcarpet"
           }
          ],
          "heatmap": [
           {
            "colorbar": {
             "outlinewidth": 0,
             "ticks": ""
            },
            "colorscale": [
             [
              0,
              "#0d0887"
             ],
             [
              0.1111111111111111,
              "#46039f"
             ],
             [
              0.2222222222222222,
              "#7201a8"
             ],
             [
              0.3333333333333333,
              "#9c179e"
             ],
             [
              0.4444444444444444,
              "#bd3786"
             ],
             [
              0.5555555555555556,
              "#d8576b"
             ],
             [
              0.6666666666666666,
              "#ed7953"
             ],
             [
              0.7777777777777778,
              "#fb9f3a"
             ],
             [
              0.8888888888888888,
              "#fdca26"
             ],
             [
              1,
              "#f0f921"
             ]
            ],
            "type": "heatmap"
           }
          ],
          "heatmapgl": [
           {
            "colorbar": {
             "outlinewidth": 0,
             "ticks": ""
            },
            "colorscale": [
             [
              0,
              "#0d0887"
             ],
             [
              0.1111111111111111,
              "#46039f"
             ],
             [
              0.2222222222222222,
              "#7201a8"
             ],
             [
              0.3333333333333333,
              "#9c179e"
             ],
             [
              0.4444444444444444,
              "#bd3786"
             ],
             [
              0.5555555555555556,
              "#d8576b"
             ],
             [
              0.6666666666666666,
              "#ed7953"
             ],
             [
              0.7777777777777778,
              "#fb9f3a"
             ],
             [
              0.8888888888888888,
              "#fdca26"
             ],
             [
              1,
              "#f0f921"
             ]
            ],
            "type": "heatmapgl"
           }
          ],
          "histogram": [
           {
            "marker": {
             "pattern": {
              "fillmode": "overlay",
              "size": 10,
              "solidity": 0.2
             }
            },
            "type": "histogram"
           }
          ],
          "histogram2d": [
           {
            "colorbar": {
             "outlinewidth": 0,
             "ticks": ""
            },
            "colorscale": [
             [
              0,
              "#0d0887"
             ],
             [
              0.1111111111111111,
              "#46039f"
             ],
             [
              0.2222222222222222,
              "#7201a8"
             ],
             [
              0.3333333333333333,
              "#9c179e"
             ],
             [
              0.4444444444444444,
              "#bd3786"
             ],
             [
              0.5555555555555556,
              "#d8576b"
             ],
             [
              0.6666666666666666,
              "#ed7953"
             ],
             [
              0.7777777777777778,
              "#fb9f3a"
             ],
             [
              0.8888888888888888,
              "#fdca26"
             ],
             [
              1,
              "#f0f921"
             ]
            ],
            "type": "histogram2d"
           }
          ],
          "histogram2dcontour": [
           {
            "colorbar": {
             "outlinewidth": 0,
             "ticks": ""
            },
            "colorscale": [
             [
              0,
              "#0d0887"
             ],
             [
              0.1111111111111111,
              "#46039f"
             ],
             [
              0.2222222222222222,
              "#7201a8"
             ],
             [
              0.3333333333333333,
              "#9c179e"
             ],
             [
              0.4444444444444444,
              "#bd3786"
             ],
             [
              0.5555555555555556,
              "#d8576b"
             ],
             [
              0.6666666666666666,
              "#ed7953"
             ],
             [
              0.7777777777777778,
              "#fb9f3a"
             ],
             [
              0.8888888888888888,
              "#fdca26"
             ],
             [
              1,
              "#f0f921"
             ]
            ],
            "type": "histogram2dcontour"
           }
          ],
          "mesh3d": [
           {
            "colorbar": {
             "outlinewidth": 0,
             "ticks": ""
            },
            "type": "mesh3d"
           }
          ],
          "parcoords": [
           {
            "line": {
             "colorbar": {
              "outlinewidth": 0,
              "ticks": ""
             }
            },
            "type": "parcoords"
           }
          ],
          "pie": [
           {
            "automargin": true,
            "type": "pie"
           }
          ],
          "scatter": [
           {
            "fillpattern": {
             "fillmode": "overlay",
             "size": 10,
             "solidity": 0.2
            },
            "type": "scatter"
           }
          ],
          "scatter3d": [
           {
            "line": {
             "colorbar": {
              "outlinewidth": 0,
              "ticks": ""
             }
            },
            "marker": {
             "colorbar": {
              "outlinewidth": 0,
              "ticks": ""
             }
            },
            "type": "scatter3d"
           }
          ],
          "scattercarpet": [
           {
            "marker": {
             "colorbar": {
              "outlinewidth": 0,
              "ticks": ""
             }
            },
            "type": "scattercarpet"
           }
          ],
          "scattergeo": [
           {
            "marker": {
             "colorbar": {
              "outlinewidth": 0,
              "ticks": ""
             }
            },
            "type": "scattergeo"
           }
          ],
          "scattergl": [
           {
            "marker": {
             "colorbar": {
              "outlinewidth": 0,
              "ticks": ""
             }
            },
            "type": "scattergl"
           }
          ],
          "scattermapbox": [
           {
            "marker": {
             "colorbar": {
              "outlinewidth": 0,
              "ticks": ""
             }
            },
            "type": "scattermapbox"
           }
          ],
          "scatterpolar": [
           {
            "marker": {
             "colorbar": {
              "outlinewidth": 0,
              "ticks": ""
             }
            },
            "type": "scatterpolar"
           }
          ],
          "scatterpolargl": [
           {
            "marker": {
             "colorbar": {
              "outlinewidth": 0,
              "ticks": ""
             }
            },
            "type": "scatterpolargl"
           }
          ],
          "scatterternary": [
           {
            "marker": {
             "colorbar": {
              "outlinewidth": 0,
              "ticks": ""
             }
            },
            "type": "scatterternary"
           }
          ],
          "surface": [
           {
            "colorbar": {
             "outlinewidth": 0,
             "ticks": ""
            },
            "colorscale": [
             [
              0,
              "#0d0887"
             ],
             [
              0.1111111111111111,
              "#46039f"
             ],
             [
              0.2222222222222222,
              "#7201a8"
             ],
             [
              0.3333333333333333,
              "#9c179e"
             ],
             [
              0.4444444444444444,
              "#bd3786"
             ],
             [
              0.5555555555555556,
              "#d8576b"
             ],
             [
              0.6666666666666666,
              "#ed7953"
             ],
             [
              0.7777777777777778,
              "#fb9f3a"
             ],
             [
              0.8888888888888888,
              "#fdca26"
             ],
             [
              1,
              "#f0f921"
             ]
            ],
            "type": "surface"
           }
          ],
          "table": [
           {
            "cells": {
             "fill": {
              "color": "#EBF0F8"
             },
             "line": {
              "color": "white"
             }
            },
            "header": {
             "fill": {
              "color": "#C8D4E3"
             },
             "line": {
              "color": "white"
             }
            },
            "type": "table"
           }
          ]
         },
         "layout": {
          "annotationdefaults": {
           "arrowcolor": "#2a3f5f",
           "arrowhead": 0,
           "arrowwidth": 1
          },
          "autotypenumbers": "strict",
          "coloraxis": {
           "colorbar": {
            "outlinewidth": 0,
            "ticks": ""
           }
          },
          "colorscale": {
           "diverging": [
            [
             0,
             "#8e0152"
            ],
            [
             0.1,
             "#c51b7d"
            ],
            [
             0.2,
             "#de77ae"
            ],
            [
             0.3,
             "#f1b6da"
            ],
            [
             0.4,
             "#fde0ef"
            ],
            [
             0.5,
             "#f7f7f7"
            ],
            [
             0.6,
             "#e6f5d0"
            ],
            [
             0.7,
             "#b8e186"
            ],
            [
             0.8,
             "#7fbc41"
            ],
            [
             0.9,
             "#4d9221"
            ],
            [
             1,
             "#276419"
            ]
           ],
           "sequential": [
            [
             0,
             "#0d0887"
            ],
            [
             0.1111111111111111,
             "#46039f"
            ],
            [
             0.2222222222222222,
             "#7201a8"
            ],
            [
             0.3333333333333333,
             "#9c179e"
            ],
            [
             0.4444444444444444,
             "#bd3786"
            ],
            [
             0.5555555555555556,
             "#d8576b"
            ],
            [
             0.6666666666666666,
             "#ed7953"
            ],
            [
             0.7777777777777778,
             "#fb9f3a"
            ],
            [
             0.8888888888888888,
             "#fdca26"
            ],
            [
             1,
             "#f0f921"
            ]
           ],
           "sequentialminus": [
            [
             0,
             "#0d0887"
            ],
            [
             0.1111111111111111,
             "#46039f"
            ],
            [
             0.2222222222222222,
             "#7201a8"
            ],
            [
             0.3333333333333333,
             "#9c179e"
            ],
            [
             0.4444444444444444,
             "#bd3786"
            ],
            [
             0.5555555555555556,
             "#d8576b"
            ],
            [
             0.6666666666666666,
             "#ed7953"
            ],
            [
             0.7777777777777778,
             "#fb9f3a"
            ],
            [
             0.8888888888888888,
             "#fdca26"
            ],
            [
             1,
             "#f0f921"
            ]
           ]
          },
          "colorway": [
           "#636efa",
           "#EF553B",
           "#00cc96",
           "#ab63fa",
           "#FFA15A",
           "#19d3f3",
           "#FF6692",
           "#B6E880",
           "#FF97FF",
           "#FECB52"
          ],
          "font": {
           "color": "#2a3f5f"
          },
          "geo": {
           "bgcolor": "white",
           "lakecolor": "white",
           "landcolor": "#E5ECF6",
           "showlakes": true,
           "showland": true,
           "subunitcolor": "white"
          },
          "hoverlabel": {
           "align": "left"
          },
          "hovermode": "closest",
          "mapbox": {
           "style": "light"
          },
          "paper_bgcolor": "white",
          "plot_bgcolor": "#E5ECF6",
          "polar": {
           "angularaxis": {
            "gridcolor": "white",
            "linecolor": "white",
            "ticks": ""
           },
           "bgcolor": "#E5ECF6",
           "radialaxis": {
            "gridcolor": "white",
            "linecolor": "white",
            "ticks": ""
           }
          },
          "scene": {
           "xaxis": {
            "backgroundcolor": "#E5ECF6",
            "gridcolor": "white",
            "gridwidth": 2,
            "linecolor": "white",
            "showbackground": true,
            "ticks": "",
            "zerolinecolor": "white"
           },
           "yaxis": {
            "backgroundcolor": "#E5ECF6",
            "gridcolor": "white",
            "gridwidth": 2,
            "linecolor": "white",
            "showbackground": true,
            "ticks": "",
            "zerolinecolor": "white"
           },
           "zaxis": {
            "backgroundcolor": "#E5ECF6",
            "gridcolor": "white",
            "gridwidth": 2,
            "linecolor": "white",
            "showbackground": true,
            "ticks": "",
            "zerolinecolor": "white"
           }
          },
          "shapedefaults": {
           "line": {
            "color": "#2a3f5f"
           }
          },
          "ternary": {
           "aaxis": {
            "gridcolor": "white",
            "linecolor": "white",
            "ticks": ""
           },
           "baxis": {
            "gridcolor": "white",
            "linecolor": "white",
            "ticks": ""
           },
           "bgcolor": "#E5ECF6",
           "caxis": {
            "gridcolor": "white",
            "linecolor": "white",
            "ticks": ""
           }
          },
          "title": {
           "x": 0.05
          },
          "xaxis": {
           "automargin": true,
           "gridcolor": "white",
           "linecolor": "white",
           "ticks": "",
           "title": {
            "standoff": 15
           },
           "zerolinecolor": "white",
           "zerolinewidth": 2
          },
          "yaxis": {
           "automargin": true,
           "gridcolor": "white",
           "linecolor": "white",
           "ticks": "",
           "title": {
            "standoff": 15
           },
           "zerolinecolor": "white",
           "zerolinewidth": 2
          }
         }
        }
       }
      }
     },
     "metadata": {},
     "output_type": "display_data"
    }
   ],
   "source": [
    "figure = px.pie(df, \n",
    "             values='tip', \n",
    "             names='group_Friends',hole = 0.5)\n",
    "figure.show()"
   ]
  },
  {
   "cell_type": "code",
   "execution_count": 110,
   "id": "49fdd91f",
   "metadata": {},
   "outputs": [
    {
     "data": {
      "application/vnd.plotly.v1+json": {
       "config": {
        "plotlyServerURL": "https://plot.ly"
       },
       "data": [
        {
         "domain": {
          "x": [
           0,
           1
          ],
          "y": [
           0,
           1
          ]
         },
         "hole": 0.5,
         "hovertemplate": "group_Family=%{label}<br>tip=%{value}<extra></extra>",
         "labels": [
          false,
          true,
          true,
          false,
          false,
          false,
          false,
          false,
          false,
          false,
          false,
          false,
          false,
          false,
          true,
          false,
          false,
          false,
          true,
          true,
          true,
          true,
          true,
          true,
          true,
          false,
          false,
          false,
          false,
          true,
          true,
          false,
          false,
          false,
          false,
          false,
          false,
          false,
          false,
          false,
          false,
          true,
          true,
          true,
          true,
          true,
          true,
          false,
          true,
          true,
          false,
          false,
          false,
          false,
          false,
          false,
          false,
          false,
          false,
          false,
          false,
          false,
          false,
          true,
          true,
          false,
          false,
          false,
          false,
          false,
          false,
          false,
          true,
          false,
          false,
          false,
          false,
          false,
          true,
          true,
          true,
          true,
          true,
          true,
          true,
          true,
          false,
          false,
          false,
          false,
          true,
          false,
          false,
          false,
          false,
          true,
          true,
          true,
          true,
          false,
          false,
          false,
          false,
          false,
          false,
          false,
          false,
          false,
          false,
          false,
          false,
          false,
          false,
          true,
          true,
          false,
          false,
          true,
          true,
          false,
          false,
          false,
          false,
          false,
          false,
          false,
          true,
          false,
          false,
          true,
          true,
          true,
          true,
          false,
          false,
          false,
          false,
          false,
          false,
          true,
          false,
          false,
          false,
          false,
          false,
          false,
          false,
          false,
          false,
          false,
          false,
          false,
          false,
          true,
          true,
          false,
          false,
          false,
          false,
          false,
          false,
          false,
          false,
          true,
          false,
          false,
          true,
          false,
          true,
          true,
          true,
          true,
          false,
          true,
          false,
          false,
          false,
          false,
          false,
          false,
          false,
          false,
          false,
          false,
          false,
          false,
          false,
          false,
          false,
          false,
          false,
          true,
          false,
          true,
          false,
          true,
          false,
          false,
          true,
          true
         ],
         "legendgroup": "",
         "name": "",
         "showlegend": true,
         "type": "pie",
         "values": [
          190,
          470.3,
          370.7,
          300.6,
          94.9,
          94.7,
          47.6,
          430.5,
          300.1,
          340,
          20,
          470.3,
          400.3,
          120,
          90.2,
          100,
          150.3,
          250.3,
          220.1,
          150.2,
          300.2,
          79.9,
          150.3,
          190.3,
          230.5,
          390.2,
          110.2,
          261.1,
          300.2,
          42.1,
          300.1,
          100.5,
          54,
          450.2,
          490.23,
          401.5,
          140.3,
          63.2,
          340.2,
          231.34,
          79.2,
          250.3,
          30,
          400.23,
          140.3,
          300,
          150,
          250.3,
          250.3,
          100,
          450.2,
          310.2,
          450.2,
          390,
          300,
          450.3,
          60,
          100,
          20,
          165,
          245,
          152,
          412,
          191,
          123,
          239,
          60.34,
          421,
          32,
          324.1,
          345,
          112,
          20,
          412,
          324.5,
          342,
          342,
          52,
          165,
          65,
          432,
          312,
          123.5,
          49.4,
          154,
          145,
          354,
          234,
          342,
          231,
          43,
          312.4,
          274,
          234,
          352,
          213,
          211,
          256,
          20,
          50,
          34,
          321,
          149,
          245,
          357,
          132,
          234,
          315,
          126,
          54,
          134,
          64,
          461,
          342,
          245,
          354,
          325,
          75,
          412,
          255,
          394,
          432,
          152,
          56,
          12,
          23,
          43,
          23,
          43,
          54,
          23,
          224,
          23,
          190,
          3,
          132,
          23,
          43,
          23,
          42,
          23,
          109,
          43,
          23,
          123,
          43,
          23,
          242,
          43,
          123,
          43,
          143,
          43,
          24,
          54,
          150,
          234,
          23,
          121,
          32,
          34,
          43,
          34,
          254,
          63,
          42,
          171,
          100,
          43,
          42,
          24,
          43,
          190,
          132,
          23,
          101,
          235,
          32,
          43,
          23,
          139,
          72,
          412,
          312,
          113,
          23,
          43,
          162,
          234,
          102,
          43,
          64,
          43,
          421,
          142,
          123,
          43,
          54,
          64,
          31
         ]
        }
       ],
       "layout": {
        "legend": {
         "tracegroupgap": 0
        },
        "margin": {
         "t": 60
        },
        "template": {
         "data": {
          "bar": [
           {
            "error_x": {
             "color": "#2a3f5f"
            },
            "error_y": {
             "color": "#2a3f5f"
            },
            "marker": {
             "line": {
              "color": "#E5ECF6",
              "width": 0.5
             },
             "pattern": {
              "fillmode": "overlay",
              "size": 10,
              "solidity": 0.2
             }
            },
            "type": "bar"
           }
          ],
          "barpolar": [
           {
            "marker": {
             "line": {
              "color": "#E5ECF6",
              "width": 0.5
             },
             "pattern": {
              "fillmode": "overlay",
              "size": 10,
              "solidity": 0.2
             }
            },
            "type": "barpolar"
           }
          ],
          "carpet": [
           {
            "aaxis": {
             "endlinecolor": "#2a3f5f",
             "gridcolor": "white",
             "linecolor": "white",
             "minorgridcolor": "white",
             "startlinecolor": "#2a3f5f"
            },
            "baxis": {
             "endlinecolor": "#2a3f5f",
             "gridcolor": "white",
             "linecolor": "white",
             "minorgridcolor": "white",
             "startlinecolor": "#2a3f5f"
            },
            "type": "carpet"
           }
          ],
          "choropleth": [
           {
            "colorbar": {
             "outlinewidth": 0,
             "ticks": ""
            },
            "type": "choropleth"
           }
          ],
          "contour": [
           {
            "colorbar": {
             "outlinewidth": 0,
             "ticks": ""
            },
            "colorscale": [
             [
              0,
              "#0d0887"
             ],
             [
              0.1111111111111111,
              "#46039f"
             ],
             [
              0.2222222222222222,
              "#7201a8"
             ],
             [
              0.3333333333333333,
              "#9c179e"
             ],
             [
              0.4444444444444444,
              "#bd3786"
             ],
             [
              0.5555555555555556,
              "#d8576b"
             ],
             [
              0.6666666666666666,
              "#ed7953"
             ],
             [
              0.7777777777777778,
              "#fb9f3a"
             ],
             [
              0.8888888888888888,
              "#fdca26"
             ],
             [
              1,
              "#f0f921"
             ]
            ],
            "type": "contour"
           }
          ],
          "contourcarpet": [
           {
            "colorbar": {
             "outlinewidth": 0,
             "ticks": ""
            },
            "type": "contourcarpet"
           }
          ],
          "heatmap": [
           {
            "colorbar": {
             "outlinewidth": 0,
             "ticks": ""
            },
            "colorscale": [
             [
              0,
              "#0d0887"
             ],
             [
              0.1111111111111111,
              "#46039f"
             ],
             [
              0.2222222222222222,
              "#7201a8"
             ],
             [
              0.3333333333333333,
              "#9c179e"
             ],
             [
              0.4444444444444444,
              "#bd3786"
             ],
             [
              0.5555555555555556,
              "#d8576b"
             ],
             [
              0.6666666666666666,
              "#ed7953"
             ],
             [
              0.7777777777777778,
              "#fb9f3a"
             ],
             [
              0.8888888888888888,
              "#fdca26"
             ],
             [
              1,
              "#f0f921"
             ]
            ],
            "type": "heatmap"
           }
          ],
          "heatmapgl": [
           {
            "colorbar": {
             "outlinewidth": 0,
             "ticks": ""
            },
            "colorscale": [
             [
              0,
              "#0d0887"
             ],
             [
              0.1111111111111111,
              "#46039f"
             ],
             [
              0.2222222222222222,
              "#7201a8"
             ],
             [
              0.3333333333333333,
              "#9c179e"
             ],
             [
              0.4444444444444444,
              "#bd3786"
             ],
             [
              0.5555555555555556,
              "#d8576b"
             ],
             [
              0.6666666666666666,
              "#ed7953"
             ],
             [
              0.7777777777777778,
              "#fb9f3a"
             ],
             [
              0.8888888888888888,
              "#fdca26"
             ],
             [
              1,
              "#f0f921"
             ]
            ],
            "type": "heatmapgl"
           }
          ],
          "histogram": [
           {
            "marker": {
             "pattern": {
              "fillmode": "overlay",
              "size": 10,
              "solidity": 0.2
             }
            },
            "type": "histogram"
           }
          ],
          "histogram2d": [
           {
            "colorbar": {
             "outlinewidth": 0,
             "ticks": ""
            },
            "colorscale": [
             [
              0,
              "#0d0887"
             ],
             [
              0.1111111111111111,
              "#46039f"
             ],
             [
              0.2222222222222222,
              "#7201a8"
             ],
             [
              0.3333333333333333,
              "#9c179e"
             ],
             [
              0.4444444444444444,
              "#bd3786"
             ],
             [
              0.5555555555555556,
              "#d8576b"
             ],
             [
              0.6666666666666666,
              "#ed7953"
             ],
             [
              0.7777777777777778,
              "#fb9f3a"
             ],
             [
              0.8888888888888888,
              "#fdca26"
             ],
             [
              1,
              "#f0f921"
             ]
            ],
            "type": "histogram2d"
           }
          ],
          "histogram2dcontour": [
           {
            "colorbar": {
             "outlinewidth": 0,
             "ticks": ""
            },
            "colorscale": [
             [
              0,
              "#0d0887"
             ],
             [
              0.1111111111111111,
              "#46039f"
             ],
             [
              0.2222222222222222,
              "#7201a8"
             ],
             [
              0.3333333333333333,
              "#9c179e"
             ],
             [
              0.4444444444444444,
              "#bd3786"
             ],
             [
              0.5555555555555556,
              "#d8576b"
             ],
             [
              0.6666666666666666,
              "#ed7953"
             ],
             [
              0.7777777777777778,
              "#fb9f3a"
             ],
             [
              0.8888888888888888,
              "#fdca26"
             ],
             [
              1,
              "#f0f921"
             ]
            ],
            "type": "histogram2dcontour"
           }
          ],
          "mesh3d": [
           {
            "colorbar": {
             "outlinewidth": 0,
             "ticks": ""
            },
            "type": "mesh3d"
           }
          ],
          "parcoords": [
           {
            "line": {
             "colorbar": {
              "outlinewidth": 0,
              "ticks": ""
             }
            },
            "type": "parcoords"
           }
          ],
          "pie": [
           {
            "automargin": true,
            "type": "pie"
           }
          ],
          "scatter": [
           {
            "fillpattern": {
             "fillmode": "overlay",
             "size": 10,
             "solidity": 0.2
            },
            "type": "scatter"
           }
          ],
          "scatter3d": [
           {
            "line": {
             "colorbar": {
              "outlinewidth": 0,
              "ticks": ""
             }
            },
            "marker": {
             "colorbar": {
              "outlinewidth": 0,
              "ticks": ""
             }
            },
            "type": "scatter3d"
           }
          ],
          "scattercarpet": [
           {
            "marker": {
             "colorbar": {
              "outlinewidth": 0,
              "ticks": ""
             }
            },
            "type": "scattercarpet"
           }
          ],
          "scattergeo": [
           {
            "marker": {
             "colorbar": {
              "outlinewidth": 0,
              "ticks": ""
             }
            },
            "type": "scattergeo"
           }
          ],
          "scattergl": [
           {
            "marker": {
             "colorbar": {
              "outlinewidth": 0,
              "ticks": ""
             }
            },
            "type": "scattergl"
           }
          ],
          "scattermapbox": [
           {
            "marker": {
             "colorbar": {
              "outlinewidth": 0,
              "ticks": ""
             }
            },
            "type": "scattermapbox"
           }
          ],
          "scatterpolar": [
           {
            "marker": {
             "colorbar": {
              "outlinewidth": 0,
              "ticks": ""
             }
            },
            "type": "scatterpolar"
           }
          ],
          "scatterpolargl": [
           {
            "marker": {
             "colorbar": {
              "outlinewidth": 0,
              "ticks": ""
             }
            },
            "type": "scatterpolargl"
           }
          ],
          "scatterternary": [
           {
            "marker": {
             "colorbar": {
              "outlinewidth": 0,
              "ticks": ""
             }
            },
            "type": "scatterternary"
           }
          ],
          "surface": [
           {
            "colorbar": {
             "outlinewidth": 0,
             "ticks": ""
            },
            "colorscale": [
             [
              0,
              "#0d0887"
             ],
             [
              0.1111111111111111,
              "#46039f"
             ],
             [
              0.2222222222222222,
              "#7201a8"
             ],
             [
              0.3333333333333333,
              "#9c179e"
             ],
             [
              0.4444444444444444,
              "#bd3786"
             ],
             [
              0.5555555555555556,
              "#d8576b"
             ],
             [
              0.6666666666666666,
              "#ed7953"
             ],
             [
              0.7777777777777778,
              "#fb9f3a"
             ],
             [
              0.8888888888888888,
              "#fdca26"
             ],
             [
              1,
              "#f0f921"
             ]
            ],
            "type": "surface"
           }
          ],
          "table": [
           {
            "cells": {
             "fill": {
              "color": "#EBF0F8"
             },
             "line": {
              "color": "white"
             }
            },
            "header": {
             "fill": {
              "color": "#C8D4E3"
             },
             "line": {
              "color": "white"
             }
            },
            "type": "table"
           }
          ]
         },
         "layout": {
          "annotationdefaults": {
           "arrowcolor": "#2a3f5f",
           "arrowhead": 0,
           "arrowwidth": 1
          },
          "autotypenumbers": "strict",
          "coloraxis": {
           "colorbar": {
            "outlinewidth": 0,
            "ticks": ""
           }
          },
          "colorscale": {
           "diverging": [
            [
             0,
             "#8e0152"
            ],
            [
             0.1,
             "#c51b7d"
            ],
            [
             0.2,
             "#de77ae"
            ],
            [
             0.3,
             "#f1b6da"
            ],
            [
             0.4,
             "#fde0ef"
            ],
            [
             0.5,
             "#f7f7f7"
            ],
            [
             0.6,
             "#e6f5d0"
            ],
            [
             0.7,
             "#b8e186"
            ],
            [
             0.8,
             "#7fbc41"
            ],
            [
             0.9,
             "#4d9221"
            ],
            [
             1,
             "#276419"
            ]
           ],
           "sequential": [
            [
             0,
             "#0d0887"
            ],
            [
             0.1111111111111111,
             "#46039f"
            ],
            [
             0.2222222222222222,
             "#7201a8"
            ],
            [
             0.3333333333333333,
             "#9c179e"
            ],
            [
             0.4444444444444444,
             "#bd3786"
            ],
            [
             0.5555555555555556,
             "#d8576b"
            ],
            [
             0.6666666666666666,
             "#ed7953"
            ],
            [
             0.7777777777777778,
             "#fb9f3a"
            ],
            [
             0.8888888888888888,
             "#fdca26"
            ],
            [
             1,
             "#f0f921"
            ]
           ],
           "sequentialminus": [
            [
             0,
             "#0d0887"
            ],
            [
             0.1111111111111111,
             "#46039f"
            ],
            [
             0.2222222222222222,
             "#7201a8"
            ],
            [
             0.3333333333333333,
             "#9c179e"
            ],
            [
             0.4444444444444444,
             "#bd3786"
            ],
            [
             0.5555555555555556,
             "#d8576b"
            ],
            [
             0.6666666666666666,
             "#ed7953"
            ],
            [
             0.7777777777777778,
             "#fb9f3a"
            ],
            [
             0.8888888888888888,
             "#fdca26"
            ],
            [
             1,
             "#f0f921"
            ]
           ]
          },
          "colorway": [
           "#636efa",
           "#EF553B",
           "#00cc96",
           "#ab63fa",
           "#FFA15A",
           "#19d3f3",
           "#FF6692",
           "#B6E880",
           "#FF97FF",
           "#FECB52"
          ],
          "font": {
           "color": "#2a3f5f"
          },
          "geo": {
           "bgcolor": "white",
           "lakecolor": "white",
           "landcolor": "#E5ECF6",
           "showlakes": true,
           "showland": true,
           "subunitcolor": "white"
          },
          "hoverlabel": {
           "align": "left"
          },
          "hovermode": "closest",
          "mapbox": {
           "style": "light"
          },
          "paper_bgcolor": "white",
          "plot_bgcolor": "#E5ECF6",
          "polar": {
           "angularaxis": {
            "gridcolor": "white",
            "linecolor": "white",
            "ticks": ""
           },
           "bgcolor": "#E5ECF6",
           "radialaxis": {
            "gridcolor": "white",
            "linecolor": "white",
            "ticks": ""
           }
          },
          "scene": {
           "xaxis": {
            "backgroundcolor": "#E5ECF6",
            "gridcolor": "white",
            "gridwidth": 2,
            "linecolor": "white",
            "showbackground": true,
            "ticks": "",
            "zerolinecolor": "white"
           },
           "yaxis": {
            "backgroundcolor": "#E5ECF6",
            "gridcolor": "white",
            "gridwidth": 2,
            "linecolor": "white",
            "showbackground": true,
            "ticks": "",
            "zerolinecolor": "white"
           },
           "zaxis": {
            "backgroundcolor": "#E5ECF6",
            "gridcolor": "white",
            "gridwidth": 2,
            "linecolor": "white",
            "showbackground": true,
            "ticks": "",
            "zerolinecolor": "white"
           }
          },
          "shapedefaults": {
           "line": {
            "color": "#2a3f5f"
           }
          },
          "ternary": {
           "aaxis": {
            "gridcolor": "white",
            "linecolor": "white",
            "ticks": ""
           },
           "baxis": {
            "gridcolor": "white",
            "linecolor": "white",
            "ticks": ""
           },
           "bgcolor": "#E5ECF6",
           "caxis": {
            "gridcolor": "white",
            "linecolor": "white",
            "ticks": ""
           }
          },
          "title": {
           "x": 0.05
          },
          "xaxis": {
           "automargin": true,
           "gridcolor": "white",
           "linecolor": "white",
           "ticks": "",
           "title": {
            "standoff": 15
           },
           "zerolinecolor": "white",
           "zerolinewidth": 2
          },
          "yaxis": {
           "automargin": true,
           "gridcolor": "white",
           "linecolor": "white",
           "ticks": "",
           "title": {
            "standoff": 15
           },
           "zerolinecolor": "white",
           "zerolinewidth": 2
          }
         }
        }
       }
      }
     },
     "metadata": {},
     "output_type": "display_data"
    }
   ],
   "source": [
    "figure = px.pie(df, \n",
    "             values='tip', \n",
    "             names='group_Family',hole = 0.5)\n",
    "figure.show()"
   ]
  },
  {
   "cell_type": "markdown",
   "id": "de838028-3a7b-4b49-95fb-36089e65c3d3",
   "metadata": {},
   "source": [
    "##### Couples are giving tip most of time"
   ]
  },
  {
   "cell_type": "markdown",
   "id": "f83298a2",
   "metadata": {},
   "source": [
    "### Waiter tip prediction model"
   ]
  },
  {
   "cell_type": "markdown",
   "id": "94558799-bfd6-479e-841b-27c384a87ef8",
   "metadata": {},
   "source": [
    "#### Split the data into features (X) and target (y)"
   ]
  },
  {
   "cell_type": "code",
   "execution_count": 112,
   "id": "7c635449",
   "metadata": {},
   "outputs": [
    {
     "data": {
      "text/plain": [
       "Index(['total_bill', 'tip', 'day', 'gender', 'drunk', 'payment_method_Cash',\n",
       "       'payment_method_Online', 'timing_Lunch', 'group_Family',\n",
       "       'group_Friends', 'group_Single', 'occasion_Birthday Party',\n",
       "       'occasion_Date', 'occasion_Festival'],\n",
       "      dtype='object')"
      ]
     },
     "execution_count": 112,
     "metadata": {},
     "output_type": "execute_result"
    }
   ],
   "source": [
    "df.columns"
   ]
  },
  {
   "cell_type": "code",
   "execution_count": 115,
   "id": "035bc560",
   "metadata": {},
   "outputs": [],
   "source": [
    "x = np.array(df[[\"total_bill\", \"payment_method_Cash\",\"payment_method_Online\", \"day\", \"timing_Lunch\",\"group_Family\",\"group_Friends\",\"group_Single\", \"gender\",\"occasion_Birthday Party\",\"occasion_Date\",\"occasion_Festival\",\"drunk\"]])\n",
    "y = np.array(df[\"tip\"])"
   ]
  },
  {
   "cell_type": "markdown",
   "id": "20b14803",
   "metadata": {},
   "source": [
    "#### Split the data into training and test sets"
   ]
  },
  {
   "cell_type": "code",
   "execution_count": 118,
   "id": "a9476ece",
   "metadata": {},
   "outputs": [],
   "source": [
    "from sklearn.model_selection import train_test_split\n",
    "xtrain, xtest, ytrain, ytest = train_test_split(x, y,test_size=0.1,random_state=42)"
   ]
  },
  {
   "cell_type": "markdown",
   "id": "5bf69498-1191-446c-921d-2c918b9a8e06",
   "metadata": {},
   "source": [
    "#### Training of model"
   ]
  },
  {
   "cell_type": "code",
   "execution_count": 120,
   "id": "accc9b35-e93b-4a1a-8726-5a8feaffa17e",
   "metadata": {},
   "outputs": [],
   "source": [
    "from sklearn.impute import SimpleImputer\n",
    "\n",
    "imputer = SimpleImputer(strategy='mean')  # or 'median', 'most_frequent', etc.\n",
    "xtrain = imputer.fit_transform(xtrain)\n"
   ]
  },
  {
   "cell_type": "code",
   "execution_count": 121,
   "id": "d459f632-9cd2-4653-bf20-7592739a2bfd",
   "metadata": {},
   "outputs": [
    {
     "data": {
      "text/html": [
       "<style>#sk-container-id-1 {\n",
       "  /* Definition of color scheme common for light and dark mode */\n",
       "  --sklearn-color-text: black;\n",
       "  --sklearn-color-line: gray;\n",
       "  /* Definition of color scheme for unfitted estimators */\n",
       "  --sklearn-color-unfitted-level-0: #fff5e6;\n",
       "  --sklearn-color-unfitted-level-1: #f6e4d2;\n",
       "  --sklearn-color-unfitted-level-2: #ffe0b3;\n",
       "  --sklearn-color-unfitted-level-3: chocolate;\n",
       "  /* Definition of color scheme for fitted estimators */\n",
       "  --sklearn-color-fitted-level-0: #f0f8ff;\n",
       "  --sklearn-color-fitted-level-1: #d4ebff;\n",
       "  --sklearn-color-fitted-level-2: #b3dbfd;\n",
       "  --sklearn-color-fitted-level-3: cornflowerblue;\n",
       "\n",
       "  /* Specific color for light theme */\n",
       "  --sklearn-color-text-on-default-background: var(--sg-text-color, var(--theme-code-foreground, var(--jp-content-font-color1, black)));\n",
       "  --sklearn-color-background: var(--sg-background-color, var(--theme-background, var(--jp-layout-color0, white)));\n",
       "  --sklearn-color-border-box: var(--sg-text-color, var(--theme-code-foreground, var(--jp-content-font-color1, black)));\n",
       "  --sklearn-color-icon: #696969;\n",
       "\n",
       "  @media (prefers-color-scheme: dark) {\n",
       "    /* Redefinition of color scheme for dark theme */\n",
       "    --sklearn-color-text-on-default-background: var(--sg-text-color, var(--theme-code-foreground, var(--jp-content-font-color1, white)));\n",
       "    --sklearn-color-background: var(--sg-background-color, var(--theme-background, var(--jp-layout-color0, #111)));\n",
       "    --sklearn-color-border-box: var(--sg-text-color, var(--theme-code-foreground, var(--jp-content-font-color1, white)));\n",
       "    --sklearn-color-icon: #878787;\n",
       "  }\n",
       "}\n",
       "\n",
       "#sk-container-id-1 {\n",
       "  color: var(--sklearn-color-text);\n",
       "}\n",
       "\n",
       "#sk-container-id-1 pre {\n",
       "  padding: 0;\n",
       "}\n",
       "\n",
       "#sk-container-id-1 input.sk-hidden--visually {\n",
       "  border: 0;\n",
       "  clip: rect(1px 1px 1px 1px);\n",
       "  clip: rect(1px, 1px, 1px, 1px);\n",
       "  height: 1px;\n",
       "  margin: -1px;\n",
       "  overflow: hidden;\n",
       "  padding: 0;\n",
       "  position: absolute;\n",
       "  width: 1px;\n",
       "}\n",
       "\n",
       "#sk-container-id-1 div.sk-dashed-wrapped {\n",
       "  border: 1px dashed var(--sklearn-color-line);\n",
       "  margin: 0 0.4em 0.5em 0.4em;\n",
       "  box-sizing: border-box;\n",
       "  padding-bottom: 0.4em;\n",
       "  background-color: var(--sklearn-color-background);\n",
       "}\n",
       "\n",
       "#sk-container-id-1 div.sk-container {\n",
       "  /* jupyter's `normalize.less` sets `[hidden] { display: none; }`\n",
       "     but bootstrap.min.css set `[hidden] { display: none !important; }`\n",
       "     so we also need the `!important` here to be able to override the\n",
       "     default hidden behavior on the sphinx rendered scikit-learn.org.\n",
       "     See: https://github.com/scikit-learn/scikit-learn/issues/21755 */\n",
       "  display: inline-block !important;\n",
       "  position: relative;\n",
       "}\n",
       "\n",
       "#sk-container-id-1 div.sk-text-repr-fallback {\n",
       "  display: none;\n",
       "}\n",
       "\n",
       "div.sk-parallel-item,\n",
       "div.sk-serial,\n",
       "div.sk-item {\n",
       "  /* draw centered vertical line to link estimators */\n",
       "  background-image: linear-gradient(var(--sklearn-color-text-on-default-background), var(--sklearn-color-text-on-default-background));\n",
       "  background-size: 2px 100%;\n",
       "  background-repeat: no-repeat;\n",
       "  background-position: center center;\n",
       "}\n",
       "\n",
       "/* Parallel-specific style estimator block */\n",
       "\n",
       "#sk-container-id-1 div.sk-parallel-item::after {\n",
       "  content: \"\";\n",
       "  width: 100%;\n",
       "  border-bottom: 2px solid var(--sklearn-color-text-on-default-background);\n",
       "  flex-grow: 1;\n",
       "}\n",
       "\n",
       "#sk-container-id-1 div.sk-parallel {\n",
       "  display: flex;\n",
       "  align-items: stretch;\n",
       "  justify-content: center;\n",
       "  background-color: var(--sklearn-color-background);\n",
       "  position: relative;\n",
       "}\n",
       "\n",
       "#sk-container-id-1 div.sk-parallel-item {\n",
       "  display: flex;\n",
       "  flex-direction: column;\n",
       "}\n",
       "\n",
       "#sk-container-id-1 div.sk-parallel-item:first-child::after {\n",
       "  align-self: flex-end;\n",
       "  width: 50%;\n",
       "}\n",
       "\n",
       "#sk-container-id-1 div.sk-parallel-item:last-child::after {\n",
       "  align-self: flex-start;\n",
       "  width: 50%;\n",
       "}\n",
       "\n",
       "#sk-container-id-1 div.sk-parallel-item:only-child::after {\n",
       "  width: 0;\n",
       "}\n",
       "\n",
       "/* Serial-specific style estimator block */\n",
       "\n",
       "#sk-container-id-1 div.sk-serial {\n",
       "  display: flex;\n",
       "  flex-direction: column;\n",
       "  align-items: center;\n",
       "  background-color: var(--sklearn-color-background);\n",
       "  padding-right: 1em;\n",
       "  padding-left: 1em;\n",
       "}\n",
       "\n",
       "\n",
       "/* Toggleable style: style used for estimator/Pipeline/ColumnTransformer box that is\n",
       "clickable and can be expanded/collapsed.\n",
       "- Pipeline and ColumnTransformer use this feature and define the default style\n",
       "- Estimators will overwrite some part of the style using the `sk-estimator` class\n",
       "*/\n",
       "\n",
       "/* Pipeline and ColumnTransformer style (default) */\n",
       "\n",
       "#sk-container-id-1 div.sk-toggleable {\n",
       "  /* Default theme specific background. It is overwritten whether we have a\n",
       "  specific estimator or a Pipeline/ColumnTransformer */\n",
       "  background-color: var(--sklearn-color-background);\n",
       "}\n",
       "\n",
       "/* Toggleable label */\n",
       "#sk-container-id-1 label.sk-toggleable__label {\n",
       "  cursor: pointer;\n",
       "  display: block;\n",
       "  width: 100%;\n",
       "  margin-bottom: 0;\n",
       "  padding: 0.5em;\n",
       "  box-sizing: border-box;\n",
       "  text-align: center;\n",
       "}\n",
       "\n",
       "#sk-container-id-1 label.sk-toggleable__label-arrow:before {\n",
       "  /* Arrow on the left of the label */\n",
       "  content: \"▸\";\n",
       "  float: left;\n",
       "  margin-right: 0.25em;\n",
       "  color: var(--sklearn-color-icon);\n",
       "}\n",
       "\n",
       "#sk-container-id-1 label.sk-toggleable__label-arrow:hover:before {\n",
       "  color: var(--sklearn-color-text);\n",
       "}\n",
       "\n",
       "/* Toggleable content - dropdown */\n",
       "\n",
       "#sk-container-id-1 div.sk-toggleable__content {\n",
       "  max-height: 0;\n",
       "  max-width: 0;\n",
       "  overflow: hidden;\n",
       "  text-align: left;\n",
       "  /* unfitted */\n",
       "  background-color: var(--sklearn-color-unfitted-level-0);\n",
       "}\n",
       "\n",
       "#sk-container-id-1 div.sk-toggleable__content.fitted {\n",
       "  /* fitted */\n",
       "  background-color: var(--sklearn-color-fitted-level-0);\n",
       "}\n",
       "\n",
       "#sk-container-id-1 div.sk-toggleable__content pre {\n",
       "  margin: 0.2em;\n",
       "  border-radius: 0.25em;\n",
       "  color: var(--sklearn-color-text);\n",
       "  /* unfitted */\n",
       "  background-color: var(--sklearn-color-unfitted-level-0);\n",
       "}\n",
       "\n",
       "#sk-container-id-1 div.sk-toggleable__content.fitted pre {\n",
       "  /* unfitted */\n",
       "  background-color: var(--sklearn-color-fitted-level-0);\n",
       "}\n",
       "\n",
       "#sk-container-id-1 input.sk-toggleable__control:checked~div.sk-toggleable__content {\n",
       "  /* Expand drop-down */\n",
       "  max-height: 200px;\n",
       "  max-width: 100%;\n",
       "  overflow: auto;\n",
       "}\n",
       "\n",
       "#sk-container-id-1 input.sk-toggleable__control:checked~label.sk-toggleable__label-arrow:before {\n",
       "  content: \"▾\";\n",
       "}\n",
       "\n",
       "/* Pipeline/ColumnTransformer-specific style */\n",
       "\n",
       "#sk-container-id-1 div.sk-label input.sk-toggleable__control:checked~label.sk-toggleable__label {\n",
       "  color: var(--sklearn-color-text);\n",
       "  background-color: var(--sklearn-color-unfitted-level-2);\n",
       "}\n",
       "\n",
       "#sk-container-id-1 div.sk-label.fitted input.sk-toggleable__control:checked~label.sk-toggleable__label {\n",
       "  background-color: var(--sklearn-color-fitted-level-2);\n",
       "}\n",
       "\n",
       "/* Estimator-specific style */\n",
       "\n",
       "/* Colorize estimator box */\n",
       "#sk-container-id-1 div.sk-estimator input.sk-toggleable__control:checked~label.sk-toggleable__label {\n",
       "  /* unfitted */\n",
       "  background-color: var(--sklearn-color-unfitted-level-2);\n",
       "}\n",
       "\n",
       "#sk-container-id-1 div.sk-estimator.fitted input.sk-toggleable__control:checked~label.sk-toggleable__label {\n",
       "  /* fitted */\n",
       "  background-color: var(--sklearn-color-fitted-level-2);\n",
       "}\n",
       "\n",
       "#sk-container-id-1 div.sk-label label.sk-toggleable__label,\n",
       "#sk-container-id-1 div.sk-label label {\n",
       "  /* The background is the default theme color */\n",
       "  color: var(--sklearn-color-text-on-default-background);\n",
       "}\n",
       "\n",
       "/* On hover, darken the color of the background */\n",
       "#sk-container-id-1 div.sk-label:hover label.sk-toggleable__label {\n",
       "  color: var(--sklearn-color-text);\n",
       "  background-color: var(--sklearn-color-unfitted-level-2);\n",
       "}\n",
       "\n",
       "/* Label box, darken color on hover, fitted */\n",
       "#sk-container-id-1 div.sk-label.fitted:hover label.sk-toggleable__label.fitted {\n",
       "  color: var(--sklearn-color-text);\n",
       "  background-color: var(--sklearn-color-fitted-level-2);\n",
       "}\n",
       "\n",
       "/* Estimator label */\n",
       "\n",
       "#sk-container-id-1 div.sk-label label {\n",
       "  font-family: monospace;\n",
       "  font-weight: bold;\n",
       "  display: inline-block;\n",
       "  line-height: 1.2em;\n",
       "}\n",
       "\n",
       "#sk-container-id-1 div.sk-label-container {\n",
       "  text-align: center;\n",
       "}\n",
       "\n",
       "/* Estimator-specific */\n",
       "#sk-container-id-1 div.sk-estimator {\n",
       "  font-family: monospace;\n",
       "  border: 1px dotted var(--sklearn-color-border-box);\n",
       "  border-radius: 0.25em;\n",
       "  box-sizing: border-box;\n",
       "  margin-bottom: 0.5em;\n",
       "  /* unfitted */\n",
       "  background-color: var(--sklearn-color-unfitted-level-0);\n",
       "}\n",
       "\n",
       "#sk-container-id-1 div.sk-estimator.fitted {\n",
       "  /* fitted */\n",
       "  background-color: var(--sklearn-color-fitted-level-0);\n",
       "}\n",
       "\n",
       "/* on hover */\n",
       "#sk-container-id-1 div.sk-estimator:hover {\n",
       "  /* unfitted */\n",
       "  background-color: var(--sklearn-color-unfitted-level-2);\n",
       "}\n",
       "\n",
       "#sk-container-id-1 div.sk-estimator.fitted:hover {\n",
       "  /* fitted */\n",
       "  background-color: var(--sklearn-color-fitted-level-2);\n",
       "}\n",
       "\n",
       "/* Specification for estimator info (e.g. \"i\" and \"?\") */\n",
       "\n",
       "/* Common style for \"i\" and \"?\" */\n",
       "\n",
       ".sk-estimator-doc-link,\n",
       "a:link.sk-estimator-doc-link,\n",
       "a:visited.sk-estimator-doc-link {\n",
       "  float: right;\n",
       "  font-size: smaller;\n",
       "  line-height: 1em;\n",
       "  font-family: monospace;\n",
       "  background-color: var(--sklearn-color-background);\n",
       "  border-radius: 1em;\n",
       "  height: 1em;\n",
       "  width: 1em;\n",
       "  text-decoration: none !important;\n",
       "  margin-left: 1ex;\n",
       "  /* unfitted */\n",
       "  border: var(--sklearn-color-unfitted-level-1) 1pt solid;\n",
       "  color: var(--sklearn-color-unfitted-level-1);\n",
       "}\n",
       "\n",
       ".sk-estimator-doc-link.fitted,\n",
       "a:link.sk-estimator-doc-link.fitted,\n",
       "a:visited.sk-estimator-doc-link.fitted {\n",
       "  /* fitted */\n",
       "  border: var(--sklearn-color-fitted-level-1) 1pt solid;\n",
       "  color: var(--sklearn-color-fitted-level-1);\n",
       "}\n",
       "\n",
       "/* On hover */\n",
       "div.sk-estimator:hover .sk-estimator-doc-link:hover,\n",
       ".sk-estimator-doc-link:hover,\n",
       "div.sk-label-container:hover .sk-estimator-doc-link:hover,\n",
       ".sk-estimator-doc-link:hover {\n",
       "  /* unfitted */\n",
       "  background-color: var(--sklearn-color-unfitted-level-3);\n",
       "  color: var(--sklearn-color-background);\n",
       "  text-decoration: none;\n",
       "}\n",
       "\n",
       "div.sk-estimator.fitted:hover .sk-estimator-doc-link.fitted:hover,\n",
       ".sk-estimator-doc-link.fitted:hover,\n",
       "div.sk-label-container:hover .sk-estimator-doc-link.fitted:hover,\n",
       ".sk-estimator-doc-link.fitted:hover {\n",
       "  /* fitted */\n",
       "  background-color: var(--sklearn-color-fitted-level-3);\n",
       "  color: var(--sklearn-color-background);\n",
       "  text-decoration: none;\n",
       "}\n",
       "\n",
       "/* Span, style for the box shown on hovering the info icon */\n",
       ".sk-estimator-doc-link span {\n",
       "  display: none;\n",
       "  z-index: 9999;\n",
       "  position: relative;\n",
       "  font-weight: normal;\n",
       "  right: .2ex;\n",
       "  padding: .5ex;\n",
       "  margin: .5ex;\n",
       "  width: min-content;\n",
       "  min-width: 20ex;\n",
       "  max-width: 50ex;\n",
       "  color: var(--sklearn-color-text);\n",
       "  box-shadow: 2pt 2pt 4pt #999;\n",
       "  /* unfitted */\n",
       "  background: var(--sklearn-color-unfitted-level-0);\n",
       "  border: .5pt solid var(--sklearn-color-unfitted-level-3);\n",
       "}\n",
       "\n",
       ".sk-estimator-doc-link.fitted span {\n",
       "  /* fitted */\n",
       "  background: var(--sklearn-color-fitted-level-0);\n",
       "  border: var(--sklearn-color-fitted-level-3);\n",
       "}\n",
       "\n",
       ".sk-estimator-doc-link:hover span {\n",
       "  display: block;\n",
       "}\n",
       "\n",
       "/* \"?\"-specific style due to the `<a>` HTML tag */\n",
       "\n",
       "#sk-container-id-1 a.estimator_doc_link {\n",
       "  float: right;\n",
       "  font-size: 1rem;\n",
       "  line-height: 1em;\n",
       "  font-family: monospace;\n",
       "  background-color: var(--sklearn-color-background);\n",
       "  border-radius: 1rem;\n",
       "  height: 1rem;\n",
       "  width: 1rem;\n",
       "  text-decoration: none;\n",
       "  /* unfitted */\n",
       "  color: var(--sklearn-color-unfitted-level-1);\n",
       "  border: var(--sklearn-color-unfitted-level-1) 1pt solid;\n",
       "}\n",
       "\n",
       "#sk-container-id-1 a.estimator_doc_link.fitted {\n",
       "  /* fitted */\n",
       "  border: var(--sklearn-color-fitted-level-1) 1pt solid;\n",
       "  color: var(--sklearn-color-fitted-level-1);\n",
       "}\n",
       "\n",
       "/* On hover */\n",
       "#sk-container-id-1 a.estimator_doc_link:hover {\n",
       "  /* unfitted */\n",
       "  background-color: var(--sklearn-color-unfitted-level-3);\n",
       "  color: var(--sklearn-color-background);\n",
       "  text-decoration: none;\n",
       "}\n",
       "\n",
       "#sk-container-id-1 a.estimator_doc_link.fitted:hover {\n",
       "  /* fitted */\n",
       "  background-color: var(--sklearn-color-fitted-level-3);\n",
       "}\n",
       "</style><div id=\"sk-container-id-1\" class=\"sk-top-container\"><div class=\"sk-text-repr-fallback\"><pre>LinearRegression()</pre><b>In a Jupyter environment, please rerun this cell to show the HTML representation or trust the notebook. <br />On GitHub, the HTML representation is unable to render, please try loading this page with nbviewer.org.</b></div><div class=\"sk-container\" hidden><div class=\"sk-item\"><div class=\"sk-estimator fitted sk-toggleable\"><input class=\"sk-toggleable__control sk-hidden--visually\" id=\"sk-estimator-id-1\" type=\"checkbox\" checked><label for=\"sk-estimator-id-1\" class=\"sk-toggleable__label fitted sk-toggleable__label-arrow fitted\">&nbsp;&nbsp;LinearRegression<a class=\"sk-estimator-doc-link fitted\" rel=\"noreferrer\" target=\"_blank\" href=\"https://scikit-learn.org/1.5/modules/generated/sklearn.linear_model.LinearRegression.html\">?<span>Documentation for LinearRegression</span></a><span class=\"sk-estimator-doc-link fitted\">i<span>Fitted</span></span></label><div class=\"sk-toggleable__content fitted\"><pre>LinearRegression()</pre></div> </div></div></div></div>"
      ],
      "text/plain": [
       "LinearRegression()"
      ]
     },
     "execution_count": 121,
     "metadata": {},
     "output_type": "execute_result"
    }
   ],
   "source": [
    "from sklearn.linear_model import LinearRegression\n",
    "model = LinearRegression()\n",
    "model.fit(xtrain, ytrain)"
   ]
  },
  {
   "cell_type": "markdown",
   "id": "47cbd97d",
   "metadata": {},
   "source": [
    "#### Features to input = [\"total_bill\", \"payment_method_Cash\",\"payment_method_Online\", \"day\", \"timing_Lunch\",\"group_Family\",\"group_Friends\",\"group_Single\", \"gender\",\"occasion_Birthday Party\",\"occasion_Date\",\"Occasion_Festival\",\"drunk\"]"
   ]
  },
  {
   "cell_type": "code",
   "execution_count": 122,
   "id": "57ea4344",
   "metadata": {},
   "outputs": [
    {
     "data": {
      "text/plain": [
       "array([463.7846134])"
      ]
     },
     "execution_count": 122,
     "metadata": {},
     "output_type": "execute_result"
    }
   ],
   "source": [
    "features = np.array([[5000,1,0,1,0,0,0,0,1,1,0,0,1]])\n",
    "model.predict(features)"
   ]
  },
  {
   "cell_type": "code",
   "execution_count": 123,
   "id": "5747e1ae",
   "metadata": {},
   "outputs": [],
   "source": [
    "from sklearn.impute import SimpleImputer\n",
    "from sklearn.linear_model import LinearRegression\n",
    "from sklearn.metrics import mean_absolute_error, mean_squared_error, r2_score"
   ]
  },
  {
   "cell_type": "code",
   "execution_count": 124,
   "id": "7fa1189d",
   "metadata": {},
   "outputs": [],
   "source": [
    "y_pred = model.predict(xtrain)"
   ]
  },
  {
   "cell_type": "code",
   "execution_count": 125,
   "id": "36c0ad04",
   "metadata": {},
   "outputs": [],
   "source": [
    "mae = mean_absolute_error(ytrain, y_pred)\n",
    "mse = mean_squared_error(ytrain, y_pred)\n",
    "r2 = r2_score(ytrain, y_pred)"
   ]
  },
  {
   "cell_type": "code",
   "execution_count": 126,
   "id": "4373f5f3",
   "metadata": {},
   "outputs": [
    {
     "name": "stdout",
     "output_type": "stream",
     "text": [
      "Mean Absolute Error (MAE): 19.40014455919766\n",
      "Mean Squared Error (MSE): 762.1529376856779\n",
      "R-squared (R²): 0.9592016614419517\n"
     ]
    }
   ],
   "source": [
    "print(f\"Mean Absolute Error (MAE): {mae}\")\n",
    "print(f\"Mean Squared Error (MSE): {mse}\")\n",
    "print(f\"R-squared (R²): {r2}\")"
   ]
  },
  {
   "cell_type": "markdown",
   "id": "3f680455",
   "metadata": {},
   "source": [
    "Test01 something"
   ]
  }
 ],
 "metadata": {
  "kernelspec": {
   "display_name": "Python 3 (ipykernel)",
   "language": "python",
   "name": "python3"
  },
  "language_info": {
   "codemirror_mode": {
    "name": "ipython",
    "version": 3
   },
   "file_extension": ".py",
   "mimetype": "text/x-python",
   "name": "python",
   "nbconvert_exporter": "python",
   "pygments_lexer": "ipython3",
   "version": "3.11.2"
  }
 },
 "nbformat": 4,
 "nbformat_minor": 5
}
